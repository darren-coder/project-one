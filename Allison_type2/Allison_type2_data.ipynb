{
 "cells": [
  {
   "cell_type": "code",
   "execution_count": 2,
   "metadata": {},
   "outputs": [],
   "source": [
    "%matplotlib notebook\n",
    "%matplotlib ipympl\n",
    "%matplotlib ipympl"
   ]
  },
  {
   "cell_type": "code",
   "execution_count": 3,
   "metadata": {},
   "outputs": [],
   "source": [
    "import pandas as pd\n",
    "from pathlib import Path\n",
    "import matplotlib.pyplot as plt\n",
    "import numpy as np"
   ]
  },
  {
   "cell_type": "code",
   "execution_count": 4,
   "metadata": {},
   "outputs": [],
   "source": [
    "path = Path(\"../data/diabetes_dataset00.csv\")"
   ]
  },
  {
   "cell_type": "code",
   "execution_count": 5,
   "metadata": {},
   "outputs": [
    {
     "data": {
      "text/plain": [
       "Target\n",
       "MODY                                          5553\n",
       "Secondary Diabetes                            5479\n",
       "Cystic Fibrosis-Related Diabetes (CFRD)       5464\n",
       "Type 1 Diabetes                               5446\n",
       "Neonatal Diabetes Mellitus (NDM)              5408\n",
       "Wolcott-Rallison Syndrome                     5400\n",
       "Type 2 Diabetes                               5397\n",
       "Prediabetic                                   5376\n",
       "Gestational Diabetes                          5344\n",
       "Type 3c Diabetes (Pancreatogenic Diabetes)    5320\n",
       "Wolfram Syndrome                              5315\n",
       "Steroid-Induced Diabetes                      5275\n",
       "LADA                                          5223\n",
       "Name: count, dtype: int64"
      ]
     },
     "execution_count": 5,
     "metadata": {},
     "output_type": "execute_result"
    }
   ],
   "source": [
    "original_data = pd.read_csv(path)\n",
    "original_data.value_counts(\"Target\")\n"
   ]
  },
  {
   "cell_type": "code",
   "execution_count": 17,
   "metadata": {},
   "outputs": [],
   "source": [
    "original_df = pd.DataFrame(original_data)\n"
   ]
  },
  {
   "cell_type": "code",
   "execution_count": 16,
   "metadata": {},
   "outputs": [
    {
     "data": {
      "text/plain": [
       "Target                           5397\n",
       "Genetic Markers                  5397\n",
       "Autoantibodies                   5397\n",
       "Family History                   5397\n",
       "Environmental Factors            5397\n",
       "Insulin Levels                   5397\n",
       "Age                              5397\n",
       "BMI                              5397\n",
       "Physical Activity                5397\n",
       "Dietary Habits                   5397\n",
       "Blood Pressure                   5397\n",
       "Cholesterol Levels               5397\n",
       "Waist Circumference              5397\n",
       "Blood Glucose Levels             5397\n",
       "Ethnicity                        5397\n",
       "Socioeconomic Factors            5397\n",
       "Smoking Status                   5397\n",
       "Alcohol Consumption              5397\n",
       "Glucose Tolerance Test           5397\n",
       "History of PCOS                  5397\n",
       "Previous Gestational Diabetes    5397\n",
       "Pregnancy History                5397\n",
       "Weight Gain During Pregnancy     5397\n",
       "Pancreatic Health                5397\n",
       "Pulmonary Function               5397\n",
       "Cystic Fibrosis Diagnosis        5397\n",
       "Steroid Use History              5397\n",
       "Genetic Testing                  5397\n",
       "Neurological Assessments         5397\n",
       "Liver Function Tests             5397\n",
       "Digestive Enzyme Levels          5397\n",
       "Urine Test                       5397\n",
       "Birth Weight                     5397\n",
       "Early Onset Symptoms             5397\n",
       "dtype: int64"
      ]
     },
     "execution_count": 16,
     "metadata": {},
     "output_type": "execute_result"
    }
   ],
   "source": [
    "type2_df = original_df[original_df['Target'] == 'Type 2 Diabetes']\n",
    "type2_df.count()"
   ]
  },
  {
   "cell_type": "code",
   "execution_count": null,
   "metadata": {},
   "outputs": [],
   "source": []
  }
 ],
 "metadata": {
  "kernelspec": {
   "display_name": "dev",
   "language": "python",
   "name": "python3"
  },
  "language_info": {
   "codemirror_mode": {
    "name": "ipython",
    "version": 3
   },
   "file_extension": ".py",
   "mimetype": "text/x-python",
   "name": "python",
   "nbconvert_exporter": "python",
   "pygments_lexer": "ipython3",
   "version": "3.10.15"
  }
 },
 "nbformat": 4,
 "nbformat_minor": 2
}
