{
 "cells": [
  {
   "cell_type": "code",
   "execution_count": 1,
   "metadata": {},
   "outputs": [],
   "source": [
    "# %matplotlib notebook\n",
    "# %matplotlib ipympl\n",
    "# %matplotlib ipympl"
   ]
  },
  {
   "cell_type": "code",
   "execution_count": 2,
   "metadata": {},
   "outputs": [],
   "source": [
    "import pandas as pd\n",
    "from pathlib import Path\n",
    "import matplotlib.pyplot as plt\n",
    "import numpy as np"
   ]
  },
  {
   "cell_type": "code",
   "execution_count": 3,
   "metadata": {},
   "outputs": [],
   "source": [
    "path = Path(\"../data/diabetes_dataset00.csv\")"
   ]
  },
  {
   "cell_type": "code",
   "execution_count": 4,
   "metadata": {},
   "outputs": [
    {
     "data": {
      "text/plain": [
       "Target\n",
       "MODY                                          5553\n",
       "Secondary Diabetes                            5479\n",
       "Cystic Fibrosis-Related Diabetes (CFRD)       5464\n",
       "Type 1 Diabetes                               5446\n",
       "Neonatal Diabetes Mellitus (NDM)              5408\n",
       "Wolcott-Rallison Syndrome                     5400\n",
       "Type 2 Diabetes                               5397\n",
       "Prediabetic                                   5376\n",
       "Gestational Diabetes                          5344\n",
       "Type 3c Diabetes (Pancreatogenic Diabetes)    5320\n",
       "Wolfram Syndrome                              5315\n",
       "Steroid-Induced Diabetes                      5275\n",
       "LADA                                          5223\n",
       "Name: count, dtype: int64"
      ]
     },
     "execution_count": 4,
     "metadata": {},
     "output_type": "execute_result"
    }
   ],
   "source": [
    "original_data = pd.read_csv(path)\n",
    "original_data.value_counts(\"Target\")\n"
   ]
  },
  {
   "cell_type": "code",
   "execution_count": 5,
   "metadata": {},
   "outputs": [
    {
     "data": {
      "text/plain": [
       "Target                           5397\n",
       "Genetic Markers                  5397\n",
       "Autoantibodies                   5397\n",
       "Family History                   5397\n",
       "Environmental Factors            5397\n",
       "Insulin Levels                   5397\n",
       "Age                              5397\n",
       "BMI                              5397\n",
       "Physical Activity                5397\n",
       "Dietary Habits                   5397\n",
       "Blood Pressure                   5397\n",
       "Cholesterol Levels               5397\n",
       "Waist Circumference              5397\n",
       "Blood Glucose Levels             5397\n",
       "Ethnicity                        5397\n",
       "Socioeconomic Factors            5397\n",
       "Smoking Status                   5397\n",
       "Alcohol Consumption              5397\n",
       "Glucose Tolerance Test           5397\n",
       "History of PCOS                  5397\n",
       "Previous Gestational Diabetes    5397\n",
       "Pregnancy History                5397\n",
       "Weight Gain During Pregnancy     5397\n",
       "Pancreatic Health                5397\n",
       "Pulmonary Function               5397\n",
       "Cystic Fibrosis Diagnosis        5397\n",
       "Steroid Use History              5397\n",
       "Genetic Testing                  5397\n",
       "Neurological Assessments         5397\n",
       "Liver Function Tests             5397\n",
       "Digestive Enzyme Levels          5397\n",
       "Urine Test                       5397\n",
       "Birth Weight                     5397\n",
       "Early Onset Symptoms             5397\n",
       "dtype: int64"
      ]
     },
     "execution_count": 5,
     "metadata": {},
     "output_type": "execute_result"
    }
   ],
   "source": [
    "type2_df = original_data[original_data['Target'] == 'Type 2 Diabetes']\n",
    "type2_df.count()"
   ]
  },
  {
   "cell_type": "code",
   "execution_count": 6,
   "metadata": {},
   "outputs": [
    {
     "data": {
      "text/html": [
       "<div>\n",
       "<style scoped>\n",
       "    .dataframe tbody tr th:only-of-type {\n",
       "        vertical-align: middle;\n",
       "    }\n",
       "\n",
       "    .dataframe tbody tr th {\n",
       "        vertical-align: top;\n",
       "    }\n",
       "\n",
       "    .dataframe thead th {\n",
       "        text-align: right;\n",
       "    }\n",
       "</style>\n",
       "<table border=\"1\" class=\"dataframe\">\n",
       "  <thead>\n",
       "    <tr style=\"text-align: right;\">\n",
       "      <th></th>\n",
       "      <th>Dietary Habits</th>\n",
       "      <th>Cholesterol Levels</th>\n",
       "      <th>Blood Glucose Levels</th>\n",
       "    </tr>\n",
       "  </thead>\n",
       "  <tbody>\n",
       "    <tr>\n",
       "      <th>0</th>\n",
       "      <td>Healthy</td>\n",
       "      <td>201</td>\n",
       "      <td>168</td>\n",
       "    </tr>\n",
       "    <tr>\n",
       "      <th>1</th>\n",
       "      <td>Healthy</td>\n",
       "      <td>121</td>\n",
       "      <td>178</td>\n",
       "    </tr>\n",
       "    <tr>\n",
       "      <th>2</th>\n",
       "      <td>Unhealthy</td>\n",
       "      <td>185</td>\n",
       "      <td>105</td>\n",
       "    </tr>\n",
       "    <tr>\n",
       "      <th>3</th>\n",
       "      <td>Unhealthy</td>\n",
       "      <td>151</td>\n",
       "      <td>121</td>\n",
       "    </tr>\n",
       "    <tr>\n",
       "      <th>4</th>\n",
       "      <td>Healthy</td>\n",
       "      <td>146</td>\n",
       "      <td>289</td>\n",
       "    </tr>\n",
       "  </tbody>\n",
       "</table>\n",
       "</div>"
      ],
      "text/plain": [
       "  Dietary Habits  Cholesterol Levels  Blood Glucose Levels\n",
       "0        Healthy                 201                   168\n",
       "1        Healthy                 121                   178\n",
       "2      Unhealthy                 185                   105\n",
       "3      Unhealthy                 151                   121\n",
       "4        Healthy                 146                   289"
      ]
     },
     "execution_count": 6,
     "metadata": {},
     "output_type": "execute_result"
    }
   ],
   "source": [
    "type2_df = original_data[original_data['Target'] == 'Type 2 Diabetes']\n",
    "columns_to_keep = original_data[[\"Dietary Habits\", \"Cholesterol Levels\", \"Blood Glucose Levels\"]]\n",
    "columns_to_keep.head()"
   ]
  },
  {
   "cell_type": "code",
   "execution_count": 7,
   "metadata": {},
   "outputs": [
    {
     "data": {
      "text/plain": [
       "Target\n",
       "MODY                                          5553\n",
       "Secondary Diabetes                            5479\n",
       "Cystic Fibrosis-Related Diabetes (CFRD)       5464\n",
       "Type 1 Diabetes                               5446\n",
       "Neonatal Diabetes Mellitus (NDM)              5408\n",
       "Wolcott-Rallison Syndrome                     5400\n",
       "Type 2 Diabetes                               5397\n",
       "Prediabetic                                   5376\n",
       "Gestational Diabetes                          5344\n",
       "Type 3c Diabetes (Pancreatogenic Diabetes)    5320\n",
       "Wolfram Syndrome                              5315\n",
       "Steroid-Induced Diabetes                      5275\n",
       "LADA                                          5223\n",
       "Name: count, dtype: int64"
      ]
     },
     "execution_count": 7,
     "metadata": {},
     "output_type": "execute_result"
    }
   ],
   "source": [
    "original_data = pd.read_csv(path)\n",
    "original_data.value_counts(\"Target\")\n"
   ]
  },
  {
   "cell_type": "code",
   "execution_count": 8,
   "metadata": {},
   "outputs": [],
   "source": [
    "type1_df = original_data[original_data['Target'] == 'Type 1 Diabetes']"
   ]
  },
  {
   "cell_type": "code",
   "execution_count": 9,
   "metadata": {},
   "outputs": [],
   "source": [
    "type2_df = original_data[original_data['Target'] == 'Type 2 Diabetes']"
   ]
  },
  {
   "cell_type": "code",
   "execution_count": 10,
   "metadata": {},
   "outputs": [],
   "source": [
    "type3_df = original_data[original_data['Target'] == 'Type 3c Diabetes (Pancreatogenic Diabetes)']"
   ]
  },
  {
   "cell_type": "code",
   "execution_count": 11,
   "metadata": {},
   "outputs": [],
   "source": [
    "wolfram_df = original_data[original_data['Target'] == 'Wolfram Syndrome']"
   ]
  },
  {
   "cell_type": "code",
   "execution_count": 12,
   "metadata": {},
   "outputs": [],
   "source": [
    "gestational_df = original_data[original_data['Target'] == 'Gestational Diabetes']"
   ]
  },
  {
   "cell_type": "code",
   "execution_count": 13,
   "metadata": {},
   "outputs": [
    {
     "data": {
      "text/html": [
       "<div>\n",
       "<style scoped>\n",
       "    .dataframe tbody tr th:only-of-type {\n",
       "        vertical-align: middle;\n",
       "    }\n",
       "\n",
       "    .dataframe tbody tr th {\n",
       "        vertical-align: top;\n",
       "    }\n",
       "\n",
       "    .dataframe thead th {\n",
       "        text-align: right;\n",
       "    }\n",
       "</style>\n",
       "<table border=\"1\" class=\"dataframe\">\n",
       "  <thead>\n",
       "    <tr style=\"text-align: right;\">\n",
       "      <th></th>\n",
       "      <th>Target</th>\n",
       "      <th>Dietary Habits</th>\n",
       "      <th>Cholesterol Levels</th>\n",
       "      <th>Blood Glucose Levels</th>\n",
       "    </tr>\n",
       "  </thead>\n",
       "  <tbody>\n",
       "    <tr>\n",
       "      <th>3</th>\n",
       "      <td>Type 1 Diabetes</td>\n",
       "      <td>Unhealthy</td>\n",
       "      <td>151</td>\n",
       "      <td>121</td>\n",
       "    </tr>\n",
       "    <tr>\n",
       "      <th>11</th>\n",
       "      <td>Type 1 Diabetes</td>\n",
       "      <td>Unhealthy</td>\n",
       "      <td>195</td>\n",
       "      <td>114</td>\n",
       "    </tr>\n",
       "    <tr>\n",
       "      <th>19</th>\n",
       "      <td>Type 1 Diabetes</td>\n",
       "      <td>Unhealthy</td>\n",
       "      <td>165</td>\n",
       "      <td>126</td>\n",
       "    </tr>\n",
       "    <tr>\n",
       "      <th>36</th>\n",
       "      <td>Type 1 Diabetes</td>\n",
       "      <td>Unhealthy</td>\n",
       "      <td>159</td>\n",
       "      <td>132</td>\n",
       "    </tr>\n",
       "    <tr>\n",
       "      <th>43</th>\n",
       "      <td>Type 1 Diabetes</td>\n",
       "      <td>Healthy</td>\n",
       "      <td>198</td>\n",
       "      <td>103</td>\n",
       "    </tr>\n",
       "  </tbody>\n",
       "</table>\n",
       "</div>"
      ],
      "text/plain": [
       "             Target Dietary Habits  Cholesterol Levels  Blood Glucose Levels\n",
       "3   Type 1 Diabetes      Unhealthy                 151                   121\n",
       "11  Type 1 Diabetes      Unhealthy                 195                   114\n",
       "19  Type 1 Diabetes      Unhealthy                 165                   126\n",
       "36  Type 1 Diabetes      Unhealthy                 159                   132\n",
       "43  Type 1 Diabetes        Healthy                 198                   103"
      ]
     },
     "execution_count": 13,
     "metadata": {},
     "output_type": "execute_result"
    }
   ],
   "source": [
    "healthy_type1_df = type1_df[[\"Target\", \"Dietary Habits\", \"Cholesterol Levels\", \"Blood Glucose Levels\"]]\n",
    "healthy_type1_df.head()"
   ]
  },
  {
   "cell_type": "code",
   "execution_count": 14,
   "metadata": {},
   "outputs": [
    {
     "data": {
      "text/html": [
       "<div>\n",
       "<style scoped>\n",
       "    .dataframe tbody tr th:only-of-type {\n",
       "        vertical-align: middle;\n",
       "    }\n",
       "\n",
       "    .dataframe tbody tr th {\n",
       "        vertical-align: top;\n",
       "    }\n",
       "\n",
       "    .dataframe thead th {\n",
       "        text-align: right;\n",
       "    }\n",
       "</style>\n",
       "<table border=\"1\" class=\"dataframe\">\n",
       "  <thead>\n",
       "    <tr style=\"text-align: right;\">\n",
       "      <th></th>\n",
       "      <th>Target</th>\n",
       "      <th>Dietary Habits</th>\n",
       "      <th>Cholesterol Levels</th>\n",
       "      <th>Blood Glucose Levels</th>\n",
       "    </tr>\n",
       "  </thead>\n",
       "  <tbody>\n",
       "    <tr>\n",
       "      <th>6</th>\n",
       "      <td>Type 2 Diabetes</td>\n",
       "      <td>Healthy</td>\n",
       "      <td>237</td>\n",
       "      <td>186</td>\n",
       "    </tr>\n",
       "    <tr>\n",
       "      <th>28</th>\n",
       "      <td>Type 2 Diabetes</td>\n",
       "      <td>Healthy</td>\n",
       "      <td>277</td>\n",
       "      <td>156</td>\n",
       "    </tr>\n",
       "    <tr>\n",
       "      <th>32</th>\n",
       "      <td>Type 2 Diabetes</td>\n",
       "      <td>Healthy</td>\n",
       "      <td>252</td>\n",
       "      <td>198</td>\n",
       "    </tr>\n",
       "    <tr>\n",
       "      <th>38</th>\n",
       "      <td>Type 2 Diabetes</td>\n",
       "      <td>Unhealthy</td>\n",
       "      <td>221</td>\n",
       "      <td>181</td>\n",
       "    </tr>\n",
       "    <tr>\n",
       "      <th>41</th>\n",
       "      <td>Type 2 Diabetes</td>\n",
       "      <td>Healthy</td>\n",
       "      <td>292</td>\n",
       "      <td>166</td>\n",
       "    </tr>\n",
       "  </tbody>\n",
       "</table>\n",
       "</div>"
      ],
      "text/plain": [
       "             Target Dietary Habits  Cholesterol Levels  Blood Glucose Levels\n",
       "6   Type 2 Diabetes        Healthy                 237                   186\n",
       "28  Type 2 Diabetes        Healthy                 277                   156\n",
       "32  Type 2 Diabetes        Healthy                 252                   198\n",
       "38  Type 2 Diabetes      Unhealthy                 221                   181\n",
       "41  Type 2 Diabetes        Healthy                 292                   166"
      ]
     },
     "execution_count": 14,
     "metadata": {},
     "output_type": "execute_result"
    }
   ],
   "source": [
    "healthy_type2_df = type2_df[[\"Target\", \"Dietary Habits\", \"Cholesterol Levels\", \"Blood Glucose Levels\"]]\n",
    "healthy_type2_df.head()"
   ]
  },
  {
   "cell_type": "code",
   "execution_count": 15,
   "metadata": {},
   "outputs": [
    {
     "data": {
      "text/html": [
       "<div>\n",
       "<style scoped>\n",
       "    .dataframe tbody tr th:only-of-type {\n",
       "        vertical-align: middle;\n",
       "    }\n",
       "\n",
       "    .dataframe tbody tr th {\n",
       "        vertical-align: top;\n",
       "    }\n",
       "\n",
       "    .dataframe thead th {\n",
       "        text-align: right;\n",
       "    }\n",
       "</style>\n",
       "<table border=\"1\" class=\"dataframe\">\n",
       "  <thead>\n",
       "    <tr style=\"text-align: right;\">\n",
       "      <th></th>\n",
       "      <th>Target</th>\n",
       "      <th>Dietary Habits</th>\n",
       "      <th>Cholesterol Levels</th>\n",
       "      <th>Blood Glucose Levels</th>\n",
       "    </tr>\n",
       "  </thead>\n",
       "  <tbody>\n",
       "    <tr>\n",
       "      <th>18</th>\n",
       "      <td>Type 3c Diabetes (Pancreatogenic Diabetes)</td>\n",
       "      <td>Healthy</td>\n",
       "      <td>239</td>\n",
       "      <td>190</td>\n",
       "    </tr>\n",
       "    <tr>\n",
       "      <th>23</th>\n",
       "      <td>Type 3c Diabetes (Pancreatogenic Diabetes)</td>\n",
       "      <td>Unhealthy</td>\n",
       "      <td>276</td>\n",
       "      <td>161</td>\n",
       "    </tr>\n",
       "    <tr>\n",
       "      <th>42</th>\n",
       "      <td>Type 3c Diabetes (Pancreatogenic Diabetes)</td>\n",
       "      <td>Healthy</td>\n",
       "      <td>234</td>\n",
       "      <td>172</td>\n",
       "    </tr>\n",
       "    <tr>\n",
       "      <th>71</th>\n",
       "      <td>Type 3c Diabetes (Pancreatogenic Diabetes)</td>\n",
       "      <td>Healthy</td>\n",
       "      <td>263</td>\n",
       "      <td>233</td>\n",
       "    </tr>\n",
       "    <tr>\n",
       "      <th>79</th>\n",
       "      <td>Type 3c Diabetes (Pancreatogenic Diabetes)</td>\n",
       "      <td>Unhealthy</td>\n",
       "      <td>188</td>\n",
       "      <td>157</td>\n",
       "    </tr>\n",
       "  </tbody>\n",
       "</table>\n",
       "</div>"
      ],
      "text/plain": [
       "                                        Target Dietary Habits  \\\n",
       "18  Type 3c Diabetes (Pancreatogenic Diabetes)        Healthy   \n",
       "23  Type 3c Diabetes (Pancreatogenic Diabetes)      Unhealthy   \n",
       "42  Type 3c Diabetes (Pancreatogenic Diabetes)        Healthy   \n",
       "71  Type 3c Diabetes (Pancreatogenic Diabetes)        Healthy   \n",
       "79  Type 3c Diabetes (Pancreatogenic Diabetes)      Unhealthy   \n",
       "\n",
       "    Cholesterol Levels  Blood Glucose Levels  \n",
       "18                 239                   190  \n",
       "23                 276                   161  \n",
       "42                 234                   172  \n",
       "71                 263                   233  \n",
       "79                 188                   157  "
      ]
     },
     "execution_count": 15,
     "metadata": {},
     "output_type": "execute_result"
    }
   ],
   "source": [
    "healthy_type3_df = type3_df[[\"Target\", \"Dietary Habits\", \"Cholesterol Levels\", \"Blood Glucose Levels\"]]\n",
    "healthy_type3_df.head()"
   ]
  },
  {
   "cell_type": "code",
   "execution_count": 16,
   "metadata": {},
   "outputs": [
    {
     "data": {
      "text/html": [
       "<div>\n",
       "<style scoped>\n",
       "    .dataframe tbody tr th:only-of-type {\n",
       "        vertical-align: middle;\n",
       "    }\n",
       "\n",
       "    .dataframe tbody tr th {\n",
       "        vertical-align: top;\n",
       "    }\n",
       "\n",
       "    .dataframe thead th {\n",
       "        text-align: right;\n",
       "    }\n",
       "</style>\n",
       "<table border=\"1\" class=\"dataframe\">\n",
       "  <thead>\n",
       "    <tr style=\"text-align: right;\">\n",
       "      <th></th>\n",
       "      <th>Target</th>\n",
       "      <th>Dietary Habits</th>\n",
       "      <th>Cholesterol Levels</th>\n",
       "      <th>Blood Glucose Levels</th>\n",
       "    </tr>\n",
       "  </thead>\n",
       "  <tbody>\n",
       "    <tr>\n",
       "      <th>4</th>\n",
       "      <td>Wolfram Syndrome</td>\n",
       "      <td>Healthy</td>\n",
       "      <td>146</td>\n",
       "      <td>289</td>\n",
       "    </tr>\n",
       "    <tr>\n",
       "      <th>24</th>\n",
       "      <td>Wolfram Syndrome</td>\n",
       "      <td>Unhealthy</td>\n",
       "      <td>142</td>\n",
       "      <td>287</td>\n",
       "    </tr>\n",
       "    <tr>\n",
       "      <th>34</th>\n",
       "      <td>Wolfram Syndrome</td>\n",
       "      <td>Unhealthy</td>\n",
       "      <td>162</td>\n",
       "      <td>255</td>\n",
       "    </tr>\n",
       "    <tr>\n",
       "      <th>46</th>\n",
       "      <td>Wolfram Syndrome</td>\n",
       "      <td>Unhealthy</td>\n",
       "      <td>157</td>\n",
       "      <td>245</td>\n",
       "    </tr>\n",
       "    <tr>\n",
       "      <th>90</th>\n",
       "      <td>Wolfram Syndrome</td>\n",
       "      <td>Healthy</td>\n",
       "      <td>146</td>\n",
       "      <td>200</td>\n",
       "    </tr>\n",
       "  </tbody>\n",
       "</table>\n",
       "</div>"
      ],
      "text/plain": [
       "              Target Dietary Habits  Cholesterol Levels  Blood Glucose Levels\n",
       "4   Wolfram Syndrome        Healthy                 146                   289\n",
       "24  Wolfram Syndrome      Unhealthy                 142                   287\n",
       "34  Wolfram Syndrome      Unhealthy                 162                   255\n",
       "46  Wolfram Syndrome      Unhealthy                 157                   245\n",
       "90  Wolfram Syndrome        Healthy                 146                   200"
      ]
     },
     "execution_count": 16,
     "metadata": {},
     "output_type": "execute_result"
    }
   ],
   "source": [
    "healthy_wolfram_df = wolfram_df[[\"Target\", \"Dietary Habits\", \"Cholesterol Levels\", \"Blood Glucose Levels\"]]\n",
    "healthy_wolfram_df.head()"
   ]
  },
  {
   "cell_type": "code",
   "execution_count": 17,
   "metadata": {},
   "outputs": [
    {
     "data": {
      "text/html": [
       "<div>\n",
       "<style scoped>\n",
       "    .dataframe tbody tr th:only-of-type {\n",
       "        vertical-align: middle;\n",
       "    }\n",
       "\n",
       "    .dataframe tbody tr th {\n",
       "        vertical-align: top;\n",
       "    }\n",
       "\n",
       "    .dataframe thead th {\n",
       "        text-align: right;\n",
       "    }\n",
       "</style>\n",
       "<table border=\"1\" class=\"dataframe\">\n",
       "  <thead>\n",
       "    <tr style=\"text-align: right;\">\n",
       "      <th></th>\n",
       "      <th>Target</th>\n",
       "      <th>Dietary Habits</th>\n",
       "      <th>Cholesterol Levels</th>\n",
       "      <th>Blood Glucose Levels</th>\n",
       "    </tr>\n",
       "  </thead>\n",
       "  <tbody>\n",
       "    <tr>\n",
       "      <th>20</th>\n",
       "      <td>Gestational Diabetes</td>\n",
       "      <td>Healthy</td>\n",
       "      <td>179</td>\n",
       "      <td>93</td>\n",
       "    </tr>\n",
       "    <tr>\n",
       "      <th>33</th>\n",
       "      <td>Gestational Diabetes</td>\n",
       "      <td>Healthy</td>\n",
       "      <td>216</td>\n",
       "      <td>129</td>\n",
       "    </tr>\n",
       "    <tr>\n",
       "      <th>37</th>\n",
       "      <td>Gestational Diabetes</td>\n",
       "      <td>Healthy</td>\n",
       "      <td>201</td>\n",
       "      <td>132</td>\n",
       "    </tr>\n",
       "    <tr>\n",
       "      <th>39</th>\n",
       "      <td>Gestational Diabetes</td>\n",
       "      <td>Healthy</td>\n",
       "      <td>232</td>\n",
       "      <td>106</td>\n",
       "    </tr>\n",
       "    <tr>\n",
       "      <th>44</th>\n",
       "      <td>Gestational Diabetes</td>\n",
       "      <td>Healthy</td>\n",
       "      <td>234</td>\n",
       "      <td>133</td>\n",
       "    </tr>\n",
       "  </tbody>\n",
       "</table>\n",
       "</div>"
      ],
      "text/plain": [
       "                  Target Dietary Habits  Cholesterol Levels  \\\n",
       "20  Gestational Diabetes        Healthy                 179   \n",
       "33  Gestational Diabetes        Healthy                 216   \n",
       "37  Gestational Diabetes        Healthy                 201   \n",
       "39  Gestational Diabetes        Healthy                 232   \n",
       "44  Gestational Diabetes        Healthy                 234   \n",
       "\n",
       "    Blood Glucose Levels  \n",
       "20                    93  \n",
       "33                   129  \n",
       "37                   132  \n",
       "39                   106  \n",
       "44                   133  "
      ]
     },
     "execution_count": 17,
     "metadata": {},
     "output_type": "execute_result"
    }
   ],
   "source": [
    "healthy_gestational_df = gestational_df[[\"Target\", \"Dietary Habits\", \"Cholesterol Levels\", \"Blood Glucose Levels\"]]\n",
    "healthy_gestational_df.head()"
   ]
  },
  {
   "cell_type": "markdown",
   "metadata": {},
   "source": [
    "## Cholesterol vs. Blood Glucose Levels"
   ]
  },
  {
   "cell_type": "code",
   "execution_count": 18,
   "metadata": {},
   "outputs": [
    {
     "data": {
      "text/plain": [
       "174.51505692251195"
      ]
     },
     "execution_count": 18,
     "metadata": {},
     "output_type": "execute_result"
    }
   ],
   "source": [
    "choltype1_mean = healthy_type1_df['Cholesterol Levels'].mean()\n",
    "choltype1_mean\n",
    "                              "
   ]
  },
  {
   "cell_type": "code",
   "execution_count": 19,
   "metadata": {},
   "outputs": [
    {
     "data": {
      "text/plain": [
       "249.62627385584585"
      ]
     },
     "execution_count": 19,
     "metadata": {},
     "output_type": "execute_result"
    }
   ],
   "source": [
    "choltype2_mean = healthy_type2_df['Cholesterol Levels'].mean()\n",
    "choltype2_mean"
   ]
  },
  {
   "cell_type": "code",
   "execution_count": 20,
   "metadata": {},
   "outputs": [
    {
     "data": {
      "text/plain": [
       "228.6486842105263"
      ]
     },
     "execution_count": 20,
     "metadata": {},
     "output_type": "execute_result"
    }
   ],
   "source": [
    "choltype3_mean = healthy_type3_df['Cholesterol Levels'].mean()\n",
    "choltype3_mean"
   ]
  },
  {
   "cell_type": "code",
   "execution_count": 21,
   "metadata": {},
   "outputs": [
    {
     "data": {
      "text/plain": [
       "139.6782690498589"
      ]
     },
     "execution_count": 21,
     "metadata": {},
     "output_type": "execute_result"
    }
   ],
   "source": [
    "cholwolfram_mean = healthy_wolfram_df['Cholesterol Levels'].mean()\n",
    "cholwolfram_mean"
   ]
  },
  {
   "cell_type": "code",
   "execution_count": 22,
   "metadata": {},
   "outputs": [
    {
     "data": {
      "text/plain": [
       "199.56511976047904"
      ]
     },
     "execution_count": 22,
     "metadata": {},
     "output_type": "execute_result"
    }
   ],
   "source": [
    "cholgestational_mean = healthy_gestational_df['Cholesterol Levels'].mean()\n",
    "cholgestational_mean"
   ]
  },
  {
   "cell_type": "code",
   "execution_count": 23,
   "metadata": {},
   "outputs": [
    {
     "data": {
      "image/png": "[encoded data removed]",
      "text/plain": [
       "<Figure size 640x480 with 1 Axes>"
      ]
     },
     "metadata": {},
     "output_type": "display_data"
    }
   ],
   "source": [
    "\n",
    "import matplotlib.pyplot as plt\n",
    "plt.clf()\n",
    "\n",
    "cholesterol_bar_x_axis = [1, 2, 3, 4, 5]  \n",
    "cholesterol_bar_y_axis = [choltype1_mean, choltype2_mean, choltype3_mean, cholwolfram_mean, cholgestational_mean]\n",
    "\n",
    "plt.bar(cholesterol_bar_x_axis, cholesterol_bar_y_axis, color='g', align=\"center\")\n",
    "\n",
    "tick_locations = [1, 2, 3, 4, 5]\n",
    "tick_labels = [\"Type 1\", \"Type 2\", \"Type 3c\", \"Wolfram\", \"Gestational\"]\n",
    "plt.xticks(tick_locations, tick_labels)\n",
    "\n",
    "plt.title(\"Cholesterol Levels and Diabetes\")\n",
    "plt.xlabel(\"Type of Diabetes\")\n",
    "plt.ylabel(\"Average Cholesterol Levels\")\n",
    "\n",
    "plt.show()"
   ]
  },
  {
   "cell_type": "code",
   "execution_count": null,
   "metadata": {},
   "outputs": [],
   "source": []
  },
  {
   "cell_type": "code",
   "execution_count": 24,
   "metadata": {},
   "outputs": [
    {
     "data": {
      "text/plain": [
       "124.37366874770474"
      ]
     },
     "execution_count": 24,
     "metadata": {},
     "output_type": "execute_result"
    }
   ],
   "source": [
    "gluctype1_mean = healthy_type1_df['Blood Glucose Levels'].mean()\n",
    "gluctype1_mean"
   ]
  },
  {
   "cell_type": "code",
   "execution_count": 25,
   "metadata": {},
   "outputs": [
    {
     "data": {
      "text/plain": [
       "164.0841208078562"
      ]
     },
     "execution_count": 25,
     "metadata": {},
     "output_type": "execute_result"
    }
   ],
   "source": [
    "gluctype2_mean = healthy_type2_df['Blood Glucose Levels'].mean()\n",
    "gluctype2_mean"
   ]
  },
  {
   "cell_type": "code",
   "execution_count": 26,
   "metadata": {},
   "outputs": [
    {
     "data": {
      "text/plain": [
       "199.9701127819549"
      ]
     },
     "execution_count": 26,
     "metadata": {},
     "output_type": "execute_result"
    }
   ],
   "source": [
    "gluctype3_mean = healthy_type3_df['Blood Glucose Levels'].mean()\n",
    "gluctype3_mean"
   ]
  },
  {
   "cell_type": "code",
   "execution_count": 27,
   "metadata": {},
   "outputs": [
    {
     "data": {
      "text/plain": [
       "249.101599247413"
      ]
     },
     "execution_count": 27,
     "metadata": {},
     "output_type": "execute_result"
    }
   ],
   "source": [
    "glucwolfram_mean = healthy_wolfram_df['Blood Glucose Levels'].mean()\n",
    "glucwolfram_mean"
   ]
  },
  {
   "cell_type": "code",
   "execution_count": 28,
   "metadata": {},
   "outputs": [
    {
     "data": {
      "text/plain": [
       "114.53499251497006"
      ]
     },
     "execution_count": 28,
     "metadata": {},
     "output_type": "execute_result"
    }
   ],
   "source": [
    "glucgestational_mean = healthy_gestational_df['Blood Glucose Levels'].mean()\n",
    "glucgestational_mean"
   ]
  },
  {
   "cell_type": "code",
   "execution_count": 30,
   "metadata": {},
   "outputs": [
    {
     "data": {
      "image/png": "[encoded data removed]",
      "text/plain": [
       "<Figure size 640x480 with 1 Axes>"
      ]
     },
     "metadata": {},
     "output_type": "display_data"
    }
   ],
   "source": [
    "plt.clf()\n",
    "\n",
    "glucose_bar_x_axis = [1, 2, 3, 4, 5] \n",
    "glucose_bar_y_axis = [gluctype1_mean, gluctype2_mean, gluctype3_mean, glucwolfram_mean, glucgestational_mean]  \n",
    "\n",
    "plt.bar(glucose_bar_x_axis, glucose_bar_y_axis, color='g', align=\"center\")\n",
    "\n",
    "tick_locations = [1, 2, 3, 4, 5]\n",
    "tick_labels = [\"Type 1\", \"Type 2\", \"Type 3c\", \"Wolfram\", \"Gestational\"]\n",
    "plt.xticks(tick_locations, tick_labels)\n",
    "\n",
    "plt.title(\"Blood Glucose Levels and Diabetes\")\n",
    "plt.xlabel(\"Type of Diabetes\")\n",
    "plt.ylabel(\"Average Blood Glucose Levels\")\n",
    "\n",
    "plt.show()"
   ]
  }
 ],
 "metadata": {
  "kernelspec": {
   "display_name": "base",
   "language": "python",
   "name": "python3"
  },
  "language_info": {
   "codemirror_mode": {
    "name": "ipython",
    "version": 3
   },
   "file_extension": ".py",
   "mimetype": "text/x-python",
   "name": "python",
   "nbconvert_exporter": "python",
   "pygments_lexer": "ipython3",
   "version": "3.12.7"
  }
 },
 "nbformat": 4,
 "nbformat_minor": 2
}
