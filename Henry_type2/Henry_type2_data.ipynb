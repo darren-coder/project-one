{
 "cells": [
  {
   "cell_type": "code",
   "execution_count": 4,
   "metadata": {},
   "outputs": [],
   "source": [
    "%matplotlib notebook\n",
    "%matplotlib ipympl\n",
    "%matplotlib ipympl"
   ]
  },
  {
   "cell_type": "code",
   "execution_count": 5,
   "metadata": {},
   "outputs": [],
   "source": [
    "import pandas as pd\n",
    "from pathlib import Path\n",
    "import matplotlib.pyplot as plt\n",
    "import numpy as np"
   ]
  },
  {
   "cell_type": "code",
   "execution_count": 6,
   "metadata": {},
   "outputs": [],
   "source": [
    "path = Path(\"../data/diabetes_dataset00.csv\")"
   ]
  },
  {
   "cell_type": "code",
   "execution_count": 7,
   "metadata": {},
   "outputs": [
    {
     "data": {
      "text/plain": [
       "Target\n",
       "MODY                                          5553\n",
       "Secondary Diabetes                            5479\n",
       "Cystic Fibrosis-Related Diabetes (CFRD)       5464\n",
       "Type 1 Diabetes                               5446\n",
       "Neonatal Diabetes Mellitus (NDM)              5408\n",
       "Wolcott-Rallison Syndrome                     5400\n",
       "Type 2 Diabetes                               5397\n",
       "Prediabetic                                   5376\n",
       "Gestational Diabetes                          5344\n",
       "Type 3c Diabetes (Pancreatogenic Diabetes)    5320\n",
       "Wolfram Syndrome                              5315\n",
       "Steroid-Induced Diabetes                      5275\n",
       "LADA                                          5223\n",
       "Name: count, dtype: int64"
      ]
     },
     "execution_count": 7,
     "metadata": {},
     "output_type": "execute_result"
    }
   ],
   "source": [
    "original_data = pd.read_csv(path)\n",
    "original_data.value_counts(\"Target\")\n"
   ]
  },
  {
   "cell_type": "code",
   "execution_count": 8,
   "metadata": {},
   "outputs": [],
   "source": [
    "type2_df = original_data[original_data['Target'] == 'Type 2 Diabetes']"
   ]
  },
  {
   "cell_type": "code",
   "execution_count": 9,
   "metadata": {},
   "outputs": [],
   "source": [
    "type1_df = original_data[original_data['Target'] == 'Type 1 Diabetes']"
   ]
  },
  {
   "cell_type": "code",
   "execution_count": 10,
   "metadata": {},
   "outputs": [],
   "source": [
    "type3_df = original_data[original_data['Target'] == 'Type 3c Diabetes (Pancreatogenic Diabetes)']"
   ]
  },
  {
   "cell_type": "code",
   "execution_count": 11,
   "metadata": {},
   "outputs": [],
   "source": [
    "wolfram_df = original_data[original_data['Target'] == 'Wolfram Syndrome']"
   ]
  },
  {
   "cell_type": "code",
   "execution_count": 12,
   "metadata": {},
   "outputs": [],
   "source": [
    "gestational_df = original_data[original_data['Target'] == 'Gestational Diabetes']"
   ]
  },
  {
   "cell_type": "code",
   "execution_count": 13,
   "metadata": {},
   "outputs": [
    {
     "data": {
      "text/html": [
       "<div>\n",
       "<style scoped>\n",
       "    .dataframe tbody tr th:only-of-type {\n",
       "        vertical-align: middle;\n",
       "    }\n",
       "\n",
       "    .dataframe tbody tr th {\n",
       "        vertical-align: top;\n",
       "    }\n",
       "\n",
       "    .dataframe thead th {\n",
       "        text-align: right;\n",
       "    }\n",
       "</style>\n",
       "<table border=\"1\" class=\"dataframe\">\n",
       "  <thead>\n",
       "    <tr style=\"text-align: right;\">\n",
       "      <th></th>\n",
       "      <th>Target</th>\n",
       "      <th>Previous Gestational Diabetes</th>\n",
       "      <th>Pregnancy History</th>\n",
       "      <th>Weight Gain During Pregnancy</th>\n",
       "      <th>History of PCOS</th>\n",
       "    </tr>\n",
       "  </thead>\n",
       "  <tbody>\n",
       "    <tr>\n",
       "      <th>6</th>\n",
       "      <td>Type 2 Diabetes</td>\n",
       "      <td>Yes</td>\n",
       "      <td>Normal</td>\n",
       "      <td>15</td>\n",
       "      <td>No</td>\n",
       "    </tr>\n",
       "    <tr>\n",
       "      <th>28</th>\n",
       "      <td>Type 2 Diabetes</td>\n",
       "      <td>No</td>\n",
       "      <td>Normal</td>\n",
       "      <td>17</td>\n",
       "      <td>No</td>\n",
       "    </tr>\n",
       "    <tr>\n",
       "      <th>32</th>\n",
       "      <td>Type 2 Diabetes</td>\n",
       "      <td>Yes</td>\n",
       "      <td>Complications</td>\n",
       "      <td>26</td>\n",
       "      <td>No</td>\n",
       "    </tr>\n",
       "    <tr>\n",
       "      <th>38</th>\n",
       "      <td>Type 2 Diabetes</td>\n",
       "      <td>No</td>\n",
       "      <td>Normal</td>\n",
       "      <td>26</td>\n",
       "      <td>No</td>\n",
       "    </tr>\n",
       "    <tr>\n",
       "      <th>41</th>\n",
       "      <td>Type 2 Diabetes</td>\n",
       "      <td>Yes</td>\n",
       "      <td>Complications</td>\n",
       "      <td>35</td>\n",
       "      <td>No</td>\n",
       "    </tr>\n",
       "  </tbody>\n",
       "</table>\n",
       "</div>"
      ],
      "text/plain": [
       "             Target Previous Gestational Diabetes Pregnancy History  \\\n",
       "6   Type 2 Diabetes                           Yes            Normal   \n",
       "28  Type 2 Diabetes                            No            Normal   \n",
       "32  Type 2 Diabetes                           Yes     Complications   \n",
       "38  Type 2 Diabetes                            No            Normal   \n",
       "41  Type 2 Diabetes                           Yes     Complications   \n",
       "\n",
       "    Weight Gain During Pregnancy History of PCOS  \n",
       "6                             15              No  \n",
       "28                            17              No  \n",
       "32                            26              No  \n",
       "38                            26              No  \n",
       "41                            35              No  "
      ]
     },
     "execution_count": 13,
     "metadata": {},
     "output_type": "execute_result"
    }
   ],
   "source": [
    "pregnancy_type2_df = type2_df[[\"Target\",\"Previous Gestational Diabetes\",\"Pregnancy History\",\"Weight Gain During Pregnancy\",\"History of PCOS\"]]\n",
    "pregnancy_type2_df.head()"
   ]
  },
  {
   "cell_type": "code",
   "execution_count": 14,
   "metadata": {},
   "outputs": [
    {
     "data": {
      "text/html": [
       "<div>\n",
       "<style scoped>\n",
       "    .dataframe tbody tr th:only-of-type {\n",
       "        vertical-align: middle;\n",
       "    }\n",
       "\n",
       "    .dataframe tbody tr th {\n",
       "        vertical-align: top;\n",
       "    }\n",
       "\n",
       "    .dataframe thead th {\n",
       "        text-align: right;\n",
       "    }\n",
       "</style>\n",
       "<table border=\"1\" class=\"dataframe\">\n",
       "  <thead>\n",
       "    <tr style=\"text-align: right;\">\n",
       "      <th></th>\n",
       "      <th>Target</th>\n",
       "      <th>Previous Gestational Diabetes</th>\n",
       "      <th>Pregnancy History</th>\n",
       "      <th>Weight Gain During Pregnancy</th>\n",
       "      <th>History of PCOS</th>\n",
       "    </tr>\n",
       "  </thead>\n",
       "  <tbody>\n",
       "    <tr>\n",
       "      <th>3</th>\n",
       "      <td>Type 1 Diabetes</td>\n",
       "      <td>Yes</td>\n",
       "      <td>Normal</td>\n",
       "      <td>12</td>\n",
       "      <td>No</td>\n",
       "    </tr>\n",
       "    <tr>\n",
       "      <th>11</th>\n",
       "      <td>Type 1 Diabetes</td>\n",
       "      <td>No</td>\n",
       "      <td>Complications</td>\n",
       "      <td>24</td>\n",
       "      <td>Yes</td>\n",
       "    </tr>\n",
       "    <tr>\n",
       "      <th>19</th>\n",
       "      <td>Type 1 Diabetes</td>\n",
       "      <td>No</td>\n",
       "      <td>Normal</td>\n",
       "      <td>24</td>\n",
       "      <td>Yes</td>\n",
       "    </tr>\n",
       "    <tr>\n",
       "      <th>36</th>\n",
       "      <td>Type 1 Diabetes</td>\n",
       "      <td>No</td>\n",
       "      <td>Normal</td>\n",
       "      <td>7</td>\n",
       "      <td>No</td>\n",
       "    </tr>\n",
       "    <tr>\n",
       "      <th>43</th>\n",
       "      <td>Type 1 Diabetes</td>\n",
       "      <td>Yes</td>\n",
       "      <td>Complications</td>\n",
       "      <td>6</td>\n",
       "      <td>Yes</td>\n",
       "    </tr>\n",
       "  </tbody>\n",
       "</table>\n",
       "</div>"
      ],
      "text/plain": [
       "             Target Previous Gestational Diabetes Pregnancy History  \\\n",
       "3   Type 1 Diabetes                           Yes            Normal   \n",
       "11  Type 1 Diabetes                            No     Complications   \n",
       "19  Type 1 Diabetes                            No            Normal   \n",
       "36  Type 1 Diabetes                            No            Normal   \n",
       "43  Type 1 Diabetes                           Yes     Complications   \n",
       "\n",
       "    Weight Gain During Pregnancy History of PCOS  \n",
       "3                             12              No  \n",
       "11                            24             Yes  \n",
       "19                            24             Yes  \n",
       "36                             7              No  \n",
       "43                             6             Yes  "
      ]
     },
     "execution_count": 14,
     "metadata": {},
     "output_type": "execute_result"
    }
   ],
   "source": [
    "pregnancy_type1_df = type1_df[[\"Target\",\"Previous Gestational Diabetes\",\"Pregnancy History\",\"Weight Gain During Pregnancy\",\"History of PCOS\"]]\n",
    "pregnancy_type1_df.head()"
   ]
  },
  {
   "cell_type": "code",
   "execution_count": 15,
   "metadata": {},
   "outputs": [
    {
     "data": {
      "text/html": [
       "<div>\n",
       "<style scoped>\n",
       "    .dataframe tbody tr th:only-of-type {\n",
       "        vertical-align: middle;\n",
       "    }\n",
       "\n",
       "    .dataframe tbody tr th {\n",
       "        vertical-align: top;\n",
       "    }\n",
       "\n",
       "    .dataframe thead th {\n",
       "        text-align: right;\n",
       "    }\n",
       "</style>\n",
       "<table border=\"1\" class=\"dataframe\">\n",
       "  <thead>\n",
       "    <tr style=\"text-align: right;\">\n",
       "      <th></th>\n",
       "      <th>Target</th>\n",
       "      <th>Previous Gestational Diabetes</th>\n",
       "      <th>Pregnancy History</th>\n",
       "      <th>Weight Gain During Pregnancy</th>\n",
       "      <th>History of PCOS</th>\n",
       "    </tr>\n",
       "  </thead>\n",
       "  <tbody>\n",
       "    <tr>\n",
       "      <th>18</th>\n",
       "      <td>Type 3c Diabetes (Pancreatogenic Diabetes)</td>\n",
       "      <td>Yes</td>\n",
       "      <td>Normal</td>\n",
       "      <td>28</td>\n",
       "      <td>No</td>\n",
       "    </tr>\n",
       "    <tr>\n",
       "      <th>23</th>\n",
       "      <td>Type 3c Diabetes (Pancreatogenic Diabetes)</td>\n",
       "      <td>No</td>\n",
       "      <td>Normal</td>\n",
       "      <td>29</td>\n",
       "      <td>Yes</td>\n",
       "    </tr>\n",
       "    <tr>\n",
       "      <th>42</th>\n",
       "      <td>Type 3c Diabetes (Pancreatogenic Diabetes)</td>\n",
       "      <td>No</td>\n",
       "      <td>Complications</td>\n",
       "      <td>26</td>\n",
       "      <td>Yes</td>\n",
       "    </tr>\n",
       "    <tr>\n",
       "      <th>71</th>\n",
       "      <td>Type 3c Diabetes (Pancreatogenic Diabetes)</td>\n",
       "      <td>Yes</td>\n",
       "      <td>Complications</td>\n",
       "      <td>20</td>\n",
       "      <td>Yes</td>\n",
       "    </tr>\n",
       "    <tr>\n",
       "      <th>79</th>\n",
       "      <td>Type 3c Diabetes (Pancreatogenic Diabetes)</td>\n",
       "      <td>No</td>\n",
       "      <td>Normal</td>\n",
       "      <td>24</td>\n",
       "      <td>Yes</td>\n",
       "    </tr>\n",
       "  </tbody>\n",
       "</table>\n",
       "</div>"
      ],
      "text/plain": [
       "                                        Target Previous Gestational Diabetes  \\\n",
       "18  Type 3c Diabetes (Pancreatogenic Diabetes)                           Yes   \n",
       "23  Type 3c Diabetes (Pancreatogenic Diabetes)                            No   \n",
       "42  Type 3c Diabetes (Pancreatogenic Diabetes)                            No   \n",
       "71  Type 3c Diabetes (Pancreatogenic Diabetes)                           Yes   \n",
       "79  Type 3c Diabetes (Pancreatogenic Diabetes)                            No   \n",
       "\n",
       "   Pregnancy History  Weight Gain During Pregnancy History of PCOS  \n",
       "18            Normal                            28              No  \n",
       "23            Normal                            29             Yes  \n",
       "42     Complications                            26             Yes  \n",
       "71     Complications                            20             Yes  \n",
       "79            Normal                            24             Yes  "
      ]
     },
     "execution_count": 15,
     "metadata": {},
     "output_type": "execute_result"
    }
   ],
   "source": [
    "pregnancy_type3_df = type3_df[[\"Target\",\"Previous Gestational Diabetes\",\"Pregnancy History\",\"Weight Gain During Pregnancy\",\"History of PCOS\"]]\n",
    "pregnancy_type3_df.head()"
   ]
  },
  {
   "cell_type": "code",
   "execution_count": 16,
   "metadata": {},
   "outputs": [
    {
     "data": {
      "text/html": [
       "<div>\n",
       "<style scoped>\n",
       "    .dataframe tbody tr th:only-of-type {\n",
       "        vertical-align: middle;\n",
       "    }\n",
       "\n",
       "    .dataframe tbody tr th {\n",
       "        vertical-align: top;\n",
       "    }\n",
       "\n",
       "    .dataframe thead th {\n",
       "        text-align: right;\n",
       "    }\n",
       "</style>\n",
       "<table border=\"1\" class=\"dataframe\">\n",
       "  <thead>\n",
       "    <tr style=\"text-align: right;\">\n",
       "      <th></th>\n",
       "      <th>Target</th>\n",
       "      <th>Previous Gestational Diabetes</th>\n",
       "      <th>Pregnancy History</th>\n",
       "      <th>Weight Gain During Pregnancy</th>\n",
       "      <th>History of PCOS</th>\n",
       "    </tr>\n",
       "  </thead>\n",
       "  <tbody>\n",
       "    <tr>\n",
       "      <th>4</th>\n",
       "      <td>Wolfram Syndrome</td>\n",
       "      <td>Yes</td>\n",
       "      <td>Complications</td>\n",
       "      <td>2</td>\n",
       "      <td>No</td>\n",
       "    </tr>\n",
       "    <tr>\n",
       "      <th>24</th>\n",
       "      <td>Wolfram Syndrome</td>\n",
       "      <td>Yes</td>\n",
       "      <td>Complications</td>\n",
       "      <td>2</td>\n",
       "      <td>No</td>\n",
       "    </tr>\n",
       "    <tr>\n",
       "      <th>34</th>\n",
       "      <td>Wolfram Syndrome</td>\n",
       "      <td>Yes</td>\n",
       "      <td>Normal</td>\n",
       "      <td>1</td>\n",
       "      <td>No</td>\n",
       "    </tr>\n",
       "    <tr>\n",
       "      <th>46</th>\n",
       "      <td>Wolfram Syndrome</td>\n",
       "      <td>No</td>\n",
       "      <td>Normal</td>\n",
       "      <td>3</td>\n",
       "      <td>Yes</td>\n",
       "    </tr>\n",
       "    <tr>\n",
       "      <th>90</th>\n",
       "      <td>Wolfram Syndrome</td>\n",
       "      <td>Yes</td>\n",
       "      <td>Complications</td>\n",
       "      <td>1</td>\n",
       "      <td>No</td>\n",
       "    </tr>\n",
       "  </tbody>\n",
       "</table>\n",
       "</div>"
      ],
      "text/plain": [
       "              Target Previous Gestational Diabetes Pregnancy History  \\\n",
       "4   Wolfram Syndrome                           Yes     Complications   \n",
       "24  Wolfram Syndrome                           Yes     Complications   \n",
       "34  Wolfram Syndrome                           Yes            Normal   \n",
       "46  Wolfram Syndrome                            No            Normal   \n",
       "90  Wolfram Syndrome                           Yes     Complications   \n",
       "\n",
       "    Weight Gain During Pregnancy History of PCOS  \n",
       "4                              2              No  \n",
       "24                             2              No  \n",
       "34                             1              No  \n",
       "46                             3             Yes  \n",
       "90                             1              No  "
      ]
     },
     "execution_count": 16,
     "metadata": {},
     "output_type": "execute_result"
    }
   ],
   "source": [
    "pregnancy_wolfram_df = wolfram_df[[\"Target\",\"Previous Gestational Diabetes\",\"Pregnancy History\",\"Weight Gain During Pregnancy\",\"History of PCOS\"]]\n",
    "pregnancy_wolfram_df.head()"
   ]
  },
  {
   "cell_type": "code",
   "execution_count": 17,
   "metadata": {},
   "outputs": [
    {
     "data": {
      "text/html": [
       "<div>\n",
       "<style scoped>\n",
       "    .dataframe tbody tr th:only-of-type {\n",
       "        vertical-align: middle;\n",
       "    }\n",
       "\n",
       "    .dataframe tbody tr th {\n",
       "        vertical-align: top;\n",
       "    }\n",
       "\n",
       "    .dataframe thead th {\n",
       "        text-align: right;\n",
       "    }\n",
       "</style>\n",
       "<table border=\"1\" class=\"dataframe\">\n",
       "  <thead>\n",
       "    <tr style=\"text-align: right;\">\n",
       "      <th></th>\n",
       "      <th>Target</th>\n",
       "      <th>Previous Gestational Diabetes</th>\n",
       "      <th>Pregnancy History</th>\n",
       "      <th>Weight Gain During Pregnancy</th>\n",
       "      <th>History of PCOS</th>\n",
       "    </tr>\n",
       "  </thead>\n",
       "  <tbody>\n",
       "    <tr>\n",
       "      <th>20</th>\n",
       "      <td>Gestational Diabetes</td>\n",
       "      <td>Yes</td>\n",
       "      <td>Complications</td>\n",
       "      <td>26</td>\n",
       "      <td>No</td>\n",
       "    </tr>\n",
       "    <tr>\n",
       "      <th>33</th>\n",
       "      <td>Gestational Diabetes</td>\n",
       "      <td>Yes</td>\n",
       "      <td>Normal</td>\n",
       "      <td>14</td>\n",
       "      <td>No</td>\n",
       "    </tr>\n",
       "    <tr>\n",
       "      <th>37</th>\n",
       "      <td>Gestational Diabetes</td>\n",
       "      <td>Yes</td>\n",
       "      <td>Complications</td>\n",
       "      <td>28</td>\n",
       "      <td>No</td>\n",
       "    </tr>\n",
       "    <tr>\n",
       "      <th>39</th>\n",
       "      <td>Gestational Diabetes</td>\n",
       "      <td>Yes</td>\n",
       "      <td>Complications</td>\n",
       "      <td>15</td>\n",
       "      <td>No</td>\n",
       "    </tr>\n",
       "    <tr>\n",
       "      <th>44</th>\n",
       "      <td>Gestational Diabetes</td>\n",
       "      <td>No</td>\n",
       "      <td>Complications</td>\n",
       "      <td>17</td>\n",
       "      <td>Yes</td>\n",
       "    </tr>\n",
       "  </tbody>\n",
       "</table>\n",
       "</div>"
      ],
      "text/plain": [
       "                  Target Previous Gestational Diabetes Pregnancy History  \\\n",
       "20  Gestational Diabetes                           Yes     Complications   \n",
       "33  Gestational Diabetes                           Yes            Normal   \n",
       "37  Gestational Diabetes                           Yes     Complications   \n",
       "39  Gestational Diabetes                           Yes     Complications   \n",
       "44  Gestational Diabetes                            No     Complications   \n",
       "\n",
       "    Weight Gain During Pregnancy History of PCOS  \n",
       "20                            26              No  \n",
       "33                            14              No  \n",
       "37                            28              No  \n",
       "39                            15              No  \n",
       "44                            17             Yes  "
      ]
     },
     "execution_count": 17,
     "metadata": {},
     "output_type": "execute_result"
    }
   ],
   "source": [
    "pregnancy_gestational_df = gestational_df[[\"Target\",\"Previous Gestational Diabetes\",\"Pregnancy History\",\"Weight Gain During Pregnancy\",\"History of PCOS\"]]\n",
    "pregnancy_gestational_df.head()"
   ]
  },
  {
   "cell_type": "markdown",
   "metadata": {},
   "source": [
    "## Weight Gain During Pregnancy"
   ]
  },
  {
   "cell_type": "code",
   "execution_count": 18,
   "metadata": {},
   "outputs": [
    {
     "data": {
      "text/plain": [
       "26.947192884936076"
      ]
     },
     "execution_count": 18,
     "metadata": {},
     "output_type": "execute_result"
    }
   ],
   "source": [
    "type_2_mean = pregnancy_type2_df['Weight Gain During Pregnancy'].mean()\n",
    "type_2_mean"
   ]
  },
  {
   "cell_type": "code",
   "execution_count": 19,
   "metadata": {},
   "outputs": [
    {
     "data": {
      "text/plain": [
       "14.593279471171503"
      ]
     },
     "execution_count": 19,
     "metadata": {},
     "output_type": "execute_result"
    }
   ],
   "source": [
    "type_1_mean = pregnancy_type1_df['Weight Gain During Pregnancy'].mean()\n",
    "type_1_mean"
   ]
  },
  {
   "cell_type": "code",
   "execution_count": 20,
   "metadata": {},
   "outputs": [
    {
     "data": {
      "text/plain": [
       "21.98890977443609"
      ]
     },
     "execution_count": 20,
     "metadata": {},
     "output_type": "execute_result"
    }
   ],
   "source": [
    "type_3_mean = pregnancy_type3_df['Weight Gain During Pregnancy'].mean()\n",
    "type_3_mean"
   ]
  },
  {
   "cell_type": "code",
   "execution_count": 21,
   "metadata": {},
   "outputs": [
    {
     "data": {
      "text/plain": [
       "1.9936030103480715"
      ]
     },
     "execution_count": 21,
     "metadata": {},
     "output_type": "execute_result"
    }
   ],
   "source": [
    "wolfram_mean = pregnancy_wolfram_df['Weight Gain During Pregnancy'].mean()\n",
    "wolfram_mean"
   ]
  },
  {
   "cell_type": "code",
   "execution_count": 22,
   "metadata": {},
   "outputs": [
    {
     "data": {
      "text/plain": [
       "19.48390718562874"
      ]
     },
     "execution_count": 22,
     "metadata": {},
     "output_type": "execute_result"
    }
   ],
   "source": [
    "gestational_mean = pregnancy_gestational_df['Weight Gain During Pregnancy'].mean()\n",
    "gestational_mean"
   ]
  },
  {
   "cell_type": "code",
   "execution_count": 23,
   "metadata": {},
   "outputs": [
    {
     "data": {
      "text/plain": [
       "15.496414285714286"
      ]
     },
     "execution_count": 23,
     "metadata": {},
     "output_type": "execute_result"
    }
   ],
   "source": [
    "mean_all = original_data['Weight Gain During Pregnancy'].mean()\n",
    "mean_all"
   ]
  },
  {
   "cell_type": "code",
   "execution_count": 24,
   "metadata": {},
   "outputs": [],
   "source": [
    "bar_y_axis = [type_2_mean, type_1_mean, type_3_mean, wolfram_mean, gestational_mean]\n",
    "bar_x_axis = np.arange(len(bar_y_axis))"
   ]
  },
  {
   "cell_type": "code",
   "execution_count": 25,
   "metadata": {},
   "outputs": [
    {
     "data": {
      "application/vnd.jupyter.widget-view+json": {
       "model_id": "150dec5f02fc4462a9f726133e5e2941",
       "version_major": 2,
       "version_minor": 0
      },
      "image/png": "[encoded data removed]",
      "text/html": [
       "\n",
       "            <div style=\"display: inline-block;\">\n",
       "                <div class=\"jupyter-widgets widget-label\" style=\"text-align: center;\">\n",
       "                    Figure\n",
       "                </div>\n",
       "                <img src='data:image/png;base64,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' width=640.0/>\n",
       "            </div>\n",
       "        "
      ],
      "text/plain": [
       "Canvas(toolbar=Toolbar(toolitems=[('Home', 'Reset original view', 'home', 'home'), ('Back', 'Back to previous …"
      ]
     },
     "metadata": {},
     "output_type": "display_data"
    }
   ],
   "source": [
    "plt.bar(bar_x_axis, bar_y_axis, color='b', align=\"center\")\n",
    "tick_locations = [value for value in bar_x_axis]\n",
    "plt.xticks(tick_locations, [\"Type 2\", \"Type 1\", \"Type 3c\", \"Wolfram Syndrome\", \"Gestational\"])\n",
    "plt.title(\"Average Weight Gain During Pregnancy\")\n",
    "plt.xlabel(\"Type of Diabetes\")\n",
    "plt.ylabel(\"Weight Gain During Pregnancy\")\n",
    "plt.xticks(rotation=10)\n",
    "plt.axhline(mean_all)\n",
    "plt.show()"
   ]
  },
  {
   "cell_type": "markdown",
   "metadata": {},
   "source": [
    "## Complications During Pregnancy"
   ]
  },
  {
   "cell_type": "code",
   "execution_count": 26,
   "metadata": {},
   "outputs": [
    {
     "data": {
      "text/plain": [
       "Pregnancy History\n",
       "Normal           2709\n",
       "Complications    2688\n",
       "Name: count, dtype: int64"
      ]
     },
     "execution_count": 26,
     "metadata": {},
     "output_type": "execute_result"
    }
   ],
   "source": [
    "pregnancy_type2_df.value_counts('Pregnancy History')"
   ]
  },
  {
   "cell_type": "code",
   "execution_count": 27,
   "metadata": {},
   "outputs": [
    {
     "data": {
      "text/plain": [
       "Pregnancy History\n",
       "Normal           2760\n",
       "Complications    2686\n",
       "Name: count, dtype: int64"
      ]
     },
     "execution_count": 27,
     "metadata": {},
     "output_type": "execute_result"
    }
   ],
   "source": [
    "pregnancy_type1_df.value_counts('Pregnancy History')"
   ]
  },
  {
   "cell_type": "code",
   "execution_count": 28,
   "metadata": {},
   "outputs": [
    {
     "data": {
      "text/plain": [
       "Pregnancy History\n",
       "Normal           2745\n",
       "Complications    2575\n",
       "Name: count, dtype: int64"
      ]
     },
     "execution_count": 28,
     "metadata": {},
     "output_type": "execute_result"
    }
   ],
   "source": [
    "pregnancy_type3_df.value_counts('Pregnancy History')"
   ]
  },
  {
   "cell_type": "code",
   "execution_count": 29,
   "metadata": {},
   "outputs": [
    {
     "data": {
      "text/plain": [
       "Pregnancy History\n",
       "Complications    2713\n",
       "Normal           2602\n",
       "Name: count, dtype: int64"
      ]
     },
     "execution_count": 29,
     "metadata": {},
     "output_type": "execute_result"
    }
   ],
   "source": [
    "pregnancy_wolfram_df.value_counts('Pregnancy History')"
   ]
  },
  {
   "cell_type": "code",
   "execution_count": 30,
   "metadata": {},
   "outputs": [
    {
     "data": {
      "text/plain": [
       "Pregnancy History\n",
       "Complications    2686\n",
       "Normal           2658\n",
       "Name: count, dtype: int64"
      ]
     },
     "execution_count": 30,
     "metadata": {},
     "output_type": "execute_result"
    }
   ],
   "source": [
    "pregnancy_gestational_df.value_counts('Pregnancy History')"
   ]
  },
  {
   "cell_type": "code",
   "execution_count": 31,
   "metadata": {},
   "outputs": [],
   "source": [
    "complications_type2 = 2688\n",
    "total_history_type2 = pregnancy_type2_df['Pregnancy History'].count()"
   ]
  },
  {
   "cell_type": "code",
   "execution_count": 32,
   "metadata": {},
   "outputs": [
    {
     "data": {
      "text/plain": [
       "49.80544747081712"
      ]
     },
     "execution_count": 32,
     "metadata": {},
     "output_type": "execute_result"
    }
   ],
   "source": [
    "percentage_complication_type2 = complications_type2 / total_history_type2 * 100\n",
    "percentage_complication_type2"
   ]
  },
  {
   "cell_type": "code",
   "execution_count": 33,
   "metadata": {},
   "outputs": [
    {
     "data": {
      "text/plain": [
       "Pregnancy History\n",
       "Normal           35270\n",
       "Complications    34730\n",
       "Name: count, dtype: int64"
      ]
     },
     "execution_count": 33,
     "metadata": {},
     "output_type": "execute_result"
    }
   ],
   "source": [
    "original_data['Pregnancy History'].value_counts()"
   ]
  },
  {
   "cell_type": "code",
   "execution_count": 34,
   "metadata": {},
   "outputs": [],
   "source": [
    "complications_all = 34730\n",
    "total_history_all = original_data['Pregnancy History'].count()"
   ]
  },
  {
   "cell_type": "code",
   "execution_count": 35,
   "metadata": {},
   "outputs": [
    {
     "data": {
      "text/plain": [
       "49.614285714285714"
      ]
     },
     "execution_count": 35,
     "metadata": {},
     "output_type": "execute_result"
    }
   ],
   "source": [
    "percentage_complication_all = complications_all / total_history_all * 100\n",
    "percentage_complication_all"
   ]
  },
  {
   "cell_type": "code",
   "execution_count": 36,
   "metadata": {},
   "outputs": [],
   "source": [
    "total_complications = 34730\n",
    "type1_complications = 2686\n",
    "type2_complications = 2688\n",
    "type3_complications = 2575\n",
    "wolfram_complications = 2602\n",
    "gestational_complications = 2658"
   ]
  },
  {
   "cell_type": "code",
   "execution_count": 37,
   "metadata": {},
   "outputs": [],
   "source": [
    "percent_type1_complications = type1_complications / total_complications * 100\n",
    "percent_type2_complications = type2_complications / total_complications * 100\n",
    "percent_type3_complications = type3_complications / total_complications * 100\n",
    "percent_wolfram_complications = wolfram_complications / total_complications * 100\n",
    "percent_gestational_complications = gestational_complications / total_complications * 100"
   ]
  },
  {
   "cell_type": "code",
   "execution_count": 38,
   "metadata": {},
   "outputs": [],
   "source": [
    "complications_type2 = type2_df[type2_df['Pregnancy History'] == \"Complications\"]\n",
    "complications_wolfram = wolfram_df[wolfram_df['Pregnancy History'] == \"Complications\"]\n",
    "complications_type3 = type3_df[type3_df['Pregnancy History'] == \"Complications\"]\n",
    "complications_type1 = type1_df[type1_df['Pregnancy History'] == \"Complications\"]\n",
    "complications_gestational = gestational_df[gestational_df['Pregnancy History'] == \"Complications\"]"
   ]
  },
  {
   "cell_type": "code",
   "execution_count": null,
   "metadata": {},
   "outputs": [],
   "source": []
  },
  {
   "cell_type": "markdown",
   "metadata": {},
   "source": [
    "## New Attempt"
   ]
  },
  {
   "cell_type": "code",
   "execution_count": 39,
   "metadata": {},
   "outputs": [
    {
     "data": {
      "text/html": [
       "<div>\n",
       "<style scoped>\n",
       "    .dataframe tbody tr th:only-of-type {\n",
       "        vertical-align: middle;\n",
       "    }\n",
       "\n",
       "    .dataframe tbody tr th {\n",
       "        vertical-align: top;\n",
       "    }\n",
       "\n",
       "    .dataframe thead th {\n",
       "        text-align: right;\n",
       "    }\n",
       "</style>\n",
       "<table border=\"1\" class=\"dataframe\">\n",
       "  <thead>\n",
       "    <tr style=\"text-align: right;\">\n",
       "      <th></th>\n",
       "      <th>Target</th>\n",
       "      <th>Genetic Markers</th>\n",
       "      <th>Autoantibodies</th>\n",
       "      <th>Family History</th>\n",
       "      <th>Environmental Factors</th>\n",
       "      <th>Insulin Levels</th>\n",
       "      <th>Age</th>\n",
       "      <th>BMI</th>\n",
       "      <th>Physical Activity</th>\n",
       "      <th>Dietary Habits</th>\n",
       "      <th>...</th>\n",
       "      <th>Pulmonary Function</th>\n",
       "      <th>Cystic Fibrosis Diagnosis</th>\n",
       "      <th>Steroid Use History</th>\n",
       "      <th>Genetic Testing</th>\n",
       "      <th>Neurological Assessments</th>\n",
       "      <th>Liver Function Tests</th>\n",
       "      <th>Digestive Enzyme Levels</th>\n",
       "      <th>Urine Test</th>\n",
       "      <th>Birth Weight</th>\n",
       "      <th>Early Onset Symptoms</th>\n",
       "    </tr>\n",
       "  </thead>\n",
       "  <tbody>\n",
       "    <tr>\n",
       "      <th>4</th>\n",
       "      <td>Wolfram Syndrome</td>\n",
       "      <td>Negative</td>\n",
       "      <td>Negative</td>\n",
       "      <td>Yes</td>\n",
       "      <td>Present</td>\n",
       "      <td>17</td>\n",
       "      <td>10</td>\n",
       "      <td>17</td>\n",
       "      <td>High</td>\n",
       "      <td>Healthy</td>\n",
       "      <td>...</td>\n",
       "      <td>41</td>\n",
       "      <td>No</td>\n",
       "      <td>No</td>\n",
       "      <td>Positive</td>\n",
       "      <td>1</td>\n",
       "      <td>Normal</td>\n",
       "      <td>24</td>\n",
       "      <td>Protein Present</td>\n",
       "      <td>1770</td>\n",
       "      <td>No</td>\n",
       "    </tr>\n",
       "    <tr>\n",
       "      <th>8</th>\n",
       "      <td>Secondary Diabetes</td>\n",
       "      <td>Negative</td>\n",
       "      <td>Positive</td>\n",
       "      <td>No</td>\n",
       "      <td>Absent</td>\n",
       "      <td>47</td>\n",
       "      <td>47</td>\n",
       "      <td>25</td>\n",
       "      <td>High</td>\n",
       "      <td>Healthy</td>\n",
       "      <td>...</td>\n",
       "      <td>71</td>\n",
       "      <td>No</td>\n",
       "      <td>Yes</td>\n",
       "      <td>Positive</td>\n",
       "      <td>3</td>\n",
       "      <td>Normal</td>\n",
       "      <td>74</td>\n",
       "      <td>Ketones Present</td>\n",
       "      <td>3721</td>\n",
       "      <td>No</td>\n",
       "    </tr>\n",
       "    <tr>\n",
       "      <th>11</th>\n",
       "      <td>Type 1 Diabetes</td>\n",
       "      <td>Positive</td>\n",
       "      <td>Negative</td>\n",
       "      <td>No</td>\n",
       "      <td>Absent</td>\n",
       "      <td>8</td>\n",
       "      <td>29</td>\n",
       "      <td>23</td>\n",
       "      <td>Low</td>\n",
       "      <td>Unhealthy</td>\n",
       "      <td>...</td>\n",
       "      <td>75</td>\n",
       "      <td>No</td>\n",
       "      <td>No</td>\n",
       "      <td>Negative</td>\n",
       "      <td>1</td>\n",
       "      <td>Abnormal</td>\n",
       "      <td>60</td>\n",
       "      <td>Ketones Present</td>\n",
       "      <td>2947</td>\n",
       "      <td>No</td>\n",
       "    </tr>\n",
       "    <tr>\n",
       "      <th>13</th>\n",
       "      <td>Neonatal Diabetes Mellitus (NDM)</td>\n",
       "      <td>Positive</td>\n",
       "      <td>Positive</td>\n",
       "      <td>No</td>\n",
       "      <td>Present</td>\n",
       "      <td>9</td>\n",
       "      <td>0</td>\n",
       "      <td>19</td>\n",
       "      <td>Low</td>\n",
       "      <td>Unhealthy</td>\n",
       "      <td>...</td>\n",
       "      <td>56</td>\n",
       "      <td>No</td>\n",
       "      <td>Yes</td>\n",
       "      <td>Negative</td>\n",
       "      <td>1</td>\n",
       "      <td>Normal</td>\n",
       "      <td>29</td>\n",
       "      <td>Glucose Present</td>\n",
       "      <td>2202</td>\n",
       "      <td>No</td>\n",
       "    </tr>\n",
       "    <tr>\n",
       "      <th>15</th>\n",
       "      <td>Steroid-Induced Diabetes</td>\n",
       "      <td>Positive</td>\n",
       "      <td>Negative</td>\n",
       "      <td>Yes</td>\n",
       "      <td>Present</td>\n",
       "      <td>38</td>\n",
       "      <td>53</td>\n",
       "      <td>37</td>\n",
       "      <td>Low</td>\n",
       "      <td>Unhealthy</td>\n",
       "      <td>...</td>\n",
       "      <td>60</td>\n",
       "      <td>No</td>\n",
       "      <td>Yes</td>\n",
       "      <td>Negative</td>\n",
       "      <td>2</td>\n",
       "      <td>Normal</td>\n",
       "      <td>53</td>\n",
       "      <td>Normal</td>\n",
       "      <td>4239</td>\n",
       "      <td>No</td>\n",
       "    </tr>\n",
       "    <tr>\n",
       "      <th>...</th>\n",
       "      <td>...</td>\n",
       "      <td>...</td>\n",
       "      <td>...</td>\n",
       "      <td>...</td>\n",
       "      <td>...</td>\n",
       "      <td>...</td>\n",
       "      <td>...</td>\n",
       "      <td>...</td>\n",
       "      <td>...</td>\n",
       "      <td>...</td>\n",
       "      <td>...</td>\n",
       "      <td>...</td>\n",
       "      <td>...</td>\n",
       "      <td>...</td>\n",
       "      <td>...</td>\n",
       "      <td>...</td>\n",
       "      <td>...</td>\n",
       "      <td>...</td>\n",
       "      <td>...</td>\n",
       "      <td>...</td>\n",
       "      <td>...</td>\n",
       "    </tr>\n",
       "    <tr>\n",
       "      <th>69980</th>\n",
       "      <td>Wolfram Syndrome</td>\n",
       "      <td>Negative</td>\n",
       "      <td>Negative</td>\n",
       "      <td>No</td>\n",
       "      <td>Present</td>\n",
       "      <td>18</td>\n",
       "      <td>12</td>\n",
       "      <td>23</td>\n",
       "      <td>Low</td>\n",
       "      <td>Healthy</td>\n",
       "      <td>...</td>\n",
       "      <td>59</td>\n",
       "      <td>Yes</td>\n",
       "      <td>Yes</td>\n",
       "      <td>Negative</td>\n",
       "      <td>1</td>\n",
       "      <td>Normal</td>\n",
       "      <td>18</td>\n",
       "      <td>Protein Present</td>\n",
       "      <td>2353</td>\n",
       "      <td>No</td>\n",
       "    </tr>\n",
       "    <tr>\n",
       "      <th>69985</th>\n",
       "      <td>LADA</td>\n",
       "      <td>Positive</td>\n",
       "      <td>Negative</td>\n",
       "      <td>Yes</td>\n",
       "      <td>Present</td>\n",
       "      <td>37</td>\n",
       "      <td>36</td>\n",
       "      <td>34</td>\n",
       "      <td>High</td>\n",
       "      <td>Unhealthy</td>\n",
       "      <td>...</td>\n",
       "      <td>71</td>\n",
       "      <td>No</td>\n",
       "      <td>No</td>\n",
       "      <td>Positive</td>\n",
       "      <td>2</td>\n",
       "      <td>Normal</td>\n",
       "      <td>37</td>\n",
       "      <td>Glucose Present</td>\n",
       "      <td>3812</td>\n",
       "      <td>Yes</td>\n",
       "    </tr>\n",
       "    <tr>\n",
       "      <th>69986</th>\n",
       "      <td>Secondary Diabetes</td>\n",
       "      <td>Negative</td>\n",
       "      <td>Positive</td>\n",
       "      <td>No</td>\n",
       "      <td>Present</td>\n",
       "      <td>48</td>\n",
       "      <td>55</td>\n",
       "      <td>27</td>\n",
       "      <td>Moderate</td>\n",
       "      <td>Unhealthy</td>\n",
       "      <td>...</td>\n",
       "      <td>63</td>\n",
       "      <td>No</td>\n",
       "      <td>Yes</td>\n",
       "      <td>Negative</td>\n",
       "      <td>2</td>\n",
       "      <td>Normal</td>\n",
       "      <td>49</td>\n",
       "      <td>Normal</td>\n",
       "      <td>2703</td>\n",
       "      <td>No</td>\n",
       "    </tr>\n",
       "    <tr>\n",
       "      <th>69987</th>\n",
       "      <td>Gestational Diabetes</td>\n",
       "      <td>Positive</td>\n",
       "      <td>Negative</td>\n",
       "      <td>No</td>\n",
       "      <td>Present</td>\n",
       "      <td>20</td>\n",
       "      <td>38</td>\n",
       "      <td>22</td>\n",
       "      <td>Moderate</td>\n",
       "      <td>Healthy</td>\n",
       "      <td>...</td>\n",
       "      <td>86</td>\n",
       "      <td>Yes</td>\n",
       "      <td>No</td>\n",
       "      <td>Negative</td>\n",
       "      <td>2</td>\n",
       "      <td>Abnormal</td>\n",
       "      <td>48</td>\n",
       "      <td>Protein Present</td>\n",
       "      <td>3498</td>\n",
       "      <td>Yes</td>\n",
       "    </tr>\n",
       "    <tr>\n",
       "      <th>69993</th>\n",
       "      <td>Steroid-Induced Diabetes</td>\n",
       "      <td>Positive</td>\n",
       "      <td>Positive</td>\n",
       "      <td>Yes</td>\n",
       "      <td>Absent</td>\n",
       "      <td>20</td>\n",
       "      <td>64</td>\n",
       "      <td>32</td>\n",
       "      <td>Low</td>\n",
       "      <td>Healthy</td>\n",
       "      <td>...</td>\n",
       "      <td>68</td>\n",
       "      <td>No</td>\n",
       "      <td>Yes</td>\n",
       "      <td>Positive</td>\n",
       "      <td>3</td>\n",
       "      <td>Normal</td>\n",
       "      <td>33</td>\n",
       "      <td>Protein Present</td>\n",
       "      <td>4332</td>\n",
       "      <td>No</td>\n",
       "    </tr>\n",
       "  </tbody>\n",
       "</table>\n",
       "<p>34730 rows × 34 columns</p>\n",
       "</div>"
      ],
      "text/plain": [
       "                                 Target Genetic Markers Autoantibodies  \\\n",
       "4                      Wolfram Syndrome        Negative       Negative   \n",
       "8                    Secondary Diabetes        Negative       Positive   \n",
       "11                      Type 1 Diabetes        Positive       Negative   \n",
       "13     Neonatal Diabetes Mellitus (NDM)        Positive       Positive   \n",
       "15             Steroid-Induced Diabetes        Positive       Negative   \n",
       "...                                 ...             ...            ...   \n",
       "69980                  Wolfram Syndrome        Negative       Negative   \n",
       "69985                              LADA        Positive       Negative   \n",
       "69986                Secondary Diabetes        Negative       Positive   \n",
       "69987              Gestational Diabetes        Positive       Negative   \n",
       "69993          Steroid-Induced Diabetes        Positive       Positive   \n",
       "\n",
       "      Family History Environmental Factors  Insulin Levels  Age  BMI  \\\n",
       "4                Yes               Present              17   10   17   \n",
       "8                 No                Absent              47   47   25   \n",
       "11                No                Absent               8   29   23   \n",
       "13                No               Present               9    0   19   \n",
       "15               Yes               Present              38   53   37   \n",
       "...              ...                   ...             ...  ...  ...   \n",
       "69980             No               Present              18   12   23   \n",
       "69985            Yes               Present              37   36   34   \n",
       "69986             No               Present              48   55   27   \n",
       "69987             No               Present              20   38   22   \n",
       "69993            Yes                Absent              20   64   32   \n",
       "\n",
       "      Physical Activity Dietary Habits  ...  Pulmonary Function  \\\n",
       "4                  High        Healthy  ...                  41   \n",
       "8                  High        Healthy  ...                  71   \n",
       "11                  Low      Unhealthy  ...                  75   \n",
       "13                  Low      Unhealthy  ...                  56   \n",
       "15                  Low      Unhealthy  ...                  60   \n",
       "...                 ...            ...  ...                 ...   \n",
       "69980               Low        Healthy  ...                  59   \n",
       "69985              High      Unhealthy  ...                  71   \n",
       "69986          Moderate      Unhealthy  ...                  63   \n",
       "69987          Moderate        Healthy  ...                  86   \n",
       "69993               Low        Healthy  ...                  68   \n",
       "\n",
       "       Cystic Fibrosis Diagnosis  Steroid Use History  Genetic Testing  \\\n",
       "4                             No                   No         Positive   \n",
       "8                             No                  Yes         Positive   \n",
       "11                            No                   No         Negative   \n",
       "13                            No                  Yes         Negative   \n",
       "15                            No                  Yes         Negative   \n",
       "...                          ...                  ...              ...   \n",
       "69980                        Yes                  Yes         Negative   \n",
       "69985                         No                   No         Positive   \n",
       "69986                         No                  Yes         Negative   \n",
       "69987                        Yes                   No         Negative   \n",
       "69993                         No                  Yes         Positive   \n",
       "\n",
       "      Neurological Assessments Liver Function Tests Digestive Enzyme Levels  \\\n",
       "4                            1               Normal                      24   \n",
       "8                            3               Normal                      74   \n",
       "11                           1             Abnormal                      60   \n",
       "13                           1               Normal                      29   \n",
       "15                           2               Normal                      53   \n",
       "...                        ...                  ...                     ...   \n",
       "69980                        1               Normal                      18   \n",
       "69985                        2               Normal                      37   \n",
       "69986                        2               Normal                      49   \n",
       "69987                        2             Abnormal                      48   \n",
       "69993                        3               Normal                      33   \n",
       "\n",
       "            Urine Test Birth Weight Early Onset Symptoms  \n",
       "4      Protein Present         1770                   No  \n",
       "8      Ketones Present         3721                   No  \n",
       "11     Ketones Present         2947                   No  \n",
       "13     Glucose Present         2202                   No  \n",
       "15              Normal         4239                   No  \n",
       "...                ...          ...                  ...  \n",
       "69980  Protein Present         2353                   No  \n",
       "69985  Glucose Present         3812                  Yes  \n",
       "69986           Normal         2703                   No  \n",
       "69987  Protein Present         3498                  Yes  \n",
       "69993  Protein Present         4332                   No  \n",
       "\n",
       "[34730 rows x 34 columns]"
      ]
     },
     "execution_count": 39,
     "metadata": {},
     "output_type": "execute_result"
    }
   ],
   "source": [
    "complications_df = original_data[original_data[\"Pregnancy History\"] == \"Complications\"]\n",
    "complications_df"
   ]
  },
  {
   "cell_type": "code",
   "execution_count": 40,
   "metadata": {},
   "outputs": [
    {
     "data": {
      "text/plain": [
       "Pregnancy History\n",
       "Complications    34730\n",
       "Name: count, dtype: int64"
      ]
     },
     "execution_count": 40,
     "metadata": {},
     "output_type": "execute_result"
    }
   ],
   "source": [
    "complications_df['Pregnancy History'].value_counts()"
   ]
  },
  {
   "cell_type": "code",
   "execution_count": 41,
   "metadata": {},
   "outputs": [
    {
     "data": {
      "text/html": [
       "<div>\n",
       "<style scoped>\n",
       "    .dataframe tbody tr th:only-of-type {\n",
       "        vertical-align: middle;\n",
       "    }\n",
       "\n",
       "    .dataframe tbody tr th {\n",
       "        vertical-align: top;\n",
       "    }\n",
       "\n",
       "    .dataframe thead th {\n",
       "        text-align: right;\n",
       "    }\n",
       "</style>\n",
       "<table border=\"1\" class=\"dataframe\">\n",
       "  <thead>\n",
       "    <tr style=\"text-align: right;\">\n",
       "      <th></th>\n",
       "      <th>Target</th>\n",
       "      <th>Genetic Markers</th>\n",
       "      <th>Autoantibodies</th>\n",
       "      <th>Family History</th>\n",
       "      <th>Environmental Factors</th>\n",
       "      <th>Insulin Levels</th>\n",
       "      <th>Age</th>\n",
       "      <th>BMI</th>\n",
       "      <th>Physical Activity</th>\n",
       "      <th>Dietary Habits</th>\n",
       "      <th>...</th>\n",
       "      <th>Pulmonary Function</th>\n",
       "      <th>Cystic Fibrosis Diagnosis</th>\n",
       "      <th>Steroid Use History</th>\n",
       "      <th>Genetic Testing</th>\n",
       "      <th>Neurological Assessments</th>\n",
       "      <th>Liver Function Tests</th>\n",
       "      <th>Digestive Enzyme Levels</th>\n",
       "      <th>Urine Test</th>\n",
       "      <th>Birth Weight</th>\n",
       "      <th>Early Onset Symptoms</th>\n",
       "    </tr>\n",
       "  </thead>\n",
       "  <tbody>\n",
       "    <tr>\n",
       "      <th>4</th>\n",
       "      <td>Wolfram Syndrome</td>\n",
       "      <td>Negative</td>\n",
       "      <td>Negative</td>\n",
       "      <td>Yes</td>\n",
       "      <td>Present</td>\n",
       "      <td>17</td>\n",
       "      <td>10</td>\n",
       "      <td>17</td>\n",
       "      <td>High</td>\n",
       "      <td>Healthy</td>\n",
       "      <td>...</td>\n",
       "      <td>41</td>\n",
       "      <td>No</td>\n",
       "      <td>No</td>\n",
       "      <td>Positive</td>\n",
       "      <td>1</td>\n",
       "      <td>Normal</td>\n",
       "      <td>24</td>\n",
       "      <td>Protein Present</td>\n",
       "      <td>1770</td>\n",
       "      <td>No</td>\n",
       "    </tr>\n",
       "    <tr>\n",
       "      <th>11</th>\n",
       "      <td>Type 1 Diabetes</td>\n",
       "      <td>Positive</td>\n",
       "      <td>Negative</td>\n",
       "      <td>No</td>\n",
       "      <td>Absent</td>\n",
       "      <td>8</td>\n",
       "      <td>29</td>\n",
       "      <td>23</td>\n",
       "      <td>Low</td>\n",
       "      <td>Unhealthy</td>\n",
       "      <td>...</td>\n",
       "      <td>75</td>\n",
       "      <td>No</td>\n",
       "      <td>No</td>\n",
       "      <td>Negative</td>\n",
       "      <td>1</td>\n",
       "      <td>Abnormal</td>\n",
       "      <td>60</td>\n",
       "      <td>Ketones Present</td>\n",
       "      <td>2947</td>\n",
       "      <td>No</td>\n",
       "    </tr>\n",
       "    <tr>\n",
       "      <th>20</th>\n",
       "      <td>Gestational Diabetes</td>\n",
       "      <td>Positive</td>\n",
       "      <td>Negative</td>\n",
       "      <td>Yes</td>\n",
       "      <td>Present</td>\n",
       "      <td>10</td>\n",
       "      <td>35</td>\n",
       "      <td>33</td>\n",
       "      <td>Low</td>\n",
       "      <td>Healthy</td>\n",
       "      <td>...</td>\n",
       "      <td>77</td>\n",
       "      <td>No</td>\n",
       "      <td>Yes</td>\n",
       "      <td>Negative</td>\n",
       "      <td>2</td>\n",
       "      <td>Normal</td>\n",
       "      <td>51</td>\n",
       "      <td>Ketones Present</td>\n",
       "      <td>3963</td>\n",
       "      <td>Yes</td>\n",
       "    </tr>\n",
       "    <tr>\n",
       "      <th>24</th>\n",
       "      <td>Wolfram Syndrome</td>\n",
       "      <td>Positive</td>\n",
       "      <td>Negative</td>\n",
       "      <td>Yes</td>\n",
       "      <td>Present</td>\n",
       "      <td>11</td>\n",
       "      <td>9</td>\n",
       "      <td>23</td>\n",
       "      <td>Low</td>\n",
       "      <td>Unhealthy</td>\n",
       "      <td>...</td>\n",
       "      <td>49</td>\n",
       "      <td>Yes</td>\n",
       "      <td>No</td>\n",
       "      <td>Positive</td>\n",
       "      <td>1</td>\n",
       "      <td>Normal</td>\n",
       "      <td>13</td>\n",
       "      <td>Glucose Present</td>\n",
       "      <td>2325</td>\n",
       "      <td>No</td>\n",
       "    </tr>\n",
       "    <tr>\n",
       "      <th>32</th>\n",
       "      <td>Type 2 Diabetes</td>\n",
       "      <td>Positive</td>\n",
       "      <td>Positive</td>\n",
       "      <td>No</td>\n",
       "      <td>Present</td>\n",
       "      <td>20</td>\n",
       "      <td>56</td>\n",
       "      <td>31</td>\n",
       "      <td>Moderate</td>\n",
       "      <td>Healthy</td>\n",
       "      <td>...</td>\n",
       "      <td>71</td>\n",
       "      <td>No</td>\n",
       "      <td>No</td>\n",
       "      <td>Negative</td>\n",
       "      <td>3</td>\n",
       "      <td>Abnormal</td>\n",
       "      <td>49</td>\n",
       "      <td>Glucose Present</td>\n",
       "      <td>3079</td>\n",
       "      <td>Yes</td>\n",
       "    </tr>\n",
       "    <tr>\n",
       "      <th>...</th>\n",
       "      <td>...</td>\n",
       "      <td>...</td>\n",
       "      <td>...</td>\n",
       "      <td>...</td>\n",
       "      <td>...</td>\n",
       "      <td>...</td>\n",
       "      <td>...</td>\n",
       "      <td>...</td>\n",
       "      <td>...</td>\n",
       "      <td>...</td>\n",
       "      <td>...</td>\n",
       "      <td>...</td>\n",
       "      <td>...</td>\n",
       "      <td>...</td>\n",
       "      <td>...</td>\n",
       "      <td>...</td>\n",
       "      <td>...</td>\n",
       "      <td>...</td>\n",
       "      <td>...</td>\n",
       "      <td>...</td>\n",
       "      <td>...</td>\n",
       "    </tr>\n",
       "    <tr>\n",
       "      <th>69977</th>\n",
       "      <td>Gestational Diabetes</td>\n",
       "      <td>Negative</td>\n",
       "      <td>Positive</td>\n",
       "      <td>Yes</td>\n",
       "      <td>Absent</td>\n",
       "      <td>12</td>\n",
       "      <td>36</td>\n",
       "      <td>32</td>\n",
       "      <td>High</td>\n",
       "      <td>Unhealthy</td>\n",
       "      <td>...</td>\n",
       "      <td>73</td>\n",
       "      <td>Yes</td>\n",
       "      <td>No</td>\n",
       "      <td>Positive</td>\n",
       "      <td>2</td>\n",
       "      <td>Abnormal</td>\n",
       "      <td>39</td>\n",
       "      <td>Protein Present</td>\n",
       "      <td>4188</td>\n",
       "      <td>No</td>\n",
       "    </tr>\n",
       "    <tr>\n",
       "      <th>69978</th>\n",
       "      <td>Type 3c Diabetes (Pancreatogenic Diabetes)</td>\n",
       "      <td>Positive</td>\n",
       "      <td>Positive</td>\n",
       "      <td>No</td>\n",
       "      <td>Present</td>\n",
       "      <td>23</td>\n",
       "      <td>55</td>\n",
       "      <td>33</td>\n",
       "      <td>Low</td>\n",
       "      <td>Healthy</td>\n",
       "      <td>...</td>\n",
       "      <td>71</td>\n",
       "      <td>No</td>\n",
       "      <td>No</td>\n",
       "      <td>Positive</td>\n",
       "      <td>3</td>\n",
       "      <td>Normal</td>\n",
       "      <td>40</td>\n",
       "      <td>Protein Present</td>\n",
       "      <td>3541</td>\n",
       "      <td>Yes</td>\n",
       "    </tr>\n",
       "    <tr>\n",
       "      <th>69979</th>\n",
       "      <td>Gestational Diabetes</td>\n",
       "      <td>Positive</td>\n",
       "      <td>Positive</td>\n",
       "      <td>No</td>\n",
       "      <td>Present</td>\n",
       "      <td>14</td>\n",
       "      <td>33</td>\n",
       "      <td>32</td>\n",
       "      <td>Moderate</td>\n",
       "      <td>Healthy</td>\n",
       "      <td>...</td>\n",
       "      <td>78</td>\n",
       "      <td>Yes</td>\n",
       "      <td>No</td>\n",
       "      <td>Negative</td>\n",
       "      <td>1</td>\n",
       "      <td>Normal</td>\n",
       "      <td>67</td>\n",
       "      <td>Normal</td>\n",
       "      <td>3256</td>\n",
       "      <td>No</td>\n",
       "    </tr>\n",
       "    <tr>\n",
       "      <th>69980</th>\n",
       "      <td>Wolfram Syndrome</td>\n",
       "      <td>Negative</td>\n",
       "      <td>Negative</td>\n",
       "      <td>No</td>\n",
       "      <td>Present</td>\n",
       "      <td>18</td>\n",
       "      <td>12</td>\n",
       "      <td>23</td>\n",
       "      <td>Low</td>\n",
       "      <td>Healthy</td>\n",
       "      <td>...</td>\n",
       "      <td>59</td>\n",
       "      <td>Yes</td>\n",
       "      <td>Yes</td>\n",
       "      <td>Negative</td>\n",
       "      <td>1</td>\n",
       "      <td>Normal</td>\n",
       "      <td>18</td>\n",
       "      <td>Protein Present</td>\n",
       "      <td>2353</td>\n",
       "      <td>No</td>\n",
       "    </tr>\n",
       "    <tr>\n",
       "      <th>69987</th>\n",
       "      <td>Gestational Diabetes</td>\n",
       "      <td>Positive</td>\n",
       "      <td>Negative</td>\n",
       "      <td>No</td>\n",
       "      <td>Present</td>\n",
       "      <td>20</td>\n",
       "      <td>38</td>\n",
       "      <td>22</td>\n",
       "      <td>Moderate</td>\n",
       "      <td>Healthy</td>\n",
       "      <td>...</td>\n",
       "      <td>86</td>\n",
       "      <td>Yes</td>\n",
       "      <td>No</td>\n",
       "      <td>Negative</td>\n",
       "      <td>2</td>\n",
       "      <td>Abnormal</td>\n",
       "      <td>48</td>\n",
       "      <td>Protein Present</td>\n",
       "      <td>3498</td>\n",
       "      <td>Yes</td>\n",
       "    </tr>\n",
       "  </tbody>\n",
       "</table>\n",
       "<p>13348 rows × 34 columns</p>\n",
       "</div>"
      ],
      "text/plain": [
       "                                           Target Genetic Markers  \\\n",
       "4                                Wolfram Syndrome        Negative   \n",
       "11                                Type 1 Diabetes        Positive   \n",
       "20                           Gestational Diabetes        Positive   \n",
       "24                               Wolfram Syndrome        Positive   \n",
       "32                                Type 2 Diabetes        Positive   \n",
       "...                                           ...             ...   \n",
       "69977                        Gestational Diabetes        Negative   \n",
       "69978  Type 3c Diabetes (Pancreatogenic Diabetes)        Positive   \n",
       "69979                        Gestational Diabetes        Positive   \n",
       "69980                            Wolfram Syndrome        Negative   \n",
       "69987                        Gestational Diabetes        Positive   \n",
       "\n",
       "      Autoantibodies Family History Environmental Factors  Insulin Levels  \\\n",
       "4           Negative            Yes               Present              17   \n",
       "11          Negative             No                Absent               8   \n",
       "20          Negative            Yes               Present              10   \n",
       "24          Negative            Yes               Present              11   \n",
       "32          Positive             No               Present              20   \n",
       "...              ...            ...                   ...             ...   \n",
       "69977       Positive            Yes                Absent              12   \n",
       "69978       Positive             No               Present              23   \n",
       "69979       Positive             No               Present              14   \n",
       "69980       Negative             No               Present              18   \n",
       "69987       Negative             No               Present              20   \n",
       "\n",
       "       Age  BMI Physical Activity Dietary Habits  ...  Pulmonary Function  \\\n",
       "4       10   17              High        Healthy  ...                  41   \n",
       "11      29   23               Low      Unhealthy  ...                  75   \n",
       "20      35   33               Low        Healthy  ...                  77   \n",
       "24       9   23               Low      Unhealthy  ...                  49   \n",
       "32      56   31          Moderate        Healthy  ...                  71   \n",
       "...    ...  ...               ...            ...  ...                 ...   \n",
       "69977   36   32              High      Unhealthy  ...                  73   \n",
       "69978   55   33               Low        Healthy  ...                  71   \n",
       "69979   33   32          Moderate        Healthy  ...                  78   \n",
       "69980   12   23               Low        Healthy  ...                  59   \n",
       "69987   38   22          Moderate        Healthy  ...                  86   \n",
       "\n",
       "       Cystic Fibrosis Diagnosis  Steroid Use History  Genetic Testing  \\\n",
       "4                             No                   No         Positive   \n",
       "11                            No                   No         Negative   \n",
       "20                            No                  Yes         Negative   \n",
       "24                           Yes                   No         Positive   \n",
       "32                            No                   No         Negative   \n",
       "...                          ...                  ...              ...   \n",
       "69977                        Yes                   No         Positive   \n",
       "69978                         No                   No         Positive   \n",
       "69979                        Yes                   No         Negative   \n",
       "69980                        Yes                  Yes         Negative   \n",
       "69987                        Yes                   No         Negative   \n",
       "\n",
       "      Neurological Assessments Liver Function Tests Digestive Enzyme Levels  \\\n",
       "4                            1               Normal                      24   \n",
       "11                           1             Abnormal                      60   \n",
       "20                           2               Normal                      51   \n",
       "24                           1               Normal                      13   \n",
       "32                           3             Abnormal                      49   \n",
       "...                        ...                  ...                     ...   \n",
       "69977                        2             Abnormal                      39   \n",
       "69978                        3               Normal                      40   \n",
       "69979                        1               Normal                      67   \n",
       "69980                        1               Normal                      18   \n",
       "69987                        2             Abnormal                      48   \n",
       "\n",
       "            Urine Test Birth Weight Early Onset Symptoms  \n",
       "4      Protein Present         1770                   No  \n",
       "11     Ketones Present         2947                   No  \n",
       "20     Ketones Present         3963                  Yes  \n",
       "24     Glucose Present         2325                   No  \n",
       "32     Glucose Present         3079                  Yes  \n",
       "...                ...          ...                  ...  \n",
       "69977  Protein Present         4188                   No  \n",
       "69978  Protein Present         3541                  Yes  \n",
       "69979           Normal         3256                   No  \n",
       "69980  Protein Present         2353                   No  \n",
       "69987  Protein Present         3498                  Yes  \n",
       "\n",
       "[13348 rows x 34 columns]"
      ]
     },
     "execution_count": 41,
     "metadata": {},
     "output_type": "execute_result"
    }
   ],
   "source": [
    "complications_df_clean = complications_df[complications_df['Target'].isin([\n",
    "    \"Type 1 Diabetes\", \n",
    "    \"Type 2 Diabetes\", \n",
    "    \"Type 3c Diabetes (Pancreatogenic Diabetes)\", \n",
    "    \"Wolfram Syndrome\", \n",
    "    \"Gestational Diabetes\"\n",
    "])]\n",
    "\n",
    "complications_df_clean"
   ]
  },
  {
   "cell_type": "code",
   "execution_count": 42,
   "metadata": {},
   "outputs": [
    {
     "data": {
      "text/plain": [
       "Pregnancy History\n",
       "Complications    13348\n",
       "Name: count, dtype: int64"
      ]
     },
     "execution_count": 42,
     "metadata": {},
     "output_type": "execute_result"
    }
   ],
   "source": [
    "complications_df_clean['Pregnancy History'].value_counts()"
   ]
  },
  {
   "cell_type": "code",
   "execution_count": 43,
   "metadata": {},
   "outputs": [],
   "source": [
    "total_clean_complications = 13348\n",
    "type1_complications = 2686\n",
    "type2_complications = 2688\n",
    "type3_complications = 2575\n",
    "wolfram_complications = 2602\n",
    "gestational_complications = 2658"
   ]
  },
  {
   "cell_type": "code",
   "execution_count": 44,
   "metadata": {},
   "outputs": [],
   "source": [
    "percent_type1_complications = type1_complications / total_clean_complications * 100\n",
    "percent_type2_complications = type2_complications / total_clean_complications * 100\n",
    "percent_type3_complications = type3_complications / total_clean_complications * 100\n",
    "percent_wolfram_complications = wolfram_complications / total_clean_complications * 100\n",
    "percent_gestational_complications = gestational_complications / total_clean_complications * 100"
   ]
  },
  {
   "cell_type": "code",
   "execution_count": 45,
   "metadata": {},
   "outputs": [
    {
     "data": {
      "text/plain": [
       "20.122864848666467"
      ]
     },
     "execution_count": 45,
     "metadata": {},
     "output_type": "execute_result"
    }
   ],
   "source": [
    "percent_type1_complications"
   ]
  },
  {
   "cell_type": "code",
   "execution_count": 46,
   "metadata": {},
   "outputs": [
    {
     "data": {
      "text/plain": [
       "20.137848366796522"
      ]
     },
     "execution_count": 46,
     "metadata": {},
     "output_type": "execute_result"
    }
   ],
   "source": [
    "percent_type2_complications"
   ]
  },
  {
   "cell_type": "code",
   "execution_count": 47,
   "metadata": {},
   "outputs": [
    {
     "data": {
      "text/plain": [
       "19.29127959244831"
      ]
     },
     "execution_count": 47,
     "metadata": {},
     "output_type": "execute_result"
    }
   ],
   "source": [
    "percent_type3_complications"
   ]
  },
  {
   "cell_type": "code",
   "execution_count": 48,
   "metadata": {},
   "outputs": [
    {
     "data": {
      "text/plain": [
       "19.493557087204074"
      ]
     },
     "execution_count": 48,
     "metadata": {},
     "output_type": "execute_result"
    }
   ],
   "source": [
    "percent_wolfram_complications"
   ]
  },
  {
   "cell_type": "code",
   "execution_count": 49,
   "metadata": {},
   "outputs": [
    {
     "data": {
      "text/plain": [
       "19.91309559484567"
      ]
     },
     "execution_count": 49,
     "metadata": {},
     "output_type": "execute_result"
    }
   ],
   "source": [
    "percent_gestational_complications"
   ]
  },
  {
   "cell_type": "code",
   "execution_count": 50,
   "metadata": {},
   "outputs": [
    {
     "data": {
      "application/vnd.jupyter.widget-view+json": {
       "model_id": "150dec5f02fc4462a9f726133e5e2941",
       "version_major": 2,
       "version_minor": 0
      },
      "image/png": "[encoded data removed]",
      "text/html": [
       "\n",
       "            <div style=\"display: inline-block;\">\n",
       "                <div class=\"jupyter-widgets widget-label\" style=\"text-align: center;\">\n",
       "                    Figure 1\n",
       "                </div>\n",
       "                <img src='data:image/png;base64,iVBORw0KGgoAAAANSUhEUgAAAoAAAAHgCAYAAAA10dzkAAAAOXRFWHRTb2Z0d2FyZQBNYXRwbG90bGliIHZlcnNpb24zLjkuMiwgaHR0cHM6Ly9tYXRwbG90bGliLm9yZy8hTgPZAAAACXBIWXMAAA9hAAAPYQGoP6dpAAC2g0lEQVR4nOzdd3hTZRvH8W+S7j3oopQWKHvvPWUjggMBkY2IAqKi4usAXOBCwYkiQ3EgIDgQFET23sjeFEpL6d4rOe8faUPTFmih7Umb+3NduaBn/tKmzZ3nOc9zNIqiKAghhBBCCKuhVTuAEEIIIYQoW1IACiGEEEJYGSkAhRBCCCGsjBSAQgghhBBWRgpAIYQQQggrIwWgEEIIIYSVkQJQCCGEEMLKSAEohBBCCGFlpAAUQgghhLAyUgAKIYQQQlgZKQCFEEIIIayMFIBCCCGEEFZGCkAhhBBCCCsjBaAQQgghhJWRAlAIIYQQwspIASiEEEIIYWWkABRCCCGEsDJSAAohhBBCWBkpAIUQQgghrIwUgEIIIYQQVkYKQCGEEEIIKyMFoBBCCCGElZECUAghhBDCykgBKIQQQghhZaQAFEIIIYSwMlIACiGEEEJYGSkAhRBCCCGsjBSAQgghhBBWRgpAIYQQQggrIwWgEEIIIYSVkQJQCCGEEMLKSAEohBBCCGFlpAAUQgghhLAyUgAKIYQQQlgZKQCFEEIIIayMFIBCCCGEEFZGCkBhsT755BM0Gg0NGjRQO4pFuf/++3F1dSU7O9ts+aFDh9BoNAQEBBTYZ9u2bWg0Gj755JNinUuj0TBz5sy7yhkSEsL9999/x+1OnDjBzJkzuXTpUrGOf/ToUcaOHUuNGjVwdHTE0dGRmjVr8uSTT7J///67yrx582Y0Gg2bN2++q/0L06VLFzQaDRqNBq1Wi6urK6GhoQwaNIiVK1diMBhK7Fx5zZw5E41GUyrHLuq5cx92dnZUq1aNKVOmEB8fr0omIYQ5KQCFxVq0aBEAx48fZ8+ePSqnsRxdu3YlOTm5QJGzefNmnJ2diYyM5NSpUwXW5e5bHLt27WLcuHH3lPdOTpw4wRtvvFGsAvCrr76iefPm7NmzhylTprBmzRr+/PNPnn32WY4fP07Lli05f/58sbM0a9aMXbt20axZs2LvezvVq1dn165d7Ny5k19//ZWXX36ZtLQ0Bg0aRJcuXUhISCjR8wGMGzeOXbt2lfhxi+Ovv/5i165d/PnnnwwcOJBPP/2UPn36oCiKqrmEEIAihAXat2+fAij9+vVTAOWJJ54o8wwGg0FJTU0t8/PeyYEDBxRAmT17ttnyBx54QHnssceUgIAA5YsvvjBb161bN6VSpUqKwWAos5zBwcFKv3797rjdihUrFEDZtGlTkY67fft2RavVKv3791cyMjIK3Wb58uVKeHh4ceKWms6dOyv169cvdN2iRYsUQHn00UdL7HwpKSkldqy7NWPGDAVQbty4YbZ8+PDhCqBs3779lvtaQn4hrIG0AAqLtHDhQgDeffdd2rVrx7Jly0hNTQUgKysLX19fhg8fXmC/+Ph4HB0def75503LEhMTeeGFF6hWrRp2dnYEBgby7LPPkpKSYravRqNh0qRJzJ8/n7p162Jvb8+3334LwBtvvEHr1q3x8vLCzc2NZs2asXDhwgItGRkZGUydOhV/f3+cnJzo1KkTBw4cICQkhFGjRpltGxkZyZNPPkmVKlVMXWRvvPFGga7d/Jo0aYKnp6dZN6XBYGDbtm106dKFzp07s2nTJtO6zMxMdu3aZeqKLM65C+sC3r59O23btsXBwYHAwEBef/11vvnmGzQaTaGteH/99RfNmjXD0dGROnXqmFp2AZYsWcKgQYMAY+tkbpfhkiVLbvn8Z82ahU6n46uvvsLOzq7QbQYNGkTlypVNX+/fv58hQ4YQEhKCo6MjISEhDB06lMuXL5vtV1gX8KhRo3BxceHcuXP07dsXFxcXgoKCmDp1KhkZGbfMWRSjR4+mb9++rFixwpTl0qVLt/we5P955Ha1Hjx4kEceeQRPT09q1Khhti6v3G752/1MchX351wUbdq0ATA91y5dutCgQQO2bt1Ku3btcHJyYsyYMUDRf2/j4+MZO3YsXl5euLi40K9fPy5cuHDL79Xx48cZOnQo7u7u+Pn5MWbMmAItsJ9//jmdOnXC19cXZ2dnGjZsyPvvv09WVpbZdrn59+3bR8eOHXFycqJ69eq8++67Bbr24+PjmTp1KtWrV8fe3h5fX1/69u3LqVOnUBSFmjVr0qtXrwLfs+TkZNzd3Zk4ceJdfc+FuBUbtQMIkV9aWho//fQTLVu2pEGDBowZM4Zx48axYsUKRo4cia2tLY8//jjz58/n888/x83NzbTvTz/9RHp6OqNHjwYgNTWVzp07c/XqVV555RUaNWrE8ePHmT59Ov/99x///POP2Zvkr7/+yrZt25g+fTr+/v74+voCxjflJ598kqpVqwKwe/duJk+eTHh4ONOnTzftP3r0aH7++WdeeuklunXrxokTJ3jwwQdJTEw0e46RkZG0atUKrVbL9OnTqVGjBrt27eLtt9/m0qVLLF68+JbfH61WS6dOnfjnn3/Izs7GxsaGw4cPExcXR+fOndHr9cyYMcO0/e7du0lLSzN1/97LuY8ePUqPHj2oVasW3377LU5OTsyfP5/vv/++0O2PHDnC1KlTefnll/Hz8+Obb75h7NixhIaG0qlTJ/r168esWbN45ZVX+Pzzz01dr7lFTH56vZ5NmzbRokWLQq91vJVLly5Ru3ZthgwZgpeXFxEREXz55Ze0bNmSEydOUKlSpdvun5WVxQMPPMDYsWOZOnUqW7du5a233sLd3d3s5383HnjgAdauXcu2bdsIDg6+q2M89NBDDBkyhAkTJhQokPK7088Eiv9zLqpz584B4OPjY1oWERHB448/zksvvcSsWbPQarVF/r01GAz079+f/fv3M3PmTFMXfu/evW+Z4eGHH2bw4MGMHTuW//77j//9738AZkXw+fPneeyxx0zF55EjR3jnnXc4depUgWI5MjKSYcOGMXXqVGbMmMHq1av53//+R+XKlRkxYgQASUlJdOjQgUuXLjFt2jRat25NcnIyW7duJSIigjp16jB58mSeffZZzp49S82aNU3H/+6770hMTJQCUJQ8tZsghcjvu+++UwBl/vz5iqIoSlJSkuLi4qJ07NjRtM3Ro0cVQPn666/N9m3VqpXSvHlz09ezZ89WtFqtsm/fPrPtVq5cqQDK2rVrTcsAxd3dXYmNjb1tPr1er2RlZSlvvvmm4u3tbepWPX78uAIo06ZNM9v+p59+UgBl5MiRpmVPPvmk4uLioly+fNls2w8//FABlOPHj982w9y5cxVA2blzp6IoijJnzhwlICBAURRFOXHihAIox44dUxRFUd544w0FUE6cOFHscwPKjBkzTF8PGjRIcXZ2Nuva0+v1Sr169RRAuXjxoml5cHCw4uDgYHaetLQ0xcvLS3nyySdNy4rTBRwZGakAypAhQwqsy87OVrKyskyP23V3Z2dnK8nJyYqzs7Myb9480/JNmzYVyDJy5EgFUJYvX252jL59+yq1a9e+Y+bbdQEriqKsW7dOAZT33ntPURRFuXjxogIoixcvLrBt/p9Hblfr9OnTC2ybuy6vov5MivNzLkzuuSMjI5WsrCwlLi5O+f777xVHR0clKChISUtLM31vAGXjxo1m+xf19/bPP/9UAOXLL78ssP+tvlfvv/++2bZPP/204uDgcMvXS+7v+3fffafodDqzvw+5+ffs2WO2T7169ZRevXqZvn7zzTcVQNmwYcMtv2eJiYmKq6urMmXKlALH6tq16y33E+JuSRewsDgLFy7E0dGRIUOGAODi4sKgQYPYtm0bZ8+eBaBhw4Y0b97crLXq5MmT7N2719SFBLBmzRoaNGhAkyZNyM7ONj169epV6GjPbt264enpWSDTv//+S/fu3XF3d0en02Fra8v06dOJiYkhKioKgC1btgDw6KOPmu37yCOPYGNj3ti+Zs0aunbtSuXKlc1y9enTx+xYt5Lbmpebf/PmzXTu3BmAunXr4uvra+oG3rx5M35+ftStW/eez71lyxa6detm1mKm1WoLPOdcTZo0MbWaAjg4OFCrVq0CXa8loXnz5tja2poec+bMMa1LTk5m2rRphIaGYmNjg42NDS4uLqSkpHDy5Mk7Hluj0dC/f3+zZY0aNSqR56GUwICIhx9+uMjbFuVnUtyf8634+/tja2uLp6cnjz/+OM2aNeOvv/7CwcHBtI2npyfdunUz26+ov7e3+p0bOnToLTM98MADZl83atSI9PR00+8xGEfUP/DAA3h7e5t+30eMGIFer+fMmTMFnmOrVq0KHDPv93PdunXUqlWL7t273zKXq6sro0ePZsmSJaZW3H///ZcTJ04wadKkW+4nxN2SAlBYlHPnzrF161b69euHoijEx8cTHx/PI488Aph304wZM4Zdu3aZRrwuXrwYe3t7sz/+169f5+jRo2aFga2tLa6uriiKQnR0tNn5C+tW3Lt3Lz179gRgwYIF7Nixg3379vHqq68Cxi5rgJiYGAD8/PzM9rexscHb29ts2fXr1/njjz8K5Kpfvz5AgVz5NWzYkEqVKrFp0ybT9X+5BSBAp06d2Lx5MxkZGezatcts9O+9nDsmJqbA8yvsOefK/7wB7O3tTd+z4qpUqRKOjo6FFl4//vgj+/bt4/fffy+w7rHHHuOzzz5j3Lhx/P333+zdu5d9+/bh4+NTpCxOTk5mRUvu80hPT7+r55FX7nPJe81icRWnO7woP5Pi/pxv5Z9//mHfvn0cPnyY6Ohotm/fTr169cy2KSx7UX9vY2JisLGxwcvLq8g58z9/e3t74ObvcVhYGB07diQ8PJx58+axbds29u3bx+eff2623a2Ol3vMvNvduHGDKlWq3DJTrsmTJ5OUlMQPP/wAwGeffUaVKlUYMGDAHfcVorjkGkBhURYtWoSiKKxcuZKVK1cWWP/tt9/y9ttvo9PpGDp0KM8//zxLlizhnXfeYenSpQwcONCsBS+3YCjsIvfc9XkVNm/asmXLsLW1Zc2aNWZFwK+//mq2Xe4bwfXr1wkMDDQtz87ONhWHec/bqFEj3nnnnUJz3akY0Gg0dO7cmb/++ou9e/cSHx9vVgB27tyZmTNnsmvXLtLT080KwHs5t7e3N9evXy+wPDIy8rZ5S4pOp6Nbt26sX7+eiIgIs+Iht7DIP0AhISGBNWvWMGPGDF5++WXT8oyMDGJjY8sk9+38/vvvaDQa0/V3ua+x/ANM8r+G8irp+f5K6ufcuHHjO15fWVj2ov7eent7k52dTWxsrFkReC+vx19//ZWUlBRWrVpldk3m4cOH7/qYPj4+XL169Y7bhYaG0qdPHz7//HP69OnD77//zhtvvIFOp7vrcwtxK1IACouh1+v59ttvqVGjBt98802B9WvWrGHOnDmsW7eO+++/H09PTwYOHMh3331H27ZtiYyMNOv+BeOkybNmzcLb25tq1ardVS6NRoONjY3ZH+G0tDSWLl1qtl3uG/jPP/9sNo/cypUrC4yuvf/++1m7di01atQotMu5KLp27covv/zCBx98gK+vr6mLF4wFYExMDJ9++qlp25I4d+fOnVm7di3R0dGmN2GDwcCKFSvu6jlAwRaYO/nf//7HunXrmDBhAitXrsTW1va222s0GhRFMZ0n1zfffINer7+70CVk8eLFrFu3jscee8zULevn54eDgwNHjx412/a3334rs1yl8XMujqL+3nbu3Jn333+fn3/+maeeesq0fNmyZXd97tyCNO/rRVEUFixYcNfH7NOnD9OnT+fff/8t0N2d35QpU+jZsycjR45Ep9PxxBNP3PV5hbgdKQCFxVi3bh3Xrl3jvffeo0uXLgXWN2jQgM8++4yFCxea7jAxZswYfv75ZyZNmkSVKlUKXGPz7LPP8ssvv9CpUyeee+45GjVqhMFgICwsjPXr1zN16lRat25921z9+vXjo48+4rHHHmP8+PHExMTw4YcfFigo6tevz9ChQ5kzZ46pper48ePMmTMHd3d3tNqbV1y8+eabbNiwgXbt2vHMM89Qu3Zt0tPTuXTpEmvXrmX+/Pl37DLKLepWr15t6iLP+73y9vZm9erVBAYGmo0qvJdzv/rqq/zxxx/cd999vPrqqzg6OjJ//nzTNUt5n2NR5d7p5euvv8bV1RUHBweqVatWaNcaQPv27fn888+ZPHkyzZo1Y/z48dSvXx+tVktERAS//PILgGl0uJubG506deKDDz6gUqVKhISEsGXLFhYuXIiHh0ex896NtLQ0du/ebfr/hQsX+PXXX1mzZg2dO3dm/vz5pm01Gg2PP/44ixYtokaNGjRu3Ji9e/fy448/lklWKJ2fc3EU9fe2d+/etG/fnqlTp5KYmEjz5s3ZtWsX33333V3n7NGjB3Z2dgwdOpSXXnqJ9PR0vvzyS+Li4u7p+fz8888MGDCAl19+mVatWpGWlsaWLVu4//77zT6g9ejRg3r16rFp0yYef/xx00wEQpQ4FQegCGFm4MCBip2dnRIVFXXLbYYMGaLY2NgokZGRiqIYR+gFBQUpgPLqq68Wuk9ycrLy2muvKbVr11bs7OwUd3d3pWHDhspzzz1nOo6iGEdYTpw4sdBjLFq0SKldu7Zib2+vVK9eXZk9e7aycOHCAiMi09PTleeff17x9fVVHBwclDZt2ii7du1S3N3dleeee87smDdu3FCeeeYZpVq1aoqtra3i5eWlNG/eXHn11VeV5OTkIn3P/P39FUD57LPPCqwbOHCgAijDhg0rsK6o5ybfSEpFUZRt27YprVu3Vuzt7RV/f3/lxRdfVN577z0FUOLj403b3Woi6M6dOyudO3c2WzZ37lylWrVqik6nu+UI2PwOHz6sjB49WqlWrZpib2+vODg4KKGhocqIESMKjCq9evWq8vDDDyuenp6Kq6ur0rt3b+XYsWNKcHCw2ejsW40CdnZ2LnD+wkbZFiZ3pGjuw9nZWalevbryyCOPKCtWrFD0en2BfRISEpRx48Ypfn5+irOzs9K/f3/l0qVLtxzZmn/C5VvlK87PpKg/58LcLlf+895qhHRRf29jY2OV0aNHKx4eHoqTk5PSo0cPZffu3QpgNsL7VpkWL15c4Pf4jz/+UBo3bqw4ODgogYGByosvvmgarZ33tXGr/CNHjlSCg4PNlsXFxSlTpkxRqlatqtja2iq+vr5Kv379lFOnThXYf+bMmQqg7N69+3bfPiHuiUZR5J48QpSmnTt30r59e3744Qcee+wxteOUip49e3Lp0qUCIyRFxVJefs4//vgjw4YNY8eOHbRr107tOMXWokULNBoN+/btUzuKqMCkC1iIErRhwwZ27dpF8+bNcXR05MiRI7z77rvUrFmThx56SO14JeL555+nadOmBAUFERsbyw8//MCGDRtMd28RFUN5+Tn/9NNPhIeH07BhQ7RaLbt37+aDDz6gU6dO5ar4S0xM5NixY6xZs4YDBw6wevVqtSOJCk4KQCFKkJubG+vXr2fu3LkkJSVRqVIl+vTpw+zZswtMI1Je6fV6pk+fTmRkJBqNhnr16rF06VIef/xxtaOJElRefs6urq4sW7aMt99+m5SUFAICAhg1ahRvv/222tGK5eDBg3Tt2hVvb29mzJjBwIED1Y4kKjjpAhZCCCGEsDIyEbQQQgghhJWRAlAIIYQQwspIASiEEEIIYWWkABRCCCGEsDJSAAohhBBCWBmZBkYIUSw5t0oVFYxa80HI60ldMg+I9ZIWQCGEEEIIKyMFoBBCCCGElZECUAghhBDCykgBKIQQQghhZaQAFEIIIYSwMlIACiGEEEJYGSkAhRBCCCGsjBSAQgghhBBWRgpAIYQQQggrIwWgEEIIIYSVkQJQCCGEEMLKSAEohBBCCGFlpAAUQgghhLAyUgAKIYQQQlgZKQCFEEIIIayMFIBCCCGEEFZGCkAhhBBCCCsjBaAQQgghhJWRAlBYrS5duvDss8+W+Xk1Gg2//vqrKseaOXMmTZo0KZFzCyGEKL+kABQlIjIykilTphAaGoqDgwN+fn506NCB+fPnk5qaWiLnWLJkCR4eHsXeb/PmzWg0GuLj482Wr1q1irfeeqtEspWkUaNGodFo0Gg02Nra4ufnR48ePVi0aBEGg8Fs24iICPr06VPGCS8BGuBwGZ9XCCFESbFRO4Ao/y5cuED79u3x8PBg1qxZNGzYkOzsbM6cOcOiRYuoXLkyDzzwgNoxC/Dy8lI7wi317t2bxYsXo9fruX79On/99RdTpkxh5cqV/P7779jYGH91/f39VU4qhBCiPJIWQHHPnn76aWxsbNi/fz+PPvoodevWpWHDhjz88MP8+eef9O/f37RtQkIC48ePx9fXFzc3N7p168aRI0dM648cOULXrl1xdXXFzc2N5s2bs3//fjZv3szo0aNJSEgwtY7NnDkTgO+//54WLVrg6uqKv78/jz32GFFRUQBcunSJrl27AuDp6YlGo2HUqFFAwS7guLg4RowYgaenJ05OTvTp04ezZ8+a1ue2QP7999/UrVsXFxcXevfuTUREhGmbffv20aNHDypVqoS7uzudO3fm4MGDxf6e2tvb4+/vT2BgIM2aNeOVV17ht99+Y926dSxZssS0Xf4u4GnTplGrVi2cnJyoXr06r7/+OllZWQWO/9VXXxEUFISTkxODBg0q0Dq6ePFi6tati4ODA3Xq1OGLL77Is7Zazr9NMbYEdsm7J1AXcADqAHn3ywQmAQE560OA2UX/pgghhCgxUgCKexITE8P69euZOHEizs7OhW6j0WgAUBSFfv36ERkZydq1azlw4ADNmjXjvvvuIzY2FoBhw4ZRpUoV9u3bx4EDB3j55ZextbWlXbt2zJ07Fzc3NyIiIoiIiOCFF14AIDMzk7feeosjR47w66+/cvHiRVORFxQUxC+//ALA6dOniYiIYN68eYXmHDVqFPv37+f3339n165dKIpC3759zQqo1NRUPvzwQ5YuXcrWrVsJCwsz5QBISkpi5MiRbNu2jd27d1OzZk369u1LUlLSvX2jgW7dutG4cWNWrVp1y21cXV1ZsmQJJ06cYN68eSxYsICPP/7YbJtz586xfPly/vjjD/766y8OHz7MxIkTTesXLFjAq6++yjvvvMPJkyeZNWsWr7/+Ot9++23OFntz/v0HiABy8ywAXgXeAU4Cs4DXgdz9PgF+B5YDp4HvMRaBQgghypwixD3YvXu3AiirVq0yW+7t7a04Ozsrzs7OyksvvaQoiqJs3LhRcXNzU9LT0822rVGjhvLVV18piqIorq6uypIlSwo91+LFixV3d/c7Ztq7d68CKElJSYqiKMqmTZsUQImLizPbrnPnzsqUKVMURVGUM2fOKICyY8cO0/ro6GjF0dFRWb58uen8gHLu3DnTNp9//rni5+d3yyzZ2dmKq6ur8scff5iWAcrq1atvuc/IkSOVAQMGFLpu8ODBSt26dYt8rPfff19p3ry56esZM2YoOp1OuXLlimnZunXrFK1Wq0RERCiKoihBQUHKjz/+aHact956S2nbtm3OOS8qgAKHFFDyPIIU+DHfsrcUaJvz/8kKdFPAkG8beVjCQy1qP29rfwjrJdcAihKR28qXa+/evRgMBoYNG0ZGRgYABw4cIDk5GW9vb7Nt09LSOH/+PADPP/8848aNY+nSpXTv3p1BgwZRo0aN25770KFDzJw5k8OHDxMbG2saKBEWFka9evWKlP/kyZPY2NjQunVr0zJvb29q167NyZMnTcucnJzM8gQEBJi6mwGioqKYPn06//77L9evX0ev15OamkpYWFiRctyJoigFvtd5rVy5krlz53Lu3DmSk5PJzs7Gzc3NbJuqVatSpUoV09dt27bFYDBw+vRpdDodV65cYezYsTzxxBOmbbKzs3F3d79NshvAFWAs8ESe5dlA7n6jgB5AbaA3cD/Q847PWQghRMmTAlDck9DQUDQaDadOnTJbXr16dQAcHR1NywwGAwEBAWzevLnAcXJH986cOZPHHnuMP//8k3Xr1jFjxgyWLVvGgw8+WOj5U1JS6NmzJz179uT777/Hx8eHsLAwevXqRWZmZpGfh6Iot1yet+CytbU1W6/RaMz2HTVqFDdu3GDu3LkEBwdjb29P27Zti5Xldk6ePEm1atUKXbd7926GDBnCG2+8Qa9evXB3d2fZsmXMmTPntsfMfX4ajcZUPC9YsMCsGAbQ6XS3OUru6OQFQOt863L3awZcBNZh7D5+FOgOrLxtPiGEECVPCkBxT7y9venRowefffYZkydPvuV1gADNmjUjMjISGxsbQkJCbrldrVq1qFWrFs899xxDhw5l8eLFPPjgg9jZ2aHX6822PXXqFNHR0bz77rsEBQUBsH//frNt7OzsAArsm1e9evXIzs5mz549tGvXDjBe33jmzBnq1q172+9BXtu2beOLL76gb9++AFy5coXo6Ogi7387//77L//99x/PPfdcoet37NhBcHAwr776qmnZ5cuXC2wXFhbGtWvXqFy5MgC7du1Cq9VSq1Yt/Pz8CAwM5MKFCwwbNuwWSexy/s37/fQDAoELwK32A3ADBuc8HsHYEhgLWO6IbCGEqIhkEIi4Z1988QXZ2dm0aNGCn3/+mZMnT3L69Gm+//57Tp06ZWo56t69O23btmXgwIH8/fffXLp0iZ07d/Laa6+xf/9+0tLSmDRpEps3b+by5cvs2LGDffv2mQqwkJAQkpOT2bhxI9HR0aSmplK1alXs7Oz49NNPuXDhAr///nuBuf2Cg4PRaDSsWbOGGzdukJycXOA51KxZkwEDBvDEE0+wfft2jhw5wuOPP05gYCADBgwo8vciNDSUpUuXcvLkSfbs2cOwYcPMWkGLKiMjg8jISMLDwzl48CCzZs1iwIAB3H///YwYMeKW5w4LC2PZsmWcP3+eTz75hNWrVxfYzsHBgZEjR3LkyBG2bdvGM888w6OPPmqaUmbmzJnMnj2befPmcebMGf777z8WL17MRx99lHMEX8AR+Au4DiTkLJ+JcVTvPOAM8B/GUcG5+30MLANO5axfAfgDHsX+/gghhLhH6l6CKCqKa9euKZMmTVKqVaum2NraKi4uLkqrVq2UDz74QElJSTFtl5iYqEyePFmpXLmyYmtrqwQFBSnDhg1TwsLClIyMDGXIkCFKUFCQYmdnp1SuXFmZNGmSkpaWZtp/woQJire3twIoM2bMUBRFUX788UclJCREsbe3V9q2bav8/vvvCqAcOnTItN+bb76p+Pv7KxqNRhk5cqSiKOaDQBRFUWJjY5Xhw4cr7u7uiqOjo9KrVy/lzJkzpvWFDUJZvXq1kvfX6ODBg0qLFi0Ue3t7pWbNmsqKFSuU4OBg5eOPPzZtA3ceBAIogGJjY6P4+Pgo3bt3VxYtWqTo9XqzbfMf68UXX1S8vb0VFxcXZfDgwcrHH39slnnGjBlK48aNlS+++EKpXLmy4uDgoDz00ENKbGys2XF/+OEHpUmTJoqdnZ3i6empdOrUyTTQx3jx+ALFOOhDq0DnPBeV/6BAEwXsFPBUoJMCq3LWfZ2zzlkBNwXuU+Cg6hfBy0PdwQBqP29rfwjrpVEURVGx/hRClDO3GYMiyjG13gnk9aQuqQCsl3QBCyGEEEJYGSkAhRBCCCGsjBSAQgghhBBWRgpAIYQQQggrIwWgEEIIIYSVkYmghRBWRYMBb2Lw4QY+3KAS0diRmbNOMXvkXwagR0csXsTgTTSViMGbeDwAGc4qhCg/pAAUQlQIGgxU4yJ1OUk1LpoKvPwPL2LRmW5dVzKyCykKc/8fRlVOUYdT1OEagSV6XiGEuFsyD6AQoljUnrdNRzY1OUs9TlCXk6Z/a3MaJ9LUDXcHibhyhlqmgjD3cZaaZGKvajaZB9A6SQVgvaQAFEIUS1m+YbuSSFt20ZZdNOAY9ThBKOewI6vsQpQBPVouEcIxGrCTdmyjI/tpQZbpvsulTwpA6yQVgPWSAlAIUSyl+YZdmXA6sZUObKc9O2jIfyXeXVtepOHAXlqxjY5soyM7aUcyrqV2PikArZNUANZLCkAhRLGU5Bu2N9F0ZRP3sZFu/EstzpbcwSuYbHQcpZGpINxGR6LwK7HjSwFonaQCsF5SAAohiuVe37AbcpRBrKA/f9CIo2iRP0F3az/N+YWH+YWHOUutezqWFIDWSSoA6yUFoBCiWO7mDbsxhxnECh5hJbU5U/KhBMeozy88zCoe4iiNi72/FIDWSSoA6yUFoBCiWIr6ht2EQ6aiT7p2y9ZZQlnNg/zCw+ylFUWZo1AKQOskFYD1kgJQCFEst3vDbsYBU9EXyvmyCyVu6QpVWMVDfM/j7KflLbeTAtA6SQVgvaQAFEIUS/43bCdSGM5SJvI5DTmmTihRJAdpygKe4AeGkYSb2TopAK2TVADWSwpAIUSx5L5hh3KWiXzOKJbgQYK6oUSxJOPMch7lQ9fXOJlUHZAC0FpJBWC9pAAUQhSdwcD9urVM4jN6sl5G8JZjBjS899VJrjrUYOfPWvb/oUGnLftqTApAdUkFYL2kABRC3FlcHCxcCF9+CRcuqJ1GlICtHr3Y+e8fpq+dbaBJJS1NK2lxsS27qkwKQHVJBWC9bNQOIISwYOfPw7vvwg8/QJpl32dXFM/+hyeYfZ2SDTsiDey+bqCRt5Z2flpc7aQ6E6KikhZAIURBV6/Cm2/C4sWQna12GlHCwnTBfL/zNFpb7S230WmMLYJt/Uq3RVBaANUlFYD1khZAIcRNUVEwaxbMnw8ZGWqnEaVkY8txty3+APQKHLhh4Ei0wVQIOpdh17AQonRJC6AQwniN3/vvo3z6KZqUFLXTiFKUgR1zll9AG+pbrP1stdC0kpY2flqcbEquEJQWQHVJBWC9pAVQCGuWlAQff4zy0UdoEhKKcL8IUd796/9QsYs/gCwD7I0ycDjaQDMfLa19tTiWYCEohChbUgAKYY3S0+HTT1Hefx9NdLQUflbk2Mgn72n/TAPsvm7g4A0D7fy1tPTVopNmPCHKHekCFsLa/P03PP20TOdihU7YNeT33QdK9JiVHKBnkI6qLre/pvBWpHZUl1QA1uvufmOFEOVPZCQMGQK9e0vxZ6W2drm31r/CRKfDj2f1/HEpm5QsqSaEKC+kBVCIis5ggK++wvDyy2gTE9VOI1SSiCuf/XUJra9rqZ3DXgedA4yTSWuK2LQnLYDqkgrAesk1gEJUZEeOoB83Dt3+/dLcb+U21BhWqsUfQIYe1l81cDRWoVeQlgAnedUJYankt1OIiiglBWXqVJTmzdHt3692GmEBzk4YX2bnikxV+O60nr+v6EnPliYmISyRdAELUdH88Qf6p55CFx6udhJhIfY6d+TfbRtVObezDfStqqOGe+HtDdIFrC6pAKyXtAAKUVGkpGAYMQIeeECKP2Fmz/1l1/qXX0o2rLig55+rerINUm0IYSmkBVCICkA5coTshx7CVkb3inyua/xYuPU8Wmc7taPg6wgPhNhQyeFms5+0AKpLKgDrJS2AQpRz6XPmYGjZUoo/UagNjUZbRPEHEJUG357O5lC0Xu0oQlg9GQUsRDmlxMWR9PDDuG3apHYUYaH0aLny7DiLutNLlgH+vmLgYqJCn6o6sKh0QlgPaQEUohzK2LSJ9Fq1pPgTt7XFqy+axlXVjlGoMwkKi05lU625Qe0oQlglKQCFKE8UhaSXX8a2e3cco6PVTiMs3OEhE9SOcFtJWTBuvp6eE/VotHIxmhBlSQaBCFFOGK5fJ/mBB3Dbu1ftKKIcuKCrwbLdJ9DqykcX65mdGn6cpiMjpXzkrSikArBe0gIoRDmQtncvGfXrS/EniuzfduPLTfEHUKudwlNLsvGsLBWJEGVBCkAhLNyNb79F16kTjjExakcR5UQaDkQ9N0LtGMXmVwOe/i6b4MZyXaAQpU0KQCEslD47m4tTp+I1Zgx2GRlqxxHlyMYqg9CGeKsd4664eMHY+Xqa9JUiUIjSJNPACGGBUhISCB8yhFp//aV2FFEOnRzzpNoR7omtPQx+W49PiMKGL7TIVDFClDwZBCKEhYm9fJmEAQOoduSI2lFEOXTUvhlrd+1WO0aJObpew4oZOrIzpAgsDVIBWC/pAhbCgkQcOEB6x45S/Im7tr2Hevf9LQ2NeiqMX6DHxVsqFSFKkhSAQliIi7/9hn2PHlS+ckXtKKKcisOD+OeGqB2jxAU1UHj6u2w8A6UIFKKkSAEohMoUReHUF1/gO2QIXnFxascR5diGWiPQejqpHaNUeAbA+AXZeAdJEShESZACUAgVZWdlcfD99wl+7jmc09PVjiPKufOTnlA7Qqny8Icnvs6mUlUpAoW4V1IACqGS9JQUdr3xBnWnT8cxM1PtOKKc2+nWDU2H2mrHKHXufvDEgmx8QqQIFOJeSAFopbp06cJ3331HWlqa2lGsUmJ0NFtfe41mH3yAkxR/ogTsG1C+p34pDjcfGPdVNr7VpAgU4m5JAWilmjdvzksvvYS/vz9PPPEEu3dXnGkjLF1cZCSbX3+ddl9+ibMUf6IEXNNWJmVCf7VjlCk3Hxj3dTZ+NaQIFOJuSAFopebMmUN4eDjfffcdN27coFOnTtSrV48PP/yQ69evqx2vwoq7fp2tb75J1yVLcJG7e4gS8k/TsWgdrW9ef1dvYxHoX1OKQCGKSyaCFgDcuHGDr776infeeQe9Xk/fvn155pln6Natm9rRKoyEGzfY/MYbdFu4EFcZ8CFKSBY2fPDDObR1K6sdRTUpcbDwKRsizshk0cUlFYD1khZAwd69e5k+fToffvghvr6+/O9//8PX15f+/fvzwgsvqB2vQkiMjmbz22/TddEiKf5Eidrk84BVF38Azp4wbr6MDhaiOKQF0EpFRUWxdOlSFi9ezNmzZ+nfvz/jxo2jV69eaDTGT9H//PMPAwcOJDk5WeW05VtiTAyb33mHTl99hUdqqtpxRAXz4bPryR7RRe0YFiHmCnw50oaUeGkJLCqpAKyXFIBWys7Ojho1ajBmzBhGjRqFj49PgW0SExMZMGAAmzZtUiFhxZAUG8uG99+n8+ef4y2FtChhZ2zrsGrPUbVjWJSwoxoWPCn3Di4qqQCslxSAVmrbtm107NhR7RgVWnJcHOvmzaPVZ58RHBOjdhxRAX3d9SNi50xSO4bFObZRw48v6VAUKQLvRCoA6yXXAFqpKlWqcPbs2QLLz549y6VLl8o+UAWTHB/P2i++oO7ChVL8iVKRghPRLwxXO4ZFanCfQt/nDGrHEMKiSQFopUaNGsXOnTsLLN+zZw+jRo0q+0AVSGpSEuvmzydg6VIaXL2qdhxRQW0IHoo2wF3tGBarw+MG2g7Wqx1DCIslBaCVOnToEO3bty+wvE2bNhw+fLjsA1UQWZmZ/LtkCbpffqG5FH+iFJ0eP17tCBbv/hcM1O0kLYFCFEYKQCul0WhISkoqsDwhIQG9Xj413w2DwcD2n38metUqHjh8GA2QUKmS2rFEBXTQsTVKn6Zqx7B4Wh0Mma0nsK4UgULkJwWglerYsSOzZ882K/b0ej2zZ8+mQ4cOKiYrnxRF4cC6dZxYsYJB+/Zhk52NY0oKzvHxRAcGqh1PVDA7+1jPfX/vlZ0jjJynxyOgPI52WAJ45Fv2NRCE8e17btnGsTAzZ86kSZMmascot6QAtFLvv/8+//77L7Vr12b06NGMHj2a2rVrs3XrVj744AO145U7p3btYuePP/Lwnj04p6SYlttkZ+MdHs714GAV01me2UBLwBXwBQYCp/NtowAzgcqAI9AFOH6H4x4HHgZCAA2Fvz3+gPHt0wt4Md+6S0AtIPGOz0A90RpvEqcMUjtGueJaCR57T4/WprSKwPkYX83ZeZYlA7ZA/tkWtmF8dZ65i/MkApOAaUA4YBmXAfzyyy+0bt0ad3d3XF1dqV+/PlOnTlU7lrgDKQCtVL169Th69CiPPvooUVFRJCUlMWLECE6dOkWDBg3UjleuXDt7liXTptF63Tr8o6IKrNcAfpcvExUUhF6nK/uAFmgLMBHYDWzA+LbZE0jJs837wEfAZ8A+wB/oARS8cOGmVKA68G7O9vlFA+OAD4G/gW+BP/OsfypnX7fiPqEytKHuSLSu9mrHKHeCGij0nlxaXcFdMRZ8+/Ms24bxVbgP4ysz12aMH2tq3cV5woAsoB8QADgVsk3WXRz37v3zzz8MGTKERx55hL1793LgwAHeeecdMjMzyzRHYSwhgyWTAtCKVa5cmVmzZvHnn3+ycuVKpk+fjpeXl9qxypXE6GjWf/MNbWJiaBMXd9ttfa9cIdHbm3Snwv5oW5e/gFFAfaAxsBjjW9uBnPUKxta7V4GHgAYYi7VU4MfbHLcl8AEwBCisRLoAuAODc7btCpzIWfcjYJdzPktlQMOlKZbR6lMetR9moE7H0igCa2Ms6jbnWbYZGADUAHbmW9415/9xwAjAE2Mx1wcoOD2X0RKgYc7/q2P8aHkJYzt5E2BRznJ7jL9BfwEdMHYhewP3A+fzHO8SoGH58uV07NgRR0dHWrZsyZkzZ9i3bx8tWrTAxcWF3r17c+PGjVs+8zVr1tChQwdefPFFateuTa1atRg4cCCffvqp8SyXLqHVatm/f7/Zfp9++inBwcEoisLmzZvRaDRs3LiRFi1a4OTkRLt27Th92rxf4N1338XPzw9XV1fGjh1Ler7bao4aNYqBAwcye/ZsKleuTK1axiL7v//+o1u3bjg6OuLt7c348ePN7nCVu9+sWbPw8/PDw8ODN954g+zsbF588UW8vLyoUqUKixYtMjtfeHg4gwcPxtPTE29vbwYMGFCuplGTAtCKxcfHs379er7//nu+++47s4e4s8z0dP5ZvJi0gwe5/9y5Iu3jGRWFXqcjUQptMwk5/+Z+Vy4CkRhbBXPZA50xfystrpoYi8hDQCzGtplGOf+fjrG10ZJt9+iJpmV1tWOUW1otPDJTj5tvaXQFdwHy3jVpU86yznmWZwK7uFkAjsLYavh7znIF6EvhrXiDgX9y/r8XiMB4MQPAOWA58AtwOGdZCvA8xlf5Roxv9w8C5gXwjBkzeO211zh48CA2NjYMHTqUl156iXnz5rFt2zbOnz/P9OnTb/ms/f39OX78OMeOHSt0fUhICN27d2fx4sVmyxcvXsyoUaNMtx4FePXVV5kzZw779+/HxsaGMWPGmNYtX76cGTNm8M4777B//34CAgL44osvCpxv48aNnDx5kg0bNrBmzRpSU1Pp3bs3np6e7Nu3jxUrVvDPP/8waZL5BOr//vsv165dY+vWrXz00UfMnDmT+++/H09PT/bs2cOECROYMGECV65cASA1NZWuXbvi4uLC1q1b2b59u6lgLi8tj3InECv1xx9/MGzYMFJSUnB1dTX7JdRoNMTGxqqYzvIZDAY2LV3K3tWrGbdnDz6RkcXaP8vWlkQfH7yvXSulhOWHgrGdJA5jpxkYi7z2GK9yqpxn2/HAZYzdt3cSAjyb88hrNcZiLw14HGP7yRiMLZFNgSkY335nAo8U54mUgY/HriJj4v1qxyj3Lh7SsOAJHYqhJO8UsgB4DojH+OrywvgK3gR8AuwAtmIsCM8DeozdwDuAdjnHiMFY1H0LDMLY6vdszjHBWNw1xfgRKSRn2UxgVs65Ct7S86YbGK+4/Q9jm/oloBrffPMNY8eOBWDZsmUMHTqUjRs30q1bN8DY6rZkyRJOnTpV6FFTUlJ49NFHWbt2LcHBwbRp04aePXsybNgw7O2N7fDLly9nwoQJREREYG9vz5EjR2jatCkXLlwgJCSEzZs307VrV/755x/uu+8+ANauXUu/fv1IS0vDwcGBdu3a0bhxY7788kvTudu0aUN6erpp6rJRo0bx119/ERYWhp2dnfGnsmAB06ZN48qVKzg7O5uO3b9/f65du4afnx+jRo1i8+bNXLhwAa3W2C5Wp04dfH192bp1K2AcJOnu7s4333zDkCFDWLRoEe+//z4nT540vX9mZmbi4eHBr7/+Ss+eeT++WiZpAbRSU6dOZcyYMSQlJREfH09cXJzpIcXfnR3ZuJEDa9fSKzy82MUfgG1WFp7XrsngEIyXtB8FfipkXf63Z6WQZcX1IMa3wHMY3zo353z9BMau47kY21HGAgWv6FRPmC6YtPF91Y5RIVRrqtB9Qkl3BXfF2Oq2D+NHmVoYC67OOctSML7aqmLsqj0J2ACt8xzDG2N38slinjuYgsXfeeCxnHO5AdVyloeZbdWoUSPT//38/ABo2LCh2bKoQq5tzuXs7Myff/7JuXPneO2113BxcWHq1Km0atWK1FTjtY8DBw7ExsaG1atXA7Bo0SK6du1KSEjILbMEBAQAmM598uRJ2rZta7Z9/q9zs+cWf7n7NW7c2FT8AbRv3x6DwWDWxVy/fn1T8Zf7vPN+H3Q6Hd7e3qY8Bw4c4Ny5c7i6uuLi4oKLiwteXl6kp6dz/nzernbLJQWglQoPD+eZZ57BSa5HK7Zr586xY/lyqicn0+TAgTvvcAtacgaHVK2KXmudv4qTMXZ+bQKq5FmeO4Ajf2kdBfiV4PkzgKeBrzAWhNkY365rY3z73lOC57pXG1uOQ2trna+T0tBltIEarUqyCAzF+CrelPPonLPcH2PxtSNnebec5bfqfLubjznOhSzrj7FFcQHGV3Luq9m8e9LW1tb0/9yWrPzLDIY7f59q1KjBuHHj+Oabbzh48CAnTpzg559/BsDOzo7hw4ezePFiMjMz+fHHH826d2+XpSjnzitvoQfGKbry9nDllXd53nPnritsWW4eg8FA8+bNOXz4sNnjzJkzPPbYY8XKrBb5a2KlevXqVeCiXHFn6SkpbP7+e7Ju3KDPjh1oS+AKCt+wMBJ8fMhwcCiBhOWDgrHlbxXwLzfbJnJVw/i2uSHPskyMo4fbUXLewnjZfTOMHXJ5J/HIyllmCTKwI+L50WrHqFC0Ohj8th4Xr5K8Cqorxla+zRiv/8vVGeOFC7u5ef1fPYyvuLwfM2IwTg9T9x5zxGBsRXwNuC/neLcfpFaSQkJCcHJyIiXPlFjjxo3jn3/+4YsvviArK4uHHirecKu6deuye/dus2X5vy5MvXr1OHz4sFmWHTt2oNVqTYNE7kazZs04e/Ysvr6+hIaGmj3c3cvHLRpt1A4g1NGvXz9efPFFTpw4QcOGDQt80nnggQdUSma5FEVh96+/cunoUYaeOYNzQsKddyoir+vXSXZ3J8vBAZf4+BI7rqWaiHHU7W8YZ0/LbelzxzjnnwbjlU+zMA7cqJnzfyeMnVq5RgCBGOcVBGOReCLP/8MxXjXlgrF9Jq/jwM/cvGS+DsZPxAsxFp+nMI4UtgT/+j+INtRX7RgVjmslGPyOnkVP61CUkrgesCvGV3cWN1sAyfn/U0A6NwvAmhivfn0CYxu0K/Ayxlf0gHvM4YmxO/lrjNPFhOUcu+TNnDmT1NRU+vbtS3BwMPHx8XzyySdkZWXRo0cP03Z169alTZs2TJs2jTFjxuDo6Fis80yZMoWRI0fSokULOnTowA8//MDx48epXv32g6KGDRvGjBkzGDlyJDNnzuTGjRtMnjyZ4cOHm7q878awYcP44IMPGDBgAG+++SZVqlQhLCyMVatW8eKLL1KlSpU7H0RlUgBaqSeeeAKAN998s8A6jUYjt4MrxLkDBziwbh2tk5KodrK41+jcmUtCApn29sT4++N9F9cVlie5l3F3ybd8McZxkQAvYbyU/mmMbRetgfUY3yZzhWHejXEN4yXyuT7MeXTGfIIOBeOAko+52XnmiPGS+4kYu4Y/w/hWbAmOjZygdoQKK7S1QtshBnb+VBJzdHbF+Kqtg/nFCp0xzmBZg5sjd8H4ip+CcYqWTKATsBbjBNL3QgssA57BOOCjNsaBKF3u8bgFde7cmc8//5wRI0Zw/fp1PD09adq0KevXr6d27dpm244dO5adO3cW2v17J4MHD+b8+fNMmzaN9PR0Hn74YZ566in+/vv2Q8KcnJz4+++/mTJlCi1btsTJyYmHH36Yjz76qNgZ8h9369atTJs2jYceeoikpCQCAwO57777cHOz5JlEb5JRwEIUQWJ0NCtmz8Zw9iwj16/HLiOj1M5l0Gi4ERSEX1jYnTcWFd4Ju4b8vvvurzUVd5aRCnMH2RAfUZKjgsuHsqwA3nnnHZYtW8Z///1XdicVtyTXAApxB3q9nq0//UTk+fMMOHSoVIs/AK2i4BcWxvWqVTHc4uJlYT22dpH7/pY2eyd48DXp9SgtycnJ7Nu3j08//ZRnnnlG7Tgih3QBW7GUlBS2bNlCWFhYgYkr5Zf0pv82beL4tm10TknB9+rVMjuvX1gYMQEBuMbGlnrRKSxTIq7EPj9UPqmXgVptFZrdb+DgGvlul7RJkybx008/MXDgwLvq/hWlQ7qArdShQ4fo27cvqamppKSk4OXlRXR0NE5OTvj6+nLhwgW1I1qEyIsX+eW999AlJTFq9Woc0tLKPEOipyc6vR7nxMQyP7dQ1y81JnB2xSdqx7AaqfHw8SM2JMdaT8u7VADWSz7qWKnnnnuO/v37Exsbi6OjI7t37+by5cs0b96cDz/8UO14FiEjLY3N339PYnQ03c6cUaX4A3CLi0OXlUXcPYxYE+XT2Qly39+y5OQBfZ+XrmBhHaQAtFKHDx9m6tSp6HQ6dDodGRkZBAUF8f777/PKK6+oHc8i7P/zTy4ePkx9FxdC72HC55LgkJaG240bRAUF3XljUSHsde4I9zVQO4bVadpXoVrzkr5LiBCWRwpAK2Vra2uaBd3Pz4+wnBGn7u7upv9bs+uXLnHgr79wq1SJths3lsiEz/dKZzDge+UK14ODZXCIFdhzv7T+qWXA//RobdT/nReiNEkBaKWaNm1quhNI165dmT59Oj/88APPPvus2f0PrZFer2fX6tWkxMXRLDISnzIc+FEUfpcvExMQQJbtvc4VJizVdY0fSZMeVDuG1fKrDh0fl1ZAUbFJAWilZs2aZbrZ9ltvvYW3tzdPPfUUUVFRfP311yqnU9fZffs4s2cPVfz9abJxo9pxCuVz7Rqpbm6kurreeWNR7mxoNBqts92dNxSlptsTBtz9pRVQVFwyCliIPNKSk/n5rbeIvnqV/ufOUXvvXrUj3VaakxMZzs543LihdhRRQvRoeX/xGTSNq6odxeod+F3DypkVe7Y0qQCsl7QACpHHob//5trZs9RycqLmvn1qx7kjx9RUXGJjuVEO7jspimaLV18p/ixEk74KPtWkQhIVkxSAVur69esMHz6cypUrY2NjYxoNnPuwRjfCwowDP3x8aLN+vUUM/CgKG70en6tXuR4cTPlILG7n8BC576+l0NlAj6dkWhhRMVXstm1xS6NGjSIsLIzXX3+dgIAA04hga2UwGNi1ahVJMTG0dXDAtxyOhPa7fJkbVargGRmJTXa22nHEXbigq0H66B7yydyC1O+mULmuwrWT1v03UlQ8UgBaqe3bt7Nt2zaaNGmidhSLcG7/fk7v2YNftWo0XL5c7Th3zefqVeJ9fHBITcUhJUXtOKKY/m03Hq1OCg1LotVCr4l6Fk+St0tRscgHTSsVFBSEjP8xSk9JYdfq1Wg0GqpFRVHJwqZ9KS6PGzcwaDQkeHurHUUUQxoORD03Qu0YohC12imENJNpYUTFIgWglZo7dy4vv/wyly5dUjuK6g7/8w/hp0/jW60aDbZuVTtOiXBKTsYpIYHowEC1o4gi2lhlENoQKdotVc+JUgCKikXatK3U4MGDSU1NpUaNGjg5OWGbb1Lh2NhYlZKVreS4OI5s2ICLpyeBV6+Wy2v/bsU2Oxvv8HCuBwfjd/my2nHEHZwY86TaEcRtVGuqULu9gdM7pN1EVAxSAFqpuXPnqh3BIhzbupWYa9eoWr8+DZYuVTtOidNgHBwSFRSE97Vr6PQyotESHbVvhmFgK7VjiDvo8bSe0zs0GH+zhCjfpAC0UiNHjlQ7guqS4+NNrX9+V69W6FYy3ytXiPP1xSkpCfu0NLXjiHy295D7/pYHgXWhYQ+F/zZIASjKP2nLtlKJiYmFPpKSksjMzFQ7Xpk4sW0bMdeu4Vm5Mg23bFE7TqnzjIoi28aGJE9PtaOIPOLwIP65IWrHEEXUeZS0oouKQQpAK+Xh4YGnp2eBh4eHB46OjgQHBzNjxgwMhop54XNKQgKHN2zA2cMDv/Bw/C9eVDtSmXBOSsI+JYWYnPtAC/VtqDUCraeT2jFEEQXWheAmFfPvorAuUgBaqSVLllC5cmVeeeUVfv31V1avXs0rr7xCYGAgX375JePHj+eTTz7h3XffVTtqqTi5Ywcx4eF4BQbSsIKM/C0qu8xMPCMiuF5VbjdmCc5PekLtCKKY2g2RAlCUf3INoJX69ttvmTNnDo8++qhp2QMPPEDDhg356quv2LhxI1WrVuWdd97hlVdeUTFpyUtNTOTQ33/j6OZGpagoAs6fVztSmdMCfmFhXK9aFZ+rV9FW0JZeS7fTrRuaDrXVjiGKqX5XBTdfhcQouRZQlF/SAmildu3aRdOmTQssb9q0Kbt27QKgQ4cOhFWgaVFyndyxgxtXruAdGEjogQNqx1GVX1gY8b6+ZDo4qB3FKu0bIFO/lEc6W2gzSD40ifJNCkArVaVKFRYuXFhg+cKFCwkKCgIgJiYGzwo2YCA1KYlD69fj5OaGncFAyH//qR1JdV6RkWQ6OJDs7q52FKtyTVuZlAn91Y4h7lLLhwzY2MndlET5JV3AVurDDz9k0KBBrFu3jpYtW6LRaNi3bx+nTp1i5cqVAOzbt4/BgwernLRkndq5kxthYVSpW5eQo0extZIRz3fiEh9PhoMDsf7+eEVGqh3HKvzTdCxaR/kTXF65eEKjXgoH/5BuYFE+aRS5IazVunTpEvPnz+fMmTMoikKdOnV48sknCQkJUTtaqcjKyGDpa6+REBWFX7Vq9FqwAO9r19SOZVH0Gg0xQUEV6o4oligLGz744RzaupXVjiLuQfhJ+GyY7Z03tGBSAVgv+fhpxUJCQirsKN/CXPrvP26EheFfvToekZFS/BVCpyj45g4OuXIFrbw7lIpNPg9I8VcB5E4Jc/mwXE0lyh951Vqxbdu28fjjj9OuXTvCw8MBWLp0Kdu3b1c5WclTFIVTO3eiGAzY2ttb/eCPO/ELCyM2IIAsOzu1o1RIR4dNUDuCKCEyJYwor6QAtFK//PILvXr1wtHRkYMHD5KRkQFAUlISs2bNUjldyYuNiODikSN4+Pujy8qSwR9FUOnaNdKcnUlxc1M7SoVyxrYO2SO6qB2Diwe28e2UgczqGcz/mtlxfNNvZuuTYq6zYsZYZvUMZno7dxZNvJ/osLO3PebXT3Tnf83sCjyWPDPAtM2htT/ybp/qvNnFj7Ufv2y2f9y1S3w4sB7pyYkl90RLWf2uCi7e0lIuyh8pAK3U22+/zfz581mwYAG2tjevYWnXrh0HDx5UMVnpOH/gAMmxsbh6eRF87Bh2OQWvuD23uDh0WVnE+fqqHaXC2NzBMu77m5meQkCtRjwwbW6BdYqisPT5R4i9epHhH//C5B/34hlQlYUT+pCZlnLLYz7+4XJeWR9mejy74hBanY6G3R8GICUumlVvTaDvs+8y+vM/ObhmKae2rTXt/+usyfSe/A4OLuXnQ4fOFhp2l1ZAUf5IAWilTp8+TadOnQosd3NzIz4+vuwDlaKsjAyObd2Ko7s7Go2G0ApY4JYmh7Q03KKjicqZHkjcvRSciH5huNoxAKjdvjc9J75Jg/seLLAuOuwsV/7bw8BXPiWofgt8Qmoz4H+fkpGWzJG/fr7lMZ3cvXCt5G96nN29EVsHJxr2MBaAseEXcXBxp1GvRwmq34LqLToTdeEkAIfX/YTO1rbQPJauYU9pARTljxSAViogIIBz584VWL59+3aqV6+uQqLSc/nYMaLDwvD098f9+nUqXb2qdqRyR2cw4HvlCteDgzEg017crQ3BQ9EGWP58i/pMYwu5jd3NCcK1Oh02tnZcOryjyMfZ/9tiGvV8FDtHZwAqVQ0lKz2Va6cOkZoQy9UTB/Cv2ZDUhFg2fPkmD0ybV7JPpIwENzbeGUSI8kQKQCv15JNPMmXKFPbs2YNGo+HatWv88MMPvPDCCzz99NNqxytRp3btwmAwYOfgQLUjR9SOU675Xb7MHlqRgpPaUcql0+Mto/v3TnxC6uAREMzfn71GWmIc2VmZbF78PknRkSTdKNo8kVeO7eP6ueO0fHCMaZmjmyeD3ljI8ulj+Hx4e5r1G0atdj1Z+/E02g15mrjwS3wytCVzBzXhv39+Ka2nV+K0WmjYQ7qBRfki08BYqZdeeomEhAS6du1Keno6nTp1wt7enhdeeIFJkyapHa/ExEZEcOHQITz8/AAIOn1a5UTlX1v2cJLaeJBAADJpdFEddGyN0qfg7Rctkc7Wlsc/+Jlf3hzPm1380Op01Gh1H7Xa9y7yMfb/uhi/0PoENWhptrx+t4HU7zbQ9PWF/VuIPHeMB6bN48MBdRkyeymu3n58PqI91Zp1xMWrfFx/2qinwo4f1E4hRNFJAWiF9Ho927dvZ+rUqbz66qucOHECg8FAvXr1cHFxUTteiTp/4ADJcXEEV6mC240buMbGqh2pQqjLaSLx5Th1qc9JteOUCzt7l6/7/gbWa8Yzy/aTnpRAdnYmLp4+fD6iPVXqNr/jvplpqRxZv5weE2bcdrvszAx+mz2ZR9/+lpgr5zDos6ne3HhtcqWqNbny317qdr6/RJ5PaavaUMEjQCE+Qi6REOWDdAFbIZ1OR69evUhISMDJyYkWLVrQqlWrClf8ZWVmcnzrVhxdXdFoNFQ5dUrtSBWKP1FU4yI7aaN2FIsXrfEm8ZlH1I5xVxxc3XHx9CE67CzhJw5Qt8ud71/834aV6DMzaNL3sdtu9++Cd6jVvjeBdZuiGPQY9NmmdYbsLAwG/T3nL0uNeko3sCg/pAC0Ug0bNuTChQtqxyhV4adPE5Uz+AOginT/ljgn0mnDbjbRWe0oFm1D3ZFo3R3uvGEZykhN5trpw1w7fRiAuPBLXDt9mPgI420A/9uwkgv7txB79QInNv/Owqf6Uq/LA9Rq28N0jOWvj+avT18tcOz9vy6mXpcHcPbwvuX5r58/ztH1K+nxlLGV0CekDhqtln2/LubUtrXcuHSaKvVblOAzLn1SAIryRLqArdQ777zDCy+8wFtvvUXz5s1xdnY2W+9WASb/vXLiBNmZmdg5OuKQlIR3zt1ORMnSAl3Zwg7a0oxDOJKudiSLYkDDpSnjLW7sdPiJAywYf7OY+/OjFwFo1n84g95YSGJ0JH9+9BLJMddxrRRA0/uH0e0J82IvPvIKGq15O8KNy2e4dHgHY75Yy60oisLqt5+m39QPTCOEbR0ceWTmN/z+7hSyszJ4YNo83H0DS+rplonAuuAdpBBzxdJ+2kIUpFEUudmnNdLm+aOt0dz8Y6UoChqNBr2+fHW95KfPzmbpK68QHxWFb0gINQ4coPWaNWrHqvD+oz5+ROHLDbWjWIytHr3Y+e8fascQZWT951o2LdSpHaPIpAKwXtICaKU2bdqkdoRSdf3SJWIjIkyjf6X7t2w05DhXqcxpalGbM2rHsQgHHi5fgz/EvanXVWHTQrVTCHFnUgBaIUVRqFy5MllZWdSqVQsbm4r3Mgg/fZr0lBTsnZ2xyczEv4Jf72hJqnCNJJzZQytas1ftOKoK0wWTNr6vXGxtRSrXVnBwVUhPkm5gYdnk75KVuXTpEk2aNKFOnTo0bNiQ0NDQCnfvX0VROH/gAPZOTmg0GgLOnUNXzru0yxtXUmjBPjZb+eCQjS3HobWVP7PWRKuD6s2lX1VYPvnLZGWmTZtGeno6S5cuZcWKFQQEBDBhwgS1Y5Wo2IgIrl+8iKu3cQSidP+qQ4dCF7awlQ5kYqt2nDKXgR0Rz49WO4ZQQY2WUgAKy1fx+v7EbW3bto2ffvqJzp2NLTOtWrUiODiYtLQ0HB0dVU5XMq6eOkVqYiKVqlYFRSHg7Fm1I1m1TmznMI0I4ireWM9E3P/6P4g2tHzcxUKUrOotDED5GQgirJO0AFqZyMhI6tSpY/q6SpUqODo6cv36dRVTlayLR46gs7FBo9HgFh2NQ1qa2pGsXhOOkoQL56iudpQyc2xkxWpZF0XnWwOcPaUVUFg2KQCtjEajMZsCBoxTwlSU2YCS4+K4evIkrpUqAVDpyhWVE4lcIYRRiWj2c+dbiZV3J+waoh/cXu0YQiVaLVRvUTH+poqKSwpAK6MoCrVq1cLLy8v0SE5OpmnTpmbLyqurp0+THBuLi6cnAJWuXlU5kcjLg0SacIgtdFI7Sqna2kWmfrF2ch2gsHRyDaCVWbx4sdoRStWVEycA0OVMbSMFoOWxwUBntrKFjrRjF7Zk33mnciQRV2KfHyqfrq1cjZZyHaCwbFIAWpmRI0eqHaHUGAwGrp46hWPObexs09NxvyF3pLBUndnGfpoRynk8SFA7TonZUGMYWl9XtWMIlVUKBjcfhcQbMh+gsEzyIVVUGAlRUSRGR5sKwEpXr1rc/VeFuRYcJAYvLhGsdpQSc3bCeLUjCAtRo5V0AwvLJQWgqDCir14lLSkJJ1dj64t0/5YPNbiIGwkcorHaUe7ZXueOcF8DtWMICxHcRApAYbmkABQVRvSVKygGA1qd8bobKQDLDy/iqc9xttJB7Sj3ZM/90vonbvIPlQJQWC4pAEWFEX76NLYODsYvFAVvKQDLFTuy6cR2NtMZfTn803Rd40fSpAfVjiEsiF8NBZAiUFim8vdXVohCpKekEHX5Mk451/+537iBXUaGyqnE3ejCFvbTnCRc1I5SLBsajkbrbKd2DGFBHFzAI0DtFEIUTkYBW6nnn3++0OUajQYHBwdCQ0MZMGBAuZkTMPrqVVITEqgUFARI929515p9nKYmzqRShXC149yRHi1Xnhsng45EAf41FeIj5JUhLI8UgFbq0KFDHDx4EL1eT+3atVEUhbNnz6LT6ahTpw5ffPEFU6dOZfv27dSrV0/tuHcUc/UqWRkZpi5gj8hIlROJe1Wbs0RRif9oQEOOqR3ntrZ49UXTuKraMYQF8g9VOLVV7RRCFCRdwFZqwIABdO/enWvXrnHgwAEOHjxIeHg4PXr0YOjQoYSHh9OpUyeee+45taMWSeTFi2i0WjQa4ydt17g4lROJkuBLNDU5ww7aqR3ltg4Pkfv+isLJQBBhqTRKRbkJrCiWwMBANmzYUKB17/jx4/Ts2ZPw8HAOHjxIz549iY6OVill0RgMBpa89BJJsbH4VDW2wvT/9FNcY2NVTiZK0mY604mtaC3sovoLuhos230CrU66+URBkedg3qO2ase4JakArJe0AFqphIQEoqKiCiy/ceMGiYmJAHh4eJCZmVnW0Yot/vp1kmJiTANANAYDTvHx6oYSJa4LW9hNa1JwUjuKmU1tn5DiT9xSpWDQ2UiVJSyPFIBWasCAAYwZM4bVq1dz9epVwsPDWb16NWPHjmXgwIEA7N27l1q1aqkbtAjir18nLTkZh5wJoJ3j49EZDCqnEqWhHbu5TFUi8Fc7CgBpOHD9+Yp7e0Vx72xsoVKI2imEKEgKQCv11Vdfcd999zFkyBCCg4OpWrUqQ4YM4b777mP+/PkA1KlTh2+++UblpHeWFBsLioIuZwJo6fqt2OpxCgU4SR21o7CxyiC0Id5qxxAWTq4DFJZIRgFbKRcXFxYsWMDHH3/MhQsXUBSFGjVq4OJyc+61Jk2aqBewGJJjY82uCnORArDCq0wk7iSwiza0ZbdqOU6MeVK1c4vywzghtBCWRQpAK+fi4kKjRo3UjnFP4iIi0NncfClLC6B1cCaN1uxmM53pwpYyP/9R+2YYBrYq8/OK8sfNRwpAYXmkALRSKSkpvPvuu2zcuJGoqCgM+a6Zu3DhgkrJii/m2jXsHB1NX8sUMNZDi3FwyHba0YIDOFB2d3/Z3kPu+yuKxrWS2gmEKEgKQCs1btw4tmzZwvDhwwkICDDNn1feZKSlkRIXh32eAlC6gK1PB3ZylAYEEIkPpT9tURwexD83RC6iFkXiWklaAIXlkQKwAtm8eTNdu3YlLi4ODw+P2267bt06/vzzT1599VWaNGnC3LlzyyRjSUuOjSUjLQ23SjkfsRUFF2kBtEqNOMYVAjlDKLU4V6rn2lBrBFpPy5qORlguaQEUlqjCfoDVaDS3fYwaNUqVXFOmTKF58+bY29sXeZBFSEiIKbejoyMhISE8+uij/Pvvv2bbtWvXjoiICNzd3e94TE9PzxK7z++SJUvuWHCWlqTYWDLT0kxdwE6Jiej0elWyCPUFEY4/keylZame5/ykJ0r1+KJicfIArcwFKCxMhS0AIyIiTI+5c+fi5uZmtmzevHmq5FIUhTFjxjB48OBi7ffmm28SERHB6dOn+e677/Dw8KB79+688847pm3s7Ozw9/cvUnfuW2+9xfTp0wtc+1feJMfGYjAYTINAHJKTVU4k1OZGMs3Zz2Y6l8rxd7p1Q9OhdqkcW1RMWi24lMznbSFKTIUtAP39/U0Pd3d3NBoN/v7++Pn50aFDBxYsWGC2/bFjx9BqtZw/fx4wtiB++eWX9OnTB0dHR6pVq8aKFSvM9gkPD2fw4MF4enri7e3NgAEDuHTp0m1zffLJJ0ycOJHq1asX6/m4urri7+9P1apV6dSpE19//TWvv/4606dP5/Tp04CxC1ij0RCfcxeMmJgYhg4dSpUqVXBycqJhw4b89NNPAMyZM4e///6bHTt2sHTpUnx8fLCxscHGxgZ/f3/y3iEwMzOTl156icDAQJydnWndujWbN282nXP06NEkJCSYWilnzpx5x/0ALl++TP/+/fH09MTZ2Zn69euzdu3aYn1fkmJjyVvu2qelFWt/UTHpUOjCFrbSgUxK9jZc+wbI1C+i+Fy9pQVQWJYKWwDeikajYcyYMSxevNhs+aJFi+jYsSM1atQwLXv99dd5+OGHOXLkCI8//jhDhw7l5MmTAKSmptK1a1dcXFzYunUr27dvx8XFhd69e5fZ7dOmTJmCoij89ttvha5PT0+nefPmrFmzhmPHjjF+/HiGDx/Onj17GDhwIFOnTiUoKIjk5GRq1KjBU089xYABA4iNjTWbAHr06NHs2LGDZcuWcfToUQYNGkTv3r05e/Ys7dq1K9DC+sILL9xxP4CJEyeSkZHB1q1b+e+//3jvvffM5iEsirjISLQ5E0AD2EkBKPLoxHaOU49YPEvkeNe0lUmZ0L9EjiWsi6uP2gmEMGd1BSAYC5PTp0+zd+9eALKysvj+++8ZM2aM2XaDBg1i3Lhx1KpVi7feeosWLVrw6aefArBs2TK0Wi3ffPMNDRs2pG7duixevJiwsDCzVq7S5OXlha+v7y1bHQMDA3nhhRdo0qQJ1atXZ/LkyfTq1YsVK1YwY8YMZsyYQUhICDVq1GDXrl18+umn/PLLLzz//PN8/PHHAJw/f56ffvqJFStWmArkF154gQ4dOrB48WLs7OzMWlj9/f1xcXG5434AYWFhtG/fnoYNG1K9enXuv/9+OnXqVKzvQWx4uNkUMPapqXf3zSxls4GWgCvgCwwETufbRgFmApUBR6ALcPwOx10FtAA8AGegCbA03zY/AEGAF/BivnWXgFpAYlGeRDnVlCMk4soFqt3zsf5pOhato4ydE8UnA0GEpbHKv2QBAQH069ePRYsW0apVK9asWUN6ejqDBg0y265t27YFvj58+DAABw4c4Ny5c7jm3H82V3p6uqkbuSwoinLLa/70ej3vvvsuP//8M+Hh4WRkZJCRkYGzs7PZdm3atDE7Rtu2bZkzZw56vZ6DBw+iKEqBewJnZGTg7X3rW2AVZb9nnnmGp556ivXr19O9e3cefvjhYk1KbTAYSElIwMbe3rTMUruAtwATMRaB2cCrQE/gBMbCDeB94CNgCcai7G2gB8ZC0fxVdpNXzrHqAHbAGmA0xiKzFxANjMs5ZnWgH8bCsl/O/k8B7wJu9/4ULVoIYcTjxgGa0ZyDd3WMLGy4+vxY6/zULO6Zm0wFIyyMVRaAYJwHb/jw4Xz88ccsXryYwYMH4+R052kdcgslg8FA8+bN+eGHHwps4+NTNm39MTEx3Lhxg2rVCm/ZmDNnDh9//DFz586lYcOGdOrUia5du5KZmYmnpycajYakpCR27drFr7/+atovbxe2wWBAp9Nx4MAB0712c92uu7Yo+40bN45evXrx559/sn79embPns2cOXOYPHlykZ5/Vno62ZmZZncBsdQu4L/yfb0YY5F2AOiEsfVvLsZi7qGcbb4F/IAfgVtdddYl39dTcvbbjrEAvAC4A7lDjrpiLDr75RzXLs/5KjoPEmnEEbbQkc5sK/b+m3weQFu3cikkE9ZAWgCFpbHaArBv3744Ozvz5Zdfsm7dOrZu3Vpgm927dzNixAizr5s2bQpAs2bN+Pnnn/H19cXNTZ32k3nz5qHVahk4cGCh67dt28aAAQN4/PHHAZg7dy6zZ8+mXr16pnn/Zs+eTVJSErNmzTLtt2LFCi5cuIBOp6Np06bo9XqioqLo2LFjoeexs7NDn2/qlaLsBxAUFMSECROYMGEC//vf/1iwYEGRC8CMtDT02dnY5ukCtimj6y/vVULOv7kDAy8CkRhbBXPZA52Bndy6AMxLAf7F2GL4Xs6ymkAqcAgIBvYBY4BYYDqw6a6fQflki57ObGMznejADmwo+pRBR4fJ4A9x9+wcpQVQWBar7c3Q6XSMGjWK//3vf4SGhhbo7gVjIbRo0SLOnDnDjBkz2Lt3L5MmTQJg2LBhVKpUiQEDBrBt2zYuXrzIli1bmDJlClevXr3lec+dO8fhw4eJjIwkLS2Nw4cPc/jw4TsOHElKSiIyMpIrV66wdetWxo8fz9tvv80777xDaGhoofuEhoayYcMGdu7cycmTJ9m5cyfXr183jfDt1asX/v7+JCYmcuTIEdq0aYOdnR2bN29mypQpANSqVYthw4YxYsQIVq1axcWLF9m3bx/vvfeeacRuSEgIycnJbNy4kejoaFJTU4u037PPPsvff//NxYsXOXjwIP/++y9169a9w0/upozUVPRZWdjY3hzlaVsOCkAFeB7oADTIWRaZ869fvm398qy7lQTABWNrXj/gU4xdxwCeGFsERwCtcv7tBbwATMZYeDbNybHyrp5N+dSFrRyiCQlF7Pw+Y1uH7BFdSzmVqMi0VtvcIiyVVb8kx44dy6xZswoM/sj1xhtvsGzZMp5++mn8/f354YcfqFevHgBOTk5s3bqVadOm8dBDD5GUlERgYCD33XffbVsEc2/Bliu3RfHixYuEhITccr/p06czffp001x/bdq0YePGjXTteus3pddff52LFy/Sq1cvnJycGD9+PAMHDiQhIYGnnnrKNKJ5xIgRpKWl0apVK3Q6HZMnT2b8+Jv3OV28eDFvv/02U6dOJTw8HG9vb9q2bUvfvn0B4wTUEyZMYPDgwcTExDBjxgxmzpx5x/30ej0TJ07k6tWruLm50bt3b9Pgk6LITEsjOyvLrAu4PLQATgKOYuymzS//1ZxKIcvycwUOA8nARozFZXVudg8/mPPItRn4D/gMCAV+AvwxFoidMHZNW4OWHOAcNYjHg2DCbrvt5g5y319xb3RW/W4rLJFGyTvhm5XZsWMHXbp04erVq/j5mbe9aDQaVq9efcvu1fKua9euTJkypVw/v4tHjvDz229TpW5dtFpjY3b3xYvxDbv9m7maJgO/AlvBbEzqBaAGcBBji1yuARhH+H5bjHOMA64AfxeyLiPn+N9j/PTXHYjKWdcSY7ewtU1yEo0XV6lCE44Wuj4FJ+b9eRltwJ3vsCPErZzYomHpc5ZXBVpvBSAs79VYBjIyMrhy5Qqvv/46jz76aIHizxo8/fTTTJ06latXr9K8efMCI4OLMxpXLVkZGSgGg6n4A8ttAVQwFn+rMbbA5R+2Uw1jK9wGbhaAmRhHD79H8SgYC73CvAX0AZphvC4wO8+6LCjGFXEVRyVicSWJbXSgYyHtshuCh0jxJ+6ZtAAKS2OVL8mffvqJsWPH0qRJE5YuzT9rmnXIvRXdM888Y1qm0WhM08rkH9RhibIzMyHfFDi67OxbbK2uiRhH3f6Gscs297o+d4xz/mmAZ4FZGAdu1Mz5vxPwWJ7jjAACMc4rSM6/LTC2HmYCa4HvgC8LyXAc+BljdzEYp47RAgsxFp+noJTvoGu57MmiI9vZTGc6sg0dN2+ReHq8DP4Q904KQGFprPIlOWrUKEaNGnXbbSp6z/jFixfVjnDPsrOyCixTinAfZDXkFmRd8i1fDIzK+f9LQBrwNBAHtAbWYz4HYBjmI7dScra/irGQrIOxezf/naYVYDzwMTfnHXTEOD/gRIwthp9hLC6tWRe2sJtWNOA4LqRw0LE1Sp+md95RiDuQQSDC0shL0koFBwerHeGeZWdmFhw0obXMge1F+TihwXgnkJm32WZzvq/fznkU5dg7Cll+f85D3NSGvZyiFq4ks7O3tP6JkqHV3XkbIcqSFIBW6rvvvrvt+rzzH1qqwrqADTr5KyvuXR3OcHVAbQIHViLt4h4ybRzIsrUjy8aebBs79Dp79Da2GHR2GHS2oLO980GFVWvbDuZX7I4lUc5IAWilcuf5y5WVlUVqaip2dnY4OTmVmwIwf1e9FIDiXiW76Uh4rTpVAk+TGb4b74t2d9wnW6Mh1c6RFFtHUu0cSLNzJM3OgXQbBzJsHci0tSfD1p4sG/ubRWTOQ4pI66Cv4JcVifJHCkArFRcXV2DZ2bNneeqpp3jxxRdVSHQXNJoCXcAGC+0CFuXDuY5O+I5SCHQ4C4DW+Tyk3nlychtFwS0jFbeM1Ls+dzYaUu0dSLV1JMXOkXQ7B9JsHUi3dSTd1p7MnEIyM6eAzLKxNxaROjsMOa2RaG0KtIoLy2CQ+k9YGCkAhUnNmjV59913efzxxzl16pTace5IW0hrn7QAiruR5K7h+nh7QpuYF3CVnLeSfaPuHSfjLgk2KLhlpOGWcff3s9aDsRXSPqcl0taRdFsH0uyMLZEZOQVklu3Nlsjs3CIyp5BEaytFpBBWQApAYUan03Ht2jW1YxSJtpDWPikARXFFDaqCc69IQh3TC6xzsY3gZFYKlW2dC9nT8ugAt6w03LLurYhMs3UkWYrIEmWrle+HsCxSAFqp33//3exrRVGIiIjgs88+o3379iqlKh6tTldwEIh0AYsiSqviTOJkF/yq3Pre3QB6+ytgqFNGqdSnA1yy0nApgSIyxc6BVDtjIZlum/Owy7km0sbBeE2krR3ZNvZk6+ww5BSSis4WRWcDmorz+2xbcZ6KqCCkALRS+W8Bp9Fo8PHxoVu3bsyZM0edUMVUWBewIi2AogiuDw/CvVsEfnYpd9w2wP8kXLOeArAkmBWRKQWvNy4KA5BqaywgU3IG1aTlFJEZtvamwTXGayLtybKxQ29jHJ1tLCLtLKqIlAJQWBopAK2UwWC480YWTqPVFriRpXQBi9tJqe5K6kR7/PyvFHkfT8ej3NA8iINcxF+mtIBLVjouWen3VkTa2JNq70ianSOptsYR2um29qZC0jjFT8HubL1NbkukbYkUkXZSAAoLIwWgKLe0Ol2BCZalC1gURgGuj62KZ8dwfGyTirWvVquQ5hCPQ5pHqWQTpUcLuGRn4JKdASnxd32cVBs7ku2dilVEphk0OLt7YtDZkmHQYCufTYWFkQLQCqWkpPDee++xatUqLl26hEajoVq1ajzyyCO88MILODk5qR2xSHQ6HZp81wDqbeQlLcwl13Yn/Skd/j5hd30Me5eTkNa2BFOJ8sQpOxOn7Mx7KiJt2neAqveVXCgh7pG8W1qZzMxMOnfuzLFjx+jTpw/9+/dHURROnjzJO++8w7p169i6dSu2tpY/KW1hXcBpLi4qpRGWxqCFqAlV8W59FRebe7vkwdt1O8k32iKNOOJu6ews/2+qsC5SAFqZL7/8kqtXr3LkyBFq165ttu7UqVN06dKF+fPnM3nyZJUSFl1hXcBprq6qZBGWJbGRF1lPGPD3uvtWv7zsdCkk22XgnmlfIscT1kfj6Kh2BCHMyAVTVmbVqlW8/vrrBYo/gDp16vDqq6+ycuVKFZIVn1anKzBBrxSA1k1vqyHi2SCcXojD2yu+ZA/udLlkjyesiqacXFojrIcUgFbmxIkTdOnS5Zbru3btyokTJ8ou0D3Q6nQoimJ2P2ApAK1XfItKJM51JaDlFWx0JT9k18N1V4kfU1gPrbQACgsjXcBWJj4+Hm9v71uu9/b2JiEhoQwT3T1HFxd0trbos7KwsbMDpAC0RtmOOqInVcan0RV0pfiR1s3hItd0Bpz18rlZFJ90AQtLIwWglTEYDOhuM1eeVqtFr9eXYaK75+jqiq29PVmZmaYCMN3ZGYNWi7YCzHMo7iyugy+ax1Pwdy36vH73ItPhBs4pfmVyLlGxaDw81I4ghBkpAK2Moijcd9992NxiupTs7OwyTnT3HF1dsbWzIzsjA3JH/2o0pLm44JyYqG44UaqynG2InuKPX92rlOXUj06uhyGlV9mdUFQMDg7SBSwsjhSAVmbGjBl33Obhhx8ugyT3zt7ZGVsHB7IyM82Wp7m6SgFYgcXe54/N4EQCnG9/D9/S4O28lzhNL2zlriCiGHSenmpHEKIAKQCtTFEKwPJCp9Ph7OFB9BXz7j+5DrBiynS3I/ZZH/xrhauWQafVk2KfjEe6zDcpik4rBaCwQHI1syjX3Ly9C7YAymTQFU5038pkztGqWvzlsnE+q3YEUc5IASgskbQAinLNtVIlsgvpAhYVQ3olB+KneOJf/ZraUUy8XLeTHtNUPj2LItN6eakdQYgCpAAU5Zqzu3uByaCT5dN2hXDjoUCc+t3A3yFC7ShmHG1jiLbNxi1L/nyKopEWQGGJ5C+YKNccCunujfeTaTrKszR/JxKfdcUvSP3u3lsxOF6FrBC1Y4hyQloAhSWSXgxRrjm6uha4G0hipUrobzPXobBc14cGwaws/IKuqx3lttxc96kdQZQXOh0aNze1UwhRgLQAWrGNGzeyceNGoqKiMOSbOHnRokUqpSoeR1dXbOzsyM7MxNbeHgBFqyXB1xevCMvqOhS3lhrsQvJkR/wCymZC53vl6XScSO0gHGW+cXEHWg8PNJr8F6oIoT4pAK3UG2+8wZtvvkmLFi0ICAgot3+gnN3dsXNwIDM93VQAAsT5+UkBWA4owPVRQXh2uYavbbLacYol3SEWx1Tp2hO3J92/wlJJAWil5s+fz5IlSxg+fLjaUe6JW6VKOLq6kp6cjLO7u2m5XAdo+ZJrupH2tC3+vuWj1S8/B5djkNpJ7RjCwul8fdWOIESh5BpAK5WZmUm7du3UjnHPdDY2+IaEkJ6SYrY8TgpAi2XQQuSTVbF7LRkf3xi149w1b5edlJ8bJwq16KpUUTuCEIWSAtBKjRs3jh9//FHtGCXCNyQEfb65AKUF0DIl1fcgdq4n/p3CsLMp3xfQ2erSSbZLUzuGsHC6wEC1IwhRKOkCtlLp6el8/fXX/PPPPzRq1AhbW1uz9R999JFKyYrPw88PBVAUxXQtY6aTE6murjglJakbTgBgsNEQ9VQVvFtexVVXcW6kq3W+CJn11I4hLJTGzQ2tTEwvLJQUgFbq6NGjNGnSBIBjx46ZrStvA0I8/f2xs7cnMz0de0dH0/I4f38pAC1AYlMvssfp8fcon9f63Y6n63b0cVIAisJJ96+wZFIAWqlNmzapHaHEePj54eDiQnpyslkBGO/nR+BZuW+rWvR2WqImBeLT5Co2FajVLy8X+2uE2xhwyZaraURBNtL9KyyY/NUS5Z6jiwvufn6kJ5tPIxLn769SIhHfxofEec4ENL9SYYu/XNmOkWpHEBZKrv8TlkxaAK3IQw89xJIlS3Bzc+Ohhx667barVq0qo1QlI6B6da6ePGm2LKpqVZXSWK9sRx03pgTgV/8qWiv5eOnsfBCSKqsdQ1garRZdZXldCMslBaAVcXd3N13f555nzryKwKtyZbPbwQGku7oS7+ODx40bKqWyLrFd/NANTSbA5araUcqUp/MBYjX3Y1exGzpFMWl9fdHkG1wnhCWRAtCKLF68uND/VwQe/v5otVr02dnobG6+rCOrV5cCsJRludkS84wvvnXC0Zav8UMlQqdVSHVIxC5N7vcqbpLr/4Sls5JOGlHR5R0Ikldk9eoqJbIOMb0CSJ9jg39d6yz+ctk6n1I7grAwcv2fsHTSAmjFVq5cyfLlywkLCyMz30TKBw8eVCnV3XH38cHD15e4yEicPTxMy6NCQjBotWgN5XvSYUuT4WVP3BRv/EOvqR3FIni77CA1upV8ohYmNtWqqR1BiNuSv1dW6pNPPmH06NH4+vpy6NAhWrVqhbe3NxcuXKBPnz5qxys2rVZLSKNGpOVrAcy2syNaPomXqBsPVCbrfaT4y8PeNoFk28w7byisgtbHB22eD6JCWCIpAK3UF198wddff81nn32GnZ0dL730Ehs2bOCZZ54hISFB7Xh3JSA0FI1Gg16vN1t+XbqBS0S6ryORs/zxGXwNF8cMteNYHMWp4k10Le6Oba1aakcQ4o6kALRSYWFhtGvXDgBHR0eScu6YMXz4cH766Sc1o901/+rVcXJ3JzU+3my5XAd476IGBWJ4Nxv/YJnz7lbcXfeoHUFYCBspAEU5IAWglfL39ycmJgaA4OBgdu/eDcDFixcLTKdSXrh6e+NTtSrJcXFmy6OrVCHLzk6lVOVbWhVnrr/vi+/AcJzss9SOY9HcHc+Qqi2fvzui5GgcHeUWcKJckALQSnXr1o0//vgDgLFjx/Lcc8/Ro0cPBg8ezIMPPqhyuruj0Wio1qgRmWlpZssVrZaokBB1QpVj14cHoXkrA7/AKLWjlBsZjtFqRxAqswkNRWMts6CLck1GAVupr7/+GkPOyNgJEybg5eXF9u3b6d+/PxMmTFA53d3zq14drY0NWZmZ2OZp9YusVo3AM2dUTFZ+pFR3JXWiPX7+ck1bcTk6H4WU+9SOIVQk3b+ivNAo5bW/T4hCpCUns+iFF9BoNHj4+ZmWO8fFMeCTT1RMZvkU4PrYqnh2DMfeVn/H7UVB2QZbEs6/Kp+srZVWi9uLL6JxcFA7iRB3JH+nrFBiYiJubsa7Fqxdu5bs7GzTOp1OR79+/dSKds8cXVwIrFmTM/v2mRWAKZ6eRFepQqWr1nWbsqJKru1O2lM6/H3C1I5Srtlos0i2T8Ujw0ntKEIFuqAgKf5EuSEFoJVZs2YNr7/+OocOHQJg8ODBpKSkmNZrNBp+/vlnHnnkEbUi3rOg+vU5sWMHiqKY7n0McKlBAykA8zFoIWpCVbxbX8XFRibLLgk6p3OQ0UjtGEIFMv2LKE/kSlUr8/XXXzNp0iSzZefOncNgMGAwGJg9ezaLFi1SKV3JCKhRAztHxwKDQS43aIBBLs42SWzkRdw8D/zbh2ErxV+J8XLbjlxXY53k+j9Rnsi7oZU5evQojRs3vuX6Pn36sH///jJMVPJ8goPx8PMjMdp8RGaGszORcnsm9LYaIp6titMLcXh7xasdp8Jxsosi2UauobQ2Wn9/dJUqqR1DiCKTAtDKREZG4u3tbfp606ZNBAUFmb52cXEpt3cCyWVrZ0ft1q1JyTchNMDlhg3LPpAFiW9RiYS5rgS0DMNGJ+1UpUXvKLfJszZ2TZuqHUGIYpFrAK2Ml5cX58+fp1pOS1iLFi3M1p89exYvLy81opWoao0bs/f330lPScHB2dm0/EqdOrS0scEmz8AXa5DtqOPGpMr4NrqCTj72lTpX1/2QFHTnDcvAjkuX+GTnTo5cu0ZkcjLfDx7M/XXrmtZHJSczY8MGNp0/T0J6Ou2Cg3m/b19q5PmgmN8Phw4x8bffCiyPfPVVHGxtAVh+9Chv/PMPKZmZDG/WjLd69jRtdzkujoeWLmXT+PG4VYRBEzoddlb+4VKUP1IAWplOnTrxySef0L1790LXf/LJJ3Tq1KmMU5W8gNBQKlWtSkx4OP55bgWXbW9PeO3aBB8/rmK6shXXwRfN4ykEuMq8fmXFy/kI1zUP4mABjaypWVk09PNjWJMmjFi+3GydoigMW7YMG62WH4cOxdXens937WLAd9+xZ+JEnG9zBx03e3v25bueOLf4i0lJ4Znff+eLgQMJ8fTk0R9+oENICL1yrpGb+uefzOjevWIUf4BtnTpoHB3VjiFEsUhbgJWZNm0a69evZ9CgQezbt4+EhAQSEhLYu3cvDz/8MP/88w/Tpk1TO+Y909nYULddO9KTkwvc2u6SlXxSz3K2IeKVKrg/GYWHa8qddxAlKs0hXu0IAPSoWZPX7ruPB+rVK7DufEwM+65e5aP776dZYCA1K1ViTr9+pGRm8st//93x2H6urmaPXJfi4nCzt+ehBg1oFhhIx2rVOH3jBgArjh7FVqcrNE95ZdukidoRhCg2aQG0Mk2bNuXnn39m3LhxrFq1ymydp6cny5Yto1mzZiqlK1nBDRvi6OpKamIizu7upuXXQkPJcHTEPt8o4Yok9j5/bAYnEuAs096oxd7lOKS1VzvGbWXojYNVHGxuvhXotFrsdDp2hYUxonnzW+6bkplJg48/xmAw0NDfn1e6daNxQAAANby9ScvK4khEBFXd3TkYHs7jTZsSl5rKrE2b+GPUqFJ9XmVJ4+aGTY0aascQotikALRCAwYMoEePHvz999+cPXsWgJo1a9KzZ0+c81wvV975BgcTEBrK1VOnzApARafjSt26hB48qGK60pHpbkfssz741wpXO4rV83bdSfKN9ujUDnIbtSpVIsjdnTf++Ye5/fvjZGvL57t2cT05mevJybfd74uBA6nn50dSRgbzd++m98KFbH/qKWp4e+Ph6MgXDz7IU6tXk5aVxZDGjbkvNJSJv/7K+NatuRwXx9CffiJbr+flLl0YUL9+GT7rkmXXuLHZfKNClBdSAFopJycnHnzwQbVjlCqNRkPt1q25eOgQBoMBbZ45AM83bVrhCsDovpVxeCgWf0cp/iyBnS6FZLsM3DPt1Y5yS7Y6HUsHD2bSb78R8t576DQaulSvTo/Q0Nvu1zIoiJZ5Zg9oExREp6++4qs9e3i/b18A+tetS/88g022XbzIiagoPujbl2affMI3jzyCn4sL9y1YQLvgYHxcXErnSZYy6f4V5ZUUgKJCC2nUCGdPT1Li4nDNM6oxpkoVblSpgk8FuDNIeiUH4p/1xL+aTD1iaTROlyCzttoxbqtJ5cpsf+opEtLTydLrqeTszH0LFtC0cuUiH0Or1dIsMJALsbGFrs/IzuaFP//kq4ce4kJsLNkGAx1CQgBjd/H+8HD61Lbs71NhdMHB6CrArAnCOskgEFGhefj5EVSvHglRUQXWnWrbVoVEJevGQ4Ho3zPgXy1C7SiiEB6uO9WOUGTuDg5UcnbmfEwMh65do28xCjJFUfgvMhK/W7TifbBlC91r1qRJ5croFYVsw807z2Tp9egN5fNONDL3nyjPpAVQVGgajYaaLVtyatcu9Ho9Ot3NK7Ku1qlDsocHLoVMGG3p0io7kfiMK35B0t1ryVwdLnNNZ8BZr95n7eSMDLOWucvx8RyNiMDT0ZEgDw9+PX4cbycngtzdOR4Vxcvr1tGvTh265ekGfnLVKiq7uTEjZ/qodzdvpmWVKtTw8iIxI4Ov9uzhv8hIPszp/s3rZFQUq44fZ9uECYDx+kGtRsN3Bw/i5+LC2ehomgUGlvJ3oeRpHB2xrUAjmYX1kQJQVHghDRvi7uNDQlQUXjmjFAEUrZbTrVvT/O+/VUxXfFGPVcG1RyR+dtfVjiKKINMxCudkf9XOf+jaNfp/+63p61dzXu9DGzfmywcfJDIpiVf//puo5GT8XF0Z0rgxL+WbC/RqQgLaPAMdEtLTmfLHH0QlJ+Nmb0+jgADWjh5N8ypVzPZTFIVn//iDWb16meYUdLS15YuBA3lh7Voys7P5oG9fKru5ldbTLzV2LVuiyZn3UIjySKPknyRNWAWdTkdERAS+vr5my2NiYvD19UWvr1j3Mt3844/sXLmS4IYNzUbs2WRmMvCjj7DLyFAxXdGkBruQPMkR38o31I4iiiEqqS32kb3UjiFKkq0trs8+i9bJSe0kQtw1uQbQSt2q7s/IyMDuNrP/l1f12rfHyd2d5Lg4s+XZdnacs/B5DxUgclQQujfSpPgrh7yd95Ils4RUKHbNmknxJ8o96QK2Mp988glgvDbum2++wSXPRdt6vZ6tW7dSp04dteKVGp+qVQlt3pxjmzfjmm/U3pnWramzZw9aC7wQPbmmG2lP2+LvK7dxK690Wj0p9sl4pJfPaU5EPjod9u3aqZ1CiHsmBaCV+fjjjwFjC+D8+fPNBkXY2dkREhLC/Pnz1YpXajQaDQ06d+bUzp2kJyfjkKfwTXV3J6xePUKOHVMxoTmDFqKeqIpXu6u42FheYSqKx8b5DKRbdkuzKBrbhg3RlsNrFoXITwpAK3Px4kUAunbtyqpVq/D09FQ5UdkJqlePKnXrcuXECQLzTXFxqk0biykAk+p7kPGkBn/vMLWjiBLi7bqdtJhmcs1NeafRYN+hg9ophCgR8vfISm3atMmqij8wDnxp1K0b+uxssjIzzdbFBgYSVbWqSsmMDDYaIiZXxWFaApW84+68gyg3HGxjSbbNUjuGuEc2deuiyzOhvBDlmbQAWim9Xs+SJUvYuHEjUVFRGPJd//bvv/+qlKx0hTZvjm9ICLHh4fhVq2a27r8uXbjvu+9UyZXQzBv92GwCPKTVr6IyOIZDVojaMcQ9cGjfXu0IQpQYKQCt1JQpU1iyZAn9+vWjQYMGVnMzczsHBxp368b6BQsw6PVo81wDeb1aNa6FhlL53Lkyy6O30xI1KRDfplfRaWVGporM3XUvJIaoHUPcJZvq1dEV4/Z4Qlg6KQCt1LJly1i+fDl9C5m5v6Kr3aYNe/74g/jr1/HK9wf9UPfu+J8/j7YMpseMb+ODMjKNADcZ4WsNPJxOEKkFRxnTUy7Zd+yodgQhSpRcA2il7OzsCM1zqydr4uLpSf2OHUmMji4wH2KCnx+XGjUq1fNnO+qIeLkKbhNv4OmWXKrnEpYl3SFG7QjiLtjUqoVNSIjaMYQoUVIAWqmpU6cyb968W04IXdHV79gRV29v4q8XvJ3akW7dyLYpncbx2C5+pMx1IKDhVbTy22d1HFwsY6S5KAatFoeePdVOIUSJk1vBWZGHHnrI7Ot///0XLy8v6tevj22+e1quWrWqLKOpYuuyZWz/+WeqNmyINl811viff6i/Y0eJnSvLzZaYZ3zxrROO1joutxSFyNI7kHjhZbn2phyxa9MGx15yKz9R8cjfISvi7u5u9vWDDz6oUhLL0KRHD05u307M1av45JsC5kSHDtQ4eBCHtLR7Pk9MrwDsHo7H3zn8no8lyjdbXTopdmm4ZzqqHUUUhaMjDp07q51CiFIhLYDCqu1fu5YNCxcSWKcONvlaQWvv2kXz9evv+tgZXvbETfHGP/TavcYUFciV6EG4xdVXO4YoAoc+fbBv1UrtGEKUCrkKSVi1Bp0741+jBjfCCs6/d7ZVK5I9PO7quDceqEz2B0jxJwrwdC25SwtE6dH6+GDXooXaMYQoNdIFbKWaNm1a6Nx/Go0GBwcHQkNDGTVqFF27dlUhXdlxcHamZb9+rPnsMzLT07FzcDCtM+h0HOnWjfbFuB4y3deR+Gfd8Q+Wwk8UzsX+GuE2elyydXfeWKjGoVcvNDJSS1Rg8uq2Ur179+bChQs4OzvTtWtXunTpgouLC+fPn6dly5ZERETQvXt3fvvtN7WjlrrabdtStX59bly6VGDd5QYNiA4MLNJxogYFYng3G//gyBJOKCqabEd5jVgym9BQbGvUUDuGEKVKCkArFR0dzdSpU9m2bRtz5szho48+YuvWrbzwwgukpKSwfv16XnvtNd566y21o5Y6Wzs7WvXvDxoNaUlJ5is1Gvb074/+Ni0BaVWcuf6+L74Dw3Gyl/u9ijtzdjmodgRxC4pWi4OM+hVWQApAK7V8+XKGDh1aYPmQIUNYvnw5AEOHDuX06dNlHU0V1Zs2pUbz5ty4fLnAugQ/P062a1fofteHB6F5KwO/wKjSjlguzP4NWr4OrmPB9ykY+BGcztcbrigw8xeoPBEcR0GXt+H41dsfd9U+aPEaeDwBzmOgyf9g6TbzbX7YAUGTwWs8vPij+bpLN6DWVEhMveenWCI8nQ6SIdMBWST7Vq3QVaqkdgwhSp0UgFbKwcGBnTt3Fli+c+dOHHKugzMYDNjb25d1NFVotVpa9e+PvbMzSbGxBdYf69yZRC8v09cp1V2JmlMJv95XcLDLLsuoFm3LKZjYHXa/ARtehmw99HwXUtJvbvP+GvhoLXw2Cva9Bf7u0GM2JN1mxh0vZ3h1AOyaCUdnw+jOMPpr+PuocX10EoxbAB8+Bn9Pg2+3wZ+Hbu7/1CJ4dwi4OZXGsy4+nVYh1SFR7RgiP09PHLp1UzuFEGVCBoFYqcmTJzNhwgQOHDhAy5Yt0Wg07N27l2+++YZXXnkFgL///pumTZuqnLTsBNaqRb327Tnw1184e3iYTQ5tsLFhb//+dPvuW6LGVMWzYzi+tkm3OZp1+mua+deLnzS2BB64CJ3qGlv/5v4Frw6Eh1oat/l2Avg9DT/uhCfvK/y4XeqZfz2lt7HI234aejWCC1Hg7gSD2xrXd60LJ8KhX1P4cQfY2dw8n6Wwcz4FaTLFiKVQAJeHHkKTbzooISoqaQG0Uq+99hoLFixg7969PPPMM0yePJm9e/eyYMECXn31VQAmTJjAH3/8oXLSsqPRaGg1YADelSsTXci0MFEhIRx6rRH+3cKwt9WrkLD8ScjpcvVyMf578QZExkPPhje3sbeFznVg59miHVNRYOMxOB0BneoYl9X0h9QMOHQJYpNh3wVoVNX4/+m/GFsbLY2363YMaocQJnZt22JTpYraMYQoM9ICaMWGDRvGsGHDbrne0dH67lbg6edHmwcfZN38+aSnpODg7AxAdlYmZ07uY3dyEtWCbPFylsEed6Io8PwP0KE2NAgyLouMN/7rZ35TGvzc4XL07Y+XkAqBkyAjG3Ra+GIU9MgpJD2djS2JI76EtCwY0dHYMjjma5jcEy5GwQNzIEsPMx+CR1qX5DO9O/Y2iVy3zcQ9y07tKFZP7+6Om3T9CisjBaAQ+TTo3JnzBw9yevduqjZoQHTUVc6c2U22LpOAGnU4YGhLd+VHCplGUeQxaQkcDYPt0wuuy/+tUxTu+P10dYDDsyA5HTYeNxaX1X1vdg8/2NL4yLX5BPx3BT4bCaHPw0+TjNcbtppubDn0dS/8PGXKKQwSQtVOYdUUwG3QIDQ28nYorIu84q2Il5cXZ86coVKlSnh6ehY6EXSu2EIGQlgLnY0N7R55hCunTnJ493oSsm7g6OlKw+ZdcPP24QZwNqsFtez2qx3VYk3+Fn4/CFtfhyreN5f7exj/jUyAAM+by6MSC7YK5qfVQqi/8f9NQuDkNZj9e8HrAwEysuDpxfD903DuOmQboHNd47paAbDnPPRvdrfPruS4u+6WAlBlujZtsCniXJ9CVCRSAFqRjz/+GFdXVwDmzp2rbhgL51+tGrU6tebM8j1UrlaT0MYtzQaFHMroQWWbc7ho49ULaYEUxVj8rd4Pm1+Dar7m66v5GIvADf9B0xDjssxs4+jh94YU/1wZtxiA/dZq6NMYmlUzXheYneeSzaxs0FvIxXfujueI0Co4GaQ5WQ3ZHh54de+udgwhVCEFoBUZOXJkof8XhbtvyEjiM65z+dzRAq2leuzYmf4g3R2/RauxkGrCAkxcYhzN+9vzxi7b3Gv+3J3A0c7Yzftsb5j1u3HgRk1/mPUbONnBY3mmWhzxJQR6wuyconD2b9CiOtTwMxaMaw/Dd9vhy9EFMxy/Cj/vNnYXA9SpDFoNLNxs7AI+FQEtq5fe96C4MhyjcUrxUTuG1TFoNHgMGYJGJ7fkE9ZJCkArdv78eRYvXsz58+eZN28evr6+/PXXXwQFBVG/fn2146nOzt6Bzn0eY+XiMOKiI/DyqWy2PlpflUMZ3WnusF6lhJbny3+M/3Z523z54vEwqrPx/y/dD2mZ8PQSiEuB1jVg/cvgmmfMUViMsWjLlZJh7NK9GmssJOtUhu+fujntSy5FgfHfwMePg3PObZ0d7WDJk8biNCPbeE1goBcWw9HlKKTcYv4bUWps27dH5+endgwhVKNRFEVRO4Qoe1u2bKFPnz60b9+erVu3cvLkSapXr87777/P3r17WblypdoRLcbuzb+x6c/vCAiqiZ29Q4H17R1WEGx7QoVkoiLINtgSf+FVbOUvcZnJ8vfHe/z4214HLURFJ/MAWqmXX36Zt99+mw0bNmBnd3Maiq5du7Jr1y4Vk1me5u16U6NOMyKunKOwz0t70geQoJdbR4m7Y6PNIsUuRe0YViPTzg6v4cOl+BNWTwpAK/Xff//x4IMPFlju4+NDTEyMCoksl62dPZ16DcXV3YsbkQUniM7Gjm3pj5KlyHxu4u7onM+pHcEq6AGXwYPROlnIPQGFUJEUgFbKw8ODiIiIAssPHTpEoEyJUIB/lep07DmEzPQ0khPjCqxPNPiwJ72/CslEReDlugPpAS592a1a4VjdgkYACaEiKQCt1GOPPca0adOIjIxEo9FgMBjYsWMHL7zwAiNGjFA7nkVq2KILzdr1Ivr6FbIyMwqsD8tuwKlMC7jFhCh3nOyiSLaR2wuWpgRfX3z79FE7hhAWQwpAK/XOO+9QtWpVAgMDSU5Opl69enTq1Il27drx2muvqR3PImm1Wjr2GExoneZcu3wGg6Hg9C+HMnoQlR2kQjpR3ukdw9WOUGEl2ttTeXQhcwYJYcVkFLCVOXfuHKGhN+88cP78eQ4dOoTBYKBp06bUrFlTxXTlQ0xUOL98+z5JCdEEBBX8fjlqkujt9BWOWrmwXxRdbEpjdNcKXpcr7k26RoPTuHG4Vq58542FsCLSAmhlatWqRVBQECNGjGDJkiXY2NjwyCOP8Oijj0rxV0TevoF07fs4Go2O+JjrBdanKa7sSH8EvSK/XqLovJyPkC4vmRKlVxSUPn2k+Csho0aNYuDAgUXe/tKlS2g0Gg4fPlxqmUra66+/zvjx49WOUSbkz42V2bJlC08++STXrl1j4sSJVK9enWrVqjF27Fi+//57wsOlG6ooQuu1oE2XASTERZGeVrClL0ofwu70gUj7uiiONPuCA4zE3Ytr2BD/li3val+NRnPbx6hRo0o2bBHExMTQu3dvKleujL29PUFBQUyaNInExMS7PubmzZtNz0mr1eLu7k7Tpk156aWXCgwUnDdvHkuWLLnHZ1F8Xbp04dlnny3181y/fp158+bxyiuvmJaNGjXK9P2xtbWlevXqvPDCC6SklP8eHrkTiJXp2LEjHTt25LXXXiMrK4tdu3axefNmNm/ezE8//URGRgahoaGcPn1a7agWTaPR0KrTA0Rfv8KxA1sIqlEfnc781+lydkPsM1Jp4fCXSilFeWPvcgLS2qsdo0II9/en7kMP3fX+eYufn3/+menTp5v9XXR0dCxst1Kl1WoZMGAAb7/9Nj4+Ppw7d46JEycSGxvLjz/+eE/HPn36NG5ubiQmJnLw4EHef/99Fi5cyObNm2nYsCEA7u7uJfE0LNbChQtp27YtISEhZst79+7N4sWLycrKYtu2bYwbN46UlBS+/PJLVXJmZmaazd97t6QF0IrZ2trSqVMnXnzxRf73v//x9NNP4+LiwrlzMidZUdjY2tKl73ACg2tz7fKZQieJPpPVmmMZHVRIJ8ojb9edyFjge3fZxYXQ0aPvabJnf39/08Pd3R2NRoO/vz9+fn506NCBBQsWmG1/7NgxtFot58+fB4wfEr/88kv69OmDo6Mj1apVY8WKFWb7hIeHM3jwYDw9PfH29mbAgAFcunTplpk8PT156qmnaNGiBcHBwdx33308/fTTbNu2zWy7HTt20LlzZ5ycnPD09KRXr17Exd2+ddnX1xd/f39q1arFkCFD2LFjBz4+Pjz11FOmbfJ3Af/111906NABDw8PvL29uf/++03PP69Tp07Rrl07HBwcqF+/Pps3bzZbf+LECfr27YuLiwt+fn4MHz6c6Oho0zm3bNnCvHnzTC1xud+j2+0HsHLlSho2bIijoyPe3t507979ti13y5Yt44EHHiiw3N7e/v/t3XtYVXXe///nPrAPsDkfBBQFRRRDPEaiKSimqTmWjTZYmjFZVJbeznSaPNxNTbfidFlfL/O680qd67ZbvZ1fmmNllobHQiXP4gEEAd2AIAc5bvbe6/eHuUcCBVMB3e/HdXHJ3uvzWfu9loUvPp/1WYvAwEBCQkKYMmUKTz/9NJs2bQJgzZo1DBw4EHd3dwIDA5kyZQpFRUWOvtdGWLdv387AgQNxdXVl8ODBjQZZNm/ezMCBAzEYDPj5+THxul9eQkNDef/995k+fTqenp7MmDEDgH379jFs2DCMRiMhISG89tprDY7vZrXl5ORIAHRGtbW17Nixg3nz5jF06FC8vb157bXXqKysZPny5eTmNr7ZsWiah5cvCeOn42ry5JL5fJNtjloSyLT0b+XKxL1Ip6miUtf4FkOi5XK0Wro899wdGSFpikqlIikpiVWrVjV4f+XKlQwdOpRu3bo53ps3bx5PPvkkR44c4ZlnniExMZGMjAwAqqurGT58OCaTiV27drFnzx5MJhOPPvooFoulRbVcvHiRL774gri4OMd7hw8fJiEhgQceeIAff/yRPXv2MH78eGy2W/vVwmg0kpyczN69exsEmutVVVUxZ84cDhw4wPbt21Gr1TzxxBON7pDw+uuv86c//YlDhw4xePBgfve73zkeOGA2m4mLi6Nv374cPHiQrVu3UlhYyOTJk4Gr086xsbHMmDEDs9mM2WwmJCSk2X5ms5nExESSkpLIyMggNTWViRMnNvmLOkBpaSnHjx9n4MCBLTo39fX1wNXRuPfee48jR46wadMmsrOzm7w84J133uHDDz/k4MGDaLVakpKSHNu++uorJk6cyLhx4zh06JAjLF5v8eLFREVFkZ6ezrx58zh27BijR49m4sSJHD16lPXr17Nnzx5mzpzp6HOz2kJCQmQVsLOJi4vjwIEDdOvWjWHDhhEXF0dcXBwd5KHot+X4z7vY9sUKdAYjPv6NLzhXYWeI4Z90dslog+rEvSTvUiIeZT3auox70nlFwW/6dIJ/NYV3u1avXs3s2bMpKysDcISQffv2ERMTQ319PR07dmTx4sU8++yzwNWgmJyc3GCacNCgQfTv359PPvmElStXkpKSQkZGhmOk0mKx4OXlxaZNmxg1atQN60lMTOTLL7+kpqaG8ePH83//938YDFefUz5lyhRyc3PZs2dPi44tNTWV4cOHU1paipeXV4NtW7duZcyYMaSlpRETE8P06dMpKytzjH792qVLlwgICODYsWNERUWRk5NDWFgYCxcu5M033wTAarUSFhbGq6++yhtvvMH8+fNJS0vj22+/dewnPz+fkJAQTp8+TUREBPHx8fTt25ePPvrI0aa5fpWVlQwYMICcnBy6dOnS7Hk4fPgw/fr1Izc3l5CQf9/K69fHvH//fsaOHUtCQgLr169vtJ8DBw4QExPDlStXMJlMjvP7/fffk5CQAMDXX3/NuHHjqKmpwWAwMHjwYLp27cqaNWuarC00NJR+/fqxceNGx3vTpk3DaDTy3//934739uzZQ1xcHFVVVY7/Hm5Wm4wAOpl9+/bh5+fH8OHDSUhIYMSIERL+7oAH+g1l6Og/UF1ZQXnppUbbFdTsq51IoTW09YsT9xQv931tXcI96aLNhn7ChDse/poSFBTEuHHjWLlyJQBbtmyhtraWSZMmNWgXGxvb6PW1EcD09HQyMzNxd3fHZDJhMpnw8fGhtra2yWnU6y1ZsoSff/6ZTZs2kZWVxZw5cxzbro0A3gnXxoduNJWelZXFlClT6Nq1Kx4eHoSFhQE0mkW6/jxotVoGDhzY4Dz88MMPjnNgMpno2bOnY/830ly/Pn36kJCQQO/evZk0aRIrVqy46TR4TU0NQJPBacuWLZhMJgwGA7GxsQwbNoylS5cCV5+eNWHCBLp06YK7uzvx8fFNnoPo6GjH90FBQQCOkdWW/J39ekQwPT2d1atXNzj+0aNHY7fbyc7OblFtsgjEyZSVlbF7925SU1NZtGgRiYmJREREEBcXR3x8PHFxcfj7+7d1mfcclUrFwIfHUldbxd7vNqDRumBy92rQxo6WnTV/YKTranw0BW1TqGj33A3nuaix42aT389bqshmwzp6NL379Wu1z3z++eeZOnUqS5YsYdWqVTz11FO4tuAZw9fClN1uZ8CAAXz++eeN2jT3M/jatYk9e/bE19eXoUOHMm/ePIKCgu7o4pRrIe3XiyKuGT9+PCEhIaxYsYLg4GDsdjtRUVEtmsK+/jyMHz+eRYsWNWpzLSg1pbl+Go2G7777jn379rFt2zaWLl3KO++8Q1pamiOoXs/Pzw+4OhX86/M/fPhwli9fjouLC8HBwbi4uABXp8BHjRrFqFGjWLNmDf7+/uTm5jJ69OhG5+Ban18fO7RsQZGbm1uj43/xxRd57bXXGrXt3Llzi2qTnzBOxs3NjUcffZSFCxeSlpZGcXExKSkpuLq6kpKSQqdOnYiKimrrMu9JKpWK2BFPMuDhsZQU5lFTfaVRGyt6Umue5orduw0qFPcKi7Hpa65EY5dtNiqGDSNq8OBW/dyxY8fi5ubG8uXL+eabbxpc03XNTz/91Oj1tVGq/v37c/bsWQICAggPD2/wdSurba+N0tXVXb12NDo6mu3bt//Ww3Koqanh008/ZdiwYU0G0pKSEjIyMpg7dy4JCQlERkbecITt+vNgtVpJT09vcB5OnDhBaGhoo/NwLfTodLpG1zC2pJ9KpWLIkCG8++67HDp0CJ1O12Aa9XrdunXDw8ODkydPNtrm5uZGeHg4Xbp0aRDkTp06RXFxMQsXLmTo0KH07NnzhtdL3sxv+Tu7dvy/Pvbw8HB0Ol2LapMA6OTc3Nzw8fHBx8cHb29vtFqt47c+ces0Gg1xj06h98DhFOZnU1db06hNrWJiR/VUKu339y0VxG/nZjrc1iXcEypsNgoGDqR/QsJtrfj9LTQaDdOnT+ftt98mPDy80XQvwIYNG1i5ciVnzpxhwYIF7N+/33GR/tNPP42fnx8TJkxg9+7dZGdns3PnTmbNmkV+fn6Tn/n111+zatUqjh8/Tk5ODl9//TUvvfQSQ4YMcYzSvf322xw4cICXX36Zo0ePcurUKZYvX95gdWxTioqKKCgo4OzZs6xbt44hQ4ZQXFx8w1udXFu5/Omnn5KZmcmOHTsaTEVfb9myZWzcuJFTp07xyiuvUFpa6gjM125jk5iYyP79+zl37hzbtm0jKSnJEfpCQ0NJS0sjJyeH4uJi7HZ7s/3S0tL44IMPOHjwILm5uXzxxRdcunSJyMjIJmtUq9WMHDmyxddOwtWRNp1Ox9KlSzl37hybN2/mvffea3H/axYsWMDatWtZsGABGRkZHDt2jJSUlJv2efPNN/nxxx955ZVXOHz4MGfPnmXz5s28+uqrLa5NAqCTsdvt7N+/n5SUFMaMGYOXlxeDBw/mk08+ITAwkGXLlnHu3Lm2LvOe5qLTM/J3z9EzOpaLeWeor288HVKlePNddRLlNr82qFC0dz5uB7C0bp6555TZbJyPiiJm3LhWD3/X/PGPf8RisTQ5+gfw7rvvsm7dOqKjo/nHP/7B559/Tq9evQBwdXVl165ddO7cmYkTJxIZGUlSUhI1NTV4eHg0uT+j0ciKFSt4+OGHiYyMZPbs2Tz22GNs2bLF0SYiIoJt27Zx5MgRYmJiiI2N5csvv0SrvfkVXz169CA4OJgBAwawcOFCRo4cyfHjxx31/pparWbdunWkp6cTFRXFf/zHf7B48eIm2y5cuJBFixbRp08fdu/ezZdffumYcg0ODmbv3r3YbDZGjx5NVFQUs2bNwtPTE7X6akT585//jEajoVevXo6pzOb6eXh4sGvXLsaOHUtERARz587lww8/ZMyYMTc8By+88ALr1q1r8jnvTfH392f16tVs2LCBXr16sXDhQv7+97+3qO/14uPj2bBhA5s3b6Zv376MGDGCtLS0m/aJjo5m586dnD17lqFDh9KvXz/HZQAtrU1WATsZDw8PqqqqCAoKIj4+nvj4eIYPH97g1gXizqi8UsaWtf+Pc2cOExLWC00TP4D1qmrijWvw1Zib2INwZufz/oxXramty2iXLlmt5PTsSfzkyWivm5JrbXv37iU+Pp78/PxGi+lUKhUbN268pUenibalKAqDBg1i9uzZJCYmtnU5d52MADqZxYsXk5GRQX5+PmvWrOH555+X8HeXmNy9ePT3yXQK7Ul+TkaTv1XWKa5sr36WQmvztykQzkXrdqatS2iXLlgsnA4PZ9jvf99m4a+uro7MzEzmzZvH5MmT5U4K9wmVSsWnn36K1Wpt61JahQRAJ/Piiy8SERHR1mU4DS+fAMY8mUxAUCj55042eTNWK3p+qHmGC1b5exH/5uu+m5ZNRDmP7Lo6ToWFkTBpEjq9vs3qWLt2LT169KC8vLzZa7XEvaVPnz5MnTq1rctoFTIFLEQrKLyYwzcblmPOy6RjWE+02sYjFyrsxBo2EepyrA0qFO1RXs47eNS33RRne3Kqtpaczp157JlncHN3b+tyhLjnyQigEK2gQ3Ao46fMIqRrL/LPnaTe0vhxX1dvFv0EZyzNP4pIOAfF2PRqUGdzuLqaC+HhPDZ1qoQ/Ie4QCYBCtBJf/2DGJ75G1579uZBzCktd41vEgIqDdeM4Ufdwq9cn2h8P9wNtXUKbS6uu5kp0NGOnTMHNJItihLhTJAAK0Yo8vf157A+v0qP3IC6eP0NtTVWT7Y5YEkivHY1dkXuBODMv15PUqJ3zKh07sLOqCh58kNGTJmG4g0+4EEJIABSi1ZncvRg7+RWiBsRRkJ9FdVVFk+1O1w/ih5qp1Nqbf7yUuH/VGi63dQmtrlZR2HLlCh7DhpHw+OO46HRtXZIQ9x0JgEK0AaOridETX6TfoFFcMp+nsqLpRygV2sLYWv0Cl203fiamuL8ZTMfbuoRWVWy38/9VVtJ9zBiGjR3b5P0zhRC3T1YBC9GG6ust7Pzmcw7u+Rov3w54eDX9ZBA1VmIMW+jqcqSVKxRtzWrXU571Ns4Qg85arey2WIifMIG+sbFt9oQPIZyBBEAh2pjNamXv9//kp9RNGIxu+HbodMN/+CJc9tNP/y0aldwhzpmcz30Tr7r79xo4O7C3poazGg2jn3ySXv37t3VJQtz3JAAK0Q7Y7XaOHtjBrm/XUVt9haDOEWg0mibb+mvO87BhA0Z10wtIxP0nr3gSHqUPtHUZd0WtSsWW0lKs/v48MnEiXXv2bOuShHAKEgCFaEdyz53k+82rKMjPIiikO3pD06M+RlUFQ43/h5/mQitXKNpClSUY6/kX2rqMO64Y2FRcTHCvXoyaOBFfeaSaEK1GAqAQ7UzZ5SJ2/OsfnDr2I74BnXD39GmynRobA/Tf0F2X3soVirZwIXseJmvTo8L3ogybjdSKCvoOGUL8uHEYXGW1uxCtSQKgEO2Qpa6Wvd9v4OCer3HRG/AP7HzD6wKDNWeIMfwLV3VlK1cpWtP5ghl4XenY1mXcthqViu0VFRTpdAwbO5Z+gwejVssNKYRobRIAhWinFEXh2MFUdn27lqorZQR3iUCjaXotqAs1DDRsJczlaCtXKVpLSeUAtObxbV3GbTmv0fBNQQE+nTrxyMSJhEZEtHVJQjgtCYBCtHP5Oaf5fvNKLuaeJSgkHL3hxlNlHbWniNFvkQUi9yG7XUXxuQXo78Gf2HUqFWnA4aIievTpw6iJE/Hy9W3rsoRwahIAhbgHVJQW8/2/VnP62I94ePvj5dPhhlPCOqp50PA1XVxOtHKV4m7LyZ+Dd41HW5dxSy64uLC9vJwqi4WBcXEMGzMGnV7f1mUJ4fQkAApxj6i31LF/1784uOcraqorCercHReXGz8iK0R7kgf1X2FQV7dileJuulg6Brfih9q6jBaxqFSkazQcuHgR3w4dGDpmDFEDB8rNnYVoJyQACnGPyc8+xc5v13I+8xhevh3w9A644T+qelUVD+q/orNLRitXKe6GOqsH1dlz2v0zPM1aLTuuXKG0poYH+vVj2Lhx+Pj7t3VZQojrSAAU4h5UV1PNgT1bOLjna+pqqwkKCUfbzGhgP/13mNRlrVekuCvycv6CR/2N/67bUqVazRGNhvSLF/Hx92fIqFH0jom54U3NhRBtRwKgEPew3KwT7Pp2HbnnTuDtG4inT8AN26qx0kOXxgO63ehUda1YpbiTcouewbM8vK3LaKBepeKMwcD+0lKqqquJ7NOHYePG4Sc3dhai3ZIAKMQ9rramirSdm/l531bqLbUEhoSj1brcsL1eVUVvXSrhLumoVfK//72mvDYc8p5p6zKAq8/wzdXrOaJSkZuXh6evL0NGjaLPQw+h0TZ9yyIhRPsgAVCI+4CiKORmnWDnt2vJP3cSb/9gPLz8bnrBvYf6Ev312wjWZrZipeJOMGctwNXetospLmm1HDMaySkuprqykojoaOLHjcM/KKhN6xJCtIwEQCHuIzXVlaT9sInD+7+ntrqSgOBQDK6mm/YJ1GTRX78NL01RK1Upbtf5iy/jVXXj6f67qVKt5oTRSGZ1NcWFhfj4+zNoxAj6xsaidbnxyLMQon2RACjEfUZRFC6cP8P+nZvJzEhHpVYREBx201vGqLDT1eUQ0bof5CbS94DCiqEYChNa9TNrVSoyjUYybDYKLlzA6OpK7wcf5MH4eLz9/Fq1FiHE7ZMAKMR9ymazkXnyIGm7NnMh5xRGNw/8OnRCrb7xikwtFsJd0umh+wk3dUUrVituhdXuQtm5d3BphZ/eVWo1WQYD2Wo15osXsdvthD/wALEJCXQMDZX7+glxj5IAKMR9rq62hhM/7+Lgnq8oLszD65fVwjf7h1uFjVDtcSJ1+2RquJ06n/s6XnVud23/FRoNmQYDeVotxUVFVFVU0CksjEEJCUT07i23dhHiHicBUAgncaX8Mj//+C1H9n9PZUUp/kFdcDN5NtNLIVhzlkjdPjpoz7dKnaJl8kuewP1ynzu+38taLWcNBgq1WirKyigpKsI3IICY+Hh6x8RgMBrv+GcKIVqfBEAhnEyR+Tz7d/6L08d+xGq14h/UGYOx+ZEkX3U+kbp9dNKektvHtAPVlgAs51/mTk3AFrq4kGkwUKLVcqWsjMuXLmF0c6PPoEEMHDYMLx+fO/RJQoj2QAKgEE5IURRyzh7lwK4tnD93HJvVim9AR1xNns1e0+WuKqGnbh9dXY6gUdlaqWLRlPzsubhbf/v99qzARZ2ObIOBco2GspISSktKMLm707NvX/rGxhLcufOdK1gI0W5IABTCidlsNnKzjnPkwA7OnTpEXU0VXn6Bzd5DEECvqiZUe4RuLoflOsE2cr4gCa8rtx7QSrRa8vR6Lup01NvtlBYXU15aiqe3Nw8MHEh0TAwBwcF3oWIhRHshAVAIgaIomPMyOZaeyumjP1FZcRkPb3+8fANRq9XN9vdRX6Cry2FCXY6jU9W2QsUC4HJVNJqLE1vUtkalIl+vJ0+vp0qjwWa1UlJURGVFBT7+/kQ/9BBRAwfi4+9/l6sWQrQHEgCFEA0UF+Zz4tBuTvy8i7KSQlzdPfHxD77p4+WuUWOlk/Y0odpjBGkzZYq4FRRm/ScGe9PbbFy9ti9Pr6fIxQVUKuotFooLC6mtrsY/MJC+gwfzQP/+uHt5tWbZQog2JgFQCNGkirISMo7s5eiBHRQX5qHTG/H2C2rRghEAF2ro7HKSUO1x/DXnZeHIXZJzYRbe1d6O13auruQ163Rc0OmoV6tRFIUrZWWUlZSgKAodOnWi/5Ah9OzTB1fTzZ8UI4S4P0kAFELcVE11JWeOp3HkwA6KLmRTX1+Hu5cfnt7+aDQtW4BgVF0hSHuWIE0Wgdpz6GWa+I4xlz2C7tIQLrm4UKDTUejiQv0v0/a1NTWUXrpEbXU1Jk9Pwnr0oGffvoT16IHeYGjjyoUQbUkCoBCiRWxWKxfOn+bsiQOcPrGf8suFaLUuePp0wM3dq8VPhFBhx1d9gSBtFkHaTHzUF2V08DeosPlz0RLJBUtvCusjsP9y/m02G+UlJVSUlaF1cSGwUyceGDCAbpGR+AS0zfODhRDtjwRAIcQtq7pSTvbZI2Qc2ceF86epqSxHZ3TDyycAg9F0S48H01FDoPYcQdpMgjRZuKqv3MXK7111ipEzBa6cKuqIS+fHqbT/+/m7iqJQdeUKZcXFWG02vHx86BEdTUTv3nQKC0Oj/e23ihFC3J8kAAohfjNFUSguzOd85jFOHf2Roos51NZWYXTzwMPL95bDIICnuogAzXm81WZ8NAV4qoucbjGJVdFy2RbEZXtHSmzBlNg6Uqn4cObocfKzLvHw6MdRq9VUVlRQUVpKvcWCq5sbId260at/f8J69sRNru0TQtyEBEAhxB1ht9spuHCOnLNHOXPsJy4XF1BXW4VGo8Xk4YPJwxuti+6W96vChpe6CG91AT4aM94aM97qQrSq+rtwFK3PrqgotwdcDXr2jpTYOlJuD0Ch8e13SooKObTnKB2Cw3EzeeDm7k5wly6E9+pFp65dCQgOvuXALYRwThIAhWhlqampDB8+nNLSUrxaeOuN+Ph4+vbty0cffXRXa7tTbDYbxYV5mPMyyT13kvzsDK5UXMZus6I3uGHy9MHVzaNF9xhsmoKHuhgftRkvTQEmVRmu6gpcVRUYVJXt7ppCu6KmWvGg0u5Nld2TSsWbKrsXlXZvSu2B2Gj6FjuKolBdVUFl+WVqaypRqzVcuWyjV984esfEEtK1K54+PhL6hBC3TC4MEW2quX+4nn32WVavXt06xfziyJEjLFy4kD179lBcXExoaCjJycnMmjXrpv1CQ0M5f/48AAaDgQ4dOhATE0NycjIjRoxwtBs8eDBmsxlPT8+7ehy/tnr1ambPnk1ZWdld/yyNRkOH4FA6BIfS96GR1FRXUnDhHObcs5w7fZiSonxKCvNQqdS4uXvh5u6F3uB6C0FGRYXdnwq7P1ijf7XFhlF1BTd1Ba6qclxVFY5w6Koux6iqRKOqR4MVDVZ+a3ayKRrqFR1WdFiv+7NGcafS7nU14CneVNq9qFE8mhzR+zWrtZ6aqivUVFVQW1OFotgxurrj16ETXXv0I7hzdwI7dcPoKtO7QojbIwFQtCmz2ez4fv369cyfP5/Tp0873jMaja1eU3p6Ov7+/qxZs4aQkBD27dvHCy+8gEajYebMmTft+9e//pUZM2ZgsVjIyclhzZo1jBw5kvfee4933nkHAJ1OR2BgYGscSrthdDUR1j2asO7RxI6YSGlxAeb8TPKzMzifeYyy4gIsdTUoKLjo9Bhc3TG6mtAb3G55lFBBQ7XiRbXNq0Xt1b8EQY3Kihor2l/+vPYeKI6AV6/oHd+3JNDdjN1uo6a68mrYq67EbrOh0mhwdXXH2y+ITl160KFjGEEh4Xj7Bd3GaKkQQjQmAVC0qeuDkKenJyqVisDAQBRFoXv37iQnJ/PnP//Z0eb48eNER0dz9uxZunXrhkql4pNPPmHz5s2kpqYSGBhISkoKkyZNcvS5cOECc+bMYdu2bajVah5++GE+/vhjQkNDm6wpKSmpweuuXbvy448/8sUXXzQbAN3d3R3H1LlzZ4YNG0ZQUBDz58/n97//PT169Gg0BVxSUsLMmTPZvXs3ly9fplu3bvzlL38hMTGxwb6tViszZ85kzZo1aDQaXnrpJd577z3HqJnFYmHu3Ll8/vnnlJWVERUVxaJFi4iPjyc1NZXnnnsO+Peo64IFC/jP//zPm/YDOH/+PDNnzmTPnj1YLBZCQ0NZvHgxY8eOvem5uBGVSoWPfxA+/kE80G8o9ZY6LhebKS02c7nYTEF+FkXm81SUFlNXcx5FUdC4uGB0dcfgasJgNKHRaH7TZzfFjhY7WuqvzRrf4dljRVGot9RhsdRiqa2mpvoK1noLKpUag6sJk7s33Xs9SEBwKL7+HfEN6IjJw1umdYUQd5UEQNEuqVQqkpKSWLVqVYMAuHLlSoYOHUq3bt0c782bN4+FCxfy8ccf8z//8z8kJiYSFRVFZGQk1dXVDB8+nKFDh7Jr1y60Wi3vv/8+jz76KEePHkWna9mihPLycnx8fH7TscyaNYv33nuPL7/8kjfeeKPR9traWgYMGMCbb76Jh4cHX331FVOnTqVr16489NBDjnb/+Mc/+OMf/0haWhoHDx7khRdeoEuXLsyYMQOA5557jpycHNatW0dwcDAbN27k0Ucf5dixYwwePJiPPvqowQir6ZdVojfr1717d1555RUsFgu7du3Czc2NkydPOvreCS46vWO6+BprfT1llwsdobDwYg6FF85RdaWMksJ8FBRUCqACrYseF50eF53h6p8uerQuulYbMVMUBWu9BYullvq62qtBr64Gm7X+aohTQKvTo9MZ0Btc6dSrJ4GduuEb0BFf/454+gTc0UArhBAtIYtARLvx62vUzGazYwo2JiaG+vp6OnbsyOLFi3n22WeBq0ExOTmZ5cuXO/YzaNAg+vfvzyeffMLKlStJSUkhIyOjwUiZl5cXmzZtYtSoUc3W9eOPPxIXF8dXX33FI488csN2oaGhzJ49m9mzZzfaFhgYyMSJE/nkk09atAhk3LhxREZG8ve//x24ugikqKiIEydOOI7jrbfeYvPmzZw8eZKsrCy6d+9Ofn4+wcHBjv2MHDmSmJgYPvjggyavAWxJv+joaJ588kkWLFjQ7Lm6m2w2GxWllygtKaC6spyqynIqr5RRcbmI8tIiqquuUG+po76+Dmt9naOfoiio1RpUajUqlRr1L3+q1Fe/b/BapUbh6vSs3WZr+Ocv3yuK8st1gypAAQU0Li7odAZ0eiMmd2+8/QLx8g3Ezd0Lk7sXbh7emExeuJo80bo0/0xlIYS422QEULRbQUFBjBs3jpUrVxITE8OWLVuora1tML0LEBsb2+j14cOHgavX82VmZuLu7t6gTW1tLVlZWc3WcOLECSZMmMD8+fNvGv6aczU0ND2lZ7PZWLhwIevXr+fChQvU1dVRV1eHm1vDZ+4OGjSowT5iY2P58MMPsdls/PzzzyiKQkRERIM+dXV1+Pr63rCulvR77bXXeOmll9i2bRsjR47kySefJDo6uqnd3VUajQZvv0C8/Zq+frLeUkdVZTnVVRXUVFY4vq+tqbwaDC11WOstvwREC1arBWt9/S/f12O321DsdgC0Whd0ru7o9EZ0BiM6nRG9wYjO4IpeZ0DronN8GV3drwY9D2/cTJ646PSteVqEEOI3kQAo2rXnn3+eqVOnsmTJElatWsVTTz2Fq6trs/2uBSW73c6AAQP4/PPPG7Xx9/e/6T5OnjzJiBEjmDFjBnPnzv1tBwCUlJRw6dIlwsLCmtz+4YcfsmTJEj766CN69+6Nm5sbs2fPxmKxtPgz7HY7Go2G9PT0RtOJN5uubUm/559/ntGjR/PVV1+xbds2/uu//osPP/yQV199tcX1tQYXnR4vnwC8fG79cWeKomC327HbrABoXXRyDZ4Q4r4mAVC0a2PHjsXNzY3ly5fzzTffsGvXrkZtfvrpJ6ZNm9bgdb9+/QDo378/69evJyAgAA8PjxZ/7okTJxgxYgTPPvssf/vb327rGD7++GPUajWPP/54k9t3797NhAkTeOaZZ4Croezs2bNERkY2aPfTTz81et29e3c0Gg39+vXDZrNRVFTE0KFDm/wcnU6HzdbwiRot6QcQEhJCcnIyycnJvP3226xYsaLdBcDboVKp0Gg0ci2eEMJpyH0FRLum0WiYPn06b7/9NuHh4Y2mewE2bNjAypUrOXPmDAsWLGD//v2O1bpPP/00fn5+TJgwgd27d5Odnc3OnTuZNWsW+fn5TX7miRMnGD58OI888ghz5syhoKCAgoICLl261Gy9V65coaCggLy8PHbt2sULL7zA+++/z9/+9jfCw8Ob7BMeHs53333Hvn37yMjI4MUXX6SgoKBRu7y8PObMmcPp06dZu3YtS5cuddybMCIigqeffppp06bxxRdfkJ2dzYEDB1i0aBFff/01cPUaxcrKSrZv305xcTHV1dUt6jd79my+/fZbsrOz+fnnn9mxY0ejcCqEEOIeowjRTqxatUrx9PRs9H5WVpYCKCkpKY22AcqyZcuURx55RNHr9UqXLl2UtWvXNmhjNpuVadOmKX5+foper1e6du2qzJgxQykvL2+yjgULFihcvRlIg68uXbrctP4uXbo42up0OqVz587K5MmTlR07djRo98MPPyiAUlpaqiiKopSUlCgTJkxQTCaTEhAQoMydO1eZNm2aMmHCBEefuLg45eWXX1aSk5MVDw8PxdvbW3nrrbcUu93uaGOxWJT58+croaGhiouLixIYGKg88cQTytGjRx1tkpOTFV9fXwVQFixY0KJ+M2fOVLp166bo9XrF399fmTp1qlJcXHzTcyGEEKJ9k1XAot3bu3cv8fHx5Ofn06FDhwbbVCoVGzduvOH0qhBCCCEak2sARbtVV1dHXl4e8+bNY/LkyY3CnxBCCCF+G7kGULRba9eupUePHpSXl5OSktLW5QghhBD3DZkCFkIIIYRwMjICKIQQQgjhZCQACiGEEEI4GQmAQgghhBBORgKgEEIIIYSTkQAohBBCCOFkJAAKIYQQQjgZCYBCCCGEEE5GAqAQQgghhJORACiEEEII4WQkAAohhBBCOBkJgEIIIYQQTkYCoBBCCCGEk5EAKIQQQgjhZCQACiGEEEI4GQmAQgghhBBORgKgEEIIIYSTkQAohBBCCOFkJAAKIYQQQjgZCYBCCCGEEE5GAqAQQgghhJORACiEEEII4WQkAAohhBBCOBkJgEIIIYQQTkYCoBBCCCGEk5EAKIQQQgjhZCQACiGEEEI4GQmAQgghhBBORgKgEEIIIYSTkQAohBBCCOFkJAAKIYQQQjgZCYBCCKehKAovvPACPj4+qFQqDh8+fFv7mz59Oo8//niL2+fk5NyRzxVCiNslAVAIcctUKtVNv6ZPn97WJTZp69atrF69mi1btmA2m4mKimrUJjU11XEcarUaT09P+vXrxxtvvIHZbG7Q9uOPP2b16tWtVP2/xcfHM3v27Fb/XCHE/UPb1gUIIe491weh9evXM3/+fE6fPu14z2g0tkVZzcrKyiIoKIjBgwc32/b06dN4eHhQUVHBzz//TEpKCp999hmpqan07t0bAE9Pz7tdshBC3BUyAiiEuGWBgYGOL09PT1QqFYGBgXTo0IGHH36YFStWNGh//Phx1Go1WVlZwNURxOXLlzNmzBiMRiNhYWFs2LChQZ8LFy7w1FNP4e3tja+vLxMmTCAnJ+emde3cuZOYmBj0ej1BQUG89dZbWK1W4Op07auvvkpubi4qlYrQ0NCb7isgIIDAwEAiIiL4wx/+wN69e/H39+ell15ytPn1FPDWrVt5+OGH8fLywtfXl8cee8xxzNc7deoUgwcPxmAw8MADD5Camtpg+8mTJxk7diwmk4kOHTowdepUiouLHZ+5c+dOPv74Y8dI5bXzcrN+AP/85z/p3bs3RqMRX19fRo4cSVVV1U3PgxDi/iQBUAhxx6hUKpKSkli1alWD91euXMnQoUPp1q2b47158+bx5JNPcuTIEZ555hkSExPJyMgAoLq6muHDh2Mymdi1axd79uzBZDLx6KOPYrFYmvzsCxcuMHbsWB588EGOHDnC8uXL+eyzz3j//feBq9O1f/3rX+nUqRNms5kDBw7c0rEZjUaSk5PZu3cvRUVFTbapqqpizpw5HDhwgO3bt6NWq3niiSew2+0N2r3++uv86U9/4tChQwwePJjf/e53lJSUAFdHV+Pi4ujbty8HDx5k69atFBYWMnnyZMdxxMbGMmPGDMxmM2azmZCQkGb7mc1mEhMTSUpKIiMjg9TUVCZOnIiiKLd0HoQQ9wlFCCFuw6pVqxRPT0/H64sXLyoajUZJS0tTFEVRLBaL4u/vr6xevdrRBlCSk5Mb7Oehhx5SXnrpJUVRFOWzzz5TevToodjtdsf2uro6xWg0Kt9++22TdfzlL39p1GfZsmWKyWRSbDaboiiKsmTJEqVLly43PZ4ffvhBAZTS0tJG27755hsFcBzbs88+q0yYMOGG+yoqKlIA5dixY4qiKEp2drYCKAsXLnS0qa+vVzp16qQsWrRIURRFmTdvnjJq1KgG+8nLy1MA5fTp04qiKEpcXJwya9asBm2a65eenq4ASk5Ozk2PXwjhHGQEUAhxRwUFBTFu3DhWrlwJwJYtW6itrWXSpEkN2sXGxjZ6fW0EMD09nczMTNzd3TGZTJhMJnx8fKitrW1yShUgIyOD2NhYVCqV470hQ4ZQWVlJfn7+HTk25ZfRsus/43pZWVlMmTKFrl274uHhQVhYGAC5ubkN2l1/7FqtloEDBzY49h9++MFx3CaTiZ49ezr2fyPN9evTpw8JCQn07t2bSZMmsWLFCkpLS3/jmRBC3OtkEYgQ4o57/vnnmTp1KkuWLGHVqlU89dRTuLq6NtvvWrCy2+0MGDCAzz//vFEbf3//JvsqitIomDUX2G7VtZB2o+sHx48fT0hICCtWrCA4OBi73U5UVNQNp62vd/2xjx8/nkWLFjVqExQUdMP+zfXTaDR899137Nu3j23btrF06VLeeecd0tLSHEFVCOE8ZARQCHHHjR07Fjc3N5YvX84333xDUlJSozY//fRTo9fXRqz69+/P2bNnCQgIIDw8vMHXjVbe9urVi3379jW4pm3fvn24u7vTsWPH2z6mmpoaPv30U4YNG9ZkCC0pKSEjI4O5c+eSkJBAZGTkDUfYrj92q9VKenp6g2M/ceIEoaGhjY7dzc0NAJ1Oh81ma7DPlvRTqVQMGTKEd999l0OHDqHT6di4ceNtnxshxL1HAqAQ4o7TaDRMnz6dt99+m/Dw8EbTvQAbNmxg5cqVnDlzhgULFrB//35mzpwJwNNPP42fnx8TJkxg9+7dZGdns3PnTmbNmnXD6dyXX36ZvLw8Xn31VU6dOsWXX37JggULmDNnDmr1rf+oKyoqoqCggLNnz7Ju3TqGDBlCcXExy5cvb7L9tdXKn376KZmZmezYsYM5c+Y02XbZsmVs3LiRU6dO8corr1BaWuoIya+88gqXL18mMTGR/fv3c+7cObZt20ZSUpIj9IWGhpKWlkZOTg7FxcXY7fZm+6WlpfHBBx9w8OBBcnNz+eKLL7h06RKRkZG3fG6EEPeBtr0EUQhxr/v1IpBrsrKyFEBJSUlptA1Qli1bpjzyyCOKXq9XunTpoqxdu7ZBG7PZrEybNk3x8/NT9Hq90rVrV2XGjBlKeXn5DWtJTU1VHnzwQUWn0ymBgYHKm2++qdTX1zu238oiEEBRqVSKu7u70qdPH+X1119XzGZzg7a/XgTy3XffKZGRkYper1eio6OV1NRUBVA2btyoKMq/F4H87//+r/LQQw8pOp1OiYyMVLZv395gv2fOnFGeeOIJxcvLSzEajUrPnj2V2bNnOxa4nD59Whk0aJBiNBoVQMnOzm6238mTJ5XRo0cr/v7+il6vVyIiIpSlS5fe9FwIIe5fKkWRewAIIe68vXv3Eh8fT35+Ph06dGiwTaVSsXHjxlt6jJoQQog7RxaBCCHuqLq6OvLy8pg3bx6TJ09uFP6EEEK0PbkGUAhxR61du5YePXpQXl5OSkpKW5cjhBCiCTIFLIQQQgjhZGQEUAghhBDCyUgAFEIIIYRwMhIAhRBCCCGcjARAIYQQQggnIwFQCCGEEMLJSAAUQgghhHAyEgCFEEIIIZyMBEAhhBBCCCcjAVAIIYQQwslIABRCCCGEcDISAIUQQgghnIwEQCGEEEIIJyMBUAghhBDCyUgAFEIIIYRwMhIAhRBCCCGcjARAIYQQQggnIwFQCCGEEMLJSAAUQgghhHAyEgCFEEIIIZyMBEAhhBBCCCcjAVAIIYQQwslIABRCCCGEcDISAIUQQgghnIwEQCGEEEIIJyMBUAghhBDCyUgAFEIIIYRwMhIAhRBCCCGcjARAIYQQQggnIwFQCCGEEMLJSAAUQgghhHAyEgCFEEIIIZyMBEAhhBBCCCfz/wOz6+LNrEcu6QAAAABJRU5ErkJggg==' width=640.0/>\n",
       "            </div>\n",
       "        "
      ],
      "text/plain": [
       "Canvas(toolbar=Toolbar(toolitems=[('Home', 'Reset original view', 'home', 'home'), ('Back', 'Back to previous …"
      ]
     },
     "metadata": {},
     "output_type": "display_data"
    }
   ],
   "source": [
    "pie_labels = [\"Type 1 Diabetes\", \"Type 2 Diabetes\", \"Type 3c Diabetes (Pancreatogenic Diabetes)\", \"Wolfram Syndrome\", \"Gestational Diabetes\"]\n",
    "pie_sizes = [percent_type1_complications, percent_type2_complications, percent_type3_complications, percent_wolfram_complications, percent_gestational_complications]\n",
    "colors = [\"red\", \"orange\", \"lightcoral\", \"lightskyblue\"]\n",
    "plt.pie(pie_sizes, labels=pie_labels, colors=colors, autopct=\"%1.1f%%\", shadow=True, startangle=140)\n",
    "plt.show()"
   ]
  }
 ],
 "metadata": {
  "kernelspec": {
   "display_name": "base",
   "language": "python",
   "name": "python3"
  },
  "language_info": {
   "codemirror_mode": {
    "name": "ipython",
    "version": 3
   },
   "file_extension": ".py",
   "mimetype": "text/x-python",
   "name": "python",
   "nbconvert_exporter": "python",
   "pygments_lexer": "ipython3",
   "version": "3.12.7"
  }
 },
 "nbformat": 4,
 "nbformat_minor": 2
}
