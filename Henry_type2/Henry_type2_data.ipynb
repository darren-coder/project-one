{
 "cells": [
  {
   "cell_type": "code",
   "execution_count": 1,
   "metadata": {},
   "outputs": [],
   "source": [
    "%matplotlib notebook\n",
    "%matplotlib ipympl\n",
    "%matplotlib ipympl"
   ]
  },
  {
   "cell_type": "code",
   "execution_count": 2,
   "metadata": {},
   "outputs": [],
   "source": [
    "import pandas as pd\n",
    "from pathlib import Path\n",
    "import matplotlib.pyplot as plt\n",
    "import numpy as np"
   ]
  },
  {
   "cell_type": "code",
   "execution_count": 3,
   "metadata": {},
   "outputs": [],
   "source": [
    "path = Path(\"../data/diabetes_dataset00.csv\")"
   ]
  },
  {
   "cell_type": "code",
   "execution_count": 4,
   "metadata": {},
   "outputs": [
    {
     "data": {
      "text/plain": [
       "Target\n",
       "MODY                                          5553\n",
       "Secondary Diabetes                            5479\n",
       "Cystic Fibrosis-Related Diabetes (CFRD)       5464\n",
       "Type 1 Diabetes                               5446\n",
       "Neonatal Diabetes Mellitus (NDM)              5408\n",
       "Wolcott-Rallison Syndrome                     5400\n",
       "Type 2 Diabetes                               5397\n",
       "Prediabetic                                   5376\n",
       "Gestational Diabetes                          5344\n",
       "Type 3c Diabetes (Pancreatogenic Diabetes)    5320\n",
       "Wolfram Syndrome                              5315\n",
       "Steroid-Induced Diabetes                      5275\n",
       "LADA                                          5223\n",
       "Name: count, dtype: int64"
      ]
     },
     "execution_count": 4,
     "metadata": {},
     "output_type": "execute_result"
    }
   ],
   "source": [
    "original_data = pd.read_csv(path)\n",
    "original_data.value_counts(\"Target\")\n"
   ]
  },
  {
   "cell_type": "code",
   "execution_count": 5,
   "metadata": {},
   "outputs": [],
   "source": [
    "type2_df = original_data[original_data['Target'] == 'Type 2 Diabetes']"
   ]
  },
  {
   "cell_type": "code",
   "execution_count": 6,
   "metadata": {},
   "outputs": [],
   "source": [
    "type1_df = original_data[original_data['Target'] == 'Type 1 Diabetes']"
   ]
  },
  {
   "cell_type": "code",
   "execution_count": 7,
   "metadata": {},
   "outputs": [],
   "source": [
    "type3_df = original_data[original_data['Target'] == 'Type 3c Diabetes (Pancreatogenic Diabetes)']"
   ]
  },
  {
   "cell_type": "code",
   "execution_count": 8,
   "metadata": {},
   "outputs": [],
   "source": [
    "wolfram_df = original_data[original_data['Target'] == 'Wolfram Syndrome']"
   ]
  },
  {
   "cell_type": "code",
   "execution_count": 9,
   "metadata": {},
   "outputs": [],
   "source": [
    "gestational_df = original_data[original_data['Target'] == 'Gestational Diabetes']"
   ]
  },
  {
   "cell_type": "code",
   "execution_count": 10,
   "metadata": {},
   "outputs": [
    {
     "data": {
      "text/html": [
       "<div>\n",
       "<style scoped>\n",
       "    .dataframe tbody tr th:only-of-type {\n",
       "        vertical-align: middle;\n",
       "    }\n",
       "\n",
       "    .dataframe tbody tr th {\n",
       "        vertical-align: top;\n",
       "    }\n",
       "\n",
       "    .dataframe thead th {\n",
       "        text-align: right;\n",
       "    }\n",
       "</style>\n",
       "<table border=\"1\" class=\"dataframe\">\n",
       "  <thead>\n",
       "    <tr style=\"text-align: right;\">\n",
       "      <th></th>\n",
       "      <th>Target</th>\n",
       "      <th>Previous Gestational Diabetes</th>\n",
       "      <th>Pregnancy History</th>\n",
       "      <th>Weight Gain During Pregnancy</th>\n",
       "      <th>History of PCOS</th>\n",
       "    </tr>\n",
       "  </thead>\n",
       "  <tbody>\n",
       "    <tr>\n",
       "      <th>6</th>\n",
       "      <td>Type 2 Diabetes</td>\n",
       "      <td>Yes</td>\n",
       "      <td>Normal</td>\n",
       "      <td>15</td>\n",
       "      <td>No</td>\n",
       "    </tr>\n",
       "    <tr>\n",
       "      <th>28</th>\n",
       "      <td>Type 2 Diabetes</td>\n",
       "      <td>No</td>\n",
       "      <td>Normal</td>\n",
       "      <td>17</td>\n",
       "      <td>No</td>\n",
       "    </tr>\n",
       "    <tr>\n",
       "      <th>32</th>\n",
       "      <td>Type 2 Diabetes</td>\n",
       "      <td>Yes</td>\n",
       "      <td>Complications</td>\n",
       "      <td>26</td>\n",
       "      <td>No</td>\n",
       "    </tr>\n",
       "    <tr>\n",
       "      <th>38</th>\n",
       "      <td>Type 2 Diabetes</td>\n",
       "      <td>No</td>\n",
       "      <td>Normal</td>\n",
       "      <td>26</td>\n",
       "      <td>No</td>\n",
       "    </tr>\n",
       "    <tr>\n",
       "      <th>41</th>\n",
       "      <td>Type 2 Diabetes</td>\n",
       "      <td>Yes</td>\n",
       "      <td>Complications</td>\n",
       "      <td>35</td>\n",
       "      <td>No</td>\n",
       "    </tr>\n",
       "  </tbody>\n",
       "</table>\n",
       "</div>"
      ],
      "text/plain": [
       "             Target Previous Gestational Diabetes Pregnancy History  \\\n",
       "6   Type 2 Diabetes                           Yes            Normal   \n",
       "28  Type 2 Diabetes                            No            Normal   \n",
       "32  Type 2 Diabetes                           Yes     Complications   \n",
       "38  Type 2 Diabetes                            No            Normal   \n",
       "41  Type 2 Diabetes                           Yes     Complications   \n",
       "\n",
       "    Weight Gain During Pregnancy History of PCOS  \n",
       "6                             15              No  \n",
       "28                            17              No  \n",
       "32                            26              No  \n",
       "38                            26              No  \n",
       "41                            35              No  "
      ]
     },
     "execution_count": 10,
     "metadata": {},
     "output_type": "execute_result"
    }
   ],
   "source": [
    "pregnancy_type2_df = type2_df[[\"Target\",\"Previous Gestational Diabetes\",\"Pregnancy History\",\"Weight Gain During Pregnancy\",\"History of PCOS\"]]\n",
    "pregnancy_type2_df.head()"
   ]
  },
  {
   "cell_type": "code",
   "execution_count": 11,
   "metadata": {},
   "outputs": [
    {
     "data": {
      "text/html": [
       "<div>\n",
       "<style scoped>\n",
       "    .dataframe tbody tr th:only-of-type {\n",
       "        vertical-align: middle;\n",
       "    }\n",
       "\n",
       "    .dataframe tbody tr th {\n",
       "        vertical-align: top;\n",
       "    }\n",
       "\n",
       "    .dataframe thead th {\n",
       "        text-align: right;\n",
       "    }\n",
       "</style>\n",
       "<table border=\"1\" class=\"dataframe\">\n",
       "  <thead>\n",
       "    <tr style=\"text-align: right;\">\n",
       "      <th></th>\n",
       "      <th>Target</th>\n",
       "      <th>Previous Gestational Diabetes</th>\n",
       "      <th>Pregnancy History</th>\n",
       "      <th>Weight Gain During Pregnancy</th>\n",
       "      <th>History of PCOS</th>\n",
       "    </tr>\n",
       "  </thead>\n",
       "  <tbody>\n",
       "    <tr>\n",
       "      <th>3</th>\n",
       "      <td>Type 1 Diabetes</td>\n",
       "      <td>Yes</td>\n",
       "      <td>Normal</td>\n",
       "      <td>12</td>\n",
       "      <td>No</td>\n",
       "    </tr>\n",
       "    <tr>\n",
       "      <th>11</th>\n",
       "      <td>Type 1 Diabetes</td>\n",
       "      <td>No</td>\n",
       "      <td>Complications</td>\n",
       "      <td>24</td>\n",
       "      <td>Yes</td>\n",
       "    </tr>\n",
       "    <tr>\n",
       "      <th>19</th>\n",
       "      <td>Type 1 Diabetes</td>\n",
       "      <td>No</td>\n",
       "      <td>Normal</td>\n",
       "      <td>24</td>\n",
       "      <td>Yes</td>\n",
       "    </tr>\n",
       "    <tr>\n",
       "      <th>36</th>\n",
       "      <td>Type 1 Diabetes</td>\n",
       "      <td>No</td>\n",
       "      <td>Normal</td>\n",
       "      <td>7</td>\n",
       "      <td>No</td>\n",
       "    </tr>\n",
       "    <tr>\n",
       "      <th>43</th>\n",
       "      <td>Type 1 Diabetes</td>\n",
       "      <td>Yes</td>\n",
       "      <td>Complications</td>\n",
       "      <td>6</td>\n",
       "      <td>Yes</td>\n",
       "    </tr>\n",
       "  </tbody>\n",
       "</table>\n",
       "</div>"
      ],
      "text/plain": [
       "             Target Previous Gestational Diabetes Pregnancy History  \\\n",
       "3   Type 1 Diabetes                           Yes            Normal   \n",
       "11  Type 1 Diabetes                            No     Complications   \n",
       "19  Type 1 Diabetes                            No            Normal   \n",
       "36  Type 1 Diabetes                            No            Normal   \n",
       "43  Type 1 Diabetes                           Yes     Complications   \n",
       "\n",
       "    Weight Gain During Pregnancy History of PCOS  \n",
       "3                             12              No  \n",
       "11                            24             Yes  \n",
       "19                            24             Yes  \n",
       "36                             7              No  \n",
       "43                             6             Yes  "
      ]
     },
     "execution_count": 11,
     "metadata": {},
     "output_type": "execute_result"
    }
   ],
   "source": [
    "pregnancy_type1_df = type1_df[[\"Target\",\"Previous Gestational Diabetes\",\"Pregnancy History\",\"Weight Gain During Pregnancy\",\"History of PCOS\"]]\n",
    "pregnancy_type1_df.head()"
   ]
  },
  {
   "cell_type": "code",
   "execution_count": 12,
   "metadata": {},
   "outputs": [
    {
     "data": {
      "text/html": [
       "<div>\n",
       "<style scoped>\n",
       "    .dataframe tbody tr th:only-of-type {\n",
       "        vertical-align: middle;\n",
       "    }\n",
       "\n",
       "    .dataframe tbody tr th {\n",
       "        vertical-align: top;\n",
       "    }\n",
       "\n",
       "    .dataframe thead th {\n",
       "        text-align: right;\n",
       "    }\n",
       "</style>\n",
       "<table border=\"1\" class=\"dataframe\">\n",
       "  <thead>\n",
       "    <tr style=\"text-align: right;\">\n",
       "      <th></th>\n",
       "      <th>Target</th>\n",
       "      <th>Previous Gestational Diabetes</th>\n",
       "      <th>Pregnancy History</th>\n",
       "      <th>Weight Gain During Pregnancy</th>\n",
       "      <th>History of PCOS</th>\n",
       "    </tr>\n",
       "  </thead>\n",
       "  <tbody>\n",
       "    <tr>\n",
       "      <th>18</th>\n",
       "      <td>Type 3c Diabetes (Pancreatogenic Diabetes)</td>\n",
       "      <td>Yes</td>\n",
       "      <td>Normal</td>\n",
       "      <td>28</td>\n",
       "      <td>No</td>\n",
       "    </tr>\n",
       "    <tr>\n",
       "      <th>23</th>\n",
       "      <td>Type 3c Diabetes (Pancreatogenic Diabetes)</td>\n",
       "      <td>No</td>\n",
       "      <td>Normal</td>\n",
       "      <td>29</td>\n",
       "      <td>Yes</td>\n",
       "    </tr>\n",
       "    <tr>\n",
       "      <th>42</th>\n",
       "      <td>Type 3c Diabetes (Pancreatogenic Diabetes)</td>\n",
       "      <td>No</td>\n",
       "      <td>Complications</td>\n",
       "      <td>26</td>\n",
       "      <td>Yes</td>\n",
       "    </tr>\n",
       "    <tr>\n",
       "      <th>71</th>\n",
       "      <td>Type 3c Diabetes (Pancreatogenic Diabetes)</td>\n",
       "      <td>Yes</td>\n",
       "      <td>Complications</td>\n",
       "      <td>20</td>\n",
       "      <td>Yes</td>\n",
       "    </tr>\n",
       "    <tr>\n",
       "      <th>79</th>\n",
       "      <td>Type 3c Diabetes (Pancreatogenic Diabetes)</td>\n",
       "      <td>No</td>\n",
       "      <td>Normal</td>\n",
       "      <td>24</td>\n",
       "      <td>Yes</td>\n",
       "    </tr>\n",
       "  </tbody>\n",
       "</table>\n",
       "</div>"
      ],
      "text/plain": [
       "                                        Target Previous Gestational Diabetes  \\\n",
       "18  Type 3c Diabetes (Pancreatogenic Diabetes)                           Yes   \n",
       "23  Type 3c Diabetes (Pancreatogenic Diabetes)                            No   \n",
       "42  Type 3c Diabetes (Pancreatogenic Diabetes)                            No   \n",
       "71  Type 3c Diabetes (Pancreatogenic Diabetes)                           Yes   \n",
       "79  Type 3c Diabetes (Pancreatogenic Diabetes)                            No   \n",
       "\n",
       "   Pregnancy History  Weight Gain During Pregnancy History of PCOS  \n",
       "18            Normal                            28              No  \n",
       "23            Normal                            29             Yes  \n",
       "42     Complications                            26             Yes  \n",
       "71     Complications                            20             Yes  \n",
       "79            Normal                            24             Yes  "
      ]
     },
     "execution_count": 12,
     "metadata": {},
     "output_type": "execute_result"
    }
   ],
   "source": [
    "pregnancy_type3_df = type3_df[[\"Target\",\"Previous Gestational Diabetes\",\"Pregnancy History\",\"Weight Gain During Pregnancy\",\"History of PCOS\"]]\n",
    "pregnancy_type3_df.head()"
   ]
  },
  {
   "cell_type": "code",
   "execution_count": 13,
   "metadata": {},
   "outputs": [
    {
     "data": {
      "text/html": [
       "<div>\n",
       "<style scoped>\n",
       "    .dataframe tbody tr th:only-of-type {\n",
       "        vertical-align: middle;\n",
       "    }\n",
       "\n",
       "    .dataframe tbody tr th {\n",
       "        vertical-align: top;\n",
       "    }\n",
       "\n",
       "    .dataframe thead th {\n",
       "        text-align: right;\n",
       "    }\n",
       "</style>\n",
       "<table border=\"1\" class=\"dataframe\">\n",
       "  <thead>\n",
       "    <tr style=\"text-align: right;\">\n",
       "      <th></th>\n",
       "      <th>Target</th>\n",
       "      <th>Previous Gestational Diabetes</th>\n",
       "      <th>Pregnancy History</th>\n",
       "      <th>Weight Gain During Pregnancy</th>\n",
       "      <th>History of PCOS</th>\n",
       "    </tr>\n",
       "  </thead>\n",
       "  <tbody>\n",
       "    <tr>\n",
       "      <th>4</th>\n",
       "      <td>Wolfram Syndrome</td>\n",
       "      <td>Yes</td>\n",
       "      <td>Complications</td>\n",
       "      <td>2</td>\n",
       "      <td>No</td>\n",
       "    </tr>\n",
       "    <tr>\n",
       "      <th>24</th>\n",
       "      <td>Wolfram Syndrome</td>\n",
       "      <td>Yes</td>\n",
       "      <td>Complications</td>\n",
       "      <td>2</td>\n",
       "      <td>No</td>\n",
       "    </tr>\n",
       "    <tr>\n",
       "      <th>34</th>\n",
       "      <td>Wolfram Syndrome</td>\n",
       "      <td>Yes</td>\n",
       "      <td>Normal</td>\n",
       "      <td>1</td>\n",
       "      <td>No</td>\n",
       "    </tr>\n",
       "    <tr>\n",
       "      <th>46</th>\n",
       "      <td>Wolfram Syndrome</td>\n",
       "      <td>No</td>\n",
       "      <td>Normal</td>\n",
       "      <td>3</td>\n",
       "      <td>Yes</td>\n",
       "    </tr>\n",
       "    <tr>\n",
       "      <th>90</th>\n",
       "      <td>Wolfram Syndrome</td>\n",
       "      <td>Yes</td>\n",
       "      <td>Complications</td>\n",
       "      <td>1</td>\n",
       "      <td>No</td>\n",
       "    </tr>\n",
       "  </tbody>\n",
       "</table>\n",
       "</div>"
      ],
      "text/plain": [
       "              Target Previous Gestational Diabetes Pregnancy History  \\\n",
       "4   Wolfram Syndrome                           Yes     Complications   \n",
       "24  Wolfram Syndrome                           Yes     Complications   \n",
       "34  Wolfram Syndrome                           Yes            Normal   \n",
       "46  Wolfram Syndrome                            No            Normal   \n",
       "90  Wolfram Syndrome                           Yes     Complications   \n",
       "\n",
       "    Weight Gain During Pregnancy History of PCOS  \n",
       "4                              2              No  \n",
       "24                             2              No  \n",
       "34                             1              No  \n",
       "46                             3             Yes  \n",
       "90                             1              No  "
      ]
     },
     "execution_count": 13,
     "metadata": {},
     "output_type": "execute_result"
    }
   ],
   "source": [
    "pregnancy_wolfram_df = wolfram_df[[\"Target\",\"Previous Gestational Diabetes\",\"Pregnancy History\",\"Weight Gain During Pregnancy\",\"History of PCOS\"]]\n",
    "pregnancy_wolfram_df.head()"
   ]
  },
  {
   "cell_type": "code",
   "execution_count": 14,
   "metadata": {},
   "outputs": [
    {
     "data": {
      "text/html": [
       "<div>\n",
       "<style scoped>\n",
       "    .dataframe tbody tr th:only-of-type {\n",
       "        vertical-align: middle;\n",
       "    }\n",
       "\n",
       "    .dataframe tbody tr th {\n",
       "        vertical-align: top;\n",
       "    }\n",
       "\n",
       "    .dataframe thead th {\n",
       "        text-align: right;\n",
       "    }\n",
       "</style>\n",
       "<table border=\"1\" class=\"dataframe\">\n",
       "  <thead>\n",
       "    <tr style=\"text-align: right;\">\n",
       "      <th></th>\n",
       "      <th>Target</th>\n",
       "      <th>Previous Gestational Diabetes</th>\n",
       "      <th>Pregnancy History</th>\n",
       "      <th>Weight Gain During Pregnancy</th>\n",
       "      <th>History of PCOS</th>\n",
       "    </tr>\n",
       "  </thead>\n",
       "  <tbody>\n",
       "    <tr>\n",
       "      <th>20</th>\n",
       "      <td>Gestational Diabetes</td>\n",
       "      <td>Yes</td>\n",
       "      <td>Complications</td>\n",
       "      <td>26</td>\n",
       "      <td>No</td>\n",
       "    </tr>\n",
       "    <tr>\n",
       "      <th>33</th>\n",
       "      <td>Gestational Diabetes</td>\n",
       "      <td>Yes</td>\n",
       "      <td>Normal</td>\n",
       "      <td>14</td>\n",
       "      <td>No</td>\n",
       "    </tr>\n",
       "    <tr>\n",
       "      <th>37</th>\n",
       "      <td>Gestational Diabetes</td>\n",
       "      <td>Yes</td>\n",
       "      <td>Complications</td>\n",
       "      <td>28</td>\n",
       "      <td>No</td>\n",
       "    </tr>\n",
       "    <tr>\n",
       "      <th>39</th>\n",
       "      <td>Gestational Diabetes</td>\n",
       "      <td>Yes</td>\n",
       "      <td>Complications</td>\n",
       "      <td>15</td>\n",
       "      <td>No</td>\n",
       "    </tr>\n",
       "    <tr>\n",
       "      <th>44</th>\n",
       "      <td>Gestational Diabetes</td>\n",
       "      <td>No</td>\n",
       "      <td>Complications</td>\n",
       "      <td>17</td>\n",
       "      <td>Yes</td>\n",
       "    </tr>\n",
       "  </tbody>\n",
       "</table>\n",
       "</div>"
      ],
      "text/plain": [
       "                  Target Previous Gestational Diabetes Pregnancy History  \\\n",
       "20  Gestational Diabetes                           Yes     Complications   \n",
       "33  Gestational Diabetes                           Yes            Normal   \n",
       "37  Gestational Diabetes                           Yes     Complications   \n",
       "39  Gestational Diabetes                           Yes     Complications   \n",
       "44  Gestational Diabetes                            No     Complications   \n",
       "\n",
       "    Weight Gain During Pregnancy History of PCOS  \n",
       "20                            26              No  \n",
       "33                            14              No  \n",
       "37                            28              No  \n",
       "39                            15              No  \n",
       "44                            17             Yes  "
      ]
     },
     "execution_count": 14,
     "metadata": {},
     "output_type": "execute_result"
    }
   ],
   "source": [
    "pregnancy_gestational_df = gestational_df[[\"Target\",\"Previous Gestational Diabetes\",\"Pregnancy History\",\"Weight Gain During Pregnancy\",\"History of PCOS\"]]\n",
    "pregnancy_gestational_df.head()"
   ]
  },
  {
   "cell_type": "markdown",
   "metadata": {},
   "source": [
    "## Weight Gain During Pregnancy"
   ]
  },
  {
   "cell_type": "code",
   "execution_count": 15,
   "metadata": {},
   "outputs": [
    {
     "data": {
      "text/plain": [
       "26.947192884936076"
      ]
     },
     "execution_count": 15,
     "metadata": {},
     "output_type": "execute_result"
    }
   ],
   "source": [
    "type_2_mean = pregnancy_type2_df['Weight Gain During Pregnancy'].mean()\n",
    "type_2_mean"
   ]
  },
  {
   "cell_type": "code",
   "execution_count": 16,
   "metadata": {},
   "outputs": [
    {
     "data": {
      "text/plain": [
       "14.593279471171503"
      ]
     },
     "execution_count": 16,
     "metadata": {},
     "output_type": "execute_result"
    }
   ],
   "source": [
    "type_1_mean = pregnancy_type1_df['Weight Gain During Pregnancy'].mean()\n",
    "type_1_mean"
   ]
  },
  {
   "cell_type": "code",
   "execution_count": 17,
   "metadata": {},
   "outputs": [
    {
     "data": {
      "text/plain": [
       "21.98890977443609"
      ]
     },
     "execution_count": 17,
     "metadata": {},
     "output_type": "execute_result"
    }
   ],
   "source": [
    "type_3_mean = pregnancy_type3_df['Weight Gain During Pregnancy'].mean()\n",
    "type_3_mean"
   ]
  },
  {
   "cell_type": "code",
   "execution_count": 18,
   "metadata": {},
   "outputs": [
    {
     "data": {
      "text/plain": [
       "1.9936030103480715"
      ]
     },
     "execution_count": 18,
     "metadata": {},
     "output_type": "execute_result"
    }
   ],
   "source": [
    "wolfram_mean = pregnancy_wolfram_df['Weight Gain During Pregnancy'].mean()\n",
    "wolfram_mean"
   ]
  },
  {
   "cell_type": "code",
   "execution_count": 19,
   "metadata": {},
   "outputs": [
    {
     "data": {
      "text/plain": [
       "19.48390718562874"
      ]
     },
     "execution_count": 19,
     "metadata": {},
     "output_type": "execute_result"
    }
   ],
   "source": [
    "gestational_mean = pregnancy_gestational_df['Weight Gain During Pregnancy'].mean()\n",
    "gestational_mean"
   ]
  },
  {
   "cell_type": "code",
   "execution_count": 20,
   "metadata": {},
   "outputs": [
    {
     "data": {
      "text/plain": [
       "15.496414285714286"
      ]
     },
     "execution_count": 20,
     "metadata": {},
     "output_type": "execute_result"
    }
   ],
   "source": [
    "mean_all = original_data['Weight Gain During Pregnancy'].mean()\n",
    "mean_all"
   ]
  },
  {
   "cell_type": "code",
   "execution_count": 24,
   "metadata": {},
   "outputs": [],
   "source": [
    "bar_y_axis = [type_2_mean, type_1_mean, type_3_mean, wolfram_mean, gestational_mean]\n",
    "bar_x_axis = np.arange(len(bar_y_axis))"
   ]
  },
  {
   "cell_type": "code",
   "execution_count": 32,
   "metadata": {},
   "outputs": [
    {
     "data": {
      "application/vnd.jupyter.widget-view+json": {
       "model_id": "67e4f929dce54d0bb4cb71755c489e27",
       "version_major": 2,
       "version_minor": 0
      },
      "image/png": "[encoded data removed]",
      "text/html": [
       "\n",
       "            <div style=\"display: inline-block;\">\n",
       "                <div class=\"jupyter-widgets widget-label\" style=\"text-align: center;\">\n",
       "                    Figure 1\n",
       "                </div>\n",
       "                <img src='data:image/png;base64,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' width=640.0/>\n",
       "            </div>\n",
       "        "
      ],
      "text/plain": [
       "Canvas(toolbar=Toolbar(toolitems=[('Home', 'Reset original view', 'home', 'home'), ('Back', 'Back to previous …"
      ]
     },
     "metadata": {},
     "output_type": "display_data"
    }
   ],
   "source": [
    "plt.bar(bar_x_axis, bar_y_axis, color='b', align=\"center\")\n",
    "tick_locations = [value for value in bar_x_axis]\n",
    "plt.xticks(tick_locations, [\"Type 2\", \"Type 1\", \"Type 3c\", \"Wolfram Syndrome\", \"Gestational\"])\n",
    "plt.title(\"Average Weight Gain During Pregnancy\")\n",
    "plt.xlabel(\"Type of Diabetes\")\n",
    "plt.ylabel(\"Weight Gain During Pregnancy\")\n",
    "plt.show()"
   ]
  },
  {
   "cell_type": "markdown",
   "metadata": {},
   "source": [
    "## Complications During Pregnancy"
   ]
  },
  {
   "cell_type": "code",
   "execution_count": null,
   "metadata": {},
   "outputs": [],
   "source": [
    "pregnancy_df.value_counts('Pregnancy History')"
   ]
  },
  {
   "cell_type": "code",
   "execution_count": 17,
   "metadata": {},
   "outputs": [],
   "source": [
    "complications_type2 = 2688\n",
    "total_history_type2 = pregnancy_df['Pregnancy History'].count()"
   ]
  },
  {
   "cell_type": "code",
   "execution_count": null,
   "metadata": {},
   "outputs": [],
   "source": [
    "percentage_complication_type2 = complications_type2 / total_history_type2 * 100\n",
    "percentage_complication_type2"
   ]
  },
  {
   "cell_type": "code",
   "execution_count": null,
   "metadata": {},
   "outputs": [],
   "source": [
    "original_data['Pregnancy History'].value_counts()"
   ]
  },
  {
   "cell_type": "code",
   "execution_count": 20,
   "metadata": {},
   "outputs": [],
   "source": [
    "complications_all = 34730\n",
    "total_history_all = original_data['Pregnancy History'].count()"
   ]
  },
  {
   "cell_type": "code",
   "execution_count": null,
   "metadata": {},
   "outputs": [],
   "source": [
    "percentage_complication_all = complications_all / total_history_all * 100\n",
    "percentage_complication_all"
   ]
  },
  {
   "cell_type": "markdown",
   "metadata": {},
   "source": [
    "## Previous Gestational Diabetes"
   ]
  },
  {
   "cell_type": "code",
   "execution_count": null,
   "metadata": {},
   "outputs": [],
   "source": [
    "pregnancy_df.value_counts('Previous Gestational Diabetes')"
   ]
  },
  {
   "cell_type": "code",
   "execution_count": 23,
   "metadata": {},
   "outputs": [],
   "source": [
    "previousgestational_type2 = 2691\n",
    "total_previousgestational_type2 = pregnancy_df['Previous Gestational Diabetes'].count()"
   ]
  },
  {
   "cell_type": "code",
   "execution_count": null,
   "metadata": {},
   "outputs": [],
   "source": [
    "percentage_previousgestational_type2 = previousgestational_type2 / total_previousgestational_type2 * 100\n",
    "percentage_previousgestational_type2"
   ]
  },
  {
   "cell_type": "code",
   "execution_count": null,
   "metadata": {},
   "outputs": [],
   "source": [
    "original_data.value_counts('Previous Gestational Diabetes')"
   ]
  },
  {
   "cell_type": "code",
   "execution_count": 26,
   "metadata": {},
   "outputs": [],
   "source": [
    "previousgestational_all = 35035\n",
    "total_previousgestational_all = original_data['Previous Gestational Diabetes'].count()"
   ]
  },
  {
   "cell_type": "code",
   "execution_count": null,
   "metadata": {},
   "outputs": [],
   "source": [
    "percentage_previousgestational_all = previousgestational_all / total_previousgestational_all * 100\n",
    "percentage_previousgestational_all"
   ]
  }
 ],
 "metadata": {
  "kernelspec": {
   "display_name": "base",
   "language": "python",
   "name": "python3"
  },
  "language_info": {
   "codemirror_mode": {
    "name": "ipython",
    "version": 3
   },
   "file_extension": ".py",
   "mimetype": "text/x-python",
   "name": "python",
   "nbconvert_exporter": "python",
   "pygments_lexer": "ipython3",
   "version": "3.12.7"
  }
 },
 "nbformat": 4,
 "nbformat_minor": 2
}
