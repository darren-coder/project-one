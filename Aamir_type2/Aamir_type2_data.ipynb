{
 "cells": [
  {
   "cell_type": "code",
   "execution_count": 1,
   "metadata": {},
   "outputs": [],
   "source": [
    "%matplotlib ipympl"
   ]
  },
  {
   "cell_type": "code",
   "execution_count": 2,
   "metadata": {},
   "outputs": [],
   "source": [
    "import pandas as pd\n",
    "from pathlib import Path\n",
    "import matplotlib.pyplot as plt\n",
    "import numpy as np"
   ]
  },
  {
   "cell_type": "code",
   "execution_count": 3,
   "metadata": {},
   "outputs": [],
   "source": [
    "path = Path(\"../data/diabetes_dataset00.csv\")"
   ]
  },
  {
   "cell_type": "code",
   "execution_count": 4,
   "metadata": {},
   "outputs": [
    {
     "data": {
      "text/plain": [
       "Target\n",
       "MODY                                          5553\n",
       "Secondary Diabetes                            5479\n",
       "Cystic Fibrosis-Related Diabetes (CFRD)       5464\n",
       "Type 1 Diabetes                               5446\n",
       "Neonatal Diabetes Mellitus (NDM)              5408\n",
       "Wolcott-Rallison Syndrome                     5400\n",
       "Type 2 Diabetes                               5397\n",
       "Prediabetic                                   5376\n",
       "Gestational Diabetes                          5344\n",
       "Type 3c Diabetes (Pancreatogenic Diabetes)    5320\n",
       "Wolfram Syndrome                              5315\n",
       "Steroid-Induced Diabetes                      5275\n",
       "LADA                                          5223\n",
       "Name: count, dtype: int64"
      ]
     },
     "execution_count": 4,
     "metadata": {},
     "output_type": "execute_result"
    }
   ],
   "source": [
    "original_data = pd.read_csv(path)\n",
    "original_data.value_counts(\"Target\")\n"
   ]
  },
  {
   "cell_type": "code",
   "execution_count": 5,
   "metadata": {},
   "outputs": [
    {
     "data": {
      "text/plain": [
       "Target                           5397\n",
       "Genetic Markers                  5397\n",
       "Autoantibodies                   5397\n",
       "Family History                   5397\n",
       "Environmental Factors            5397\n",
       "Insulin Levels                   5397\n",
       "Age                              5397\n",
       "BMI                              5397\n",
       "Physical Activity                5397\n",
       "Dietary Habits                   5397\n",
       "Blood Pressure                   5397\n",
       "Cholesterol Levels               5397\n",
       "Waist Circumference              5397\n",
       "Blood Glucose Levels             5397\n",
       "Ethnicity                        5397\n",
       "Socioeconomic Factors            5397\n",
       "Smoking Status                   5397\n",
       "Alcohol Consumption              5397\n",
       "Glucose Tolerance Test           5397\n",
       "History of PCOS                  5397\n",
       "Previous Gestational Diabetes    5397\n",
       "Pregnancy History                5397\n",
       "Weight Gain During Pregnancy     5397\n",
       "Pancreatic Health                5397\n",
       "Pulmonary Function               5397\n",
       "Cystic Fibrosis Diagnosis        5397\n",
       "Steroid Use History              5397\n",
       "Genetic Testing                  5397\n",
       "Neurological Assessments         5397\n",
       "Liver Function Tests             5397\n",
       "Digestive Enzyme Levels          5397\n",
       "Urine Test                       5397\n",
       "Birth Weight                     5397\n",
       "Early Onset Symptoms             5397\n",
       "dtype: int64"
      ]
     },
     "execution_count": 5,
     "metadata": {},
     "output_type": "execute_result"
    }
   ],
   "source": [
    "type2_df = original_data[original_data['Target'] == 'Type 2 Diabetes']\n",
    "type2_df.count()"
   ]
  },
  {
   "cell_type": "code",
   "execution_count": 6,
   "metadata": {},
   "outputs": [
    {
     "data": {
      "text/html": [
       "<div>\n",
       "<style scoped>\n",
       "    .dataframe tbody tr th:only-of-type {\n",
       "        vertical-align: middle;\n",
       "    }\n",
       "\n",
       "    .dataframe tbody tr th {\n",
       "        vertical-align: top;\n",
       "    }\n",
       "\n",
       "    .dataframe thead th {\n",
       "        text-align: right;\n",
       "    }\n",
       "</style>\n",
       "<table border=\"1\" class=\"dataframe\">\n",
       "  <thead>\n",
       "    <tr style=\"text-align: right;\">\n",
       "      <th></th>\n",
       "      <th>Target</th>\n",
       "      <th>Genetic Markers</th>\n",
       "      <th>Autoantibodies</th>\n",
       "      <th>Family History</th>\n",
       "      <th>Environmental Factors</th>\n",
       "      <th>Insulin Levels</th>\n",
       "      <th>Age</th>\n",
       "      <th>BMI</th>\n",
       "      <th>Physical Activity</th>\n",
       "      <th>Dietary Habits</th>\n",
       "      <th>...</th>\n",
       "      <th>Pulmonary Function</th>\n",
       "      <th>Cystic Fibrosis Diagnosis</th>\n",
       "      <th>Steroid Use History</th>\n",
       "      <th>Genetic Testing</th>\n",
       "      <th>Neurological Assessments</th>\n",
       "      <th>Liver Function Tests</th>\n",
       "      <th>Digestive Enzyme Levels</th>\n",
       "      <th>Urine Test</th>\n",
       "      <th>Birth Weight</th>\n",
       "      <th>Early Onset Symptoms</th>\n",
       "    </tr>\n",
       "  </thead>\n",
       "  <tbody>\n",
       "    <tr>\n",
       "      <th>3</th>\n",
       "      <td>Type 1 Diabetes</td>\n",
       "      <td>Negative</td>\n",
       "      <td>Positive</td>\n",
       "      <td>No</td>\n",
       "      <td>Present</td>\n",
       "      <td>8</td>\n",
       "      <td>7</td>\n",
       "      <td>16</td>\n",
       "      <td>Low</td>\n",
       "      <td>Unhealthy</td>\n",
       "      <td>...</td>\n",
       "      <td>89</td>\n",
       "      <td>Yes</td>\n",
       "      <td>No</td>\n",
       "      <td>Positive</td>\n",
       "      <td>2</td>\n",
       "      <td>Abnormal</td>\n",
       "      <td>60</td>\n",
       "      <td>Ketones Present</td>\n",
       "      <td>3542</td>\n",
       "      <td>No</td>\n",
       "    </tr>\n",
       "    <tr>\n",
       "      <th>11</th>\n",
       "      <td>Type 1 Diabetes</td>\n",
       "      <td>Positive</td>\n",
       "      <td>Negative</td>\n",
       "      <td>No</td>\n",
       "      <td>Absent</td>\n",
       "      <td>8</td>\n",
       "      <td>29</td>\n",
       "      <td>23</td>\n",
       "      <td>Low</td>\n",
       "      <td>Unhealthy</td>\n",
       "      <td>...</td>\n",
       "      <td>75</td>\n",
       "      <td>No</td>\n",
       "      <td>No</td>\n",
       "      <td>Negative</td>\n",
       "      <td>1</td>\n",
       "      <td>Abnormal</td>\n",
       "      <td>60</td>\n",
       "      <td>Ketones Present</td>\n",
       "      <td>2947</td>\n",
       "      <td>No</td>\n",
       "    </tr>\n",
       "    <tr>\n",
       "      <th>19</th>\n",
       "      <td>Type 1 Diabetes</td>\n",
       "      <td>Negative</td>\n",
       "      <td>Positive</td>\n",
       "      <td>Yes</td>\n",
       "      <td>Present</td>\n",
       "      <td>19</td>\n",
       "      <td>16</td>\n",
       "      <td>18</td>\n",
       "      <td>Low</td>\n",
       "      <td>Unhealthy</td>\n",
       "      <td>...</td>\n",
       "      <td>71</td>\n",
       "      <td>Yes</td>\n",
       "      <td>No</td>\n",
       "      <td>Positive</td>\n",
       "      <td>2</td>\n",
       "      <td>Abnormal</td>\n",
       "      <td>44</td>\n",
       "      <td>Ketones Present</td>\n",
       "      <td>2940</td>\n",
       "      <td>No</td>\n",
       "    </tr>\n",
       "    <tr>\n",
       "      <th>36</th>\n",
       "      <td>Type 1 Diabetes</td>\n",
       "      <td>Positive</td>\n",
       "      <td>Negative</td>\n",
       "      <td>Yes</td>\n",
       "      <td>Present</td>\n",
       "      <td>6</td>\n",
       "      <td>22</td>\n",
       "      <td>22</td>\n",
       "      <td>High</td>\n",
       "      <td>Unhealthy</td>\n",
       "      <td>...</td>\n",
       "      <td>84</td>\n",
       "      <td>Yes</td>\n",
       "      <td>No</td>\n",
       "      <td>Positive</td>\n",
       "      <td>1</td>\n",
       "      <td>Abnormal</td>\n",
       "      <td>68</td>\n",
       "      <td>Ketones Present</td>\n",
       "      <td>2575</td>\n",
       "      <td>No</td>\n",
       "    </tr>\n",
       "    <tr>\n",
       "      <th>43</th>\n",
       "      <td>Type 1 Diabetes</td>\n",
       "      <td>Positive</td>\n",
       "      <td>Positive</td>\n",
       "      <td>No</td>\n",
       "      <td>Absent</td>\n",
       "      <td>13</td>\n",
       "      <td>28</td>\n",
       "      <td>16</td>\n",
       "      <td>Moderate</td>\n",
       "      <td>Healthy</td>\n",
       "      <td>...</td>\n",
       "      <td>71</td>\n",
       "      <td>Yes</td>\n",
       "      <td>Yes</td>\n",
       "      <td>Positive</td>\n",
       "      <td>2</td>\n",
       "      <td>Normal</td>\n",
       "      <td>63</td>\n",
       "      <td>Ketones Present</td>\n",
       "      <td>2846</td>\n",
       "      <td>Yes</td>\n",
       "    </tr>\n",
       "  </tbody>\n",
       "</table>\n",
       "<p>5 rows × 34 columns</p>\n",
       "</div>"
      ],
      "text/plain": [
       "             Target Genetic Markers Autoantibodies Family History  \\\n",
       "3   Type 1 Diabetes        Negative       Positive             No   \n",
       "11  Type 1 Diabetes        Positive       Negative             No   \n",
       "19  Type 1 Diabetes        Negative       Positive            Yes   \n",
       "36  Type 1 Diabetes        Positive       Negative            Yes   \n",
       "43  Type 1 Diabetes        Positive       Positive             No   \n",
       "\n",
       "   Environmental Factors  Insulin Levels  Age  BMI Physical Activity  \\\n",
       "3                Present               8    7   16               Low   \n",
       "11                Absent               8   29   23               Low   \n",
       "19               Present              19   16   18               Low   \n",
       "36               Present               6   22   22              High   \n",
       "43                Absent              13   28   16          Moderate   \n",
       "\n",
       "   Dietary Habits  ...  Pulmonary Function  Cystic Fibrosis Diagnosis  \\\n",
       "3       Unhealthy  ...                  89                        Yes   \n",
       "11      Unhealthy  ...                  75                         No   \n",
       "19      Unhealthy  ...                  71                        Yes   \n",
       "36      Unhealthy  ...                  84                        Yes   \n",
       "43        Healthy  ...                  71                        Yes   \n",
       "\n",
       "    Steroid Use History  Genetic Testing Neurological Assessments  \\\n",
       "3                    No         Positive                        2   \n",
       "11                   No         Negative                        1   \n",
       "19                   No         Positive                        2   \n",
       "36                   No         Positive                        1   \n",
       "43                  Yes         Positive                        2   \n",
       "\n",
       "   Liver Function Tests Digestive Enzyme Levels       Urine Test Birth Weight  \\\n",
       "3              Abnormal                      60  Ketones Present         3542   \n",
       "11             Abnormal                      60  Ketones Present         2947   \n",
       "19             Abnormal                      44  Ketones Present         2940   \n",
       "36             Abnormal                      68  Ketones Present         2575   \n",
       "43               Normal                      63  Ketones Present         2846   \n",
       "\n",
       "   Early Onset Symptoms  \n",
       "3                    No  \n",
       "11                   No  \n",
       "19                   No  \n",
       "36                   No  \n",
       "43                  Yes  \n",
       "\n",
       "[5 rows x 34 columns]"
      ]
     },
     "execution_count": 6,
     "metadata": {},
     "output_type": "execute_result"
    }
   ],
   "source": [
    "type1_df = original_data[original_data['Target'] == 'Type 1 Diabetes']\n",
    "type1_df.head()"
   ]
  },
  {
   "cell_type": "code",
   "execution_count": 7,
   "metadata": {},
   "outputs": [
    {
     "data": {
      "text/html": [
       "<div>\n",
       "<style scoped>\n",
       "    .dataframe tbody tr th:only-of-type {\n",
       "        vertical-align: middle;\n",
       "    }\n",
       "\n",
       "    .dataframe tbody tr th {\n",
       "        vertical-align: top;\n",
       "    }\n",
       "\n",
       "    .dataframe thead th {\n",
       "        text-align: right;\n",
       "    }\n",
       "</style>\n",
       "<table border=\"1\" class=\"dataframe\">\n",
       "  <thead>\n",
       "    <tr style=\"text-align: right;\">\n",
       "      <th></th>\n",
       "      <th>Target</th>\n",
       "      <th>Genetic Markers</th>\n",
       "      <th>Autoantibodies</th>\n",
       "      <th>Family History</th>\n",
       "      <th>Environmental Factors</th>\n",
       "      <th>Insulin Levels</th>\n",
       "      <th>Age</th>\n",
       "      <th>BMI</th>\n",
       "      <th>Physical Activity</th>\n",
       "      <th>Dietary Habits</th>\n",
       "      <th>...</th>\n",
       "      <th>Pulmonary Function</th>\n",
       "      <th>Cystic Fibrosis Diagnosis</th>\n",
       "      <th>Steroid Use History</th>\n",
       "      <th>Genetic Testing</th>\n",
       "      <th>Neurological Assessments</th>\n",
       "      <th>Liver Function Tests</th>\n",
       "      <th>Digestive Enzyme Levels</th>\n",
       "      <th>Urine Test</th>\n",
       "      <th>Birth Weight</th>\n",
       "      <th>Early Onset Symptoms</th>\n",
       "    </tr>\n",
       "  </thead>\n",
       "  <tbody>\n",
       "    <tr>\n",
       "      <th>18</th>\n",
       "      <td>Type 3c Diabetes (Pancreatogenic Diabetes)</td>\n",
       "      <td>Positive</td>\n",
       "      <td>Negative</td>\n",
       "      <td>No</td>\n",
       "      <td>Present</td>\n",
       "      <td>30</td>\n",
       "      <td>60</td>\n",
       "      <td>32</td>\n",
       "      <td>Moderate</td>\n",
       "      <td>Healthy</td>\n",
       "      <td>...</td>\n",
       "      <td>62</td>\n",
       "      <td>Yes</td>\n",
       "      <td>Yes</td>\n",
       "      <td>Negative</td>\n",
       "      <td>3</td>\n",
       "      <td>Abnormal</td>\n",
       "      <td>41</td>\n",
       "      <td>Normal</td>\n",
       "      <td>4335</td>\n",
       "      <td>No</td>\n",
       "    </tr>\n",
       "    <tr>\n",
       "      <th>23</th>\n",
       "      <td>Type 3c Diabetes (Pancreatogenic Diabetes)</td>\n",
       "      <td>Positive</td>\n",
       "      <td>Positive</td>\n",
       "      <td>No</td>\n",
       "      <td>Present</td>\n",
       "      <td>34</td>\n",
       "      <td>64</td>\n",
       "      <td>29</td>\n",
       "      <td>Moderate</td>\n",
       "      <td>Unhealthy</td>\n",
       "      <td>...</td>\n",
       "      <td>60</td>\n",
       "      <td>No</td>\n",
       "      <td>Yes</td>\n",
       "      <td>Positive</td>\n",
       "      <td>3</td>\n",
       "      <td>Abnormal</td>\n",
       "      <td>32</td>\n",
       "      <td>Ketones Present</td>\n",
       "      <td>3094</td>\n",
       "      <td>No</td>\n",
       "    </tr>\n",
       "    <tr>\n",
       "      <th>42</th>\n",
       "      <td>Type 3c Diabetes (Pancreatogenic Diabetes)</td>\n",
       "      <td>Positive</td>\n",
       "      <td>Negative</td>\n",
       "      <td>No</td>\n",
       "      <td>Present</td>\n",
       "      <td>48</td>\n",
       "      <td>40</td>\n",
       "      <td>25</td>\n",
       "      <td>Moderate</td>\n",
       "      <td>Healthy</td>\n",
       "      <td>...</td>\n",
       "      <td>60</td>\n",
       "      <td>No</td>\n",
       "      <td>No</td>\n",
       "      <td>Negative</td>\n",
       "      <td>3</td>\n",
       "      <td>Normal</td>\n",
       "      <td>62</td>\n",
       "      <td>Glucose Present</td>\n",
       "      <td>3284</td>\n",
       "      <td>Yes</td>\n",
       "    </tr>\n",
       "    <tr>\n",
       "      <th>71</th>\n",
       "      <td>Type 3c Diabetes (Pancreatogenic Diabetes)</td>\n",
       "      <td>Negative</td>\n",
       "      <td>Positive</td>\n",
       "      <td>Yes</td>\n",
       "      <td>Absent</td>\n",
       "      <td>46</td>\n",
       "      <td>49</td>\n",
       "      <td>29</td>\n",
       "      <td>Low</td>\n",
       "      <td>Healthy</td>\n",
       "      <td>...</td>\n",
       "      <td>79</td>\n",
       "      <td>Yes</td>\n",
       "      <td>Yes</td>\n",
       "      <td>Positive</td>\n",
       "      <td>2</td>\n",
       "      <td>Abnormal</td>\n",
       "      <td>32</td>\n",
       "      <td>Glucose Present</td>\n",
       "      <td>3316</td>\n",
       "      <td>Yes</td>\n",
       "    </tr>\n",
       "    <tr>\n",
       "      <th>79</th>\n",
       "      <td>Type 3c Diabetes (Pancreatogenic Diabetes)</td>\n",
       "      <td>Positive</td>\n",
       "      <td>Negative</td>\n",
       "      <td>No</td>\n",
       "      <td>Present</td>\n",
       "      <td>41</td>\n",
       "      <td>52</td>\n",
       "      <td>31</td>\n",
       "      <td>Low</td>\n",
       "      <td>Unhealthy</td>\n",
       "      <td>...</td>\n",
       "      <td>74</td>\n",
       "      <td>Yes</td>\n",
       "      <td>Yes</td>\n",
       "      <td>Negative</td>\n",
       "      <td>2</td>\n",
       "      <td>Abnormal</td>\n",
       "      <td>40</td>\n",
       "      <td>Ketones Present</td>\n",
       "      <td>3564</td>\n",
       "      <td>Yes</td>\n",
       "    </tr>\n",
       "  </tbody>\n",
       "</table>\n",
       "<p>5 rows × 34 columns</p>\n",
       "</div>"
      ],
      "text/plain": [
       "                                        Target Genetic Markers Autoantibodies  \\\n",
       "18  Type 3c Diabetes (Pancreatogenic Diabetes)        Positive       Negative   \n",
       "23  Type 3c Diabetes (Pancreatogenic Diabetes)        Positive       Positive   \n",
       "42  Type 3c Diabetes (Pancreatogenic Diabetes)        Positive       Negative   \n",
       "71  Type 3c Diabetes (Pancreatogenic Diabetes)        Negative       Positive   \n",
       "79  Type 3c Diabetes (Pancreatogenic Diabetes)        Positive       Negative   \n",
       "\n",
       "   Family History Environmental Factors  Insulin Levels  Age  BMI  \\\n",
       "18             No               Present              30   60   32   \n",
       "23             No               Present              34   64   29   \n",
       "42             No               Present              48   40   25   \n",
       "71            Yes                Absent              46   49   29   \n",
       "79             No               Present              41   52   31   \n",
       "\n",
       "   Physical Activity Dietary Habits  ...  Pulmonary Function  \\\n",
       "18          Moderate        Healthy  ...                  62   \n",
       "23          Moderate      Unhealthy  ...                  60   \n",
       "42          Moderate        Healthy  ...                  60   \n",
       "71               Low        Healthy  ...                  79   \n",
       "79               Low      Unhealthy  ...                  74   \n",
       "\n",
       "    Cystic Fibrosis Diagnosis  Steroid Use History  Genetic Testing  \\\n",
       "18                        Yes                  Yes         Negative   \n",
       "23                         No                  Yes         Positive   \n",
       "42                         No                   No         Negative   \n",
       "71                        Yes                  Yes         Positive   \n",
       "79                        Yes                  Yes         Negative   \n",
       "\n",
       "   Neurological Assessments Liver Function Tests Digestive Enzyme Levels  \\\n",
       "18                        3             Abnormal                      41   \n",
       "23                        3             Abnormal                      32   \n",
       "42                        3               Normal                      62   \n",
       "71                        2             Abnormal                      32   \n",
       "79                        2             Abnormal                      40   \n",
       "\n",
       "         Urine Test Birth Weight Early Onset Symptoms  \n",
       "18           Normal         4335                   No  \n",
       "23  Ketones Present         3094                   No  \n",
       "42  Glucose Present         3284                  Yes  \n",
       "71  Glucose Present         3316                  Yes  \n",
       "79  Ketones Present         3564                  Yes  \n",
       "\n",
       "[5 rows x 34 columns]"
      ]
     },
     "execution_count": 7,
     "metadata": {},
     "output_type": "execute_result"
    }
   ],
   "source": [
    "type3_df = original_data[original_data['Target'] == 'Type 3c Diabetes (Pancreatogenic Diabetes)']\n",
    "type3_df.head()"
   ]
  },
  {
   "cell_type": "code",
   "execution_count": 8,
   "metadata": {},
   "outputs": [
    {
     "data": {
      "text/html": [
       "<div>\n",
       "<style scoped>\n",
       "    .dataframe tbody tr th:only-of-type {\n",
       "        vertical-align: middle;\n",
       "    }\n",
       "\n",
       "    .dataframe tbody tr th {\n",
       "        vertical-align: top;\n",
       "    }\n",
       "\n",
       "    .dataframe thead th {\n",
       "        text-align: right;\n",
       "    }\n",
       "</style>\n",
       "<table border=\"1\" class=\"dataframe\">\n",
       "  <thead>\n",
       "    <tr style=\"text-align: right;\">\n",
       "      <th></th>\n",
       "      <th>Target</th>\n",
       "      <th>Genetic Markers</th>\n",
       "      <th>Autoantibodies</th>\n",
       "      <th>Family History</th>\n",
       "      <th>Environmental Factors</th>\n",
       "      <th>Insulin Levels</th>\n",
       "      <th>Age</th>\n",
       "      <th>BMI</th>\n",
       "      <th>Physical Activity</th>\n",
       "      <th>Dietary Habits</th>\n",
       "      <th>...</th>\n",
       "      <th>Pulmonary Function</th>\n",
       "      <th>Cystic Fibrosis Diagnosis</th>\n",
       "      <th>Steroid Use History</th>\n",
       "      <th>Genetic Testing</th>\n",
       "      <th>Neurological Assessments</th>\n",
       "      <th>Liver Function Tests</th>\n",
       "      <th>Digestive Enzyme Levels</th>\n",
       "      <th>Urine Test</th>\n",
       "      <th>Birth Weight</th>\n",
       "      <th>Early Onset Symptoms</th>\n",
       "    </tr>\n",
       "  </thead>\n",
       "  <tbody>\n",
       "    <tr>\n",
       "      <th>4</th>\n",
       "      <td>Wolfram Syndrome</td>\n",
       "      <td>Negative</td>\n",
       "      <td>Negative</td>\n",
       "      <td>Yes</td>\n",
       "      <td>Present</td>\n",
       "      <td>17</td>\n",
       "      <td>10</td>\n",
       "      <td>17</td>\n",
       "      <td>High</td>\n",
       "      <td>Healthy</td>\n",
       "      <td>...</td>\n",
       "      <td>41</td>\n",
       "      <td>No</td>\n",
       "      <td>No</td>\n",
       "      <td>Positive</td>\n",
       "      <td>1</td>\n",
       "      <td>Normal</td>\n",
       "      <td>24</td>\n",
       "      <td>Protein Present</td>\n",
       "      <td>1770</td>\n",
       "      <td>No</td>\n",
       "    </tr>\n",
       "    <tr>\n",
       "      <th>24</th>\n",
       "      <td>Wolfram Syndrome</td>\n",
       "      <td>Positive</td>\n",
       "      <td>Negative</td>\n",
       "      <td>Yes</td>\n",
       "      <td>Present</td>\n",
       "      <td>11</td>\n",
       "      <td>9</td>\n",
       "      <td>23</td>\n",
       "      <td>Low</td>\n",
       "      <td>Unhealthy</td>\n",
       "      <td>...</td>\n",
       "      <td>49</td>\n",
       "      <td>Yes</td>\n",
       "      <td>No</td>\n",
       "      <td>Positive</td>\n",
       "      <td>1</td>\n",
       "      <td>Normal</td>\n",
       "      <td>13</td>\n",
       "      <td>Glucose Present</td>\n",
       "      <td>2325</td>\n",
       "      <td>No</td>\n",
       "    </tr>\n",
       "    <tr>\n",
       "      <th>34</th>\n",
       "      <td>Wolfram Syndrome</td>\n",
       "      <td>Positive</td>\n",
       "      <td>Negative</td>\n",
       "      <td>No</td>\n",
       "      <td>Present</td>\n",
       "      <td>11</td>\n",
       "      <td>10</td>\n",
       "      <td>15</td>\n",
       "      <td>Low</td>\n",
       "      <td>Unhealthy</td>\n",
       "      <td>...</td>\n",
       "      <td>64</td>\n",
       "      <td>Yes</td>\n",
       "      <td>No</td>\n",
       "      <td>Negative</td>\n",
       "      <td>2</td>\n",
       "      <td>Normal</td>\n",
       "      <td>27</td>\n",
       "      <td>Normal</td>\n",
       "      <td>1596</td>\n",
       "      <td>No</td>\n",
       "    </tr>\n",
       "    <tr>\n",
       "      <th>46</th>\n",
       "      <td>Wolfram Syndrome</td>\n",
       "      <td>Negative</td>\n",
       "      <td>Negative</td>\n",
       "      <td>Yes</td>\n",
       "      <td>Present</td>\n",
       "      <td>12</td>\n",
       "      <td>10</td>\n",
       "      <td>15</td>\n",
       "      <td>High</td>\n",
       "      <td>Unhealthy</td>\n",
       "      <td>...</td>\n",
       "      <td>58</td>\n",
       "      <td>No</td>\n",
       "      <td>Yes</td>\n",
       "      <td>Positive</td>\n",
       "      <td>1</td>\n",
       "      <td>Normal</td>\n",
       "      <td>14</td>\n",
       "      <td>Normal</td>\n",
       "      <td>2387</td>\n",
       "      <td>No</td>\n",
       "    </tr>\n",
       "    <tr>\n",
       "      <th>90</th>\n",
       "      <td>Wolfram Syndrome</td>\n",
       "      <td>Positive</td>\n",
       "      <td>Positive</td>\n",
       "      <td>No</td>\n",
       "      <td>Present</td>\n",
       "      <td>11</td>\n",
       "      <td>18</td>\n",
       "      <td>24</td>\n",
       "      <td>Low</td>\n",
       "      <td>Healthy</td>\n",
       "      <td>...</td>\n",
       "      <td>62</td>\n",
       "      <td>No</td>\n",
       "      <td>Yes</td>\n",
       "      <td>Negative</td>\n",
       "      <td>2</td>\n",
       "      <td>Normal</td>\n",
       "      <td>13</td>\n",
       "      <td>Normal</td>\n",
       "      <td>2126</td>\n",
       "      <td>Yes</td>\n",
       "    </tr>\n",
       "  </tbody>\n",
       "</table>\n",
       "<p>5 rows × 34 columns</p>\n",
       "</div>"
      ],
      "text/plain": [
       "              Target Genetic Markers Autoantibodies Family History  \\\n",
       "4   Wolfram Syndrome        Negative       Negative            Yes   \n",
       "24  Wolfram Syndrome        Positive       Negative            Yes   \n",
       "34  Wolfram Syndrome        Positive       Negative             No   \n",
       "46  Wolfram Syndrome        Negative       Negative            Yes   \n",
       "90  Wolfram Syndrome        Positive       Positive             No   \n",
       "\n",
       "   Environmental Factors  Insulin Levels  Age  BMI Physical Activity  \\\n",
       "4                Present              17   10   17              High   \n",
       "24               Present              11    9   23               Low   \n",
       "34               Present              11   10   15               Low   \n",
       "46               Present              12   10   15              High   \n",
       "90               Present              11   18   24               Low   \n",
       "\n",
       "   Dietary Habits  ...  Pulmonary Function  Cystic Fibrosis Diagnosis  \\\n",
       "4         Healthy  ...                  41                         No   \n",
       "24      Unhealthy  ...                  49                        Yes   \n",
       "34      Unhealthy  ...                  64                        Yes   \n",
       "46      Unhealthy  ...                  58                         No   \n",
       "90        Healthy  ...                  62                         No   \n",
       "\n",
       "    Steroid Use History  Genetic Testing Neurological Assessments  \\\n",
       "4                    No         Positive                        1   \n",
       "24                   No         Positive                        1   \n",
       "34                   No         Negative                        2   \n",
       "46                  Yes         Positive                        1   \n",
       "90                  Yes         Negative                        2   \n",
       "\n",
       "   Liver Function Tests Digestive Enzyme Levels       Urine Test Birth Weight  \\\n",
       "4                Normal                      24  Protein Present         1770   \n",
       "24               Normal                      13  Glucose Present         2325   \n",
       "34               Normal                      27           Normal         1596   \n",
       "46               Normal                      14           Normal         2387   \n",
       "90               Normal                      13           Normal         2126   \n",
       "\n",
       "   Early Onset Symptoms  \n",
       "4                    No  \n",
       "24                   No  \n",
       "34                   No  \n",
       "46                   No  \n",
       "90                  Yes  \n",
       "\n",
       "[5 rows x 34 columns]"
      ]
     },
     "execution_count": 8,
     "metadata": {},
     "output_type": "execute_result"
    }
   ],
   "source": [
    "wolfram_df = original_data[original_data['Target'] == 'Wolfram Syndrome']\n",
    "wolfram_df.head()"
   ]
  },
  {
   "cell_type": "code",
   "execution_count": 9,
   "metadata": {},
   "outputs": [
    {
     "data": {
      "text/html": [
       "<div>\n",
       "<style scoped>\n",
       "    .dataframe tbody tr th:only-of-type {\n",
       "        vertical-align: middle;\n",
       "    }\n",
       "\n",
       "    .dataframe tbody tr th {\n",
       "        vertical-align: top;\n",
       "    }\n",
       "\n",
       "    .dataframe thead th {\n",
       "        text-align: right;\n",
       "    }\n",
       "</style>\n",
       "<table border=\"1\" class=\"dataframe\">\n",
       "  <thead>\n",
       "    <tr style=\"text-align: right;\">\n",
       "      <th></th>\n",
       "      <th>Target</th>\n",
       "      <th>Genetic Markers</th>\n",
       "      <th>Autoantibodies</th>\n",
       "      <th>Family History</th>\n",
       "      <th>Environmental Factors</th>\n",
       "      <th>Insulin Levels</th>\n",
       "      <th>Age</th>\n",
       "      <th>BMI</th>\n",
       "      <th>Physical Activity</th>\n",
       "      <th>Dietary Habits</th>\n",
       "      <th>...</th>\n",
       "      <th>Pulmonary Function</th>\n",
       "      <th>Cystic Fibrosis Diagnosis</th>\n",
       "      <th>Steroid Use History</th>\n",
       "      <th>Genetic Testing</th>\n",
       "      <th>Neurological Assessments</th>\n",
       "      <th>Liver Function Tests</th>\n",
       "      <th>Digestive Enzyme Levels</th>\n",
       "      <th>Urine Test</th>\n",
       "      <th>Birth Weight</th>\n",
       "      <th>Early Onset Symptoms</th>\n",
       "    </tr>\n",
       "  </thead>\n",
       "  <tbody>\n",
       "    <tr>\n",
       "      <th>20</th>\n",
       "      <td>Gestational Diabetes</td>\n",
       "      <td>Positive</td>\n",
       "      <td>Negative</td>\n",
       "      <td>Yes</td>\n",
       "      <td>Present</td>\n",
       "      <td>10</td>\n",
       "      <td>35</td>\n",
       "      <td>33</td>\n",
       "      <td>Low</td>\n",
       "      <td>Healthy</td>\n",
       "      <td>...</td>\n",
       "      <td>77</td>\n",
       "      <td>No</td>\n",
       "      <td>Yes</td>\n",
       "      <td>Negative</td>\n",
       "      <td>2</td>\n",
       "      <td>Normal</td>\n",
       "      <td>51</td>\n",
       "      <td>Ketones Present</td>\n",
       "      <td>3963</td>\n",
       "      <td>Yes</td>\n",
       "    </tr>\n",
       "    <tr>\n",
       "      <th>33</th>\n",
       "      <td>Gestational Diabetes</td>\n",
       "      <td>Negative</td>\n",
       "      <td>Positive</td>\n",
       "      <td>Yes</td>\n",
       "      <td>Absent</td>\n",
       "      <td>18</td>\n",
       "      <td>37</td>\n",
       "      <td>33</td>\n",
       "      <td>High</td>\n",
       "      <td>Healthy</td>\n",
       "      <td>...</td>\n",
       "      <td>74</td>\n",
       "      <td>No</td>\n",
       "      <td>Yes</td>\n",
       "      <td>Negative</td>\n",
       "      <td>1</td>\n",
       "      <td>Abnormal</td>\n",
       "      <td>59</td>\n",
       "      <td>Normal</td>\n",
       "      <td>3798</td>\n",
       "      <td>No</td>\n",
       "    </tr>\n",
       "    <tr>\n",
       "      <th>37</th>\n",
       "      <td>Gestational Diabetes</td>\n",
       "      <td>Negative</td>\n",
       "      <td>Positive</td>\n",
       "      <td>Yes</td>\n",
       "      <td>Absent</td>\n",
       "      <td>28</td>\n",
       "      <td>34</td>\n",
       "      <td>26</td>\n",
       "      <td>Low</td>\n",
       "      <td>Healthy</td>\n",
       "      <td>...</td>\n",
       "      <td>80</td>\n",
       "      <td>Yes</td>\n",
       "      <td>No</td>\n",
       "      <td>Positive</td>\n",
       "      <td>2</td>\n",
       "      <td>Abnormal</td>\n",
       "      <td>56</td>\n",
       "      <td>Ketones Present</td>\n",
       "      <td>2855</td>\n",
       "      <td>Yes</td>\n",
       "    </tr>\n",
       "    <tr>\n",
       "      <th>39</th>\n",
       "      <td>Gestational Diabetes</td>\n",
       "      <td>Negative</td>\n",
       "      <td>Negative</td>\n",
       "      <td>Yes</td>\n",
       "      <td>Present</td>\n",
       "      <td>15</td>\n",
       "      <td>33</td>\n",
       "      <td>28</td>\n",
       "      <td>High</td>\n",
       "      <td>Healthy</td>\n",
       "      <td>...</td>\n",
       "      <td>82</td>\n",
       "      <td>Yes</td>\n",
       "      <td>No</td>\n",
       "      <td>Positive</td>\n",
       "      <td>1</td>\n",
       "      <td>Normal</td>\n",
       "      <td>63</td>\n",
       "      <td>Normal</td>\n",
       "      <td>2566</td>\n",
       "      <td>Yes</td>\n",
       "    </tr>\n",
       "    <tr>\n",
       "      <th>44</th>\n",
       "      <td>Gestational Diabetes</td>\n",
       "      <td>Negative</td>\n",
       "      <td>Positive</td>\n",
       "      <td>Yes</td>\n",
       "      <td>Present</td>\n",
       "      <td>24</td>\n",
       "      <td>30</td>\n",
       "      <td>31</td>\n",
       "      <td>Low</td>\n",
       "      <td>Healthy</td>\n",
       "      <td>...</td>\n",
       "      <td>76</td>\n",
       "      <td>No</td>\n",
       "      <td>No</td>\n",
       "      <td>Positive</td>\n",
       "      <td>2</td>\n",
       "      <td>Normal</td>\n",
       "      <td>49</td>\n",
       "      <td>Normal</td>\n",
       "      <td>2590</td>\n",
       "      <td>No</td>\n",
       "    </tr>\n",
       "  </tbody>\n",
       "</table>\n",
       "<p>5 rows × 34 columns</p>\n",
       "</div>"
      ],
      "text/plain": [
       "                  Target Genetic Markers Autoantibodies Family History  \\\n",
       "20  Gestational Diabetes        Positive       Negative            Yes   \n",
       "33  Gestational Diabetes        Negative       Positive            Yes   \n",
       "37  Gestational Diabetes        Negative       Positive            Yes   \n",
       "39  Gestational Diabetes        Negative       Negative            Yes   \n",
       "44  Gestational Diabetes        Negative       Positive            Yes   \n",
       "\n",
       "   Environmental Factors  Insulin Levels  Age  BMI Physical Activity  \\\n",
       "20               Present              10   35   33               Low   \n",
       "33                Absent              18   37   33              High   \n",
       "37                Absent              28   34   26               Low   \n",
       "39               Present              15   33   28              High   \n",
       "44               Present              24   30   31               Low   \n",
       "\n",
       "   Dietary Habits  ...  Pulmonary Function  Cystic Fibrosis Diagnosis  \\\n",
       "20        Healthy  ...                  77                         No   \n",
       "33        Healthy  ...                  74                         No   \n",
       "37        Healthy  ...                  80                        Yes   \n",
       "39        Healthy  ...                  82                        Yes   \n",
       "44        Healthy  ...                  76                         No   \n",
       "\n",
       "    Steroid Use History  Genetic Testing Neurological Assessments  \\\n",
       "20                  Yes         Negative                        2   \n",
       "33                  Yes         Negative                        1   \n",
       "37                   No         Positive                        2   \n",
       "39                   No         Positive                        1   \n",
       "44                   No         Positive                        2   \n",
       "\n",
       "   Liver Function Tests Digestive Enzyme Levels       Urine Test Birth Weight  \\\n",
       "20               Normal                      51  Ketones Present         3963   \n",
       "33             Abnormal                      59           Normal         3798   \n",
       "37             Abnormal                      56  Ketones Present         2855   \n",
       "39               Normal                      63           Normal         2566   \n",
       "44               Normal                      49           Normal         2590   \n",
       "\n",
       "   Early Onset Symptoms  \n",
       "20                  Yes  \n",
       "33                   No  \n",
       "37                  Yes  \n",
       "39                  Yes  \n",
       "44                   No  \n",
       "\n",
       "[5 rows x 34 columns]"
      ]
     },
     "execution_count": 9,
     "metadata": {},
     "output_type": "execute_result"
    }
   ],
   "source": [
    "gestational_df = original_data[original_data['Target'] == 'Gestational Diabetes']\n",
    "gestational_df.head()"
   ]
  },
  {
   "cell_type": "code",
   "execution_count": 10,
   "metadata": {},
   "outputs": [
    {
     "data": {
      "text/html": [
       "<div>\n",
       "<style scoped>\n",
       "    .dataframe tbody tr th:only-of-type {\n",
       "        vertical-align: middle;\n",
       "    }\n",
       "\n",
       "    .dataframe tbody tr th {\n",
       "        vertical-align: top;\n",
       "    }\n",
       "\n",
       "    .dataframe thead th {\n",
       "        text-align: right;\n",
       "    }\n",
       "</style>\n",
       "<table border=\"1\" class=\"dataframe\">\n",
       "  <thead>\n",
       "    <tr style=\"text-align: right;\">\n",
       "      <th></th>\n",
       "      <th>Target</th>\n",
       "      <th>BMI</th>\n",
       "    </tr>\n",
       "  </thead>\n",
       "  <tbody>\n",
       "    <tr>\n",
       "      <th>6</th>\n",
       "      <td>Type 2 Diabetes</td>\n",
       "      <td>31</td>\n",
       "    </tr>\n",
       "    <tr>\n",
       "      <th>28</th>\n",
       "      <td>Type 2 Diabetes</td>\n",
       "      <td>39</td>\n",
       "    </tr>\n",
       "    <tr>\n",
       "      <th>32</th>\n",
       "      <td>Type 2 Diabetes</td>\n",
       "      <td>31</td>\n",
       "    </tr>\n",
       "    <tr>\n",
       "      <th>38</th>\n",
       "      <td>Type 2 Diabetes</td>\n",
       "      <td>34</td>\n",
       "    </tr>\n",
       "    <tr>\n",
       "      <th>41</th>\n",
       "      <td>Type 2 Diabetes</td>\n",
       "      <td>28</td>\n",
       "    </tr>\n",
       "  </tbody>\n",
       "</table>\n",
       "</div>"
      ],
      "text/plain": [
       "             Target  BMI\n",
       "6   Type 2 Diabetes   31\n",
       "28  Type 2 Diabetes   39\n",
       "32  Type 2 Diabetes   31\n",
       "38  Type 2 Diabetes   34\n",
       "41  Type 2 Diabetes   28"
      ]
     },
     "execution_count": 10,
     "metadata": {},
     "output_type": "execute_result"
    }
   ],
   "source": [
    "BMI_type2_df = type2_df[[\"Target\",\"BMI\"]]\n",
    "BMI_type2_df.head()"
   ]
  },
  {
   "cell_type": "code",
   "execution_count": 11,
   "metadata": {},
   "outputs": [
    {
     "data": {
      "text/plain": [
       "31.969242171576802"
      ]
     },
     "execution_count": 11,
     "metadata": {},
     "output_type": "execute_result"
    }
   ],
   "source": [
    "type_2_mean = BMI_type2_df['BMI'].mean()\n",
    "type_2_mean"
   ]
  },
  {
   "cell_type": "code",
   "execution_count": 12,
   "metadata": {},
   "outputs": [
    {
     "data": {
      "text/html": [
       "<div>\n",
       "<style scoped>\n",
       "    .dataframe tbody tr th:only-of-type {\n",
       "        vertical-align: middle;\n",
       "    }\n",
       "\n",
       "    .dataframe tbody tr th {\n",
       "        vertical-align: top;\n",
       "    }\n",
       "\n",
       "    .dataframe thead th {\n",
       "        text-align: right;\n",
       "    }\n",
       "</style>\n",
       "<table border=\"1\" class=\"dataframe\">\n",
       "  <thead>\n",
       "    <tr style=\"text-align: right;\">\n",
       "      <th></th>\n",
       "      <th>Target</th>\n",
       "      <th>BMI</th>\n",
       "    </tr>\n",
       "  </thead>\n",
       "  <tbody>\n",
       "    <tr>\n",
       "      <th>3</th>\n",
       "      <td>Type 1 Diabetes</td>\n",
       "      <td>16</td>\n",
       "    </tr>\n",
       "    <tr>\n",
       "      <th>11</th>\n",
       "      <td>Type 1 Diabetes</td>\n",
       "      <td>23</td>\n",
       "    </tr>\n",
       "    <tr>\n",
       "      <th>19</th>\n",
       "      <td>Type 1 Diabetes</td>\n",
       "      <td>18</td>\n",
       "    </tr>\n",
       "    <tr>\n",
       "      <th>36</th>\n",
       "      <td>Type 1 Diabetes</td>\n",
       "      <td>22</td>\n",
       "    </tr>\n",
       "    <tr>\n",
       "      <th>43</th>\n",
       "      <td>Type 1 Diabetes</td>\n",
       "      <td>16</td>\n",
       "    </tr>\n",
       "  </tbody>\n",
       "</table>\n",
       "</div>"
      ],
      "text/plain": [
       "             Target  BMI\n",
       "3   Type 1 Diabetes   16\n",
       "11  Type 1 Diabetes   23\n",
       "19  Type 1 Diabetes   18\n",
       "36  Type 1 Diabetes   22\n",
       "43  Type 1 Diabetes   16"
      ]
     },
     "execution_count": 12,
     "metadata": {},
     "output_type": "execute_result"
    }
   ],
   "source": [
    "BMI_type_1_df = type1_df[[\"Target\", \"BMI\"]]\n",
    "BMI_type_1_df.head()"
   ]
  },
  {
   "cell_type": "code",
   "execution_count": 13,
   "metadata": {},
   "outputs": [
    {
     "data": {
      "text/plain": [
       "19.517260374586854"
      ]
     },
     "execution_count": 13,
     "metadata": {},
     "output_type": "execute_result"
    }
   ],
   "source": [
    "type_1_mean = BMI_type_1_df['BMI'].mean()\n",
    "type_1_mean"
   ]
  },
  {
   "cell_type": "code",
   "execution_count": 14,
   "metadata": {},
   "outputs": [
    {
     "data": {
      "text/plain": [
       "29.518233082706768"
      ]
     },
     "execution_count": 14,
     "metadata": {},
     "output_type": "execute_result"
    }
   ],
   "source": [
    "BMI_type_3 = type3_df[[\"Target\", \"BMI\"]]\n",
    "BMI_type_3.head()\n",
    "type_3_mean = BMI_type_3['BMI'].mean()\n",
    "type_3_mean"
   ]
  },
  {
   "cell_type": "code",
   "execution_count": 15,
   "metadata": {},
   "outputs": [
    {
     "data": {
      "text/plain": [
       "19.512511759172153"
      ]
     },
     "execution_count": 15,
     "metadata": {},
     "output_type": "execute_result"
    }
   ],
   "source": [
    "BMI_Wolfram_df = wolfram_df[[\"Target\", \"BMI\"]]\n",
    "BMI_Wolfram_df.head()\n",
    "Wolfram_mean = BMI_Wolfram_df[\"BMI\"].mean()\n",
    "Wolfram_mean"
   ]
  },
  {
   "cell_type": "code",
   "execution_count": 16,
   "metadata": {},
   "outputs": [
    {
     "data": {
      "text/plain": [
       "27.053517964071855"
      ]
     },
     "execution_count": 16,
     "metadata": {},
     "output_type": "execute_result"
    }
   ],
   "source": [
    "BMI_Gestational_df = gestational_df[[\"Target\", \"BMI\"]]\n",
    "BMI_Gestational_df.head()\n",
    "BMI_Gestational_mean = BMI_Gestational_df[\"BMI\"].mean()\n",
    "BMI_Gestational_mean"
   ]
  },
  {
   "cell_type": "code",
   "execution_count": 17,
   "metadata": {},
   "outputs": [
    {
     "data": {
      "text/plain": [
       "19.50978260869565"
      ]
     },
     "execution_count": 17,
     "metadata": {},
     "output_type": "execute_result"
    }
   ],
   "source": [
    "BMI_low_activity = type1_df[type1_df['Physical Activity']=='Low']\n",
    "BMI_low_activity.head()\n",
    "BMI_low_activity_mean = BMI_low_activity[\"BMI\"].mean()\n",
    "BMI_low_activity_mean"
   ]
  },
  {
   "cell_type": "code",
   "execution_count": 18,
   "metadata": {},
   "outputs": [
    {
     "data": {
      "text/plain": [
       "19.431678750697156"
      ]
     },
     "execution_count": 18,
     "metadata": {},
     "output_type": "execute_result"
    }
   ],
   "source": [
    "BMI_Moderate_activity = type1_df[type1_df['Physical Activity']=='Moderate']\n",
    "BMI_Moderate_activity.head()\n",
    "BMI_Moderate_activity_mean = BMI_Moderate_activity[\"BMI\"].mean()\n",
    "BMI_Moderate_activity_mean"
   ]
  },
  {
   "cell_type": "code",
   "execution_count": 19,
   "metadata": {},
   "outputs": [
    {
     "data": {
      "text/plain": [
       "19.609487038058468"
      ]
     },
     "execution_count": 19,
     "metadata": {},
     "output_type": "execute_result"
    }
   ],
   "source": [
    "BMI_High_activity = type1_df[type1_df['Physical Activity']=='High']\n",
    "BMI_High_activity.head()\n",
    "BMI_High_activity_mean = BMI_High_activity[\"BMI\"].mean()\n",
    "BMI_High_activity_mean"
   ]
  },
  {
   "cell_type": "code",
   "execution_count": 20,
   "metadata": {},
   "outputs": [
    {
     "data": {
      "text/plain": [
       "31.861894024802705"
      ]
     },
     "execution_count": 20,
     "metadata": {},
     "output_type": "execute_result"
    }
   ],
   "source": [
    "BMI_low_activity_2 = type2_df[type2_df['Physical Activity']=='Low']\n",
    "BMI_low_activity_2.head()\n",
    "BMI_low_activity_2_mean = BMI_low_activity_2[\"BMI\"].mean()\n",
    "BMI_low_activity_2_mean"
   ]
  },
  {
   "cell_type": "code",
   "execution_count": 21,
   "metadata": {},
   "outputs": [
    {
     "data": {
      "text/plain": [
       "32.0265987549519"
      ]
     },
     "execution_count": 21,
     "metadata": {},
     "output_type": "execute_result"
    }
   ],
   "source": [
    "BMI_high_activity_2 = type2_df[type2_df['Physical Activity']=='High']\n",
    "BMI_high_activity_2.head()\n",
    "BMI_high_activity_2_mean = BMI_high_activity_2[\"BMI\"].mean()\n",
    "BMI_high_activity_2_mean"
   ]
  },
  {
   "cell_type": "code",
   "execution_count": 22,
   "metadata": {},
   "outputs": [],
   "source": [
    "bar_y_axis = [type_1_mean, type_2_mean, type_3_mean, Wolfram_mean, BMI_Gestational_mean]\n",
    "bar_x_axis= np.arange(len(bar_y_axis))"
   ]
  },
  {
   "cell_type": "code",
   "execution_count": 23,
   "metadata": {},
   "outputs": [
    {
     "data": {
      "application/vnd.jupyter.widget-view+json": {
       "model_id": "385410cae9e9485fab39b71fed93413b",
       "version_major": 2,
       "version_minor": 0
      },
      "image/png": "[encoded data removed]",
      "text/html": [
       "\n",
       "            <div style=\"display: inline-block;\">\n",
       "                <div class=\"jupyter-widgets widget-label\" style=\"text-align: center;\">\n",
       "                    Figure\n",
       "                </div>\n",
       "                <img src='data:image/png;base64,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' width=640.0/>\n",
       "            </div>\n",
       "        "
      ],
      "text/plain": [
       "Canvas(toolbar=Toolbar(toolitems=[('Home', 'Reset original view', 'home', 'home'), ('Back', 'Back to previous …"
      ]
     },
     "metadata": {},
     "output_type": "display_data"
    }
   ],
   "source": [
    "bar_colors = ['pink', 'red', 'red', 'pink', 'red']\n",
    "plt.figure()\n",
    "import matplotlib.pyplot as plt\n",
    "plt.bar(bar_x_axis, bar_y_axis, color = bar_colors)\n",
    "tick_labels = [\"Type 1\", \"Type 2\", \"Type 3c\", \"Wolfram Syndrome\", \"Gestational\"]\n",
    "plt.xticks(bar_x_axis, tick_labels, rotation=10)\n",
    "plt.xlabel(\"Type of Diabetes\")\n",
    "plt.ylabel(\"Average BMI\")\n",
    "plt.title(\"Average BMI by Diabetes type\")\n",
    "plt.savefig(\"bar_plot_1.png\", dpi=300, bbox_inches='tight')\n",
    "plt.show()"
   ]
  },
  {
   "cell_type": "code",
   "execution_count": 24,
   "metadata": {},
   "outputs": [
    {
     "data": {
      "text/plain": [
       "104.35971355123026"
      ]
     },
     "execution_count": 24,
     "metadata": {},
     "output_type": "execute_result"
    }
   ],
   "source": [
    "BP_type_1_df= type1_df[[\"Target\", \"Blood Pressure\"]]\n",
    "BP_type_1_df.head()\n",
    "BP_type_1_df_mean = BP_type_1_df[\"Blood Pressure\"].mean()\n",
    "BP_type_1_df_mean"
   ]
  },
  {
   "cell_type": "code",
   "execution_count": 25,
   "metadata": {},
   "outputs": [
    {
     "data": {
      "text/plain": [
       "129.6088567722809"
      ]
     },
     "execution_count": 25,
     "metadata": {},
     "output_type": "execute_result"
    }
   ],
   "source": [
    "BP_type_2_df= type2_df[[\"Target\", \"Blood Pressure\"]]\n",
    "BP_type_2_df.head()\n",
    "BP_type_2_df_mean = BP_type_2_df[\"Blood Pressure\"].mean()\n",
    "BP_type_2_df_mean"
   ]
  },
  {
   "cell_type": "code",
   "execution_count": 26,
   "metadata": {},
   "outputs": [
    {
     "data": {
      "text/plain": [
       "134.54436090225565"
      ]
     },
     "execution_count": 26,
     "metadata": {},
     "output_type": "execute_result"
    }
   ],
   "source": [
    "BP_type_3_df= type3_df[[\"Target\", \"Blood Pressure\"]]\n",
    "BP_type_3_df.head()\n",
    "BP_type_3_df_mean = BP_type_3_df[\"Blood Pressure\"].mean()\n",
    "BP_type_3_df_mean"
   ]
  },
  {
   "cell_type": "code",
   "execution_count": 27,
   "metadata": {},
   "outputs": [
    {
     "data": {
      "text/plain": [
       "114.48839820359281"
      ]
     },
     "execution_count": 27,
     "metadata": {},
     "output_type": "execute_result"
    }
   ],
   "source": [
    "BP_gestational_df= gestational_df[[\"Target\", \"Blood Pressure\"]]\n",
    "BP_gestational_df.head()\n",
    "BP_gestational_df_mean = BP_gestational_df[\"Blood Pressure\"].mean()\n",
    "BP_gestational_df_mean"
   ]
  },
  {
   "cell_type": "code",
   "execution_count": 28,
   "metadata": {},
   "outputs": [
    {
     "data": {
      "text/plain": [
       "94.42126058325493"
      ]
     },
     "execution_count": 28,
     "metadata": {},
     "output_type": "execute_result"
    }
   ],
   "source": [
    "BP_wolfram_df=wolfram_df[['Target', 'Blood Pressure']]\n",
    "BP_wolfram_df.head()\n",
    "BP_wolfram_mean = BP_wolfram_df['Blood Pressure'].mean()\n",
    "BP_wolfram_mean"
   ]
  },
  {
   "cell_type": "code",
   "execution_count": 29,
   "metadata": {},
   "outputs": [],
   "source": [
    "bar_y2_axis = [BP_type_1_df_mean, BP_type_2_df_mean, BP_type_3_df_mean, BP_wolfram_mean, BP_gestational_df_mean]\n",
    "bar_x2_axis = np.arange(len(bar_y2_axis))"
   ]
  },
  {
   "cell_type": "code",
   "execution_count": 30,
   "metadata": {},
   "outputs": [
    {
     "data": {
      "application/vnd.jupyter.widget-view+json": {
       "model_id": "b70584f1448343069b33e014a15e19de",
       "version_major": 2,
       "version_minor": 0
      },
      "image/png": "[encoded data removed]",
      "text/html": [
       "\n",
       "            <div style=\"display: inline-block;\">\n",
       "                <div class=\"jupyter-widgets widget-label\" style=\"text-align: center;\">\n",
       "                    Figure\n",
       "                </div>\n",
       "                <img src='data:image/png;base64,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' width=640.0/>\n",
       "            </div>\n",
       "        "
      ],
      "text/plain": [
       "Canvas(toolbar=Toolbar(toolitems=[('Home', 'Reset original view', 'home', 'home'), ('Back', 'Back to previous …"
      ]
     },
     "metadata": {},
     "output_type": "display_data"
    }
   ],
   "source": [
    "bar_colors = ['pink', 'red', 'red', 'pink', 'red']\n",
    "plt.figure()\n",
    "import matplotlib.pyplot as plt\n",
    "plt.bar(bar_x2_axis, bar_y2_axis, color=bar_colors)\n",
    "plt.xticks(bar_x_axis, tick_labels, rotation=10)\n",
    "tick_labels = [\"Type 1\", \"Type 2\", \"Type 3c\", \"Wolfram Syndrome\", \"Gestational\"]\n",
    "plt.xlabel(\"Type of Diabetes\")\n",
    "plt.ylabel(\"Average BP\")\n",
    "plt.savefig(\"bar_plot.png\", dpi=300, bbox_inches='tight')\n",
    "plt.show()"
   ]
  }
 ],
 "metadata": {
  "kernelspec": {
   "display_name": "base",
   "language": "python",
   "name": "python3"
  },
  "language_info": {
   "codemirror_mode": {
    "name": "ipython",
    "version": 3
   },
   "file_extension": ".py",
   "mimetype": "text/x-python",
   "name": "python",
   "nbconvert_exporter": "python",
   "pygments_lexer": "ipython3",
   "version": "3.12.7"
  }
 },
 "nbformat": 4,
 "nbformat_minor": 2
}
