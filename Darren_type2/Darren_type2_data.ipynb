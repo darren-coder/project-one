{
 "cells": [
  {
   "cell_type": "code",
   "execution_count": 2,
   "metadata": {},
   "outputs": [],
   "source": [
    "%matplotlib notebook\n",
    "%matplotlib ipympl\n",
    "%matplotlib ipympl"
   ]
  },
  {
   "cell_type": "code",
   "execution_count": 3,
   "metadata": {},
   "outputs": [],
   "source": [
    "import pandas as pd\n",
    "from pathlib import Path\n",
    "import matplotlib.pyplot as plt\n",
    "import numpy as np"
   ]
  },
  {
   "cell_type": "code",
   "execution_count": 4,
   "metadata": {},
   "outputs": [],
   "source": [
    "path = Path(\"../data/diabetes_dataset00.csv\")"
   ]
  },
  {
   "cell_type": "code",
   "execution_count": 5,
   "metadata": {},
   "outputs": [
    {
     "data": {
      "text/plain": [
       "Target\n",
       "MODY                                          5553\n",
       "Secondary Diabetes                            5479\n",
       "Cystic Fibrosis-Related Diabetes (CFRD)       5464\n",
       "Type 1 Diabetes                               5446\n",
       "Neonatal Diabetes Mellitus (NDM)              5408\n",
       "Wolcott-Rallison Syndrome                     5400\n",
       "Type 2 Diabetes                               5397\n",
       "Prediabetic                                   5376\n",
       "Gestational Diabetes                          5344\n",
       "Type 3c Diabetes (Pancreatogenic Diabetes)    5320\n",
       "Wolfram Syndrome                              5315\n",
       "Steroid-Induced Diabetes                      5275\n",
       "LADA                                          5223\n",
       "Name: count, dtype: int64"
      ]
     },
     "execution_count": 5,
     "metadata": {},
     "output_type": "execute_result"
    }
   ],
   "source": [
    "original_data = pd.read_csv(path)\n",
    "original_data.value_counts(\"Target\")\n"
   ]
  },
  {
   "cell_type": "markdown",
   "metadata": {},
   "source": [
    "Type 2 Diabetes"
   ]
  },
  {
   "cell_type": "code",
   "execution_count": 6,
   "metadata": {},
   "outputs": [
    {
     "name": "stdout",
     "output_type": "stream",
     "text": [
      "5397\n",
      "Family History\n",
      "Yes    2746\n",
      "No     2651\n",
      "Name: count, dtype: int64\n",
      "Smoking Status\n",
      "Smoker        2706\n",
      "Non-Smoker    2691\n",
      "Name: count, dtype: int64\n",
      "Alcohol Consumption\n",
      "Low         1861\n",
      "Moderate    1786\n",
      "High        1750\n",
      "Name: count, dtype: int64\n"
     ]
    }
   ],
   "source": [
    "#Select Type 2 Data and reset index\n",
    "type2_df = original_data[original_data['Target'] == 'Type 2 Diabetes']\n",
    "type2_df.reset_index()\n",
    "print(len(type2_df))\n",
    "print(type2_df.value_counts('Family History'))\n",
    "print(type2_df.value_counts('Smoking Status'))\n",
    "print(type2_df.value_counts('Alcohol Consumption'))"
   ]
  },
  {
   "cell_type": "markdown",
   "metadata": {},
   "source": [
    "Type 2 Smoking Status and Family History"
   ]
  },
  {
   "cell_type": "code",
   "execution_count": 7,
   "metadata": {},
   "outputs": [
    {
     "name": "stdout",
     "output_type": "stream",
     "text": [
      "  Family History Smoking Status  count\n",
      "0            Yes         Smoker   1359\n",
      "2            Yes     Non-Smoker   1387\n",
      "  Family History Smoking Status  count\n",
      "1             No         Smoker   1347\n",
      "3             No     Non-Smoker   1304\n"
     ]
    }
   ],
   "source": [
    "#Get needed columns\n",
    "family_smoking_type2_df = type2_df[['Family History', 'Smoking Status']]\n",
    "\n",
    "#Count, Sort, and Seperate Categories\n",
    "type2_fs = pd.DataFrame(family_smoking_type2_df.value_counts())\n",
    "type2_fs = type2_fs.sort_values(by=['Smoking Status'], ascending=False).reset_index()\n",
    "type2_yesfam_smoke = type2_fs[type2_fs['Family History'] == 'Yes']\n",
    "type2_nofam_smoke = type2_fs[type2_fs['Family History'] == 'No']\n",
    "\n",
    "print(type2_yesfam_smoke)\n",
    "print(type2_nofam_smoke)"
   ]
  },
  {
   "cell_type": "markdown",
   "metadata": {},
   "source": [
    "Type 2 Family History vs. Alcohol Consumption"
   ]
  },
  {
   "cell_type": "code",
   "execution_count": 8,
   "metadata": {},
   "outputs": [
    {
     "name": "stdout",
     "output_type": "stream",
     "text": [
      "  Family History Alcohol Consumption  count\n",
      "3            Yes                 Low    922\n",
      "4            Yes            Moderate    909\n",
      "0            Yes                High    915\n",
      "  Family History Alcohol Consumption  count\n",
      "2             No                 Low    939\n",
      "5             No            Moderate    877\n",
      "1             No                High    835\n"
     ]
    }
   ],
   "source": [
    "#Desired order of data display\n",
    "sorting = ['Low', 'Moderate', 'High']\n",
    "\n",
    "#Get the columns needed\n",
    "family_drinking_type2_df = type2_df[['Family History', 'Alcohol Consumption']]\n",
    "\n",
    "#Count values, make DataFrame and sort into categories\n",
    "type2_fd = pd.DataFrame(family_drinking_type2_df.value_counts())\n",
    "type2_fd = type2_fd.sort_values(by=['Alcohol Consumption']).reset_index()\n",
    "type2_yesfam_drink = type2_fd[type2_fd['Family History'] == 'Yes']\n",
    "type2_nofam_drink = type2_fd[type2_fd['Family History'] == 'No']\n",
    "\n",
    "#Sort data order for better presentation\n",
    "pd.options.mode.copy_on_write = True\n",
    "type2_yesfam_drink.sort_values(by='Alcohol Consumption', key=lambda \n",
    "                               column: column.map(lambda e: sorting.index(e)), inplace=True)\n",
    "type2_nofam_drink.sort_values(by='Alcohol Consumption', key=lambda \n",
    "                              column: column.map(lambda e: sorting.index(e)), inplace=True)\n",
    "\n",
    "print(type2_yesfam_drink)\n",
    "print(type2_nofam_drink)\n",
    "\n"
   ]
  },
  {
   "cell_type": "markdown",
   "metadata": {},
   "source": [
    "Type 1 Diabetes"
   ]
  },
  {
   "cell_type": "code",
   "execution_count": 9,
   "metadata": {},
   "outputs": [
    {
     "name": "stdout",
     "output_type": "stream",
     "text": [
      "5446\n",
      "Family History\n",
      "Yes    2729\n",
      "No     2717\n",
      "Name: count, dtype: int64\n",
      "Smoking Status\n",
      "Non-Smoker    2725\n",
      "Smoker        2721\n",
      "Name: count, dtype: int64\n",
      "Alcohol Consumption\n",
      "Low         1858\n",
      "Moderate    1795\n",
      "High        1793\n",
      "Name: count, dtype: int64\n"
     ]
    }
   ],
   "source": [
    "#Select Type 1 Data\n",
    "type1_df = original_data[original_data['Target'] == 'Type 1 Diabetes']\n",
    "type1_df.reset_index()\n",
    "print(len(type1_df))\n",
    "print(type1_df.value_counts('Family History'))\n",
    "print(type1_df.value_counts('Smoking Status'))\n",
    "print(type1_df.value_counts('Alcohol Consumption'))"
   ]
  },
  {
   "cell_type": "markdown",
   "metadata": {},
   "source": [
    "Type 1 Family History vs. Smoking"
   ]
  },
  {
   "cell_type": "code",
   "execution_count": 10,
   "metadata": {},
   "outputs": [
    {
     "name": "stdout",
     "output_type": "stream",
     "text": [
      "  Family History Smoking Status  count\n",
      "0            Yes         Smoker   1377\n",
      "3            Yes     Non-Smoker   1352\n",
      "  Family History Smoking Status  count\n",
      "1             No         Smoker   1344\n",
      "2             No     Non-Smoker   1373\n"
     ]
    }
   ],
   "source": [
    "#Get the needed columns\n",
    "family_smoking_type1_df = type1_df[['Family History', 'Smoking Status']]\n",
    "\n",
    "#Count and Sort Categories\n",
    "type1_fs = pd.DataFrame(family_smoking_type1_df.value_counts())\n",
    "type1_fs = type1_fs.sort_values(by=['Smoking Status'], ascending=False).reset_index()\n",
    "type1_fs_df = pd.DataFrame(type1_fs)\n",
    "type1_yesfam_smoke = type1_fs_df[type1_fs_df['Family History'] == 'Yes']\n",
    "type1_nofam_smoke = type1_fs_df[type1_fs_df['Family History'] == 'No']\n",
    "\n",
    "print(type1_yesfam_smoke)\n",
    "print(type1_nofam_smoke)"
   ]
  },
  {
   "cell_type": "markdown",
   "metadata": {},
   "source": [
    "Type 1 Family History vs. Alcohol Consumption"
   ]
  },
  {
   "cell_type": "code",
   "execution_count": 11,
   "metadata": {},
   "outputs": [
    {
     "name": "stdout",
     "output_type": "stream",
     "text": [
      "  Family History Alcohol Consumption  count\n",
      "2            Yes                 Low    941\n",
      "5            Yes            Moderate    883\n",
      "0            Yes                High    905\n",
      "  Family History Alcohol Consumption  count\n",
      "3             No                 Low    917\n",
      "4             No            Moderate    912\n",
      "1             No                High    888\n"
     ]
    }
   ],
   "source": [
    "#Get the needed columns and reset index\n",
    "family_drinking_type1_df = type1_df[['Family History', 'Alcohol Consumption']]\n",
    "family_drinking_type1_df.reset_index(drop=True)\n",
    "\n",
    "#Make DataFrame and sort into counted categories\n",
    "type1_fd = pd.DataFrame(family_drinking_type1_df.value_counts())\n",
    "type1_fd = type1_fd.sort_values(by=['Alcohol Consumption']).reset_index()\n",
    "type1_yesfam_drink = type1_fd[type1_fd['Family History'] == 'Yes']\n",
    "type1_nofam_drink = type1_fd[type1_fd['Family History'] == 'No']\n",
    "\n",
    "#Change order to Low, Moderate, High\n",
    "type1_yesfam_drink.sort_values(by='Alcohol Consumption', key=lambda \n",
    "                               column: column.map(lambda e: sorting.index(e)), inplace=True)\n",
    "type1_nofam_drink.sort_values(by='Alcohol Consumption', key=lambda \n",
    "                              column: column.map(lambda e: sorting.index(e)), inplace=True)\n",
    "\n",
    "\n",
    "print(type1_yesfam_drink)\n",
    "print(type1_nofam_drink)"
   ]
  },
  {
   "cell_type": "markdown",
   "metadata": {},
   "source": [
    "Type 3c (Pancreatogenic Diabetes)"
   ]
  },
  {
   "cell_type": "code",
   "execution_count": 12,
   "metadata": {},
   "outputs": [
    {
     "name": "stdout",
     "output_type": "stream",
     "text": [
      "5320\n",
      "Family History\n",
      "No     2662\n",
      "Yes    2658\n",
      "Name: count, dtype: int64\n",
      "Smoking Status\n",
      "Smoker        2704\n",
      "Non-Smoker    2616\n",
      "Name: count, dtype: int64\n",
      "Alcohol Consumption\n",
      "Low         1826\n",
      "Moderate    1765\n",
      "High        1729\n",
      "Name: count, dtype: int64\n"
     ]
    }
   ],
   "source": [
    "#Select Type 3c Data\n",
    "type3c_df = original_data[original_data['Target'] == 'Type 3c Diabetes (Pancreatogenic Diabetes)']\n",
    "type3c_df.reset_index()\n",
    "print(len(type3c_df))\n",
    "print(type3c_df.value_counts('Family History'))\n",
    "print(type3c_df.value_counts('Smoking Status'))\n",
    "print(type3c_df.value_counts('Alcohol Consumption'))"
   ]
  },
  {
   "cell_type": "markdown",
   "metadata": {},
   "source": [
    "Type 3c (Pancreatogenic Diabetes) Family History vs. Smoking"
   ]
  },
  {
   "cell_type": "code",
   "execution_count": 13,
   "metadata": {},
   "outputs": [
    {
     "name": "stdout",
     "output_type": "stream",
     "text": [
      "  Family History Smoking Status  count\n",
      "1            Yes         Smoker   1348\n",
      "2            Yes     Non-Smoker   1310\n",
      "  Family History Smoking Status  count\n",
      "0             No         Smoker   1356\n",
      "3             No     Non-Smoker   1306\n"
     ]
    }
   ],
   "source": [
    "#Get the needed columns\n",
    "family_smoking_type3c_df = type3c_df[['Family History', 'Smoking Status']]\n",
    "\n",
    "#Count and sort Categories\n",
    "type3c_fs = pd.DataFrame(family_smoking_type3c_df.value_counts())\n",
    "type3c_fs = type3c_fs.sort_values(by=['Smoking Status'], ascending=False).reset_index()\n",
    "type3c_yesfam_smoke = type3c_fs[type3c_fs['Family History'] == 'Yes']\n",
    "type3c_nofam_smoke = type3c_fs[type3c_fs['Family History'] == 'No']\n",
    "\n",
    "print(type3c_yesfam_smoke)\n",
    "print(type3c_nofam_smoke)"
   ]
  },
  {
   "cell_type": "markdown",
   "metadata": {},
   "source": [
    "Type 3c (Pancreatogenic Diabetes) Family History vs. Alcohol Consumption"
   ]
  },
  {
   "cell_type": "code",
   "execution_count": 14,
   "metadata": {},
   "outputs": [
    {
     "name": "stdout",
     "output_type": "stream",
     "text": [
      "  Family History Alcohol Consumption  count\n",
      "3            Yes                 Low    906\n",
      "4            Yes            Moderate    883\n",
      "0            Yes                High    869\n",
      "  Family History Alcohol Consumption  count\n",
      "2             No                 Low    920\n",
      "5             No            Moderate    882\n",
      "1             No                High    860\n"
     ]
    }
   ],
   "source": [
    "#Select the needed columns\n",
    "family_drinking_type3c_df = type3c_df[['Family History', 'Alcohol Consumption']]\n",
    "\n",
    "#Count and sort Categories\n",
    "type3c_fd = pd.DataFrame(family_drinking_type3c_df.value_counts())\n",
    "type3c_fd = type3c_fd.sort_values(by=['Alcohol Consumption']).reset_index()\n",
    "type3c_yesfam_drink = type3c_fd[type3c_fd['Family History'] == 'Yes']\n",
    "type3c_nofam_drink = type3c_fd[type3c_fd['Family History'] == 'No']\n",
    "\n",
    "#Order Data\n",
    "type3c_yesfam_drink.sort_values(by='Alcohol Consumption', key=lambda \n",
    "                               column: column.map(lambda e: sorting.index(e)), inplace=True)\n",
    "type3c_nofam_drink.sort_values(by='Alcohol Consumption', key=lambda \n",
    "                              column: column.map(lambda e: sorting.index(e)), inplace=True)\n",
    "\n",
    "\n",
    "print(type3c_yesfam_drink)\n",
    "print(type3c_nofam_drink)"
   ]
  },
  {
   "cell_type": "markdown",
   "metadata": {},
   "source": [
    "Wolfram Syndrome"
   ]
  },
  {
   "cell_type": "code",
   "execution_count": 15,
   "metadata": {},
   "outputs": [
    {
     "name": "stdout",
     "output_type": "stream",
     "text": [
      "5315\n",
      "Family History\n",
      "Yes    2703\n",
      "No     2612\n",
      "Name: count, dtype: int64\n",
      "Smoking Status\n",
      "Smoker        2659\n",
      "Non-Smoker    2656\n",
      "Name: count, dtype: int64\n",
      "Alcohol Consumption\n",
      "High        1813\n",
      "Moderate    1778\n",
      "Low         1724\n",
      "Name: count, dtype: int64\n"
     ]
    }
   ],
   "source": [
    "#Select the Wolfram Syndrome Data\n",
    "wolfram_df = original_data[original_data['Target'] == 'Wolfram Syndrome']\n",
    "wolfram_df.reset_index()\n",
    "print(len(wolfram_df))\n",
    "print(wolfram_df.value_counts('Family History'))\n",
    "print(wolfram_df.value_counts('Smoking Status'))\n",
    "print(wolfram_df.value_counts('Alcohol Consumption'))"
   ]
  },
  {
   "cell_type": "markdown",
   "metadata": {},
   "source": [
    "Wolfram Family History vs. Smoking Status"
   ]
  },
  {
   "cell_type": "code",
   "execution_count": 16,
   "metadata": {},
   "outputs": [
    {
     "name": "stdout",
     "output_type": "stream",
     "text": [
      "  Family History Smoking Status  count\n",
      "0            Yes         Smoker   1364\n",
      "2            Yes     Non-Smoker   1339\n",
      "  Family History Smoking Status  count\n",
      "1             No         Smoker   1295\n",
      "3             No     Non-Smoker   1317\n"
     ]
    }
   ],
   "source": [
    "#Select the needed columns\n",
    "family_smoking_wolfram_df = wolfram_df[['Family History', 'Smoking Status']]\n",
    "#Make DataFrame and sort values\n",
    "wolfram_fs = pd.DataFrame(family_smoking_wolfram_df.value_counts())\n",
    "wolfram_fs = wolfram_fs.sort_values(by=['Smoking Status'], ascending=False).reset_index()\n",
    "wolfram_yesfam_smoke = wolfram_fs[wolfram_fs['Family History'] == 'Yes']\n",
    "wolfram_nofam_smoke = wolfram_fs[wolfram_fs['Family History'] == 'No']\n",
    "\n",
    "print(wolfram_yesfam_smoke)\n",
    "print(wolfram_nofam_smoke)"
   ]
  },
  {
   "cell_type": "markdown",
   "metadata": {},
   "source": [
    "Wolfram Syndrome Family History vs. Alcohol Consumption"
   ]
  },
  {
   "cell_type": "code",
   "execution_count": 17,
   "metadata": {},
   "outputs": [
    {
     "name": "stdout",
     "output_type": "stream",
     "text": [
      "  Family History Alcohol Consumption  count\n",
      "2            Yes                 Low    865\n",
      "4            Yes            Moderate    909\n",
      "0            Yes                High    929\n",
      "  Family History Alcohol Consumption  count\n",
      "3             No                 Low    859\n",
      "5             No            Moderate    869\n",
      "1             No                High    884\n"
     ]
    }
   ],
   "source": [
    "#Select the needed columns\n",
    "family_drinking_wolfram_df = wolfram_df[['Family History', 'Alcohol Consumption']]\n",
    "#Count and sort into categories\n",
    "wolfram_fd = pd.DataFrame(family_drinking_wolfram_df.value_counts())\n",
    "wolfram_fd = wolfram_fd.sort_values(by=['Alcohol Consumption']).reset_index()\n",
    "wolfram_yesfam_drink = wolfram_fd[wolfram_fd['Family History'] == 'Yes']\n",
    "wolfram_nofam_drink = wolfram_fd[wolfram_fd['Family History'] == 'No']\n",
    "\n",
    "#Order Data\n",
    "wolfram_yesfam_drink.sort_values(by='Alcohol Consumption', key=lambda \n",
    "                               column: column.map(lambda e: sorting.index(e)), inplace=True)\n",
    "wolfram_nofam_drink.sort_values(by='Alcohol Consumption', key=lambda \n",
    "                              column: column.map(lambda e: sorting.index(e)), inplace=True)\n",
    "\n",
    "\n",
    "print(wolfram_yesfam_drink)\n",
    "print(wolfram_nofam_drink)"
   ]
  },
  {
   "cell_type": "markdown",
   "metadata": {},
   "source": [
    "Gestational Diabetes"
   ]
  },
  {
   "cell_type": "code",
   "execution_count": 18,
   "metadata": {},
   "outputs": [
    {
     "name": "stdout",
     "output_type": "stream",
     "text": [
      "5344\n",
      "Family History\n",
      "Yes    2673\n",
      "No     2671\n",
      "Name: count, dtype: int64\n",
      "Smoking Status\n",
      "Smoker        2694\n",
      "Non-Smoker    2650\n",
      "Name: count, dtype: int64\n",
      "Alcohol Consumption\n",
      "Low         1826\n",
      "High        1782\n",
      "Moderate    1736\n",
      "Name: count, dtype: int64\n"
     ]
    }
   ],
   "source": [
    "#Select Gestational Diabetes data\n",
    "gestational_df = original_data[original_data['Target'] == 'Gestational Diabetes']\n",
    "gestational_df.reset_index()\n",
    "print(len(gestational_df))\n",
    "print(gestational_df.value_counts('Family History'))\n",
    "print(gestational_df.value_counts('Smoking Status'))\n",
    "print(gestational_df.value_counts('Alcohol Consumption'))"
   ]
  },
  {
   "cell_type": "markdown",
   "metadata": {},
   "source": [
    "Gestational Family History vs Smoking Status"
   ]
  },
  {
   "cell_type": "code",
   "execution_count": 19,
   "metadata": {},
   "outputs": [
    {
     "name": "stdout",
     "output_type": "stream",
     "text": [
      "  Family History Smoking Status  count\n",
      "1            Yes         Smoker   1311\n",
      "2            Yes     Non-Smoker   1362\n",
      "  Family History Smoking Status  count\n",
      "0             No         Smoker   1383\n",
      "3             No     Non-Smoker   1288\n"
     ]
    }
   ],
   "source": [
    "#Select the columns needed\n",
    "family_smoking_gestational_df = gestational_df[['Family History', 'Smoking Status']]\n",
    "\n",
    "#Count and Sort into categories\n",
    "gestational_fs = pd.DataFrame(family_smoking_gestational_df.value_counts())\n",
    "gestational_fs = gestational_fs.sort_values(by=['Smoking Status'], ascending=False).reset_index()\n",
    "gestational_yesfam_smoke = gestational_fs[gestational_fs['Family History'] == 'Yes']\n",
    "gestational_nofam_smoke = gestational_fs[gestational_fs['Family History'] == 'No']\n",
    "\n",
    "print(gestational_yesfam_smoke)\n",
    "print(gestational_nofam_smoke)"
   ]
  },
  {
   "cell_type": "markdown",
   "metadata": {},
   "source": [
    "Gestational Family History vs. Alcohol Consumption"
   ]
  },
  {
   "cell_type": "code",
   "execution_count": 20,
   "metadata": {},
   "outputs": [
    {
     "name": "stdout",
     "output_type": "stream",
     "text": [
      "  Family History Alcohol Consumption  count\n",
      "2            Yes                 Low    922\n",
      "5            Yes            Moderate    854\n",
      "0            Yes                High    897\n",
      "  Family History Alcohol Consumption  count\n",
      "3             No                 Low    904\n",
      "4             No            Moderate    882\n",
      "1             No                High    885\n"
     ]
    }
   ],
   "source": [
    "#Select the needed columns\n",
    "family_drinking_gestational_df = gestational_df[['Family History', 'Alcohol Consumption']]\n",
    "\n",
    "#Count and sort into categories\n",
    "gestational_fd = pd.DataFrame(family_drinking_gestational_df.value_counts())\n",
    "gestational_fd = gestational_fd.sort_values(by=['Alcohol Consumption']).reset_index()\n",
    "gestational_yesfam_drink = gestational_fd[gestational_fd['Family History'] == 'Yes']\n",
    "gestational_nofam_drink = gestational_fd[gestational_fd['Family History'] == 'No']\n",
    "\n",
    "#Order Data\n",
    "gestational_yesfam_drink.sort_values(by='Alcohol Consumption', key=lambda \n",
    "                               column: column.map(lambda e: sorting.index(e)), inplace=True)\n",
    "gestational_nofam_drink.sort_values(by='Alcohol Consumption', key=lambda \n",
    "                              column: column.map(lambda e: sorting.index(e)), inplace=True)\n",
    "\n",
    "\n",
    "print(gestational_yesfam_drink)\n",
    "print(gestational_nofam_drink)"
   ]
  },
  {
   "cell_type": "code",
   "execution_count": 21,
   "metadata": {},
   "outputs": [
    {
     "data": {
      "text/html": [
       "<div>\n",
       "<style scoped>\n",
       "    .dataframe tbody tr th:only-of-type {\n",
       "        vertical-align: middle;\n",
       "    }\n",
       "\n",
       "    .dataframe tbody tr th {\n",
       "        vertical-align: top;\n",
       "    }\n",
       "\n",
       "    .dataframe thead th {\n",
       "        text-align: right;\n",
       "    }\n",
       "</style>\n",
       "<table border=\"1\" class=\"dataframe\">\n",
       "  <thead>\n",
       "    <tr style=\"text-align: right;\">\n",
       "      <th></th>\n",
       "      <th>Family History</th>\n",
       "      <th>Smoking Status</th>\n",
       "      <th>count</th>\n",
       "    </tr>\n",
       "  </thead>\n",
       "  <tbody>\n",
       "    <tr>\n",
       "      <th>0</th>\n",
       "      <td>Yes</td>\n",
       "      <td>Smoker</td>\n",
       "      <td>1377</td>\n",
       "    </tr>\n",
       "    <tr>\n",
       "      <th>3</th>\n",
       "      <td>Yes</td>\n",
       "      <td>Non-Smoker</td>\n",
       "      <td>1352</td>\n",
       "    </tr>\n",
       "  </tbody>\n",
       "</table>\n",
       "</div>"
      ],
      "text/plain": [
       "  Family History Smoking Status  count\n",
       "0            Yes         Smoker   1377\n",
       "3            Yes     Non-Smoker   1352"
      ]
     },
     "execution_count": 21,
     "metadata": {},
     "output_type": "execute_result"
    }
   ],
   "source": [
    "groups = ['Type 1', 'Type 2', 'Type 3c', 'Wolfram Syndrome', 'Gestational Diabetes']\n",
    "#Make the Categories for Family History: Yes\n",
    "type1_cat1 = type1_yesfam_smoke['Smoking Status']\n",
    "type1_count1 = type1_yesfam_smoke['count']\n",
    "type2_cat2 = type2_yesfam_smoke['Smoking Status']\n",
    "type2_count2 = type2_yesfam_smoke['count']\n",
    "type3c_cat3 = type3c_yesfam_smoke['Smoking Status']\n",
    "type3c_count3 = type3c_yesfam_smoke['count']\n",
    "wolfram_cat4 = wolfram_yesfam_smoke['Smoking Status']\n",
    "wolfram_count4 = wolfram_yesfam_smoke['count']\n",
    "gest_cat5 = gestational_yesfam_smoke['Smoking Status']\n",
    "gest_count5 = gestational_yesfam_smoke['count']\n",
    "#Categories for Family History: No\n",
    "type1_cat6 = type1_nofam_smoke['Smoking Status']\n",
    "type1_count6 = type1_nofam_smoke['count']\n",
    "type2_cat7 = type2_nofam_smoke['Smoking Status']\n",
    "type2_count7 = type2_nofam_smoke['count']\n",
    "type3c_cat8 = type3c_nofam_smoke['Smoking Status']\n",
    "type3c_count8 = type3c_nofam_smoke['count']\n",
    "wolfram_cat9 = wolfram_nofam_smoke['Smoking Status']\n",
    "wolfram_count9 = wolfram_nofam_smoke['count']\n",
    "gest_cat10 = gestational_nofam_smoke['Smoking Status']\n",
    "gest_count10 = gestational_nofam_smoke['count']\n",
    "\n",
    "type1_yesfam_smoke\n"
   ]
  },
  {
   "cell_type": "code",
   "execution_count": 51,
   "metadata": {},
   "outputs": [
    {
     "data": {
      "application/vnd.jupyter.widget-view+json": {
       "model_id": "a7bfbd07a56a453ba03a1e4c5c3cb1ba",
       "version_major": 2,
       "version_minor": 0
      },
      "image/png": "[encoded data removed]",
      "text/html": [
       "\n",
       "            <div style=\"display: inline-block;\">\n",
       "                <div class=\"jupyter-widgets widget-label\" style=\"text-align: center;\">\n",
       "                    Figure\n",
       "                </div>\n",
       "                <img src='data:image/png;base64,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' width=800.0/>\n",
       "            </div>\n",
       "        "
      ],
      "text/plain": [
       "Canvas(toolbar=Toolbar(toolitems=[('Home', 'Reset original view', 'home', 'home'), ('Back', 'Back to previous …"
      ]
     },
     "metadata": {},
     "output_type": "display_data"
    }
   ],
   "source": [
    "groups = ['Type 1', 'Type 2', 'Type 3c', 'Wolfram Syndrome', 'Gestational Diabetes']\n",
    "bar_width = 0.35\n",
    "\n",
    "x = np.arange(len(groups))\n",
    "#even_ticks = np.arange(number_of_ticks)\n",
    "\n",
    "#x = np.arange(0.5, 1, 5)\n",
    "\n",
    "fig, (ax1, ax2, ax3, ax4, ax5) = plt.subplots(5, figsize=(8, 5))\n",
    "bar1 = ax1.bar(type1_cat1, type1_count1, bar_width, label='Type 1', align='center')\n",
    "bar2 = ax2.bar(type2_cat2, type2_count2, bar_width, label='Type 2', align='center')\n",
    "bar3 = ax3.bar(type3c_cat3, type3c_count3, bar_width, label='Type 3c', align='edge')\n",
    "bar4 = ax4.bar(wolfram_cat4, wolfram_count4, bar_width, label='Wolfram Syndrome', align='edge')\n",
    "bar5 = ax5.bar(gest_cat5, gest_count5, bar_width, label='Gestational Diabetes', align='center')\n",
    "plt.subplots_adjust(wspace=0.3)\n",
    "\n",
    "ax.set_xticks(x)\n",
    "ax.set_xticklabels(groups)\n",
    "ax.set_ylabel('Number of Patients')\n",
    "ax.set_title('Patients with Family History')\n",
    "plt.show()\n"
   ]
  },
  {
   "cell_type": "code",
   "execution_count": 60,
   "metadata": {},
   "outputs": [
    {
     "data": {
      "application/vnd.jupyter.widget-view+json": {
       "model_id": "cc710844e0664760a1de4c7f4fa414ad",
       "version_major": 2,
       "version_minor": 0
      },
      "image/png": "[encoded data removed]",
      "text/html": [
       "\n",
       "            <div style=\"display: inline-block;\">\n",
       "                <div class=\"jupyter-widgets widget-label\" style=\"text-align: center;\">\n",
       "                    Figure\n",
       "                </div>\n",
       "                <img src='data:image/png;base64,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' width=800.0/>\n",
       "            </div>\n",
       "        "
      ],
      "text/plain": [
       "Canvas(toolbar=Toolbar(toolitems=[('Home', 'Reset original view', 'home', 'home'), ('Back', 'Back to previous …"
      ]
     },
     "metadata": {},
     "output_type": "display_data"
    }
   ],
   "source": [
    "groups = ['Type 1', 'Type 2', 'Type 3c', 'Wolfram Syndrome', 'Gestational Diabetes']\n",
    "bar_width = 0.35\n",
    "\n",
    "x = np.arange(len(groups))\n",
    "#even_ticks = np.arange(number_of_ticks)\n",
    "\n",
    "#x = np.arange(0.5, 1, 5)\n",
    "\n",
    "fig, ax = plt.subplots( figsize=(8, 5))\n",
    "bar1 = plt.bar(type1_cat1, type1_count1, bar_width, label='Type 1', align='center')\n",
    "bar2 = plt.bar(type2_cat2, type2_count2, bar_width, label='Type 2', align='center')\n",
    "bar3 = plt.bar(type3c_cat3, type3c_count3, bar_width, label='Type 3c', align='edge')\n",
    "bar4 = plt.bar(wolfram_cat4, wolfram_count4, bar_width, label='Wolfram Syndrome', align='edge')\n",
    "bar5 = plt.bar(gest_cat5, gest_count5, bar_width, label='Gestational Diabetes', align='center')\n",
    "plt.subplots_adjust(wspace=0.3)\n",
    "\n",
    "ax.set_xticks(x)\n",
    "ax.set_xticklabels(groups)\n",
    "ax.set_ylabel('Number of Patients')\n",
    "ax.set_title('Patients with Family History')\n",
    "plt.show()\n"
   ]
  },
  {
   "cell_type": "code",
   "execution_count": 66,
   "metadata": {},
   "outputs": [
    {
     "data": {
      "application/vnd.jupyter.widget-view+json": {
       "model_id": "efab3c2024ed436983f9ac99b341fd56",
       "version_major": 2,
       "version_minor": 0
      },
      "image/png": "[encoded data removed]",
      "text/html": [
       "\n",
       "            <div style=\"display: inline-block;\">\n",
       "                <div class=\"jupyter-widgets widget-label\" style=\"text-align: center;\">\n",
       "                    Figure\n",
       "                </div>\n",
       "                <img src='data:image/png;base64,iVBORw0KGgoAAAANSUhEUgAAAoAAAAHgCAYAAAA10dzkAAAAOXRFWHRTb2Z0d2FyZQBNYXRwbG90bGliIHZlcnNpb24zLjkuMiwgaHR0cHM6Ly9tYXRwbG90bGliLm9yZy8hTgPZAAAACXBIWXMAAA9hAAAPYQGoP6dpAAA6PklEQVR4nO3deXQUZdr+8avJRoJJQ4JJk9cgQaKACYrIIKADmLDJ5opOmIAjgygChkUhL6jojCCMAo6MG4cxCAKOrwYXxsgygiJ7ILKIqBg2TYwjsUMgJiGp3x8e6mcTdkI3nef7OafPST11V/VdfbTPxdO1OCzLsgQAAABj1PF1AwAAAPAuAiAAAIBhCIAAAACGIQACAAAYhgAIAABgGAIgAACAYQiAAAAAhiEAAgAAGIYACAAAYBgCIAAAgGEIgAAAAIYhAAIAABiGAAgAAGCYQF834E1VVVX6/vvvFR4eLofD4et2AAAAzollWTp06JBiY2NVp87Zz+cZFQC///57xcXF+boNAACAGrF//35ddtllZ72dUQEwPDxc0q8fVkREhI+7AQAAODfFxcWKi4uzs83ZMioAHvvZNyIiggAIAAD83rme0sZFIAAAAIYhAAIAABiGAAgAAGCYGgmAn3zyifr06aPY2Fg5HA4tXrz4pLVDhw6Vw+HQzJkzPcbLyso0YsQINWzYUPXq1VPfvn114MABj5qioiKlpaXJ6XTK6XQqLS1NP//8c00cAgAAgDFqJAAePnxY11xzjWbNmnXKusWLF2v9+vWKjY2tti49PV1ZWVlatGiRVq9erZKSEvXu3VuVlZV2TWpqqnJzc5Wdna3s7Gzl5uYqLS2tJg4BAADAGDVyFXDPnj3Vs2fPU9Z89913Gj58uD766CP16tXLY53b7dacOXM0b948paSkSJLmz5+vuLg4LV++XN27d9fOnTuVnZ2tdevWqV27dpKk2bNnq3379tq1a5euuuqqmjgUAACAWs8r5wBWVVUpLS1NjzzyiK6++upq63NyclRRUaFu3brZY7GxsUpMTNSaNWskSWvXrpXT6bTDnyTdcMMNcjqddg0AAABOzyv3AZw6daoCAwM1cuTIE64vKChQcHCwGjRo4DEeExOjgoICuyY6OrrattHR0XbN8crKylRWVmYvFxcXn+shAAAA1BoXfAYwJydHzz//vDIzM8/6ZoWWZXlsc6Ltj6/5rSlTptgXjDidTh4DBwAAIC8EwE8//VSFhYVq3LixAgMDFRgYqL1792rMmDFq0qSJJMnlcqm8vFxFRUUe2xYWFiomJsau+eGHH6rt/8cff7RrjpeRkSG3222/9u/fX7MHBwAA4IcueABMS0vT1q1blZuba79iY2P1yCOP6KOPPpIktWnTRkFBQVq2bJm9XX5+vrZv364OHTpIktq3by+3260NGzbYNevXr5fb7bZrjhcSEmI/9o3HvwEAAPyqRs4BLCkp0TfffGMv5+XlKTc3V5GRkWrcuLGioqI86oOCguRyuewrd51OpwYPHqwxY8YoKipKkZGRGjt2rJKSkuyrglu0aKEePXpoyJAheuWVVyRJ999/v3r37s0VwAAAAGehRgLgpk2b1KVLF3t59OjRkqRBgwYpMzPzjPYxY8YMBQYGqn///iotLVVycrIyMzMVEBBg17zxxhsaOXKkfbVw3759T3vvQQAAAHhyWJZl+boJbykuLpbT6ZTb7ebn4LPQZPwSX7eAM7DnmV6nLwIA1Arnm2l4FjAAAIBhCIAAAACGIQACAAAYhgAIAABgGAIgAACAYbzyLGAAAHyFOxn4D+5m4D3MAAIAABiGAAgAAGAYAiAAAIBhCIAAAACGIQACAAAYhgAIAABgGAIgAACAYQiAAAAAhiEAAgAAGIYACAAAYBgCIAAAgGEIgAAAAIYhAAIAABiGAAgAAGAYAiAAAIBhCIAAAACGIQACAAAYhgAIAABgGAIgAACAYQiAAAAAhiEAAgAAGIYACAAAYBgCIAAAgGEIgAAAAIYhAAIAABiGAAgAAGAYAiAAAIBhCIAAAACGIQACAAAYhgAIAABgmBoJgJ988on69Omj2NhYORwOLV682F5XUVGhcePGKSkpSfXq1VNsbKwGDhyo77//3mMfZWVlGjFihBo2bKh69eqpb9++OnDggEdNUVGR0tLS5HQ65XQ6lZaWpp9//rkmDgEAAMAYNRIADx8+rGuuuUazZs2qtu7IkSPavHmzHnvsMW3evFnvvPOOvvrqK/Xt29ejLj09XVlZWVq0aJFWr16tkpIS9e7dW5WVlXZNamqqcnNzlZ2drezsbOXm5iotLa0mDgEAAMAYgTWxk549e6pnz54nXOd0OrVs2TKPsRdeeEG/+93vtG/fPjVu3Fhut1tz5szRvHnzlJKSIkmaP3++4uLitHz5cnXv3l07d+5Udna21q1bp3bt2kmSZs+erfbt22vXrl266qqrauJQAAAAaj2fnAPodrvlcDhUv359SVJOTo4qKirUrVs3uyY2NlaJiYlas2aNJGnt2rVyOp12+JOkG264QU6n0645XllZmYqLiz1eAAAApvN6APzll180fvx4paamKiIiQpJUUFCg4OBgNWjQwKM2JiZGBQUFdk10dHS1/UVHR9s1x5syZYp9vqDT6VRcXFwNHw0AAID/8WoArKio0D333KOqqiq9+OKLp623LEsOh8Ne/u3fJ6v5rYyMDLndbvu1f//+c28eAACglvBaAKyoqFD//v2Vl5enZcuW2bN/kuRyuVReXq6ioiKPbQoLCxUTE2PX/PDDD9X2++OPP9o1xwsJCVFERITHCwAAwHReCYDHwt/XX3+t5cuXKyoqymN9mzZtFBQU5HGxSH5+vrZv364OHTpIktq3by+3260NGzbYNevXr5fb7bZrAAAAcHo1chVwSUmJvvnmG3s5Ly9Pubm5ioyMVGxsrO68805t3rxZH3zwgSorK+1z9iIjIxUcHCyn06nBgwdrzJgxioqKUmRkpMaOHaukpCT7quAWLVqoR48eGjJkiF555RVJ0v3336/evXtzBTAAAMBZqJEAuGnTJnXp0sVeHj16tCRp0KBBmjRpkt577z1J0rXXXuux3ccff6zOnTtLkmbMmKHAwED1799fpaWlSk5OVmZmpgICAuz6N954QyNHjrSvFu7bt+8J7z0IAACAk6uRANi5c2dZlnXS9adad0zdunX1wgsv6IUXXjhpTWRkpObPn39OPQIAAOBXPAsYAADAMARAAAAAwxAAAQAADEMABAAAMAwBEAAAwDAEQAAAAMMQAAEAAAxDAAQAADAMARAAAMAwBEAAAADDEAABAAAMQwAEAAAwDAEQAADAMARAAAAAwxAAAQAADEMABAAAMAwBEAAAwDAEQAAAAMMQAAEAAAxDAAQAADAMARAAAMAwBEAAAADDEAABAAAMQwAEAAAwDAEQAADAMARAAAAAwxAAAQAADEMABAAAMAwBEAAAwDAEQAAAAMMQAAEAAAxDAAQAADAMARAAAMAwBEAAAADDEAABAAAMUyMB8JNPPlGfPn0UGxsrh8OhxYsXe6y3LEuTJk1SbGysQkND1blzZ+3YscOjpqysTCNGjFDDhg1Vr1499e3bVwcOHPCoKSoqUlpampxOp5xOp9LS0vTzzz/XxCEAAAAYo0YC4OHDh3XNNddo1qxZJ1w/bdo0TZ8+XbNmzdLGjRvlcrnUtWtXHTp0yK5JT09XVlaWFi1apNWrV6ukpES9e/dWZWWlXZOamqrc3FxlZ2crOztbubm5SktLq4lDAAAAMEZgTeykZ8+e6tmz5wnXWZalmTNnasKECbr99tslSXPnzlVMTIwWLFigoUOHyu12a86cOZo3b55SUlIkSfPnz1dcXJyWL1+u7t27a+fOncrOzta6devUrl07SdLs2bPVvn177dq1S1dddVVNHAoAAECtd8HPAczLy1NBQYG6detmj4WEhKhTp05as2aNJCknJ0cVFRUeNbGxsUpMTLRr1q5dK6fTaYc/SbrhhhvkdDrtmuOVlZWpuLjY4wUAAGC6Cx4ACwoKJEkxMTEe4zExMfa6goICBQcHq0GDBqesiY6Orrb/6Ohou+Z4U6ZMsc8XdDqdiouLO+/jAQAA8HdeuwrY4XB4LFuWVW3seMfXnKj+VPvJyMiQ2+22X/v37z+HzgEAAGqXCx4AXS6XJFWbpSssLLRnBV0ul8rLy1VUVHTKmh9++KHa/n/88cdqs4vHhISEKCIiwuMFAABgugseAOPj4+VyubRs2TJ7rLy8XKtWrVKHDh0kSW3atFFQUJBHTX5+vrZv327XtG/fXm63Wxs2bLBr1q9fL7fbbdcAAADg9GrkKuCSkhJ988039nJeXp5yc3MVGRmpxo0bKz09XZMnT1ZCQoISEhI0efJkhYWFKTU1VZLkdDo1ePBgjRkzRlFRUYqMjNTYsWOVlJRkXxXcokUL9ejRQ0OGDNErr7wiSbr//vvVu3dvrgAGAAA4CzUSADdt2qQuXbrYy6NHj5YkDRo0SJmZmXr00UdVWlqqYcOGqaioSO3atdPSpUsVHh5ubzNjxgwFBgaqf//+Ki0tVXJysjIzMxUQEGDXvPHGGxo5cqR9tXDfvn1Peu9BAAAAnJjDsizL1014S3FxsZxOp9xuN+cDnoUm45f4ugWcgT3P9PJ1C8BFie8w/8H32Jk730zDs4ABAAAMQwAEAAAwDAEQAADAMARAAAAAwxAAAQAADEMABAAAMAwBEAAAwDAEQAAAAMMQAAEAAAxDAAQAADAMARAAAMAwBEAAAADDEAABAAAMQwAEAAAwDAEQAADAMARAAAAAwxAAAQAADEMABAAAMAwBEAAAwDAEQAAAAMMQAAEAAAxDAAQAADAMARAAAMAwBEAAAADDEAABAAAMQwAEAAAwDAEQAADAMARAAAAAwxAAAQAADEMABAAAMAwBEAAAwDAEQAAAAMMQAAEAAAxDAAQAADAMARAAAMAwXgmAR48e1cSJExUfH6/Q0FA1bdpUTz31lKqqquway7I0adIkxcbGKjQ0VJ07d9aOHTs89lNWVqYRI0aoYcOGqlevnvr27asDBw544xAAAABqDa8EwKlTp+rll1/WrFmztHPnTk2bNk1/+9vf9MILL9g106ZN0/Tp0zVr1ixt3LhRLpdLXbt21aFDh+ya9PR0ZWVladGiRVq9erVKSkrUu3dvVVZWeuMwAAAAaoVAb7zJ2rVr1a9fP/Xq1UuS1KRJEy1cuFCbNm2S9Ovs38yZMzVhwgTdfvvtkqS5c+cqJiZGCxYs0NChQ+V2uzVnzhzNmzdPKSkpkqT58+crLi5Oy5cvV/fu3b1xKAAAAH7PKzOAN954o1asWKGvvvpKkvT5559r9erVuuWWWyRJeXl5KigoULdu3extQkJC1KlTJ61Zs0aSlJOTo4qKCo+a2NhYJSYm2jUAAAA4Pa/MAI4bN05ut1vNmzdXQECAKisr9fTTT+sPf/iDJKmgoECSFBMT47FdTEyM9u7da9cEBwerQYMG1WqObX+8srIylZWV2cvFxcU1dkwAAAD+yiszgG+++abmz5+vBQsWaPPmzZo7d66effZZzZ0716PO4XB4LFuWVW3seKeqmTJlipxOp/2Ki4s7vwMBAACoBbwSAB955BGNHz9e99xzj5KSkpSWlqZRo0ZpypQpkiSXyyVJ1WbyCgsL7VlBl8ul8vJyFRUVnbTmeBkZGXK73fZr//79NX1oAAAAfscrAfDIkSOqU8fzrQICAuzbwMTHx8vlcmnZsmX2+vLycq1atUodOnSQJLVp00ZBQUEeNfn5+dq+fbtdc7yQkBBFRER4vAAAAEznlXMA+/Tpo6efflqNGzfW1VdfrS1btmj69Om67777JP360296eromT56shIQEJSQkaPLkyQoLC1Nqaqokyel0avDgwRozZoyioqIUGRmpsWPHKikpyb4qGAAAAKfnlQD4wgsv6LHHHtOwYcNUWFio2NhYDR06VI8//rhd8+ijj6q0tFTDhg1TUVGR2rVrp6VLlyo8PNyumTFjhgIDA9W/f3+VlpYqOTlZmZmZCggI8MZhAAAA1AoOy7IsXzfhLcXFxXI6nXK73fwcfBaajF/i6xZwBvY808vXLQAXJb7D/AffY2fufDMNzwIGAAAwDAEQAADAMARAAAAAwxAAAQAADEMABAAAMAwBEAAAwDAEQAAAAMMQAAEAAAxDAAQAADAMARAAAMAwBEAAAADDEAABAAAMQwAEAAAwDAEQAADAMARAAAAAwxAAAQAADEMABAAAMAwBEAAAwDAEQAAAAMMQAAEAAAxDAAQAADAMARAAAMAwBEAAAADDEAABAAAMQwAEAAAwDAEQAADAMARAAAAAwxAAAQAADEMABAAAMAwBEAAAwDAEQAAAAMMQAAEAAAxDAAQAADAMARAAAMAwBEAAAADDEAABAAAM47UA+N133+mPf/yjoqKiFBYWpmuvvVY5OTn2esuyNGnSJMXGxio0NFSdO3fWjh07PPZRVlamESNGqGHDhqpXr5769u2rAwcOeOsQAAAAagWvBMCioiJ17NhRQUFB+vDDD/XFF1/oueeeU/369e2aadOmafr06Zo1a5Y2btwol8ulrl276tChQ3ZNenq6srKytGjRIq1evVolJSXq3bu3KisrvXEYAAAAtUKgN95k6tSpiouL02uvvWaPNWnSxP7bsizNnDlTEyZM0O233y5Jmjt3rmJiYrRgwQINHTpUbrdbc+bM0bx585SSkiJJmj9/vuLi4rR8+XJ1797dG4cCAADg97wyA/jee+/p+uuv11133aXo6Gi1bt1as2fPttfn5eWpoKBA3bp1s8dCQkLUqVMnrVmzRpKUk5OjiooKj5rY2FglJibaNccrKytTcXGxxwsAAMB0XgmA3377rV566SUlJCToo48+0gMPPKCRI0fq9ddflyQVFBRIkmJiYjy2i4mJsdcVFBQoODhYDRo0OGnN8aZMmSKn02m/4uLiavrQAAAA/I5XAmBVVZWuu+46TZ48Wa1bt9bQoUM1ZMgQvfTSSx51DofDY9myrGpjxztVTUZGhtxut/3av3//+R0IAABALeCVANioUSO1bNnSY6xFixbat2+fJMnlcklStZm8wsJCe1bQ5XKpvLxcRUVFJ605XkhIiCIiIjxeAAAApvNKAOzYsaN27drlMfbVV1/p8ssvlyTFx8fL5XJp2bJl9vry8nKtWrVKHTp0kCS1adNGQUFBHjX5+fnavn27XQMAAIDT88pVwKNGjVKHDh00efJk9e/fXxs2bNCrr76qV199VdKvP/2mp6dr8uTJSkhIUEJCgiZPnqywsDClpqZKkpxOpwYPHqwxY8YoKipKkZGRGjt2rJKSkuyrggEAAHB6XgmAbdu2VVZWljIyMvTUU08pPj5eM2fO1IABA+yaRx99VKWlpRo2bJiKiorUrl07LV26VOHh4XbNjBkzFBgYqP79+6u0tFTJycnKzMxUQECANw4DAACgVnBYlmX5uglvKS4ultPplNvt5nzAs9Bk/BJft4AzsOeZXr5uAbgo8R3mP/geO3Pnm2l4FjAAAIBhCIAAAACGIQACAAAYhgAIAABgGAIgAACAYQiAAAAAhiEAAgAAGIYACAAAYBgCIAAAgGEIgAAAAIYhAAIAABiGAAgAAGAYAiAAAIBhCIAAAACGIQACAAAYhgAIAABgGAIgAACAYQiAAAAAhiEAAgAAGIYACAAAYBgCIAAAgGEIgAAAAIYhAAIAABiGAAgAAGAYAiAAAIBhCIAAAACGIQACAAAYhgAIAABgGAIgAACAYQiAAAAAhiEAAgAAGIYACAAAYBgCIAAAgGEIgAAAAIYhAAIAABjGJwFwypQpcjgcSk9Pt8csy9KkSZMUGxur0NBQde7cWTt27PDYrqysTCNGjFDDhg1Vr1499e3bVwcOHPBy9wAAAP7N6wFw48aNevXVV9WqVSuP8WnTpmn69OmaNWuWNm7cKJfLpa5du+rQoUN2TXp6urKysrRo0SKtXr1aJSUl6t27tyorK719GAAAAH7LqwGwpKREAwYM0OzZs9WgQQN73LIszZw5UxMmTNDtt9+uxMREzZ07V0eOHNGCBQskSW63W3PmzNFzzz2nlJQUtW7dWvPnz9e2bdu0fPlybx4GAACAX/NqAHzooYfUq1cvpaSkeIzn5eWpoKBA3bp1s8dCQkLUqVMnrVmzRpKUk5OjiooKj5rY2FglJibaNQAAADi9QG+90aJFi7R582Zt3Lix2rqCggJJUkxMjMd4TEyM9u7da9cEBwd7zBweqzm2/fHKyspUVlZmLxcXF5/XMQAAANQGXpkB3L9/vx5++GHNnz9fdevWPWmdw+HwWLYsq9rY8U5VM2XKFDmdTvsVFxd39s0DAADUMl4JgDk5OSosLFSbNm0UGBiowMBArVq1Sn//+98VGBhoz/wdP5NXWFhor3O5XCovL1dRUdFJa46XkZEht9ttv/bv338Bjg4AAMC/eCUAJicna9u2bcrNzbVf119/vQYMGKDc3Fw1bdpULpdLy5Yts7cpLy/XqlWr1KFDB0lSmzZtFBQU5FGTn5+v7du32zXHCwkJUUREhMcLAADAdF45BzA8PFyJiYkeY/Xq1VNUVJQ9np6ersmTJyshIUEJCQmaPHmywsLClJqaKklyOp0aPHiwxowZo6ioKEVGRmrs2LFKSkqqdlEJAAAATs5rF4GczqOPPqrS0lINGzZMRUVFateunZYuXarw8HC7ZsaMGQoMDFT//v1VWlqq5ORkZWZmKiAgwIedAwAA+BeHZVmWr5vwluLiYjmdTrndbn4OPgtNxi/xdQs4A3ue6eXrFoCLEt9h/oPvsTN3vpmGZwEDAAAYhgAIAABgGAIgAACAYQiAAAAAhiEAAgAAGIYACAAAYBgCIAAAgGEIgAAAAIYhAAIAABiGAAgAAGAYAiAAAIBhCIAAAACGIQACAAAYhgAIAABgGAIgAACAYQiAAAAAhiEAAgAAGIYACAAAYBgCIAAAgGEIgAAAAIYhAAIAABiGAAgAAGAYAiAAAIBhCIAAAACGIQACAAAYhgAIAABgGAIgAACAYQiAAAAAhiEAAgAAGIYACAAAYBgCIAAAgGEIgAAAAIYhAAIAABiGAAgAAGAYAiAAAIBhCIAAAACG8UoAnDJlitq2bavw8HBFR0fr1ltv1a5duzxqLMvSpEmTFBsbq9DQUHXu3Fk7duzwqCkrK9OIESPUsGFD1atXT3379tWBAwe8cQgAAAC1hlcC4KpVq/TQQw9p3bp1WrZsmY4ePapu3brp8OHDds20adM0ffp0zZo1Sxs3bpTL5VLXrl116NAhuyY9PV1ZWVlatGiRVq9erZKSEvXu3VuVlZXeOAwAAIBaIdAbb5Kdne2x/Nprryk6Olo5OTn6/e9/L8uyNHPmTE2YMEG33367JGnu3LmKiYnRggULNHToULndbs2ZM0fz5s1TSkqKJGn+/PmKi4vT8uXL1b17d28cCgAAgN/zyTmAbrdbkhQZGSlJysvLU0FBgbp162bXhISEqFOnTlqzZo0kKScnRxUVFR41sbGxSkxMtGuOV1ZWpuLiYo8XAACA6bweAC3L0ujRo3XjjTcqMTFRklRQUCBJiomJ8aiNiYmx1xUUFCg4OFgNGjQ4ac3xpkyZIqfTab/i4uJq+nAAAAD8jtcD4PDhw7V161YtXLiw2jqHw+GxbFlWtbHjnaomIyNDbrfbfu3fv//cGwcAAKglvBoAR4wYoffee08ff/yxLrvsMnvc5XJJUrWZvMLCQntW0OVyqby8XEVFRSetOV5ISIgiIiI8XgAAAKbzSgC0LEvDhw/XO++8o//85z+Kj4/3WB8fHy+Xy6Vly5bZY+Xl5Vq1apU6dOggSWrTpo2CgoI8avLz87V9+3a7BgAAAKfnlauAH3roIS1YsEDvvvuuwsPD7Zk+p9Op0NBQORwOpaena/LkyUpISFBCQoImT56ssLAwpaam2rWDBw/WmDFjFBUVpcjISI0dO1ZJSUn2VcEAAAA4Pa8EwJdeekmS1LlzZ4/x1157Tffee68k6dFHH1VpaamGDRumoqIitWvXTkuXLlV4eLhdP2PGDAUGBqp///4qLS1VcnKyMjMzFRAQ4I3DAAAAqBUclmVZvm7CW4qLi+V0OuV2uzkf8Cw0Gb/E1y3gDOx5ppevWwAuSnyH+Q++x87c+WYangUMAABgGAIgAACAYQiAAAAAhiEAAgAAGIYACAAAYBgCIAAAgGEIgAAAAIbxyo2gAeB8WZalo0ePqrKy0tet1CoBAQEKDAyUw+HwdSsAvIgACOCiV15ervz8fB05csTXrdRKYWFhatSokYKDg33dCgAvIQACuKhVVVUpLy9PAQEBio2NVXBwMLNVNcSyLJWXl+vHH39UXl6eEhISVKcOZwYBJiAAAriolZeXq6qqSnFxcQoLC/N1O7VOaGiogoKCtHfvXpWXl6tu3bq+bgmAF/BPPQB+gZmpC4fPFjAP/9cDAAAYhgAIAABgGM4BBOC3moxf4rX32vNML6+9V03Zs2eP4uPjtWXLFl177bW+bgfARYQZQAAAAMMQAAHgAqmqqtLUqVPVrFkzhYSEqHHjxnr66aclSdu2bdPNN9+s0NBQRUVF6f7771dJSYm9befOnZWenu6xv1tvvVX33nuvvdykSRNNnjxZ9913n8LDw9W4cWO9+uqr9vr4+HhJUuvWreVwONS5c+cLdqwA/AsBEAAukIyMDE2dOlWPPfaYvvjiCy1YsEAxMTE6cuSIevTooQYNGmjjxo166623tHz5cg0fPvys3+O5557T9ddfry1btmjYsGF68MEH9eWXX0qSNmzYIElavny58vPz9c4779To8QHwX5wDCAAXwKFDh/T8889r1qxZGjRokCTpiiuu0I033qjZs2ertLRUr7/+uurVqydJmjVrlvr06aOpU6cqJibmjN/nlltu0bBhwyRJ48aN04wZM7Ry5Uo1b95cl156qSQpKipKLperho8QgD9jBhAALoCdO3eqrKxMycnJJ1x3zTXX2OFPkjp27Kiqqirt2rXrrN6nVatW9t8Oh0Mul0uFhYXn3jgAIxAAAeACCA0NPek6y7JO+ji7Y+N16tSRZVke6yoqKqrVBwUFVdu+qqrqbNsFYBgCIABcAAkJCQoNDdWKFSuqrWvZsqVyc3N1+PBhe+yzzz5TnTp1dOWVV0qSLr30UuXn59vrKysrtX379rPqITg42N4WAH6LAAgAF0DdunU1btw4Pfroo3r99de1e/durVu3TnPmzNGAAQNUt25dDRo0SNu3b9fHH3+sESNGKC0tzT7/7+abb9aSJUu0ZMkSffnllxo2bJh+/vnns+ohOjpaoaGhys7O1g8//CC3230BjhSAPyIAAsAF8thjj2nMmDF6/PHH1aJFC919990qLCxUWFiYPvroIx08eFBt27bVnXfeqeTkZM2aNcve9r777tOgQYM0cOBAderUSfHx8erSpctZvX9gYKD+/ve/65VXXlFsbKz69etX04cIwE85rONPMqnFiouL5XQ65Xa7FRER4et2/IY3n7aAc+ePT6o4E7/88ovy8vIUHx+vunXr+rqdWqm2f8Z8h/mP2vo9diGcb6ZhBhAAAMAwBEAAAADDEAABAAAMQwAEAAAwDAEQAADAMARAAH7BoBsWeB2fLWAeAiCAi9qxR50dOXLEx53UXsc+2+MfKweg9gr0dQMAcCoBAQGqX7++CgsLJUlhYWEnfY4uzo5lWTpy5IgKCwtVv359BQQE+LolAF5CAARw0XO5XJJkh0DUrPr169ufMQAzEAABXPQcDocaNWqk6OhoVVRU+LqdWiUoKIiZP8BAfhcAX3zxRf3tb39Tfn6+rr76as2cOVM33XSTr9sC4AUBAQGEFQCoAX51Ecibb76p9PR0TZgwQVu2bNFNN92knj17at++fb5uDQAAwG/4VQCcPn26Bg8erD//+c9q0aKFZs6cqbi4OL300ku+bg0AAMBv+E0ALC8vV05Ojrp16+Yx3q1bN61Zs8ZHXQEAAPgfvzkH8L///a8qKysVExPjMR4TE6OCgoITblNWVqaysjJ72e12S5KKi4svXKO1UFUZ91/zB/x3DZwY32H+g++xM3fsszrXG7n7TQA85vj7f1mWddJ7gk2ZMkVPPvlktfG4uLgL0hvgS86Zvu4AAM4P32Nn79ChQ3I6nWe9nd8EwIYNGyogIKDabF9hYWG1WcFjMjIyNHr0aHu5qqpKBw8eVFRUFDeSNVhxcbHi4uK0f/9+RURE+LodADgrfIdB+nUC7NChQ4qNjT2n7f0mAAYHB6tNmzZatmyZbrvtNnt82bJl6tev3wm3CQkJUUhIiMdY/fr1L2Sb8CMRERF8eQLwW3yH4Vxm/o7xmwAoSaNHj1ZaWpquv/56tW/fXq+++qr27dunBx54wNetAQAA+A2/CoB33323fvrpJz311FPKz89XYmKi/v3vf+vyyy/3dWsAAAB+w68CoCQNGzZMw4YN83Ub8GMhISF64oknqp0eAAD+gO8w1ASHda7XDwMAAMAv+c2NoAEAAFAzCIAAAACGIQACAAAYhgAIAABgGAIgar2Kigr96U9/0rfffuvrVgDgnFiWpb1796q0tNTXraCWIACi1gsKClJWVpav2wCAc2ZZlhISEnTgwAFft4JaggAII9x2221avHixr9sAgHNSp04dJSQk6KeffvJ1K6gl/O5G0MC5aNasmf7yl79ozZo1atOmjerVq+exfuTIkT7qDADOzLRp0/TII4/opZdeUmJioq/bgZ/jRtAwQnx8/EnXORwOzg8EcNFr0KCBjhw5oqNHjyo4OFihoaEe6w8ePOijzuCPmAGEEfLy8nzdAgCcl5kzZ/q6BdQizADCKOXl5crLy9MVV1yhwED+/QMAMBMXgcAIR44c0eDBgxUWFqarr75a+/btk/TruX/PPPOMj7sDgDOze/duTZw4UX/4wx9UWFgoScrOztaOHTt83Bn8DQEQRsjIyNDnn3+ulStXqm7duvZ4SkqK3nzzTR92BgBnZtWqVUpKStL69ev1zjvvqKSkRJK0detWPfHEEz7uDv6GAAgjLF68WLNmzdKNN94oh8Nhj7ds2VK7d+/2YWcAcGbGjx+vv/71r1q2bJmCg4Pt8S5dumjt2rU+7Az+iAAII/z444+Kjo6uNn748GGPQAgAF6tt27bptttuqzZ+6aWXcn9AnDUCIIzQtm1bLVmyxF4+Fvpmz56t9u3b+6otADhj9evXV35+frXxLVu26H/+53980BH8GZdBwghTpkxRjx499MUXX+jo0aN6/vnntWPHDq1du1arVq3ydXsAcFqpqakaN26c3nrrLTkcDlVVVemzzz7T2LFjNXDgQF+3Bz/DbWBgjG3btunZZ59VTk6OqqqqdN1112ncuHFKSkrydWsAcFoVFRW69957tWjRIlmWpcDAQFVWVio1NVWZmZkKCAjwdYvwIwRAGGHr1q1q1arVCdctXrxYt956q3cbAoBz9O2332rz5s2qqqpS69atlZCQoNLS0mpPBgFOhQAIIzRq1EifffaZmjZt6jH+9ttva+DAgTp8+LCPOgOAM/PQQw/pH//4R7Xxw4cPq1evXlq5cqX3m4Lf4iIQGOHBBx9UcnKyxwnUb775pgYOHKjMzEzfNQYAZ2jp0qWaOHGix9jhw4fVo0cPVVZW+qgr+CsuAoERHn/8cf30009KSUnRp59+quzsbP35z3/WvHnzdMcdd/i6PQA4raVLl+rGG29UVFSURo0apUOHDql79+4KDAzUhx9+6Ov24Gf4CRhGSUtL0/r16/Xdd99pwYIF6tevn69bAoAztn37dnXu3FmPPfaYFi1apJCQEC1ZskT16tXzdWvwMwRA1FrvvfdetbGKigqNGjVK3bp1U9++fe3x3/4NABezdevWKSUlRe3atdMHH3zAxR84JwRA1Fp16pzZKa4Oh4PzZwBclFq3bn3CpxXt3btX0dHRHuFv8+bN3mwNfo5zAFFrVVVV+boFADgv3KIKFwozgAAAAIZhBhDGWLVqlZ599lnt3LlTDodDLVq00COPPKKbbrrJ160BwBnLycmxv8datmyp1q1b+7ol+CFmAGGE+fPn609/+pNuv/12dezYUZZlac2aNcrKylJmZqZSU1N93SIAnFJhYaHuuecerVy5UvXr15dlWXK73erSpYsWLVqkSy+91Nctwo8QAGGEFi1a6P7779eoUaM8xqdPn67Zs2dr586dPuoMAM7M3Xffrd27d2vevHlq0aKFJOmLL77QoEGD1KxZMy1cuNDHHcKfEABhhJCQEO3YsUPNmjXzGP/mm2+UmJioX375xUedAcCZcTqdWr58udq2besxvmHDBnXr1k0///yzbxqDX+JRcDBCXFycVqxYUW18xYoViouL80FHAHB2qqqqFBQUVG08KCiIux7grHERCIwwZswYjRw5Urm5uerQoYMcDodWr16tzMxMPf/8875uDwBO6+abb9bDDz+shQsXKjY2VpL03XffadSoUUpOTvZxd/A3/AQMY2RlZem5556zz/c7dhUwj4MD4A/279+vfv36afv27YqLi5PD4dC+ffuUlJSkd999V5dddpmvW4QfIQACAOBHli1bpi+//FKWZally5ZKSUnxdUvwQwRAGKekpKTa+TIRERE+6gYAAO/jHEAYIS8vT8OHD9fKlSs9rvi1LItnAQPwGxs2bNDKlStVWFhY7R+y06dP91FX8EcEQBhhwIABkqR//vOfiomJOeHD1QHgYjZ58mRNnDhRV111VbXvMb7TcLb4CRhGuOSSS5STk6OrrrrK160AwDmJiYnR1KlTde+99/q6FdQC3AcQRmjbtq3279/v6zYA4JzVqVNHHTt29HUbqCWYAYQRdu/erQceeEB//OMflZiYWO1mqq1atfJRZwBwZqZNm6bvv/9eM2fO9HUrqAUIgDDCunXrlJqaqj179thjDoeDi0AA+I2qqir16tVLX331lVq2bFntH7LvvPOOjzqDP+IiEBjhvvvuU+vWrbVw4UIuAgHgl0aMGKGPP/5YXbp0UVRUFN9jOC/MAMII9erV0+eff65mzZr5uhUAOCfh4eFatGiRevXq5etWUAtwEQiMcPPNN+vzzz/3dRsAcM4iIyN1xRVX+LoN1BL8BAwj9OnTR6NGjdK2bduUlJRU7dyZvn37+qgzADgzkyZN0hNPPKHXXntNYWFhvm4Hfo6fgGGEOnVOPtnNRSAA/EHr1q21e/duWZalJk2aVPuH7ObNm33UGfwRM4AwwvGPTAIAf3Prrbf6ugXUIswAolZbv369Dh48qJ49e9pjr7/+up544gkdPnxYt956q1544QWFhIT4sEsAALyLi0BQq02aNElbt261l7dt26bBgwcrJSVF48eP1/vvv68pU6b4sEMAOHu//PKL5s6dqxdffFFff/21r9uBH2IGELVao0aN9P777+v666+XJE2YMEGrVq3S6tWrJUlvvfWWnnjiCX3xxRe+bBMATuqRRx5ReXm5nn/+eUlSeXm5fve73+mLL75QWFiYjh49qqVLl6pDhw4+7hT+hBlA1GpFRUWKiYmxl1etWqUePXrYyzwjGMDF7sMPP1RycrK9/MYbb2jfvn36+uuvVVRUpLvuuktPP/20DzuEPyIAolaLiYlRXl6epF//1bx582a1b9/eXn/o0KFqV9IBwMVk3759atmypb28dOlS3Xnnnbr88svlcDj08MMPa8uWLT7sEP6IAIharUePHho/frw+/fRTZWRkKCwsTDfddJO9fuvWrdxYFcBFrU6dOvrt2Vrr1q3TDTfcYC/Xr19fRUVFvmgNfowAiFrtr3/9qwICAtSpUyfNnj1bs2fPVnBwsL3+n//8p7p16+bDDgHg1Jo3b673339fkrRjxw7t27dPXbp0sdfv3bvX41QX4ExwEQiM4Ha7dckllyggIMBj/ODBg7rkkks8QiEAXEzefvtt/eEPf9BNN92kHTt2qG3btnYglKRx48YpLy9P//rXv3zYJfwNARAAgIvc8uXLtWTJErlcLo0YMcLjUXBPPvmkOnXqpM6dO/uuQfgdAiAAAIBhOAcQAAA/k5SUxC2scF4IgAAA+Jk9e/aooqLC123AjxEAAQAADEMABADAz9x0000KDQ31dRvwY1wEAgAAYJhAXzcAAADOzFdffaWVK1eqsLBQVVVVHusef/xxH3UFf8QMIAAAfmD27Nl68MEH1bBhQ7lcLjkcDnudw+HQ5s2bfdgd/A0BEAAAP3D55Zdr2LBhGjdunK9bQS1AAAQAwA9EREQoNzdXTZs29XUrqAW4ChgAAD9w1113aenSpb5uA7UEF4EAAOAHmjVrpscee0zr1q1TUlKSgoKCPNaPHDnSR53BH/ETMAAAfiA+Pv6k6xwOh7799lsvdgN/RwAEAAAwDOcAAgDgZyzLEvM3OB8EQAAA/MTrr7+upKQkhYaGKjQ0VK1atdK8efN83Rb8EBeBAADgB6ZPn67HHntMw4cPV8eOHWVZlj777DM98MAD+u9//6tRo0b5ukX4Ec4BBADAD8THx+vJJ5/UwIEDPcbnzp2rSZMmKS8vz0edwR/xEzAAAH4gPz9fHTp0qDbeoUMH5efn+6Aj+DMCIAAAfqBZs2b617/+VW38zTffVEJCgg86gj/jHEAAAPzAk08+qbvvvluffPKJOnbsKIfDodWrV2vFihUnDIbAqXAOIAAAfiInJ0fTp0/Xl19+Kcuy1LJlS40ZM0atW7f2dWvwMwRAAAAAw/ATMAAAF7E6derI4XCcssbhcOjo0aNe6gi1AQEQAICLWFZW1knXrVmzRi+88AJPBcFZ4ydgAAD8zJdffqmMjAy9//77GjBggP7yl7+ocePGvm4LfoTbwAAA4Ce+//57DRkyRK1atdLRo0eVm5uruXPnEv5w1giAAABc5Nxut8aNG6dmzZppx44dWrFihd5//30lJib6ujX4Kc4BBADgIjZt2jRNnTpVLpdLCxcuVL9+/XzdEmoBzgEEAOAiVqdOHYWGhiolJUUBAQEnrXvnnXe82BX8HTOAAABcxAYOHHja28AAZ4sZQAAAAMNwEQgAAIBhCIAAAACGIQACAAAYhgAIAABgGAIgAGM5HA4tXrz4pOubNGmimTNneq0fAPAWAiAAnyosLNTQoUPVuHFjhYSEyOVyqXv37lq7dq2vW9PGjRt1//33X/D32bJli3r37q3o6GjVrVtXTZo00d13363//ve/kqSVK1fK4XDo559/Pqv97tmzRw6HQ7m5uTXfNAC/xn0AAfjUHXfcoYqKCs2dO1dNmzbVDz/8oBUrVujgwYO+bk2XXnrpBX+PwsJCpaSkqE+fPvroo49Uv3595eXl6b333tORI0cu+PsDMJQFAD5SVFRkSbJWrlx5yjpJ1ssvv2z16tXLCg0NtZo3b26tWbPG+vrrr61OnTpZYWFh1g033GB98803Htu9+OKLVtOmTa2goCDryiuvtF5//fVq+83KyrKXn3zySSs6OtrasmWLZVmWdfnll1szZszwqJ89e7Z16623WqGhoVazZs2sd99912Of7777rtWsWTOrbt26VufOna3MzExLklVUVHTCY8vKyrICAwOtioqKE67Py8uzJHm8Bg0aZFmWZX344YdWx44dLafTaUVGRlq9evXy+AyO365Tp06WZVlWp06drIcfftjjffr162fv17Is6x//+IfVrFkzKyQkxIqOjrbuuOOOE/YHwD/xEzAAn7nkkkt0ySWXaPHixSorKztl7V/+8hcNHDhQubm5at68uVJTUzV06FBlZGRo06ZNkqThw4fb9VlZWXr44Yc1ZswYbd++XUOHDtWf/vQnffzxx9X2bVmWHn74Yc2ZM0erV6/Wtddee9I+nnzySfXv319bt27VLbfcogEDBtizlXv27NGdd96pW2+9Vbm5uRo6dKgmTJhwyuNyuVw6evSosrKyZJ3gvvxxcXF6++23JUm7du1Sfn6+nn/+eUnS4cOHNXr0aG3cuFErVqxQnTp1dNttt6mqqkqStGHDBknS8uXLlZ+ff8aPCtu0aZNGjhypp556Srt27VJ2drZ+//vfn9G2APyErxMoALP93//9n9WgQQOrbt26VocOHayMjAzr888/96iRZE2cONFeXrt2rSXJmjNnjj22cOFCq27duvZyhw4drCFDhnjs56677rJuueUWj/2+9dZb1h//+EerefPm1v79+z3qTzQD+Ns+SkpKLIfDYX344YeWZVnWuHHjrMTERI99TJgw4ZQzgJZlWf/7v/9rBQYGWpGRkVaPHj2sadOmWQUFBfb6jz/++LT7sCzLKiwstCRZ27Ztsyzr/88eHpvRPOZ0M4Bvv/22FRERYRUXF5/y/QD4L2YAAfjUHXfcoe+//17vvfeeunfvrpUrV+q6665TZmamR12rVq3sv2NiYiRJSUlJHmO//PKLiouLJUk7d+5Ux44dPfbRsWNH7dy502Ns1KhRWrt2rT799FNddtllp+33t33Uq1dP4eHhKiwslPTrDF3btm096n/3u9+ddp9PP/20CgoK9PLLL6tly5Z6+eWX1bx5c23btu2U2+3evVupqalq2rSpIiIiFB8fL0nat2/fad/zVLp27arLL79cTZs2VVpamt544w3ORwRqGQIgAJ+rW7euunbtqscff1xr1qzRvffeqyeeeMKjJigoyP7b4XCcdOzYz5+/HTvGsqxqY127dtV3332njz766Ix6/e17HnuPY+95ov1bZ/i49aioKN1111167rnntHPnTsXGxurZZ5895TZ9+vTRTz/9pNmzZ2v9+vVav369JKm8vPyU29WpU6daXxUVFfbf4eHh2rx5sxYuXKhGjRrp8ccf1zXXXHPWVyEDuHgRAAFcdFq2bKnDhw+f1z5atGih1atXe4ytWbNGLVq08Bjr27evFixYoD//+c9atGjReb1n8+bNtXHjRo+xY+cnno3g4GBdccUV9mcQHBwsSaqsrLRrfvrpJ+3cuVMTJ05UcnKyWrRooaKiomr7OX476derm/Pz8+3lyspKbd++3aMmMDBQKSkpmjZtmrZu3ao9e/boP//5z1kfC4CLE7eBAeAzP/30k+666y7dd999atWqlcLDw7Vp0yZNmzZN/fr1O699P/LII+rfv7+uu+46JScn6/3339c777yj5cuXV6u97bbbNG/ePKWlpSkwMFB33nnnOb3n0KFDNX36dI0bN06DBw9Wbm6u/VP28TODx3zwwQdatGiR7rnnHl155ZWyLEvvv/++/v3vf+u1116TJF1++eVyOBz64IMPdMsttyg0NFQNGjRQVFSUXn31VTVq1Ej79u3T+PHjPfYdHR2t0NBQZWdn67LLLlPdunXldDp18803a/To0VqyZImuuOIKzZgxw2N274MPPtC3336r3//+92rQoIH+/e9/q6qqSlddddU5fS4ALkI+PQMRgNF++eUXa/z48dZ1111nOZ1OKywszLrqqqusiRMnWkeOHLHrdNztWk50ccOJLpQ429vAvPnmm1bdunWtt99+27KsE18E8tt6y7Isp9Npvfbaa/bysdvAhISEWJ07d7ZeeuklS5JVWlp6ws9g9+7d1pAhQ6wrr7zSCg0NterXr2+1bdvWY5+WZVlPPfWU5XK5LIfDYV+ssWzZMqtFixZWSEiI1apVK2vlypXVepw9e7YVFxdn1alTx74NTHl5ufXggw9akZGRVnR0tDVlyhSPi0A+/fRTq1OnTlaDBg2s0NBQq1WrVtabb755wv4B+CeHZZ3hCSoAgLP29NNP6+WXX9b+/ft93QoA2PgJGABq0Isvvqi2bdsqKipKn332mf72t7953J8QAC4GBEAAqEFff/21/vrXv+rgwYNq3LixxowZo4yMDF+3BQAe+AkYAADAMNwGBgAAwDAEQAAAAMMQAAEAAAxDAAQAADAMARAAAMAwBEAAAADDEAABAAAMQwAEAAAwDAEQAADAMARAAAAAwxAAAQAADEMABAAAMAwBEAAAwDAEQAAAAMP8P2aH/d8gSRcYAAAAAElFTkSuQmCC' width=640.0/>\n",
       "            </div>\n",
       "        "
      ],
      "text/plain": [
       "Canvas(toolbar=Toolbar(toolitems=[('Home', 'Reset original view', 'home', 'home'), ('Back', 'Back to previous …"
      ]
     },
     "metadata": {},
     "output_type": "display_data"
    }
   ],
   "source": [
    "type1_yesfam_smoke.plot.bar(x='Smoking Status', subplots=False, width=bar_width, stacked=False)\n",
    "plt.subplots_adjust(wspace=1)\n",
    "plt.tight_layout()\n",
    "plt.show()"
   ]
  }
 ],
 "metadata": {
  "kernelspec": {
   "display_name": "dev",
   "language": "python",
   "name": "python3"
  },
  "language_info": {
   "codemirror_mode": {
    "name": "ipython",
    "version": 3
   },
   "file_extension": ".py",
   "mimetype": "text/x-python",
   "name": "python",
   "nbconvert_exporter": "python",
   "pygments_lexer": "ipython3",
   "version": "3.10.15"
  }
 },
 "nbformat": 4,
 "nbformat_minor": 2
}
