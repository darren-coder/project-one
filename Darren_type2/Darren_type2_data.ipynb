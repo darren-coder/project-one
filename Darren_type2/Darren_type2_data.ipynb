{
 "cells": [
  {
   "cell_type": "code",
   "execution_count": 40,
   "metadata": {},
   "outputs": [],
   "source": [
    "%matplotlib notebook\n",
    "%matplotlib ipympl\n",
    "%matplotlib ipympl"
   ]
  },
  {
   "cell_type": "code",
   "execution_count": 41,
   "metadata": {},
   "outputs": [],
   "source": [
    "import pandas as pd\n",
    "from pathlib import Path\n",
    "import matplotlib.pyplot as plt\n",
    "import numpy as np"
   ]
  },
  {
   "cell_type": "code",
   "execution_count": 42,
   "metadata": {},
   "outputs": [],
   "source": [
    "path = Path(\"../data/diabetes_dataset00.csv\")"
   ]
  },
  {
   "cell_type": "code",
   "execution_count": 43,
   "metadata": {},
   "outputs": [
    {
     "data": {
      "text/plain": [
       "Target\n",
       "MODY                                          5553\n",
       "Secondary Diabetes                            5479\n",
       "Cystic Fibrosis-Related Diabetes (CFRD)       5464\n",
       "Type 1 Diabetes                               5446\n",
       "Neonatal Diabetes Mellitus (NDM)              5408\n",
       "Wolcott-Rallison Syndrome                     5400\n",
       "Type 2 Diabetes                               5397\n",
       "Prediabetic                                   5376\n",
       "Gestational Diabetes                          5344\n",
       "Type 3c Diabetes (Pancreatogenic Diabetes)    5320\n",
       "Wolfram Syndrome                              5315\n",
       "Steroid-Induced Diabetes                      5275\n",
       "LADA                                          5223\n",
       "Name: count, dtype: int64"
      ]
     },
     "execution_count": 43,
     "metadata": {},
     "output_type": "execute_result"
    }
   ],
   "source": [
    "original_data = pd.read_csv(path)\n",
    "original_data.value_counts(\"Target\")\n"
   ]
  },
  {
   "cell_type": "code",
   "execution_count": 44,
   "metadata": {},
   "outputs": [],
   "source": [
    "#Make lists to collect calculations for plots\n",
    "yesfamily_smoke_count = []\n",
    "yesfamily_nosmoke_count = []\n",
    "nofamily_smoke_count = []\n",
    "nofamily_nosmoke_count = []\n",
    "yesfamily_low_count = []\n",
    "yesfamily_moderate_count = []\n",
    "yesfamily_high_count = []\n",
    "nofamily_low_count = []\n",
    "nofamily_moderate_count = []\n",
    "nofamily_high_count = []"
   ]
  },
  {
   "cell_type": "markdown",
   "metadata": {},
   "source": [
    "Type 1 Diabetes"
   ]
  },
  {
   "cell_type": "code",
   "execution_count": 45,
   "metadata": {},
   "outputs": [
    {
     "name": "stdout",
     "output_type": "stream",
     "text": [
      "5446\n",
      "Family History\n",
      "Yes    2729\n",
      "No     2717\n",
      "Name: count, dtype: int64\n",
      "Smoking Status\n",
      "Non-Smoker    2725\n",
      "Smoker        2721\n",
      "Name: count, dtype: int64\n",
      "Alcohol Consumption\n",
      "Low         1858\n",
      "Moderate    1795\n",
      "High        1793\n",
      "Name: count, dtype: int64\n"
     ]
    }
   ],
   "source": [
    "#Select Type 1 Data\n",
    "type1_df = original_data[original_data['Target'] == 'Type 1 Diabetes']\n",
    "type1_df.reset_index()\n",
    "print(len(type1_df))\n",
    "print(type1_df.value_counts('Family History'))\n",
    "print(type1_df.value_counts('Smoking Status'))\n",
    "print(type1_df.value_counts('Alcohol Consumption'))"
   ]
  },
  {
   "cell_type": "markdown",
   "metadata": {},
   "source": [
    "Type 1 Family History vs. Smoking"
   ]
  },
  {
   "cell_type": "code",
   "execution_count": 46,
   "metadata": {},
   "outputs": [
    {
     "name": "stdout",
     "output_type": "stream",
     "text": [
      "  Family History Smoking Status  count\n",
      "0            Yes         Smoker   1377\n",
      "3            Yes     Non-Smoker   1352\n",
      "  Family History Smoking Status  count\n",
      "1             No         Smoker   1344\n",
      "2             No     Non-Smoker   1373\n"
     ]
    }
   ],
   "source": [
    "#Get the needed columns\n",
    "family_smoking_type1_df = type1_df[['Family History', 'Smoking Status']]\n",
    "\n",
    "#Count and Sort Categories\n",
    "type1_fs = pd.DataFrame(family_smoking_type1_df.value_counts())\n",
    "type1_fs = type1_fs.sort_values(by=['Smoking Status'], ascending=False).reset_index()\n",
    "type1_fs_df = pd.DataFrame(type1_fs)\n",
    "type1_yesfam_smoke = type1_fs_df[type1_fs_df['Family History'] == 'Yes']\n",
    "type1_nofam_smoke = type1_fs_df[type1_fs_df['Family History'] == 'No']\n",
    "#Collect the measurements into lists\n",
    "yesfamily_smoke_count.extend(type1_yesfam_smoke[type1_yesfam_smoke['Smoking Status'] == 'Smoker']['count'].tolist())\n",
    "yesfamily_nosmoke_count.extend(type1_yesfam_smoke[type1_yesfam_smoke['Smoking Status'] == 'Non-Smoker']['count'].tolist())\n",
    "nofamily_smoke_count.extend(type1_nofam_smoke[type1_nofam_smoke['Smoking Status'] == 'Smoker']['count'].tolist())\n",
    "nofamily_nosmoke_count.extend(type1_nofam_smoke[type1_nofam_smoke['Smoking Status'] == 'Non-Smoker']['count'].tolist())\n",
    "\n",
    "print(type1_yesfam_smoke)\n",
    "print(type1_nofam_smoke)"
   ]
  },
  {
   "cell_type": "markdown",
   "metadata": {},
   "source": [
    "Type 1 Family History vs. Alcohol Consumption"
   ]
  },
  {
   "cell_type": "code",
   "execution_count": 47,
   "metadata": {},
   "outputs": [
    {
     "name": "stdout",
     "output_type": "stream",
     "text": [
      "  Family History Alcohol Consumption  count\n",
      "2            Yes                 Low    941\n",
      "5            Yes            Moderate    883\n",
      "0            Yes                High    905\n",
      "  Family History Alcohol Consumption  count\n",
      "3             No                 Low    917\n",
      "4             No            Moderate    912\n",
      "1             No                High    888\n"
     ]
    }
   ],
   "source": [
    "#Set the order of display\n",
    "sorting = ['Low', 'Moderate', 'High']\n",
    "#Get the needed columns and reset index\n",
    "family_drinking_type1_df = type1_df[['Family History', 'Alcohol Consumption']]\n",
    "family_drinking_type1_df.reset_index(drop=True)\n",
    "\n",
    "#Make DataFrame and sort into counted categories\n",
    "type1_fd = pd.DataFrame(family_drinking_type1_df.value_counts())\n",
    "type1_fd = type1_fd.sort_values(by=['Alcohol Consumption']).reset_index()\n",
    "type1_yesfam_drink = type1_fd[type1_fd['Family History'] == 'Yes']\n",
    "type1_nofam_drink = type1_fd[type1_fd['Family History'] == 'No']\n",
    "#Collect the calculations into a list\n",
    "yesfamily_low_count.extend(type1_yesfam_drink[type1_yesfam_drink['Alcohol Consumption'] == 'Low']['count'].tolist())\n",
    "yesfamily_moderate_count.extend(type1_yesfam_drink[type1_yesfam_drink['Alcohol Consumption'] == 'Moderate']['count'].tolist())\n",
    "yesfamily_high_count.extend(type1_yesfam_drink[type1_yesfam_drink['Alcohol Consumption'] == 'High']['count'].tolist())\n",
    "nofamily_low_count.extend(type1_nofam_drink[type1_nofam_drink['Alcohol Consumption'] == 'Low']['count'].tolist())\n",
    "nofamily_moderate_count.extend(type1_nofam_drink[type1_nofam_drink['Alcohol Consumption'] == 'Moderate']['count'].tolist())\n",
    "nofamily_high_count.extend(type1_nofam_drink[type1_nofam_drink['Alcohol Consumption'] == 'High']['count'].tolist())\n",
    "\n",
    "#Change order to Low, Moderate, High\n",
    "pd.options.mode.copy_on_write = True\n",
    "type1_yesfam_drink.sort_values(by='Alcohol Consumption', key=lambda \n",
    "                               column: column.map(lambda e: sorting.index(e)), inplace=True)\n",
    "type1_nofam_drink.sort_values(by='Alcohol Consumption', key=lambda \n",
    "                              column: column.map(lambda e: sorting.index(e)), inplace=True)\n",
    "\n",
    "\n",
    "print(type1_yesfam_drink)\n",
    "print(type1_nofam_drink)"
   ]
  },
  {
   "cell_type": "markdown",
   "metadata": {},
   "source": [
    "Type 2 Diabetes"
   ]
  },
  {
   "cell_type": "code",
   "execution_count": 48,
   "metadata": {},
   "outputs": [
    {
     "name": "stdout",
     "output_type": "stream",
     "text": [
      "5397\n",
      "Family History\n",
      "Yes    2746\n",
      "No     2651\n",
      "Name: count, dtype: int64\n",
      "Smoking Status\n",
      "Smoker        2706\n",
      "Non-Smoker    2691\n",
      "Name: count, dtype: int64\n",
      "Alcohol Consumption\n",
      "Low         1861\n",
      "Moderate    1786\n",
      "High        1750\n",
      "Name: count, dtype: int64\n"
     ]
    }
   ],
   "source": [
    "#Select Type 2 Data and reset index\n",
    "type2_df = original_data[original_data['Target'] == 'Type 2 Diabetes']\n",
    "type2_df.reset_index()\n",
    "print(len(type2_df))\n",
    "print(type2_df.value_counts('Family History'))\n",
    "print(type2_df.value_counts('Smoking Status'))\n",
    "print(type2_df.value_counts('Alcohol Consumption'))"
   ]
  },
  {
   "cell_type": "markdown",
   "metadata": {},
   "source": [
    "Type 2 Smoking Status and Family History"
   ]
  },
  {
   "cell_type": "code",
   "execution_count": 49,
   "metadata": {},
   "outputs": [
    {
     "name": "stdout",
     "output_type": "stream",
     "text": [
      "[1377, 1359]\n"
     ]
    }
   ],
   "source": [
    "#Get needed columns\n",
    "family_smoking_type2_df = type2_df[['Family History', 'Smoking Status']]\n",
    "\n",
    "#Count, Sort, and Seperate Categories\n",
    "type2_fs = pd.DataFrame(family_smoking_type2_df.value_counts())\n",
    "type2_fs = type2_fs.sort_values(by=['Smoking Status'], ascending=False).reset_index()\n",
    "type2_yesfam_smoke = type2_fs[type2_fs['Family History'] == 'Yes']\n",
    "type2_nofam_smoke = type2_fs[type2_fs['Family History'] == 'No']\n",
    "\n",
    "yesfamily_smoke_count.extend(type2_yesfam_smoke[type2_yesfam_smoke['Smoking Status'] == 'Smoker']['count'].tolist())\n",
    "yesfamily_nosmoke_count.extend(type2_yesfam_smoke[type2_yesfam_smoke['Smoking Status'] == 'Non-Smoker']['count'].tolist())\n",
    "nofamily_smoke_count.extend(type2_nofam_smoke[type2_nofam_smoke['Smoking Status'] == 'Smoker']['count'].tolist())\n",
    "nofamily_nosmoke_count.extend(type2_nofam_smoke[type2_nofam_smoke['Smoking Status'] == 'Non-Smoker']['count'].tolist())\n",
    "\n",
    "\n",
    "print(yesfamily_smoke_count)\n",
    "#print(type2_yesfam_smoke)\n",
    "#print(type2_nofam_smoke)"
   ]
  },
  {
   "cell_type": "markdown",
   "metadata": {},
   "source": [
    "Type 2 Family History vs. Alcohol Consumption"
   ]
  },
  {
   "cell_type": "code",
   "execution_count": 50,
   "metadata": {},
   "outputs": [
    {
     "name": "stdout",
     "output_type": "stream",
     "text": [
      "  Family History Alcohol Consumption  count\n",
      "3            Yes                 Low    922\n",
      "4            Yes            Moderate    909\n",
      "0            Yes                High    915\n",
      "  Family History Alcohol Consumption  count\n",
      "2             No                 Low    939\n",
      "5             No            Moderate    877\n",
      "1             No                High    835\n"
     ]
    }
   ],
   "source": [
    "#Desired order of data display\n",
    "sorting = ['Low', 'Moderate', 'High']\n",
    "\n",
    "#Get the columns needed\n",
    "family_drinking_type2_df = type2_df[['Family History', 'Alcohol Consumption']]\n",
    "\n",
    "#Count values, make DataFrame and sort into categories\n",
    "type2_fd = pd.DataFrame(family_drinking_type2_df.value_counts())\n",
    "type2_fd = type2_fd.sort_values(by=['Alcohol Consumption']).reset_index()\n",
    "type2_yesfam_drink = type2_fd[type2_fd['Family History'] == 'Yes']\n",
    "type2_nofam_drink = type2_fd[type2_fd['Family History'] == 'No']\n",
    "\n",
    "yesfamily_low_count.extend(type2_yesfam_drink[type2_yesfam_drink['Alcohol Consumption'] == 'Low']['count'].tolist())\n",
    "yesfamily_moderate_count.extend(type2_yesfam_drink[type2_yesfam_drink['Alcohol Consumption'] == 'Moderate']['count'].tolist())\n",
    "yesfamily_high_count.extend(type2_yesfam_drink[type2_yesfam_drink['Alcohol Consumption'] == 'High']['count'].tolist())\n",
    "nofamily_low_count.extend(type2_nofam_drink[type2_nofam_drink['Alcohol Consumption'] == 'Low']['count'].tolist())\n",
    "nofamily_moderate_count.extend(type2_nofam_drink[type2_nofam_drink['Alcohol Consumption'] == 'Moderate']['count'].tolist())\n",
    "nofamily_high_count.extend(type2_nofam_drink[type2_nofam_drink['Alcohol Consumption'] == 'High']['count'].tolist())\n",
    "\n",
    "#Sort data order for better presentation\n",
    "type2_yesfam_drink.sort_values(by='Alcohol Consumption', key=lambda \n",
    "                               column: column.map(lambda e: sorting.index(e)), inplace=True)\n",
    "type2_nofam_drink.sort_values(by='Alcohol Consumption', key=lambda \n",
    "                              column: column.map(lambda e: sorting.index(e)), inplace=True)\n",
    "\n",
    "print(type2_yesfam_drink)\n",
    "print(type2_nofam_drink)\n",
    "\n"
   ]
  },
  {
   "cell_type": "markdown",
   "metadata": {},
   "source": [
    "Type 3c (Pancreatogenic Diabetes)"
   ]
  },
  {
   "cell_type": "code",
   "execution_count": 51,
   "metadata": {},
   "outputs": [
    {
     "name": "stdout",
     "output_type": "stream",
     "text": [
      "5320\n",
      "Family History\n",
      "No     2662\n",
      "Yes    2658\n",
      "Name: count, dtype: int64\n",
      "Smoking Status\n",
      "Smoker        2704\n",
      "Non-Smoker    2616\n",
      "Name: count, dtype: int64\n",
      "Alcohol Consumption\n",
      "Low         1826\n",
      "Moderate    1765\n",
      "High        1729\n",
      "Name: count, dtype: int64\n"
     ]
    }
   ],
   "source": [
    "#Select Type 3c Data\n",
    "type3c_df = original_data[original_data['Target'] == 'Type 3c Diabetes (Pancreatogenic Diabetes)']\n",
    "type3c_df.reset_index()\n",
    "print(len(type3c_df))\n",
    "print(type3c_df.value_counts('Family History'))\n",
    "print(type3c_df.value_counts('Smoking Status'))\n",
    "print(type3c_df.value_counts('Alcohol Consumption'))"
   ]
  },
  {
   "cell_type": "markdown",
   "metadata": {},
   "source": [
    "Type 3c (Pancreatogenic Diabetes) Family History vs. Smoking"
   ]
  },
  {
   "cell_type": "code",
   "execution_count": 52,
   "metadata": {},
   "outputs": [
    {
     "name": "stdout",
     "output_type": "stream",
     "text": [
      "  Family History Smoking Status  count\n",
      "1            Yes         Smoker   1348\n",
      "2            Yes     Non-Smoker   1310\n",
      "  Family History Smoking Status  count\n",
      "0             No         Smoker   1356\n",
      "3             No     Non-Smoker   1306\n"
     ]
    }
   ],
   "source": [
    "#Get the needed columns\n",
    "family_smoking_type3c_df = type3c_df[['Family History', 'Smoking Status']]\n",
    "\n",
    "#Count and sort Categories\n",
    "type3c_fs = pd.DataFrame(family_smoking_type3c_df.value_counts())\n",
    "type3c_fs = type3c_fs.sort_values(by=['Smoking Status'], ascending=False).reset_index()\n",
    "type3c_yesfam_smoke = type3c_fs[type3c_fs['Family History'] == 'Yes']\n",
    "type3c_nofam_smoke = type3c_fs[type3c_fs['Family History'] == 'No']\n",
    "\n",
    "yesfamily_smoke_count.extend(type3c_yesfam_smoke[type3c_yesfam_smoke['Smoking Status'] == 'Smoker']['count'].tolist())\n",
    "yesfamily_nosmoke_count.extend(type3c_yesfam_smoke[type3c_yesfam_smoke['Smoking Status'] == 'Non-Smoker']['count'].tolist())\n",
    "nofamily_smoke_count.extend(type3c_nofam_smoke[type3c_nofam_smoke['Smoking Status'] == 'Smoker']['count'].tolist())\n",
    "nofamily_nosmoke_count.extend(type3c_nofam_smoke[type3c_nofam_smoke['Smoking Status'] == 'Non-Smoker']['count'].tolist())\n",
    "\n",
    "\n",
    "print(type3c_yesfam_smoke)\n",
    "print(type3c_nofam_smoke)"
   ]
  },
  {
   "cell_type": "markdown",
   "metadata": {},
   "source": [
    "Type 3c (Pancreatogenic Diabetes) Family History vs. Alcohol Consumption"
   ]
  },
  {
   "cell_type": "code",
   "execution_count": 53,
   "metadata": {},
   "outputs": [
    {
     "name": "stdout",
     "output_type": "stream",
     "text": [
      "  Family History Alcohol Consumption  count\n",
      "3            Yes                 Low    906\n",
      "4            Yes            Moderate    883\n",
      "0            Yes                High    869\n",
      "  Family History Alcohol Consumption  count\n",
      "2             No                 Low    920\n",
      "5             No            Moderate    882\n",
      "1             No                High    860\n"
     ]
    }
   ],
   "source": [
    "#Select the needed columns\n",
    "family_drinking_type3c_df = type3c_df[['Family History', 'Alcohol Consumption']]\n",
    "\n",
    "#Count and sort Categories\n",
    "type3c_fd = pd.DataFrame(family_drinking_type3c_df.value_counts())\n",
    "type3c_fd = type3c_fd.sort_values(by=['Alcohol Consumption']).reset_index()\n",
    "type3c_yesfam_drink = type3c_fd[type3c_fd['Family History'] == 'Yes']\n",
    "type3c_nofam_drink = type3c_fd[type3c_fd['Family History'] == 'No']\n",
    "#Add calculations to list\n",
    "yesfamily_low_count.extend(type3c_yesfam_drink[type3c_yesfam_drink['Alcohol Consumption'] == 'Low']['count'].tolist())\n",
    "yesfamily_moderate_count.extend(type3c_yesfam_drink[type3c_yesfam_drink['Alcohol Consumption'] == 'Moderate']['count'].tolist())\n",
    "yesfamily_high_count.extend(type3c_yesfam_drink[type3c_yesfam_drink['Alcohol Consumption'] == 'High']['count'].tolist())\n",
    "nofamily_low_count.extend(type3c_nofam_drink[type3c_nofam_drink['Alcohol Consumption'] == 'Low']['count'].tolist())\n",
    "nofamily_moderate_count.extend(type3c_nofam_drink[type3c_nofam_drink['Alcohol Consumption'] == 'Moderate']['count'].tolist())\n",
    "nofamily_high_count.extend(type3c_nofam_drink[type3c_nofam_drink['Alcohol Consumption'] == 'High']['count'].tolist())\n",
    "\n",
    "#Order Data\n",
    "type3c_yesfam_drink.sort_values(by='Alcohol Consumption', key=lambda \n",
    "                               column: column.map(lambda e: sorting.index(e)), inplace=True)\n",
    "type3c_nofam_drink.sort_values(by='Alcohol Consumption', key=lambda \n",
    "                              column: column.map(lambda e: sorting.index(e)), inplace=True)\n",
    "\n",
    "\n",
    "print(type3c_yesfam_drink)\n",
    "print(type3c_nofam_drink)"
   ]
  },
  {
   "cell_type": "markdown",
   "metadata": {},
   "source": [
    "Wolfram Syndrome"
   ]
  },
  {
   "cell_type": "code",
   "execution_count": 54,
   "metadata": {},
   "outputs": [
    {
     "name": "stdout",
     "output_type": "stream",
     "text": [
      "5315\n",
      "Family History\n",
      "Yes    2703\n",
      "No     2612\n",
      "Name: count, dtype: int64\n",
      "Smoking Status\n",
      "Smoker        2659\n",
      "Non-Smoker    2656\n",
      "Name: count, dtype: int64\n",
      "Alcohol Consumption\n",
      "High        1813\n",
      "Moderate    1778\n",
      "Low         1724\n",
      "Name: count, dtype: int64\n"
     ]
    }
   ],
   "source": [
    "#Select the Wolfram Syndrome Data\n",
    "wolfram_df = original_data[original_data['Target'] == 'Wolfram Syndrome']\n",
    "wolfram_df.reset_index()\n",
    "print(len(wolfram_df))\n",
    "print(wolfram_df.value_counts('Family History'))\n",
    "print(wolfram_df.value_counts('Smoking Status'))\n",
    "print(wolfram_df.value_counts('Alcohol Consumption'))"
   ]
  },
  {
   "cell_type": "markdown",
   "metadata": {},
   "source": [
    "Wolfram Family History vs. Smoking Status"
   ]
  },
  {
   "cell_type": "code",
   "execution_count": 55,
   "metadata": {},
   "outputs": [
    {
     "name": "stdout",
     "output_type": "stream",
     "text": [
      "  Family History Smoking Status  count\n",
      "0            Yes         Smoker   1364\n",
      "2            Yes     Non-Smoker   1339\n",
      "  Family History Smoking Status  count\n",
      "1             No         Smoker   1295\n",
      "3             No     Non-Smoker   1317\n"
     ]
    }
   ],
   "source": [
    "#Select the needed columns\n",
    "family_smoking_wolfram_df = wolfram_df[['Family History', 'Smoking Status']]\n",
    "#Make DataFrame and sort values\n",
    "wolfram_fs = pd.DataFrame(family_smoking_wolfram_df.value_counts())\n",
    "wolfram_fs = wolfram_fs.sort_values(by=['Smoking Status'], ascending=False).reset_index()\n",
    "wolfram_yesfam_smoke = wolfram_fs[wolfram_fs['Family History'] == 'Yes']\n",
    "wolfram_nofam_smoke = wolfram_fs[wolfram_fs['Family History'] == 'No']\n",
    "\n",
    "yesfamily_smoke_count.extend(wolfram_yesfam_smoke[wolfram_yesfam_smoke['Smoking Status'] == 'Smoker']['count'].tolist())\n",
    "yesfamily_nosmoke_count.extend(wolfram_yesfam_smoke[wolfram_yesfam_smoke['Smoking Status'] == 'Non-Smoker']['count'].tolist())\n",
    "nofamily_smoke_count.extend(wolfram_nofam_smoke[wolfram_nofam_smoke['Smoking Status'] == 'Smoker']['count'].tolist())\n",
    "nofamily_nosmoke_count.extend(wolfram_nofam_smoke[wolfram_nofam_smoke['Smoking Status'] == 'Non-Smoker']['count'].tolist())\n",
    "\n",
    "\n",
    "print(wolfram_yesfam_smoke)\n",
    "print(wolfram_nofam_smoke)"
   ]
  },
  {
   "cell_type": "markdown",
   "metadata": {},
   "source": [
    "Wolfram Syndrome Family History vs. Alcohol Consumption"
   ]
  },
  {
   "cell_type": "code",
   "execution_count": 56,
   "metadata": {},
   "outputs": [
    {
     "name": "stdout",
     "output_type": "stream",
     "text": [
      "  Family History Alcohol Consumption  count\n",
      "2            Yes                 Low    865\n",
      "4            Yes            Moderate    909\n",
      "0            Yes                High    929\n",
      "  Family History Alcohol Consumption  count\n",
      "3             No                 Low    859\n",
      "5             No            Moderate    869\n",
      "1             No                High    884\n"
     ]
    }
   ],
   "source": [
    "#Select the needed columns\n",
    "family_drinking_wolfram_df = wolfram_df[['Family History', 'Alcohol Consumption']]\n",
    "#Count and sort into categories\n",
    "wolfram_fd = pd.DataFrame(family_drinking_wolfram_df.value_counts())\n",
    "wolfram_fd = wolfram_fd.sort_values(by=['Alcohol Consumption']).reset_index()\n",
    "wolfram_yesfam_drink = wolfram_fd[wolfram_fd['Family History'] == 'Yes']\n",
    "wolfram_nofam_drink = wolfram_fd[wolfram_fd['Family History'] == 'No']\n",
    "\n",
    "yesfamily_low_count.extend(wolfram_yesfam_drink[wolfram_yesfam_drink['Alcohol Consumption'] == 'Low']['count'].tolist())\n",
    "yesfamily_moderate_count.extend(wolfram_yesfam_drink[wolfram_yesfam_drink['Alcohol Consumption'] == 'Moderate']['count'].tolist())\n",
    "yesfamily_high_count.extend(wolfram_yesfam_drink[wolfram_yesfam_drink['Alcohol Consumption'] == 'High']['count'].tolist())\n",
    "nofamily_low_count.extend(wolfram_nofam_drink[wolfram_nofam_drink['Alcohol Consumption'] == 'Low']['count'].tolist())\n",
    "nofamily_moderate_count.extend(wolfram_nofam_drink[wolfram_nofam_drink['Alcohol Consumption'] == 'Moderate']['count'].tolist())\n",
    "nofamily_high_count.extend(wolfram_nofam_drink[wolfram_nofam_drink['Alcohol Consumption'] == 'High']['count'].tolist())\n",
    "\n",
    "#Order Data\n",
    "wolfram_yesfam_drink.sort_values(by='Alcohol Consumption', key=lambda \n",
    "                               column: column.map(lambda e: sorting.index(e)), inplace=True)\n",
    "wolfram_nofam_drink.sort_values(by='Alcohol Consumption', key=lambda \n",
    "                              column: column.map(lambda e: sorting.index(e)), inplace=True)\n",
    "\n",
    "\n",
    "print(wolfram_yesfam_drink)\n",
    "print(wolfram_nofam_drink)"
   ]
  },
  {
   "cell_type": "markdown",
   "metadata": {},
   "source": [
    "Gestational Diabetes"
   ]
  },
  {
   "cell_type": "code",
   "execution_count": 57,
   "metadata": {},
   "outputs": [
    {
     "name": "stdout",
     "output_type": "stream",
     "text": [
      "5344\n",
      "Family History\n",
      "Yes    2673\n",
      "No     2671\n",
      "Name: count, dtype: int64\n",
      "Smoking Status\n",
      "Smoker        2694\n",
      "Non-Smoker    2650\n",
      "Name: count, dtype: int64\n",
      "Alcohol Consumption\n",
      "Low         1826\n",
      "High        1782\n",
      "Moderate    1736\n",
      "Name: count, dtype: int64\n"
     ]
    }
   ],
   "source": [
    "#Select Gestational Diabetes data\n",
    "gestational_df = original_data[original_data['Target'] == 'Gestational Diabetes']\n",
    "gestational_df.reset_index()\n",
    "print(len(gestational_df))\n",
    "print(gestational_df.value_counts('Family History'))\n",
    "print(gestational_df.value_counts('Smoking Status'))\n",
    "print(gestational_df.value_counts('Alcohol Consumption'))"
   ]
  },
  {
   "cell_type": "markdown",
   "metadata": {},
   "source": [
    "Gestational Family History vs Smoking Status"
   ]
  },
  {
   "cell_type": "code",
   "execution_count": 58,
   "metadata": {},
   "outputs": [
    {
     "name": "stdout",
     "output_type": "stream",
     "text": [
      "  Family History Smoking Status  count\n",
      "1            Yes         Smoker   1311\n",
      "2            Yes     Non-Smoker   1362\n",
      "  Family History Smoking Status  count\n",
      "0             No         Smoker   1383\n",
      "3             No     Non-Smoker   1288\n"
     ]
    }
   ],
   "source": [
    "#Select the columns needed\n",
    "family_smoking_gestational_df = gestational_df[['Family History', 'Smoking Status']]\n",
    "\n",
    "#Count and Sort into categories\n",
    "gestational_fs = pd.DataFrame(family_smoking_gestational_df.value_counts())\n",
    "gestational_fs = gestational_fs.sort_values(by=['Smoking Status'], ascending=False).reset_index()\n",
    "gestational_yesfam_smoke = gestational_fs[gestational_fs['Family History'] == 'Yes']\n",
    "gestational_nofam_smoke = gestational_fs[gestational_fs['Family History'] == 'No']\n",
    "\n",
    "yesfamily_smoke_count.extend(gestational_yesfam_smoke[gestational_yesfam_smoke['Smoking Status'] == 'Smoker']['count'].tolist())\n",
    "yesfamily_nosmoke_count.extend(gestational_yesfam_smoke[gestational_yesfam_smoke['Smoking Status'] == 'Non-Smoker']['count'].tolist())\n",
    "nofamily_smoke_count.extend(gestational_nofam_smoke[gestational_nofam_smoke['Smoking Status'] == 'Smoker']['count'].tolist())\n",
    "nofamily_nosmoke_count.extend(gestational_nofam_smoke[gestational_nofam_smoke['Smoking Status'] == 'Non-Smoker']['count'].tolist())\n",
    "\n",
    "\n",
    "print(gestational_yesfam_smoke)\n",
    "print(gestational_nofam_smoke)"
   ]
  },
  {
   "cell_type": "markdown",
   "metadata": {},
   "source": [
    "Gestational Family History vs. Alcohol Consumption"
   ]
  },
  {
   "cell_type": "code",
   "execution_count": 59,
   "metadata": {},
   "outputs": [
    {
     "name": "stdout",
     "output_type": "stream",
     "text": [
      "  Family History Alcohol Consumption  count\n",
      "2            Yes                 Low    922\n",
      "5            Yes            Moderate    854\n",
      "0            Yes                High    897\n",
      "  Family History Alcohol Consumption  count\n",
      "3             No                 Low    904\n",
      "4             No            Moderate    882\n",
      "1             No                High    885\n"
     ]
    }
   ],
   "source": [
    "#Select the needed columns\n",
    "family_drinking_gestational_df = gestational_df[['Family History', 'Alcohol Consumption']]\n",
    "\n",
    "#Count and sort into categories\n",
    "gestational_fd = pd.DataFrame(family_drinking_gestational_df.value_counts())\n",
    "gestational_fd = gestational_fd.sort_values(by=['Alcohol Consumption']).reset_index()\n",
    "gestational_yesfam_drink = gestational_fd[gestational_fd['Family History'] == 'Yes']\n",
    "gestational_nofam_drink = gestational_fd[gestational_fd['Family History'] == 'No']\n",
    "\n",
    "yesfamily_low_count.extend(gestational_yesfam_drink[gestational_yesfam_drink['Alcohol Consumption'] == 'Low']['count'].tolist())\n",
    "yesfamily_moderate_count.extend(gestational_yesfam_drink[gestational_yesfam_drink['Alcohol Consumption'] == 'Moderate']['count'].tolist())\n",
    "yesfamily_high_count.extend(gestational_yesfam_drink[gestational_yesfam_drink['Alcohol Consumption'] == 'High']['count'].tolist())\n",
    "nofamily_low_count.extend(gestational_nofam_drink[gestational_nofam_drink['Alcohol Consumption'] == 'Low']['count'].tolist())\n",
    "nofamily_moderate_count.extend(gestational_nofam_drink[gestational_nofam_drink['Alcohol Consumption'] == 'Moderate']['count'].tolist())\n",
    "nofamily_high_count.extend(gestational_nofam_drink[gestational_nofam_drink['Alcohol Consumption'] == 'High']['count'].tolist())\n",
    "\n",
    "#Order Data\n",
    "gestational_yesfam_drink.sort_values(by='Alcohol Consumption', key=lambda \n",
    "                               column: column.map(lambda e: sorting.index(e)), inplace=True)\n",
    "gestational_nofam_drink.sort_values(by='Alcohol Consumption', key=lambda \n",
    "                              column: column.map(lambda e: sorting.index(e)), inplace=True)\n",
    "\n",
    "\n",
    "print(gestational_yesfam_drink)\n",
    "print(gestational_nofam_drink)"
   ]
  },
  {
   "cell_type": "code",
   "execution_count": 62,
   "metadata": {},
   "outputs": [
    {
     "name": "stdout",
     "output_type": "stream",
     "text": [
      "[1377, 1359, 1348, 1364, 1311]\n",
      "[1352, 1387, 1310, 1339, 1362]\n",
      "[1344, 1347, 1356, 1295, 1383]\n",
      "[1373, 1304, 1306, 1317, 1288]\n",
      "[941, 922, 906, 865, 922]\n",
      "[883, 909, 883, 909, 854]\n",
      "[905, 915, 869, 929, 897]\n",
      "[917, 939, 920, 859, 904]\n",
      "[912, 877, 882, 869, 882]\n",
      "[888, 835, 860, 884, 885]\n"
     ]
    }
   ],
   "source": [
    "print(yesfamily_smoke_count)\n",
    "print(yesfamily_nosmoke_count)\n",
    "print(nofamily_smoke_count)\n",
    "print(nofamily_nosmoke_count)\n",
    "print(yesfamily_low_count)\n",
    "print(yesfamily_moderate_count)\n",
    "print(yesfamily_high_count)\n",
    "print(nofamily_low_count)\n",
    "print(nofamily_moderate_count)\n",
    "print(nofamily_high_count)\n"
   ]
  },
  {
   "cell_type": "code",
   "execution_count": 65,
   "metadata": {},
   "outputs": [
    {
     "data": {
      "application/vnd.jupyter.widget-view+json": {
       "model_id": "e15282085dae4861bac54a7b59dcf152",
       "version_major": 2,
       "version_minor": 0
      },
      "image/png": "[encoded data removed]",
      "text/html": [
       "\n",
       "            <div style=\"display: inline-block;\">\n",
       "                <div class=\"jupyter-widgets widget-label\" style=\"text-align: center;\">\n",
       "                    Figure\n",
       "                </div>\n",
       "                <img src='data:image/png;base64,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' width=640.0/>\n",
       "            </div>\n",
       "        "
      ],
      "text/plain": [
       "Canvas(toolbar=Toolbar(toolitems=[('Home', 'Reset original view', 'home', 'home'), ('Back', 'Back to previous …"
      ]
     },
     "metadata": {},
     "output_type": "display_data"
    }
   ],
   "source": [
    "categories = ['Type 1', 'Type 2', 'Type 3c', 'Wolfram Syndrome', 'Gestational Diabetes']\n",
    "indx = np.arange(len(categories))\n",
    "bar_width = 0.35\n",
    "\n",
    "fig, ax = plt.subplots()\n",
    "yesbarsmoke = ax.bar(indx - bar_width/2, yesfamily_smoke_count, bar_width, label='Smoker')\n",
    "yesbar_nosmoke = ax.bar(indx + bar_width/2, yesfamily_nosmoke_count, bar_width, label='Non-Smoker')\n",
    "plt.show()"
   ]
  }
 ],
 "metadata": {
  "kernelspec": {
   "display_name": "dev",
   "language": "python",
   "name": "python3"
  },
  "language_info": {
   "codemirror_mode": {
    "name": "ipython",
    "version": 3
   },
   "file_extension": ".py",
   "mimetype": "text/x-python",
   "name": "python",
   "nbconvert_exporter": "python",
   "pygments_lexer": "ipython3",
   "version": "3.10.15"
  }
 },
 "nbformat": 4,
 "nbformat_minor": 2
}
